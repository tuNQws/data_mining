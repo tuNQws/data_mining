{
  "nbformat": 4,
  "nbformat_minor": 0,
  "metadata": {
    "colab": {
      "provenance": []
    },
    "kernelspec": {
      "name": "python3",
      "display_name": "Python 3"
    },
    "language_info": {
      "name": "python"
    }
  },
  "cells": [
    {
      "cell_type": "code",
      "execution_count": null,
      "metadata": {
        "id": "iSWReux4oFY7"
      },
      "outputs": [],
      "source": [
        "# Lab07 - Natural language processing (NLP)\n",
        "## Nguyen Quoc Tuan - 19522476\n",
        "## Link github: https://github.com/tuNQws/data_mining.git"
      ]
    },
    {
      "cell_type": "code",
      "source": [
        "# I. Feature Engineering\n",
        "# 1. Test Normalization"
      ],
      "metadata": {
        "id": "eespmv4eooD5"
      },
      "execution_count": null,
      "outputs": []
    },
    {
      "cell_type": "code",
      "execution_count": null,
      "metadata": {
        "id": "irG4Y1Bx3rXL"
      },
      "outputs": [],
      "source": [
        "import nltk\n",
        "import numpy as np\n",
        "import pandas as pd"
      ]
    },
    {
      "cell_type": "code",
      "source": [
        "import re\n",
        "import nltk\n",
        "from nltk.corpus import stopwords\n",
        "from nltk.tokenize import word_tokenize\n",
        "from nltk.stem import PorterStemmer\n",
        "import string"
      ],
      "metadata": {
        "id": "dLHmQnV646Ug"
      },
      "execution_count": null,
      "outputs": []
    },
    {
      "cell_type": "code",
      "source": [
        "df=pd.read_csv(\"elonmusk_tweets.csv\")"
      ],
      "metadata": {
        "id": "SsLj6DT148v4"
      },
      "execution_count": null,
      "outputs": []
    },
    {
      "cell_type": "code",
      "source": [
        "df.shape"
      ],
      "metadata": {
        "colab": {
          "base_uri": "https://localhost:8080/"
        },
        "id": "RrsKgCI-5Mbv",
        "outputId": "ffef1221-98f6-41b2-cd41-558a76bd1e68"
      },
      "execution_count": null,
      "outputs": [
        {
          "output_type": "execute_result",
          "data": {
            "text/plain": [
              "(2819, 3)"
            ]
          },
          "metadata": {},
          "execution_count": 5
        }
      ]
    },
    {
      "cell_type": "code",
      "source": [
        "df.info()"
      ],
      "metadata": {
        "colab": {
          "base_uri": "https://localhost:8080/"
        },
        "id": "3SVkjWYj5OGg",
        "outputId": "961a6e59-25ba-446a-e664-41ecb174e0b0"
      },
      "execution_count": null,
      "outputs": [
        {
          "output_type": "stream",
          "name": "stdout",
          "text": [
            "<class 'pandas.core.frame.DataFrame'>\n",
            "RangeIndex: 2819 entries, 0 to 2818\n",
            "Data columns (total 3 columns):\n",
            " #   Column      Non-Null Count  Dtype \n",
            "---  ------      --------------  ----- \n",
            " 0   id          2819 non-null   int64 \n",
            " 1   created_at  2819 non-null   object\n",
            " 2   text        2819 non-null   object\n",
            "dtypes: int64(1), object(2)\n",
            "memory usage: 66.2+ KB\n"
          ]
        }
      ]
    },
    {
      "cell_type": "code",
      "source": [
        "df.describe()"
      ],
      "metadata": {
        "colab": {
          "base_uri": "https://localhost:8080/",
          "height": 300
        },
        "id": "f4otNYyc5QDm",
        "outputId": "4b2e85fd-ae1b-48a6-acb5-4323c74dfc56"
      },
      "execution_count": null,
      "outputs": [
        {
          "output_type": "execute_result",
          "data": {
            "text/plain": [
              "                 id\n",
              "count  2.819000e+03\n",
              "mean   5.804848e+17\n",
              "std    2.186404e+17\n",
              "min    1.543473e+10\n",
              "25%    3.506818e+17\n",
              "50%    6.569719e+17\n",
              "75%    7.704732e+17\n",
              "max    8.496369e+17"
            ],
            "text/html": [
              "\n",
              "  <div id=\"df-8aeccd1b-0fc8-4220-b404-164a5ff45bbd\">\n",
              "    <div class=\"colab-df-container\">\n",
              "      <div>\n",
              "<style scoped>\n",
              "    .dataframe tbody tr th:only-of-type {\n",
              "        vertical-align: middle;\n",
              "    }\n",
              "\n",
              "    .dataframe tbody tr th {\n",
              "        vertical-align: top;\n",
              "    }\n",
              "\n",
              "    .dataframe thead th {\n",
              "        text-align: right;\n",
              "    }\n",
              "</style>\n",
              "<table border=\"1\" class=\"dataframe\">\n",
              "  <thead>\n",
              "    <tr style=\"text-align: right;\">\n",
              "      <th></th>\n",
              "      <th>id</th>\n",
              "    </tr>\n",
              "  </thead>\n",
              "  <tbody>\n",
              "    <tr>\n",
              "      <th>count</th>\n",
              "      <td>2.819000e+03</td>\n",
              "    </tr>\n",
              "    <tr>\n",
              "      <th>mean</th>\n",
              "      <td>5.804848e+17</td>\n",
              "    </tr>\n",
              "    <tr>\n",
              "      <th>std</th>\n",
              "      <td>2.186404e+17</td>\n",
              "    </tr>\n",
              "    <tr>\n",
              "      <th>min</th>\n",
              "      <td>1.543473e+10</td>\n",
              "    </tr>\n",
              "    <tr>\n",
              "      <th>25%</th>\n",
              "      <td>3.506818e+17</td>\n",
              "    </tr>\n",
              "    <tr>\n",
              "      <th>50%</th>\n",
              "      <td>6.569719e+17</td>\n",
              "    </tr>\n",
              "    <tr>\n",
              "      <th>75%</th>\n",
              "      <td>7.704732e+17</td>\n",
              "    </tr>\n",
              "    <tr>\n",
              "      <th>max</th>\n",
              "      <td>8.496369e+17</td>\n",
              "    </tr>\n",
              "  </tbody>\n",
              "</table>\n",
              "</div>\n",
              "      <button class=\"colab-df-convert\" onclick=\"convertToInteractive('df-8aeccd1b-0fc8-4220-b404-164a5ff45bbd')\"\n",
              "              title=\"Convert this dataframe to an interactive table.\"\n",
              "              style=\"display:none;\">\n",
              "        \n",
              "  <svg xmlns=\"http://www.w3.org/2000/svg\" height=\"24px\"viewBox=\"0 0 24 24\"\n",
              "       width=\"24px\">\n",
              "    <path d=\"M0 0h24v24H0V0z\" fill=\"none\"/>\n",
              "    <path d=\"M18.56 5.44l.94 2.06.94-2.06 2.06-.94-2.06-.94-.94-2.06-.94 2.06-2.06.94zm-11 1L8.5 8.5l.94-2.06 2.06-.94-2.06-.94L8.5 2.5l-.94 2.06-2.06.94zm10 10l.94 2.06.94-2.06 2.06-.94-2.06-.94-.94-2.06-.94 2.06-2.06.94z\"/><path d=\"M17.41 7.96l-1.37-1.37c-.4-.4-.92-.59-1.43-.59-.52 0-1.04.2-1.43.59L10.3 9.45l-7.72 7.72c-.78.78-.78 2.05 0 2.83L4 21.41c.39.39.9.59 1.41.59.51 0 1.02-.2 1.41-.59l7.78-7.78 2.81-2.81c.8-.78.8-2.07 0-2.86zM5.41 20L4 18.59l7.72-7.72 1.47 1.35L5.41 20z\"/>\n",
              "  </svg>\n",
              "      </button>\n",
              "      \n",
              "  <style>\n",
              "    .colab-df-container {\n",
              "      display:flex;\n",
              "      flex-wrap:wrap;\n",
              "      gap: 12px;\n",
              "    }\n",
              "\n",
              "    .colab-df-convert {\n",
              "      background-color: #E8F0FE;\n",
              "      border: none;\n",
              "      border-radius: 50%;\n",
              "      cursor: pointer;\n",
              "      display: none;\n",
              "      fill: #1967D2;\n",
              "      height: 32px;\n",
              "      padding: 0 0 0 0;\n",
              "      width: 32px;\n",
              "    }\n",
              "\n",
              "    .colab-df-convert:hover {\n",
              "      background-color: #E2EBFA;\n",
              "      box-shadow: 0px 1px 2px rgba(60, 64, 67, 0.3), 0px 1px 3px 1px rgba(60, 64, 67, 0.15);\n",
              "      fill: #174EA6;\n",
              "    }\n",
              "\n",
              "    [theme=dark] .colab-df-convert {\n",
              "      background-color: #3B4455;\n",
              "      fill: #D2E3FC;\n",
              "    }\n",
              "\n",
              "    [theme=dark] .colab-df-convert:hover {\n",
              "      background-color: #434B5C;\n",
              "      box-shadow: 0px 1px 3px 1px rgba(0, 0, 0, 0.15);\n",
              "      filter: drop-shadow(0px 1px 2px rgba(0, 0, 0, 0.3));\n",
              "      fill: #FFFFFF;\n",
              "    }\n",
              "  </style>\n",
              "\n",
              "      <script>\n",
              "        const buttonEl =\n",
              "          document.querySelector('#df-8aeccd1b-0fc8-4220-b404-164a5ff45bbd button.colab-df-convert');\n",
              "        buttonEl.style.display =\n",
              "          google.colab.kernel.accessAllowed ? 'block' : 'none';\n",
              "\n",
              "        async function convertToInteractive(key) {\n",
              "          const element = document.querySelector('#df-8aeccd1b-0fc8-4220-b404-164a5ff45bbd');\n",
              "          const dataTable =\n",
              "            await google.colab.kernel.invokeFunction('convertToInteractive',\n",
              "                                                     [key], {});\n",
              "          if (!dataTable) return;\n",
              "\n",
              "          const docLinkHtml = 'Like what you see? Visit the ' +\n",
              "            '<a target=\"_blank\" href=https://colab.research.google.com/notebooks/data_table.ipynb>data table notebook</a>'\n",
              "            + ' to learn more about interactive tables.';\n",
              "          element.innerHTML = '';\n",
              "          dataTable['output_type'] = 'display_data';\n",
              "          await google.colab.output.renderOutput(dataTable, element);\n",
              "          const docLink = document.createElement('div');\n",
              "          docLink.innerHTML = docLinkHtml;\n",
              "          element.appendChild(docLink);\n",
              "        }\n",
              "      </script>\n",
              "    </div>\n",
              "  </div>\n",
              "  "
            ]
          },
          "metadata": {},
          "execution_count": 7
        }
      ]
    },
    {
      "cell_type": "code",
      "source": [
        "nltk.download('punkt')"
      ],
      "metadata": {
        "colab": {
          "base_uri": "https://localhost:8080/"
        },
        "id": "q7YnbgnB5Tea",
        "outputId": "6564428b-5cc1-4973-8203-3d655e2c1aad"
      },
      "execution_count": null,
      "outputs": [
        {
          "output_type": "stream",
          "name": "stderr",
          "text": [
            "[nltk_data] Downloading package punkt to /root/nltk_data...\n",
            "[nltk_data]   Unzipping tokenizers/punkt.zip.\n"
          ]
        },
        {
          "output_type": "execute_result",
          "data": {
            "text/plain": [
              "True"
            ]
          },
          "metadata": {},
          "execution_count": 8
        }
      ]
    },
    {
      "cell_type": "code",
      "source": [
        "def normalize(document):\n",
        "    text = \"\".join([ch for ch in document if ch not in string.punctuation])\n",
        "    \n",
        "    tokens = word_tokenize(text)\n",
        "    \n",
        "    stemmer = PorterStemmer()\n",
        "    ret = \" \".join([stemmer.stem(word.lower()) for word in tokens])\n",
        "    \n",
        "    return ret\n",
        "\n",
        "original_documents = [x.strip() for x in df['text']]\n",
        "documents = [normalize(d).split() for d in original_documents]\n",
        "documents[0]"
      ],
      "metadata": {
        "colab": {
          "base_uri": "https://localhost:8080/"
        },
        "id": "LeutO73C5WCd",
        "outputId": "e335a5a7-13ed-4d95-c189-5fb257ca43ab"
      },
      "execution_count": null,
      "outputs": [
        {
          "output_type": "execute_result",
          "data": {
            "text/plain": [
              "['band', 'so', 'the', 'robot', 'spare', 'human', 'httpstcov7jujqwfcv']"
            ]
          },
          "metadata": {},
          "execution_count": 9
        }
      ]
    },
    {
      "cell_type": "code",
      "source": [
        "import re\n",
        "\n",
        "emoticons_str = r\"\"\"\n",
        "    (?:\n",
        "        [:=;] # Eyes\n",
        "        [oO\\-]? # Nose (optional)\n",
        "        \n",
        "    )\"\"\"\n",
        " \n",
        "regex_str = [\n",
        "    emoticons_str,\n",
        "    r'<[^>]+>',\n",
        "    r'(?:@[\\w_]+)',\n",
        "    r\"(?:\\#+[\\w_]+[\\w\\'_\\-]*[\\w_]+)\",\n",
        "    r'http[s]?://(?:[a-z]|[0-9]|[$-_@.&+]|[!*,]|(?:%[0-9a-f][0-9a-f]))+',\n",
        " \n",
        "    r'(?:(?:\\d+,?)+(?:\\.?\\d+)?)',\n",
        "    r\"(?:[a-z][a-z'\\-_]+[a-z])\", \n",
        "    r'(?:[\\w_]+)',\n",
        "    r'(?:\\S)'\n",
        "]\n",
        "    \n",
        "tokens_re = re.compile(r'('+'|'.join(regex_str)+')', re.VERBOSE | re.IGNORECASE)\n",
        "emoticon_re = re.compile(r'^'+emoticons_str+'$', re.VERBOSE | re.IGNORECASE)\n",
        " \n",
        "def tokenize(s):\n",
        "    return tokens_re.findall(s)\n",
        " \n",
        "def preprocess(s, lowercase=False):\n",
        "    tokens = tokenize(s)\n",
        "    if lowercase:\n",
        "        tokens = [token if emoticon_re.search(token) else token.lower() for token in tokens]\n",
        "    return tokens  \n",
        "original_documents = [x.strip() for x in df['text']]\n",
        "documents = [preprocess(d) for d in original_documents]\n",
        "\n",
        "documents[1]"
      ],
      "metadata": {
        "colab": {
          "base_uri": "https://localhost:8080/"
        },
        "id": "d1p1ShZu5Y0U",
        "outputId": "0083b45a-abc8-4245-ff8d-7e42f5b695fc"
      },
      "execution_count": null,
      "outputs": [
        {
          "output_type": "execute_result",
          "data": {
            "text/plain": [
              "['b',\n",
              " '\"',\n",
              " '@ForIn2020',\n",
              " '@waltmossberg',\n",
              " '@mims',\n",
              " '@defcon_5',\n",
              " 'Exactly',\n",
              " '.',\n",
              " 'Tesla',\n",
              " 'is',\n",
              " 'absurdly',\n",
              " 'overvalued',\n",
              " 'if',\n",
              " 'based',\n",
              " 'on',\n",
              " 'the',\n",
              " 'past',\n",
              " ',',\n",
              " 'but',\n",
              " \"that's\",\n",
              " 'irr',\n",
              " '\\\\',\n",
              " 'xe2',\n",
              " '\\\\',\n",
              " 'x80',\n",
              " '\\\\',\n",
              " 'xa6',\n",
              " 'https://t.co/qQcTqkzgMl',\n",
              " '\"']"
            ]
          },
          "metadata": {},
          "execution_count": 17
        }
      ]
    },
    {
      "cell_type": "code",
      "source": [
        "# 2. Implement TF-IDF"
      ],
      "metadata": {
        "id": "pOnOsbexpe2K"
      },
      "execution_count": null,
      "outputs": []
    },
    {
      "cell_type": "code",
      "source": [
        "import pandas as pd\n",
        "from collections import Counter\n",
        "from nltk.corpus import stopwords\n",
        "from sklearn.feature_extraction.text import CountVectorizer\n",
        "import math"
      ],
      "metadata": {
        "id": "QgpHHmgV8UdY"
      },
      "execution_count": null,
      "outputs": []
    },
    {
      "cell_type": "code",
      "source": [
        "nltk.download('stopwords')"
      ],
      "metadata": {
        "colab": {
          "base_uri": "https://localhost:8080/"
        },
        "id": "OOjTc-E_8gwH",
        "outputId": "995acf41-becd-48b2-c807-86d09818f3bb"
      },
      "execution_count": null,
      "outputs": [
        {
          "output_type": "stream",
          "name": "stderr",
          "text": [
            "[nltk_data] Downloading package stopwords to /root/nltk_data...\n",
            "[nltk_data]   Unzipping corpora/stopwords.zip.\n"
          ]
        },
        {
          "output_type": "execute_result",
          "data": {
            "text/plain": [
              "True"
            ]
          },
          "metadata": {},
          "execution_count": 19
        }
      ]
    },
    {
      "cell_type": "code",
      "source": [
        "flat_list = [word for doc in documents for word in doc]\n",
        "# TODO: remove stop words from the vocabulary\n",
        "words = [word for word in flat_list if word not in stopwords.words('english')]\n",
        "# TODO: we take the 500 most common words only\n",
        "counts = Counter (words)\n",
        "vocabulary = counts.most_common (500)\n",
        "print([x for x in vocabulary if x[0] == 'Tesla']) \n",
        "vocabulary =  [x[0] for x in vocabulary]\n",
        "assert len (vocabulary) == 500\n",
        "#vocabulary.sort() \n",
        "vocabulary[:5]"
      ],
      "metadata": {
        "colab": {
          "base_uri": "https://localhost:8080/"
        },
        "id": "I3gQTlz88ykM",
        "outputId": "cab728dd-f534-4c35-9a58-486e90939bb2"
      },
      "execution_count": null,
      "outputs": [
        {
          "output_type": "stream",
          "name": "stdout",
          "text": [
            "[('Tesla', 272)]\n"
          ]
        },
        {
          "output_type": "execute_result",
          "data": {
            "text/plain": [
              "['.', \"'\", 'b', '\\\\', '\"']"
            ]
          },
          "metadata": {},
          "execution_count": 20
        }
      ]
    },
    {
      "cell_type": "code",
      "source": [
        "def idf(vocabulary, documents):\n",
        "    idf_values = {}\n",
        "    num_documents = len(documents)\n",
        "    for term in vocabulary:\n",
        "        count = sum(term in document for document in documents)\n",
        "        idf_values[term] = math.log(num_documents / count, 2) \n",
        "    return idf_values\n",
        "\n",
        "idf_values = idf(vocabulary, documents)\n",
        "[idf_values[key] for key in vocabulary[:5]]"
      ],
      "metadata": {
        "colab": {
          "base_uri": "https://localhost:8080/"
        },
        "id": "jjkIFefu81tQ",
        "outputId": "8f8cef6d-add4-4045-dfc3-3006df8bf97d"
      },
      "execution_count": null,
      "outputs": [
        {
          "output_type": "execute_result",
          "data": {
            "text/plain": [
              "[0.959130577668125,\n",
              " 0.7493007890060756,\n",
              " 1.1177820471225408,\n",
              " 3.0990239888351803,\n",
              " 2.384152165519591]"
            ]
          },
          "metadata": {},
          "execution_count": 21
        }
      ]
    },
    {
      "cell_type": "code",
      "source": [
        "# 3. Compare the results with the reference implementation of scikit-learn library"
      ],
      "metadata": {
        "id": "a7AVxKlOpjWn"
      },
      "execution_count": null,
      "outputs": []
    },
    {
      "cell_type": "code",
      "source": [
        "from sklearn.feature_extraction.text import CountVectorizer\n",
        "from nltk.stem.snowball import FrenchStemmer\n",
        "\n",
        "stemmer = FrenchStemmer()\n",
        "analyzer = CountVectorizer().build_analyzer()\n",
        "\n",
        "def stemmed_words(doc):\n",
        "    return (stemmer.stem(w) for w in analyzer(doc))\n",
        "\n",
        "# Convert the list of documents into a single string\n",
        "corpus = [' '.join(doc) for doc in documents]\n",
        "\n",
        "stem_vectorizer = CountVectorizer(analyzer=stemmed_words)\n",
        "print(stem_vectorizer.fit_transform(corpus))\n",
        "print(stem_vectorizer.get_feature_names_out())"
      ],
      "metadata": {
        "colab": {
          "base_uri": "https://localhost:8080/"
        },
        "id": "w_cUaXwa88ym",
        "outputId": "642c043b-e8fc-4961-f175-a6f712f66ed0"
      },
      "execution_count": null,
      "outputs": [
        {
          "output_type": "stream",
          "name": "stdout",
          "text": [
            "  (0, 617)\t1\n",
            "  (0, 6119)\t1\n",
            "  (0, 6613)\t1\n",
            "  (0, 5673)\t1\n",
            "  (0, 6186)\t1\n",
            "  (0, 3209)\t1\n",
            "  (0, 3203)\t1\n",
            "  (0, 1462)\t1\n",
            "  (0, 7106)\t1\n",
            "  (1, 6613)\t1\n",
            "  (1, 3203)\t1\n",
            "  (1, 1462)\t1\n",
            "  (1, 2667)\t1\n",
            "  (1, 7258)\t1\n",
            "  (1, 4284)\t1\n",
            "  (1, 1881)\t1\n",
            "  (1, 2392)\t1\n",
            "  (1, 6574)\t1\n",
            "  (1, 3488)\t1\n",
            "  (1, 403)\t1\n",
            "  (1, 4845)\t1\n",
            "  (1, 3277)\t1\n",
            "  (1, 897)\t1\n",
            "  (1, 4750)\t1\n",
            "  (1, 4935)\t1\n",
            "  :\t:\n",
            "  (2817, 2740)\t1\n",
            "  (2817, 3256)\t1\n",
            "  (2817, 5816)\t1\n",
            "  (2817, 3257)\t1\n",
            "  (2817, 1162)\t1\n",
            "  (2817, 7200)\t1\n",
            "  (2817, 5654)\t1\n",
            "  (2817, 7122)\t1\n",
            "  (2817, 4654)\t1\n",
            "  (2817, 5408)\t1\n",
            "  (2818, 3488)\t1\n",
            "  (2818, 6611)\t1\n",
            "  (2818, 6739)\t1\n",
            "  (2818, 6657)\t1\n",
            "  (2818, 441)\t1\n",
            "  (2818, 7271)\t1\n",
            "  (2818, 733)\t1\n",
            "  (2818, 4191)\t2\n",
            "  (2818, 924)\t1\n",
            "  (2818, 5189)\t1\n",
            "  (2818, 6906)\t1\n",
            "  (2818, 5055)\t1\n",
            "  (2818, 6143)\t1\n",
            "  (2818, 3281)\t1\n",
            "  (2818, 5167)\t1\n",
            "['00' '000' '01' ... 'zyfazr2bb2' 'zyv4h85o' 'zzijxxyy']\n"
          ]
        }
      ]
    },
    {
      "cell_type": "code",
      "source": [
        "from sklearn.feature_extraction.text import CountVectorizer, TfidfVectorizer \n",
        "from sklearn.metrics.pairwise import linear_kernel\n",
        "tfidf = TfidfVectorizer (analyzer='word', ngram_range=(1,1), min_df = 1, stop_words = 'english', max_features=500)\n",
        "\n",
        "features=tfidf.fit(original_documents)\n",
        "corpus_tf_idf = tfidf.transform (original_documents)\n",
        "\n",
        "sum_words = corpus_tf_idf.sum(axis=0)\n",
        "words_freq = [(word, sum_words [0, idx]) for word, idx in tfidf.vocabulary_.items()]\n",
        "print (sorted (words_freq, key = lambda x: x[1], reverse=True)[:5])\n",
        "print('testla', corpus_tf_idf [1, features.vocabulary_['tesla']])"
      ],
      "metadata": {
        "colab": {
          "base_uri": "https://localhost:8080/"
        },
        "id": "pmDh9LMz9DSD",
        "outputId": "128e2ac2-6cc3-41e7-a081-3c5d4dccf3d1"
      },
      "execution_count": null,
      "outputs": [
        {
          "output_type": "stream",
          "name": "stdout",
          "text": [
            "[('http', 163.54366542841234), ('https', 151.85039944652075), ('rt', 112.61998731390989), ('tesla', 95.96401470715628), ('xe2', 88.20944486346477)]\n",
            "testla 0.3495243100660956\n"
          ]
        }
      ]
    },
    {
      "cell_type": "markdown",
      "source": [
        "4. Apply TF-IDF for information retrieval"
      ],
      "metadata": {
        "id": "EtymDhEl9HW7"
      }
    },
    {
      "cell_type": "code",
      "source": [
        "import numpy as np\n",
        "import math\n",
        "from nltk.stem import PorterStemmer\n",
        "\n",
        "def cosine_similarity(v1, v2):\n",
        "    sumxx, sumxy, sumyy = 0, 0, 0\n",
        "    for i in range(len(v1)):\n",
        "        x = v1[i]\n",
        "        y = v2[i]\n",
        "        sumxx += x * x\n",
        "        sumyy += y * y\n",
        "        sumxy += x * y\n",
        "    if sumxy == 0:\n",
        "        result = 0\n",
        "    else:\n",
        "        result = sumxy / math.sqrt(sumxx * sumyy)\n",
        "    return result\n",
        "\n",
        "def search_vec(query, k, vocabulary, stemmer, document_vectors, original_documents):\n",
        "    q = query.split()\n",
        "    q = [stemmer.stem(w) for w in q]\n",
        "    query_vector = vectorize(q, vocabulary, idf)\n",
        "\n",
        "    # Rank the documents by cosine similarity\n",
        "    scores = [[cosine_similarity(query_vector, document_vectors[d]), d] for d in range(len(document_vectors))]\n",
        "    scores.sort(key=lambda x: -x[0])\n",
        "\n",
        "    print('Top-{0} documents'.format(k))\n",
        "    for i in range(k):\n",
        "        print(i, original_documents[scores[i][1]])\n",
        "\n",
        "query = \"tesla nasa\"\n",
        "stemmer = PorterStemmer()\n",
        "document_vectors = words_freq  # Assuming words_freq is defined elsewhere\n",
        "vocabulary = ...  # Define your vocabulary\n",
        "idf = ...  # Define your idf values\n",
        "original_documents = ...  # Define your original documents\n",
        "\n",
        "search_vec(query, 5, vocabulary, stemmer, document_vectors, original_documents)"
      ],
      "metadata": {
        "id": "pmCV0RoV-XZj"
      },
      "execution_count": null,
      "outputs": []
    },
    {
      "cell_type": "markdown",
      "source": [
        "II. Text Processing\n",
        "\n",
        "1. Preprocessing"
      ],
      "metadata": {
        "id": "gXTlNq5e-ZHY"
      }
    },
    {
      "cell_type": "code",
      "source": [
        "import nltk\n",
        "import numpy as np\n",
        "import pandas as pd"
      ],
      "metadata": {
        "id": "fGdRDWOa-ccL"
      },
      "execution_count": null,
      "outputs": []
    },
    {
      "cell_type": "code",
      "source": [
        "nltk.download('punkt')"
      ],
      "metadata": {
        "colab": {
          "base_uri": "https://localhost:8080/"
        },
        "id": "dm5A7tXJ-eIh",
        "outputId": "c5d20040-e18e-45be-a769-01e5a17472e6"
      },
      "execution_count": null,
      "outputs": [
        {
          "output_type": "stream",
          "name": "stderr",
          "text": [
            "[nltk_data] Downloading package punkt to /root/nltk_data...\n",
            "[nltk_data]   Package punkt is already up-to-date!\n"
          ]
        },
        {
          "output_type": "execute_result",
          "data": {
            "text/plain": [
              "True"
            ]
          },
          "metadata": {},
          "execution_count": 33
        }
      ]
    },
    {
      "cell_type": "code",
      "source": [
        "nltk.download('stopwords') "
      ],
      "metadata": {
        "colab": {
          "base_uri": "https://localhost:8080/"
        },
        "id": "0FsrbMx2-gii",
        "outputId": "cf90b4a8-721d-43ca-dac1-1560a531ef67"
      },
      "execution_count": null,
      "outputs": [
        {
          "output_type": "stream",
          "name": "stderr",
          "text": [
            "[nltk_data] Downloading package stopwords to /root/nltk_data...\n",
            "[nltk_data]   Package stopwords is already up-to-date!\n"
          ]
        },
        {
          "output_type": "execute_result",
          "data": {
            "text/plain": [
              "True"
            ]
          },
          "metadata": {},
          "execution_count": 34
        }
      ]
    },
    {
      "cell_type": "code",
      "source": [
        "nltk.download('wordnet') "
      ],
      "metadata": {
        "colab": {
          "base_uri": "https://localhost:8080/"
        },
        "id": "oYkGOznh-h-V",
        "outputId": "f3ecbe8d-c838-4f7d-8ca5-33bae01b3053"
      },
      "execution_count": null,
      "outputs": [
        {
          "output_type": "stream",
          "name": "stderr",
          "text": [
            "[nltk_data] Downloading package wordnet to /root/nltk_data...\n"
          ]
        },
        {
          "output_type": "execute_result",
          "data": {
            "text/plain": [
              "True"
            ]
          },
          "metadata": {},
          "execution_count": 35
        }
      ]
    },
    {
      "cell_type": "code",
      "source": [
        "nltk.download('averaged_perceptron_tagger') "
      ],
      "metadata": {
        "colab": {
          "base_uri": "https://localhost:8080/"
        },
        "id": "sTjH2KRW-jV6",
        "outputId": "792501af-624c-4371-c728-e89166dc865b"
      },
      "execution_count": null,
      "outputs": [
        {
          "output_type": "stream",
          "name": "stderr",
          "text": [
            "[nltk_data] Downloading package averaged_perceptron_tagger to\n",
            "[nltk_data]     /root/nltk_data...\n",
            "[nltk_data]   Unzipping taggers/averaged_perceptron_tagger.zip.\n"
          ]
        },
        {
          "output_type": "execute_result",
          "data": {
            "text/plain": [
              "True"
            ]
          },
          "metadata": {},
          "execution_count": 36
        }
      ]
    },
    {
      "cell_type": "code",
      "source": [
        "df=pd.read_csv(\"coldplay.csv\")"
      ],
      "metadata": {
        "id": "Xg5XCN3g-k1a"
      },
      "execution_count": null,
      "outputs": []
    },
    {
      "cell_type": "code",
      "source": [
        "df.info()"
      ],
      "metadata": {
        "colab": {
          "base_uri": "https://localhost:8080/"
        },
        "id": "E7IR_xx4-u9K",
        "outputId": "bef1c2a5-c63d-4312-e0db-fda7fcaa7c0b"
      },
      "execution_count": null,
      "outputs": [
        {
          "output_type": "stream",
          "name": "stdout",
          "text": [
            "<class 'pandas.core.frame.DataFrame'>\n",
            "RangeIndex: 120 entries, 0 to 119\n",
            "Data columns (total 4 columns):\n",
            " #   Column  Non-Null Count  Dtype \n",
            "---  ------  --------------  ----- \n",
            " 0   Artist  120 non-null    object\n",
            " 1   Song    120 non-null    object\n",
            " 2   Link    120 non-null    object\n",
            " 3   Lyrics  120 non-null    object\n",
            "dtypes: object(4)\n",
            "memory usage: 3.9+ KB\n"
          ]
        }
      ]
    },
    {
      "cell_type": "code",
      "source": [
        "song_title = 'Every Teardrop Is A Waterfall'\n",
        "lyrics = df.loc[df['Song'] == song_title, 'Lyrics'].values[0]\n",
        "print(lyrics)"
      ],
      "metadata": {
        "colab": {
          "base_uri": "https://localhost:8080/"
        },
        "id": "TsuVx8---wdV",
        "outputId": "da6b1138-11bd-4847-a0ac-68c180e90bfc"
      },
      "execution_count": null,
      "outputs": [
        {
          "output_type": "stream",
          "name": "stdout",
          "text": [
            "I turn the music up, I got my records on  \n",
            "I shut the world outside until the lights come on  \n",
            "Maybe the streets alight, maybe the trees are gone  \n",
            "I feel my heart start beating to my favourite song  \n",
            "  \n",
            "And all the kids they dance, all the kids all night  \n",
            "Until Monday morning feels another life  \n",
            "I turn the music up  \n",
            "I'm on a roll this time  \n",
            "And heaven is in sight  \n",
            "  \n",
            "I turn the music up, I got my records on  \n",
            "From underneath the rubble sing a rebel song  \n",
            "Don't want to see another generation drop  \n",
            "I'd rather be a comma than a full stop  \n",
            "  \n",
            "Maybe I'm in the black, maybe I'm on my knees  \n",
            "Maybe I'm in the gap between the two trapezes  \n",
            "But my heart is beating and my pulses start  \n",
            "Cathedrals in my heart  \n",
            "  \n",
            "As we saw oh this light I swear you, emerge blinking into  \n",
            "To tell me it's alright  \n",
            "As we soar walls, every siren is a symphony  \n",
            "And every tear's a waterfall  \n",
            "Is a waterfall  \n",
            "Oh  \n",
            "Is a waterfall  \n",
            "Oh oh oh  \n",
            "Is a is a waterfall  \n",
            "Every tear  \n",
            "Is a waterfall  \n",
            "Oh oh oh  \n",
            "  \n",
            "So you can hurt, hurt me bad  \n",
            "But still I'll raise the flag  \n",
            "  \n",
            "Oh  \n",
            "It was a wa wa wa wa wa-aterfall  \n",
            "A wa wa wa wa wa-aterfall  \n",
            "  \n",
            "Every tear  \n",
            "Every tear  \n",
            "Every teardrop is a waterfall  \n",
            "  \n",
            "Every tear  \n",
            "Every tear  \n",
            "Every teardrop is a waterfall  \n",
            "  \n",
            "Every tear  \n",
            "Every tear  \n",
            "Every teardrop is a waterfall\n",
            "\n",
            "\n"
          ]
        }
      ]
    },
    {
      "cell_type": "code",
      "source": [
        "import nltk\n",
        "import string\n",
        "\n",
        "\n",
        "# Tokenize the lyrics\n",
        "from nltk import word_tokenize\n",
        "words = word_tokenize(lyrics)\n",
        "print(words)"
      ],
      "metadata": {
        "colab": {
          "base_uri": "https://localhost:8080/"
        },
        "id": "T6sNsUCb-yBx",
        "outputId": "a91b1ff0-52af-4001-d4cf-97ccfbad612c"
      },
      "execution_count": null,
      "outputs": [
        {
          "output_type": "stream",
          "name": "stdout",
          "text": [
            "['I', 'turn', 'the', 'music', 'up', ',', 'I', 'got', 'my', 'records', 'on', 'I', 'shut', 'the', 'world', 'outside', 'until', 'the', 'lights', 'come', 'on', 'Maybe', 'the', 'streets', 'alight', ',', 'maybe', 'the', 'trees', 'are', 'gone', 'I', 'feel', 'my', 'heart', 'start', 'beating', 'to', 'my', 'favourite', 'song', 'And', 'all', 'the', 'kids', 'they', 'dance', ',', 'all', 'the', 'kids', 'all', 'night', 'Until', 'Monday', 'morning', 'feels', 'another', 'life', 'I', 'turn', 'the', 'music', 'up', 'I', \"'m\", 'on', 'a', 'roll', 'this', 'time', 'And', 'heaven', 'is', 'in', 'sight', 'I', 'turn', 'the', 'music', 'up', ',', 'I', 'got', 'my', 'records', 'on', 'From', 'underneath', 'the', 'rubble', 'sing', 'a', 'rebel', 'song', 'Do', \"n't\", 'want', 'to', 'see', 'another', 'generation', 'drop', 'I', \"'d\", 'rather', 'be', 'a', 'comma', 'than', 'a', 'full', 'stop', 'Maybe', 'I', \"'m\", 'in', 'the', 'black', ',', 'maybe', 'I', \"'m\", 'on', 'my', 'knees', 'Maybe', 'I', \"'m\", 'in', 'the', 'gap', 'between', 'the', 'two', 'trapezes', 'But', 'my', 'heart', 'is', 'beating', 'and', 'my', 'pulses', 'start', 'Cathedrals', 'in', 'my', 'heart', 'As', 'we', 'saw', 'oh', 'this', 'light', 'I', 'swear', 'you', ',', 'emerge', 'blinking', 'into', 'To', 'tell', 'me', 'it', \"'s\", 'alright', 'As', 'we', 'soar', 'walls', ',', 'every', 'siren', 'is', 'a', 'symphony', 'And', 'every', 'tear', \"'s\", 'a', 'waterfall', 'Is', 'a', 'waterfall', 'Oh', 'Is', 'a', 'waterfall', 'Oh', 'oh', 'oh', 'Is', 'a', 'is', 'a', 'waterfall', 'Every', 'tear', 'Is', 'a', 'waterfall', 'Oh', 'oh', 'oh', 'So', 'you', 'can', 'hurt', ',', 'hurt', 'me', 'bad', 'But', 'still', 'I', \"'ll\", 'raise', 'the', 'flag', 'Oh', 'It', 'was', 'a', 'wa', 'wa', 'wa', 'wa', 'wa-aterfall', 'A', 'wa', 'wa', 'wa', 'wa', 'wa-aterfall', 'Every', 'tear', 'Every', 'tear', 'Every', 'teardrop', 'is', 'a', 'waterfall', 'Every', 'tear', 'Every', 'tear', 'Every', 'teardrop', 'is', 'a', 'waterfall', 'Every', 'tear', 'Every', 'tear', 'Every', 'teardrop', 'is', 'a', 'waterfall']\n"
          ]
        }
      ]
    },
    {
      "cell_type": "code",
      "source": [
        "tokens_without_punctuation = [token for token in words if token not in string.punctuation]\n",
        "\n",
        "print(tokens_without_punctuation)"
      ],
      "metadata": {
        "colab": {
          "base_uri": "https://localhost:8080/"
        },
        "id": "G_Yb4CQc-0Ie",
        "outputId": "ac14aad6-bb06-4c0b-c6a5-0704b1cce8d4"
      },
      "execution_count": null,
      "outputs": [
        {
          "output_type": "stream",
          "name": "stdout",
          "text": [
            "['I', 'turn', 'the', 'music', 'up', 'I', 'got', 'my', 'records', 'on', 'I', 'shut', 'the', 'world', 'outside', 'until', 'the', 'lights', 'come', 'on', 'Maybe', 'the', 'streets', 'alight', 'maybe', 'the', 'trees', 'are', 'gone', 'I', 'feel', 'my', 'heart', 'start', 'beating', 'to', 'my', 'favourite', 'song', 'And', 'all', 'the', 'kids', 'they', 'dance', 'all', 'the', 'kids', 'all', 'night', 'Until', 'Monday', 'morning', 'feels', 'another', 'life', 'I', 'turn', 'the', 'music', 'up', 'I', \"'m\", 'on', 'a', 'roll', 'this', 'time', 'And', 'heaven', 'is', 'in', 'sight', 'I', 'turn', 'the', 'music', 'up', 'I', 'got', 'my', 'records', 'on', 'From', 'underneath', 'the', 'rubble', 'sing', 'a', 'rebel', 'song', 'Do', \"n't\", 'want', 'to', 'see', 'another', 'generation', 'drop', 'I', \"'d\", 'rather', 'be', 'a', 'comma', 'than', 'a', 'full', 'stop', 'Maybe', 'I', \"'m\", 'in', 'the', 'black', 'maybe', 'I', \"'m\", 'on', 'my', 'knees', 'Maybe', 'I', \"'m\", 'in', 'the', 'gap', 'between', 'the', 'two', 'trapezes', 'But', 'my', 'heart', 'is', 'beating', 'and', 'my', 'pulses', 'start', 'Cathedrals', 'in', 'my', 'heart', 'As', 'we', 'saw', 'oh', 'this', 'light', 'I', 'swear', 'you', 'emerge', 'blinking', 'into', 'To', 'tell', 'me', 'it', \"'s\", 'alright', 'As', 'we', 'soar', 'walls', 'every', 'siren', 'is', 'a', 'symphony', 'And', 'every', 'tear', \"'s\", 'a', 'waterfall', 'Is', 'a', 'waterfall', 'Oh', 'Is', 'a', 'waterfall', 'Oh', 'oh', 'oh', 'Is', 'a', 'is', 'a', 'waterfall', 'Every', 'tear', 'Is', 'a', 'waterfall', 'Oh', 'oh', 'oh', 'So', 'you', 'can', 'hurt', 'hurt', 'me', 'bad', 'But', 'still', 'I', \"'ll\", 'raise', 'the', 'flag', 'Oh', 'It', 'was', 'a', 'wa', 'wa', 'wa', 'wa', 'wa-aterfall', 'A', 'wa', 'wa', 'wa', 'wa', 'wa-aterfall', 'Every', 'tear', 'Every', 'tear', 'Every', 'teardrop', 'is', 'a', 'waterfall', 'Every', 'tear', 'Every', 'tear', 'Every', 'teardrop', 'is', 'a', 'waterfall', 'Every', 'tear', 'Every', 'tear', 'Every', 'teardrop', 'is', 'a', 'waterfall']\n"
          ]
        }
      ]
    },
    {
      "cell_type": "code",
      "source": [
        "\n",
        "\n",
        "from nltk.corpus import stopwords\n",
        "from nltk.tokenize import word_tokenize\n",
        "from nltk.stem import WordNetLemmatizer\n",
        "\n",
        "stop_words = set(stopwords.words(\"english\"))\n",
        " \n",
        "# converts the words in word_tokens to lower case and then checks whether\n",
        "#they are present in stopwords or not\n",
        "filtered_sentence = [w for w in words if not w.lower() in stop_words]\n",
        "#with no lower case conversion\n",
        "filtered_sentence = []\n",
        " \n",
        "for w in word_tokens:\n",
        "    if w not in stop_words:\n",
        "        filtered_sentence.append(w)\n",
        " \n",
        "print(filtered_sentence)"
      ],
      "metadata": {
        "colab": {
          "base_uri": "https://localhost:8080/"
        },
        "id": "6KhY9jFj-110",
        "outputId": "f5ca166e-634a-46c3-e11f-424f8636bf01"
      },
      "execution_count": null,
      "outputs": [
        {
          "output_type": "stream",
          "name": "stdout",
          "text": [
            "['I', 'turn', 'music', ',', 'I', 'got', 'records', 'I', 'shut', 'world', 'outside', 'lights', 'come', 'Maybe', 'streets', 'alight', ',', 'maybe', 'trees', 'gone', 'I', 'feel', 'heart', 'start', 'beating', 'favourite', 'song', 'And', 'kids', 'dance', ',', 'kids', 'night', 'Until', 'Monday', 'morning', 'feels', 'another', 'life', 'I', 'turn', 'music', 'I', \"'m\", 'roll', 'time', 'And', 'heaven', 'sight', 'I', 'turn', 'music', ',', 'I', 'got', 'records', 'From', 'underneath', 'rubble', 'sing', 'rebel', 'song', 'Do', \"n't\", 'want', 'see', 'another', 'generation', 'drop', 'I', \"'d\", 'rather', 'comma', 'full', 'stop', 'Maybe', 'I', \"'m\", 'black', ',', 'maybe', 'I', \"'m\", 'knees', 'Maybe', 'I', \"'m\", 'gap', 'two', 'trapezes', 'But', 'heart', 'beating', 'pulses', 'start', 'Cathedrals', 'heart', 'As', 'saw', 'oh', 'light', 'I', 'swear', ',', 'emerge', 'blinking', 'To', 'tell', \"'s\", 'alright', 'As', 'soar', 'walls', ',', 'every', 'siren', 'symphony', 'And', 'every', 'tear', \"'s\", 'waterfall', 'Is', 'waterfall', 'Oh', 'Is', 'waterfall', 'Oh', 'oh', 'oh', 'Is', 'waterfall', 'Every', 'tear', 'Is', 'waterfall', 'Oh', 'oh', 'oh', 'So', 'hurt', ',', 'hurt', 'bad', 'But', 'still', 'I', \"'ll\", 'raise', 'flag', 'Oh', 'It', 'wa', 'wa', 'wa', 'wa', 'wa-aterfall', 'A', 'wa', 'wa', 'wa', 'wa', 'wa-aterfall', 'Every', 'tear', 'Every', 'tear', 'Every', 'teardrop', 'waterfall', 'Every', 'tear', 'Every', 'tear', 'Every', 'teardrop', 'waterfall', 'Every', 'tear', 'Every', 'tear', 'Every', 'teardrop', 'waterfall']\n"
          ]
        }
      ]
    },
    {
      "cell_type": "code",
      "source": [
        "lemmatizer = WordNetLemmatizer()\n",
        "lemmatized_tokens = [lemmatizer.lemmatize(token) for token in filtered_sentence]\n",
        "print(lemmatized_tokens)"
      ],
      "metadata": {
        "colab": {
          "base_uri": "https://localhost:8080/"
        },
        "id": "O01wORG_AQH0",
        "outputId": "2c2c486d-12fd-4dd0-805d-9862b07d9f3b"
      },
      "execution_count": null,
      "outputs": [
        {
          "output_type": "stream",
          "name": "stdout",
          "text": [
            "['I', 'turn', 'music', ',', 'I', 'got', 'record', 'I', 'shut', 'world', 'outside', 'light', 'come', 'Maybe', 'street', 'alight', ',', 'maybe', 'tree', 'gone', 'I', 'feel', 'heart', 'start', 'beating', 'favourite', 'song', 'And', 'kid', 'dance', ',', 'kid', 'night', 'Until', 'Monday', 'morning', 'feel', 'another', 'life', 'I', 'turn', 'music', 'I', \"'m\", 'roll', 'time', 'And', 'heaven', 'sight', 'I', 'turn', 'music', ',', 'I', 'got', 'record', 'From', 'underneath', 'rubble', 'sing', 'rebel', 'song', 'Do', \"n't\", 'want', 'see', 'another', 'generation', 'drop', 'I', \"'d\", 'rather', 'comma', 'full', 'stop', 'Maybe', 'I', \"'m\", 'black', ',', 'maybe', 'I', \"'m\", 'knee', 'Maybe', 'I', \"'m\", 'gap', 'two', 'trapeze', 'But', 'heart', 'beating', 'pulse', 'start', 'Cathedrals', 'heart', 'As', 'saw', 'oh', 'light', 'I', 'swear', ',', 'emerge', 'blinking', 'To', 'tell', \"'s\", 'alright', 'As', 'soar', 'wall', ',', 'every', 'siren', 'symphony', 'And', 'every', 'tear', \"'s\", 'waterfall', 'Is', 'waterfall', 'Oh', 'Is', 'waterfall', 'Oh', 'oh', 'oh', 'Is', 'waterfall', 'Every', 'tear', 'Is', 'waterfall', 'Oh', 'oh', 'oh', 'So', 'hurt', ',', 'hurt', 'bad', 'But', 'still', 'I', \"'ll\", 'raise', 'flag', 'Oh', 'It', 'wa', 'wa', 'wa', 'wa', 'wa-aterfall', 'A', 'wa', 'wa', 'wa', 'wa', 'wa-aterfall', 'Every', 'tear', 'Every', 'tear', 'Every', 'teardrop', 'waterfall', 'Every', 'tear', 'Every', 'tear', 'Every', 'teardrop', 'waterfall', 'Every', 'tear', 'Every', 'tear', 'Every', 'teardrop', 'waterfall']\n"
          ]
        }
      ]
    },
    {
      "cell_type": "code",
      "source": [
        "from nltk import pos_tag\n",
        "pos_tags = nltk.pos_tag(lemmatized_tokens)\n",
        "\n",
        "print(pos_tags)"
      ],
      "metadata": {
        "colab": {
          "base_uri": "https://localhost:8080/"
        },
        "id": "rPzr341XAV02",
        "outputId": "eca92892-4517-4ee3-f47c-c0c7e86d6044"
      },
      "execution_count": null,
      "outputs": [
        {
          "output_type": "stream",
          "name": "stdout",
          "text": [
            "[('I', 'PRP'), ('turn', 'VBP'), ('music', 'NN'), (',', ','), ('I', 'PRP'), ('got', 'VBD'), ('record', 'NN'), ('I', 'PRP'), ('shut', 'VBP'), ('world', 'NN'), ('outside', 'IN'), ('light', 'JJ'), ('come', 'VBP'), ('Maybe', 'NNP'), ('street', 'NN'), ('alight', 'NN'), (',', ','), ('maybe', 'RB'), ('tree', 'IN'), ('gone', 'VBN'), ('I', 'PRP'), ('feel', 'VBP'), ('heart', 'NN'), ('start', 'NN'), ('beating', 'VBG'), ('favourite', 'NN'), ('song', 'NN'), ('And', 'CC'), ('kid', 'NN'), ('dance', 'NN'), (',', ','), ('kid', 'VB'), ('night', 'NN'), ('Until', 'IN'), ('Monday', 'NNP'), ('morning', 'NN'), ('feel', 'NN'), ('another', 'DT'), ('life', 'NN'), ('I', 'PRP'), ('turn', 'VBP'), ('music', 'NN'), ('I', 'PRP'), (\"'m\", 'VBP'), ('roll', 'JJ'), ('time', 'NN'), ('And', 'CC'), ('heaven', 'JJ'), ('sight', 'NN'), ('I', 'PRP'), ('turn', 'VBP'), ('music', 'NN'), (',', ','), ('I', 'PRP'), ('got', 'VBD'), ('record', 'NN'), ('From', 'IN'), ('underneath', 'JJ'), ('rubble', 'JJ'), ('sing', 'VBG'), ('rebel', 'NN'), ('song', 'NN'), ('Do', 'VBP'), (\"n't\", 'RB'), ('want', 'VB'), ('see', 'VB'), ('another', 'DT'), ('generation', 'NN'), ('drop', 'NN'), ('I', 'PRP'), (\"'d\", 'MD'), ('rather', 'RB'), ('comma', 'VB'), ('full', 'JJ'), ('stop', 'NN'), ('Maybe', 'NNP'), ('I', 'PRP'), (\"'m\", 'VBP'), ('black', 'JJ'), (',', ','), ('maybe', 'RB'), ('I', 'PRP'), (\"'m\", 'VBP'), ('knee', 'JJ'), ('Maybe', 'NNP'), ('I', 'PRP'), (\"'m\", 'VBP'), ('gap', 'JJ'), ('two', 'CD'), ('trapeze', 'NN'), ('But', 'CC'), ('heart', 'NN'), ('beating', 'NN'), ('pulse', 'JJ'), ('start', 'NN'), ('Cathedrals', 'NNP'), ('heart', 'NN'), ('As', 'IN'), ('saw', 'JJ'), ('oh', 'IN'), ('light', 'JJ'), ('I', 'PRP'), ('swear', 'VBP'), (',', ','), ('emerge', 'VBP'), ('blinking', 'VBG'), ('To', 'TO'), ('tell', 'VB'), (\"'s\", 'POS'), ('alright', 'NN'), ('As', 'IN'), ('soar', 'NN'), ('wall', 'NN'), (',', ','), ('every', 'DT'), ('siren', 'NN'), ('symphony', 'NN'), ('And', 'CC'), ('every', 'DT'), ('tear', 'NN'), (\"'s\", 'POS'), ('waterfall', 'NN'), ('Is', 'VBZ'), ('waterfall', 'JJ'), ('Oh', 'NNP'), ('Is', 'NNP'), ('waterfall', 'JJ'), ('Oh', 'NNP'), ('oh', 'MD'), ('oh', 'VB'), ('Is', 'NNP'), ('waterfall', 'JJ'), ('Every', 'NNP'), ('tear', 'NN'), ('Is', 'VBZ'), ('waterfall', 'JJ'), ('Oh', 'NNP'), ('oh', 'MD'), ('oh', 'VB'), ('So', 'NNP'), ('hurt', 'FW'), (',', ','), ('hurt', 'VBN'), ('bad', 'JJ'), ('But', 'CC'), ('still', 'RB'), ('I', 'PRP'), (\"'ll\", 'MD'), ('raise', 'VB'), ('flag', 'NN'), ('Oh', 'IN'), ('It', 'PRP'), ('wa', 'VBZ'), ('wa', 'JJ'), ('wa', 'JJ'), ('wa', 'NN'), ('wa-aterfall', 'NN'), ('A', 'NNP'), ('wa', 'NN'), ('wa', 'NN'), ('wa', 'NN'), ('wa', 'VBD'), ('wa-aterfall', 'JJ'), ('Every', 'NNP'), ('tear', 'NN'), ('Every', 'NNP'), ('tear', 'NN'), ('Every', 'NNP'), ('teardrop', 'NN'), ('waterfall', 'NN'), ('Every', 'NNP'), ('tear', 'NN'), ('Every', 'NNP'), ('tear', 'NN'), ('Every', 'NNP'), ('teardrop', 'NN'), ('waterfall', 'NN'), ('Every', 'NNP'), ('tear', 'NN'), ('Every', 'NNP'), ('tear', 'NN'), ('Every', 'NNP'), ('teardrop', 'NN'), ('waterfall', 'NN')]\n"
          ]
        }
      ]
    },
    {
      "cell_type": "code",
      "source": [
        "from nltk.corpus import wordnet\n",
        "\n",
        "def get_wordnet_pos(pos_tag):\n",
        "    output = np.asarray(pos_tag)\n",
        "    for i in range(len(pos_tag)):\n",
        "        if pos_tag[i][1].startswith('J'):\n",
        "            output[i][1] = wordnet.ADJ\n",
        "        elif pos_tag[i][1].startswith('V'):\n",
        "            output[i][1] = wordnet.VERB\n",
        "        elif pos_tag[i][1].startswith('R'):\n",
        "            output[i][1] = wordnet.ADV\n",
        "        else:\n",
        "            output[i][1] = wordnet.NOUN\n",
        "    return output"
      ],
      "metadata": {
        "id": "3D3lRio3AXrn"
      },
      "execution_count": null,
      "outputs": []
    },
    {
      "cell_type": "markdown",
      "source": [
        "2. Bag-of-words"
      ],
      "metadata": {
        "id": "lD1VhS_eAamU"
      }
    },
    {
      "cell_type": "code",
      "source": [
        "import nltk\n",
        "import numpy as np\n",
        "import pandas as pd\n",
        "from sklearn.feature_extraction.text import CountVectorizer"
      ],
      "metadata": {
        "id": "04Md3IzgAc2g"
      },
      "execution_count": null,
      "outputs": []
    },
    {
      "cell_type": "code",
      "source": [
        "df=pd.read_csv(\"coldplay.csv\")"
      ],
      "metadata": {
        "id": "5z5C_KatAedO"
      },
      "execution_count": null,
      "outputs": []
    },
    {
      "cell_type": "code",
      "source": [
        "from sklearn.feature_extraction.text import CountVectorizer\n",
        "\n",
        "\n",
        "vectorizer = CountVectorizer()\n",
        "\n",
        "bow = vectorizer.fit_transform(df['Lyrics'])\n",
        "\n",
        "print( bow.shape)"
      ],
      "metadata": {
        "colab": {
          "base_uri": "https://localhost:8080/"
        },
        "id": "kANa4LZNAg_c",
        "outputId": "47f2e043-55b7-4557-dbf2-bc2a6d820013"
      },
      "execution_count": null,
      "outputs": [
        {
          "output_type": "stream",
          "name": "stdout",
          "text": [
            "(120, 1776)\n"
          ]
        }
      ]
    },
    {
      "cell_type": "code",
      "source": [
        "import pandas as pd\n",
        "from sklearn.feature_extraction.text import CountVectorizer\n",
        "\n",
        "\n",
        "\n",
        "# Get the feature names (words) from the vectorizer\n",
        "feature_names = vectorizer.get_feature_names_out()\n",
        "\n",
        "# Create a dataframe from the BOW matrix and feature names\n",
        "bow_df = pd.DataFrame(bow.toarray(), columns=feature_names)\n",
        "\n",
        "bow_df"
      ],
      "metadata": {
        "colab": {
          "base_uri": "https://localhost:8080/",
          "height": 424
        },
        "id": "SOsNwwKCAjGl",
        "outputId": "dd8bd88f-13f6-451e-89e9-7c5ed7569ce7"
      },
      "execution_count": null,
      "outputs": [
        {
          "output_type": "execute_result",
          "data": {
            "text/plain": [
              "     10  2000  2gether  76543  aaaaaah  aaaaah  aaaah  about  above  achin  \\\n",
              "0     0     0        0      0        0       0      0      0      0      0   \n",
              "1     0     0        0      0        0       0      0      0      0      0   \n",
              "2     0     0        0      0        0       0      0      0      0      0   \n",
              "3     0     0        0      0        0       0      0      0      0      0   \n",
              "4     0     0        0      0        0       0      0      0      0      0   \n",
              "..   ..   ...      ...    ...      ...     ...    ...    ...    ...    ...   \n",
              "115   0     0        0      0        0       0      0      1      2      0   \n",
              "116   0     0        0      0        0       0      0      0      0      0   \n",
              "117   0     0        1      0        0       0      0      0      0      0   \n",
              "118   0     0        0      0        0       0      0      0      0      0   \n",
              "119   0     0        0      0        0       0      0      0      0      0   \n",
              "\n",
              "     ...  yellow  yes  yesterday  yet  you  young  your  yours  yourself  \\\n",
              "0    ...       0    0          0    0    4      0     4      0         2   \n",
              "1    ...       0    0          0    0    0      0     0      0         0   \n",
              "2    ...       0    0          0    0    0      0     0      0         0   \n",
              "3    ...       0    0          0    0   16      0     0      0         0   \n",
              "4    ...       0    0          0    0    2      0     0      0         0   \n",
              "..   ...     ...  ...        ...  ...  ...    ...   ...    ...       ...   \n",
              "115  ...       0    0          0    0    5      0     3      0         0   \n",
              "116  ...       0    0          0    0    9      0     0      0         0   \n",
              "117  ...       0    0          0    0    7      0     4      0         0   \n",
              "118  ...       0    0          0    0   16      0     1      0         0   \n",
              "119  ...       0    0          0    0    5      0     0      0         0   \n",
              "\n",
              "     yuletide  \n",
              "0           0  \n",
              "1           0  \n",
              "2           0  \n",
              "3           0  \n",
              "4           0  \n",
              "..        ...  \n",
              "115         0  \n",
              "116         0  \n",
              "117         0  \n",
              "118         0  \n",
              "119         0  \n",
              "\n",
              "[120 rows x 1776 columns]"
            ],
            "text/html": [
              "\n",
              "  <div id=\"df-a8c24000-7ec6-4b78-97ee-204a6081c6d2\">\n",
              "    <div class=\"colab-df-container\">\n",
              "      <div>\n",
              "<style scoped>\n",
              "    .dataframe tbody tr th:only-of-type {\n",
              "        vertical-align: middle;\n",
              "    }\n",
              "\n",
              "    .dataframe tbody tr th {\n",
              "        vertical-align: top;\n",
              "    }\n",
              "\n",
              "    .dataframe thead th {\n",
              "        text-align: right;\n",
              "    }\n",
              "</style>\n",
              "<table border=\"1\" class=\"dataframe\">\n",
              "  <thead>\n",
              "    <tr style=\"text-align: right;\">\n",
              "      <th></th>\n",
              "      <th>10</th>\n",
              "      <th>2000</th>\n",
              "      <th>2gether</th>\n",
              "      <th>76543</th>\n",
              "      <th>aaaaaah</th>\n",
              "      <th>aaaaah</th>\n",
              "      <th>aaaah</th>\n",
              "      <th>about</th>\n",
              "      <th>above</th>\n",
              "      <th>achin</th>\n",
              "      <th>...</th>\n",
              "      <th>yellow</th>\n",
              "      <th>yes</th>\n",
              "      <th>yesterday</th>\n",
              "      <th>yet</th>\n",
              "      <th>you</th>\n",
              "      <th>young</th>\n",
              "      <th>your</th>\n",
              "      <th>yours</th>\n",
              "      <th>yourself</th>\n",
              "      <th>yuletide</th>\n",
              "    </tr>\n",
              "  </thead>\n",
              "  <tbody>\n",
              "    <tr>\n",
              "      <th>0</th>\n",
              "      <td>0</td>\n",
              "      <td>0</td>\n",
              "      <td>0</td>\n",
              "      <td>0</td>\n",
              "      <td>0</td>\n",
              "      <td>0</td>\n",
              "      <td>0</td>\n",
              "      <td>0</td>\n",
              "      <td>0</td>\n",
              "      <td>0</td>\n",
              "      <td>...</td>\n",
              "      <td>0</td>\n",
              "      <td>0</td>\n",
              "      <td>0</td>\n",
              "      <td>0</td>\n",
              "      <td>4</td>\n",
              "      <td>0</td>\n",
              "      <td>4</td>\n",
              "      <td>0</td>\n",
              "      <td>2</td>\n",
              "      <td>0</td>\n",
              "    </tr>\n",
              "    <tr>\n",
              "      <th>1</th>\n",
              "      <td>0</td>\n",
              "      <td>0</td>\n",
              "      <td>0</td>\n",
              "      <td>0</td>\n",
              "      <td>0</td>\n",
              "      <td>0</td>\n",
              "      <td>0</td>\n",
              "      <td>0</td>\n",
              "      <td>0</td>\n",
              "      <td>0</td>\n",
              "      <td>...</td>\n",
              "      <td>0</td>\n",
              "      <td>0</td>\n",
              "      <td>0</td>\n",
              "      <td>0</td>\n",
              "      <td>0</td>\n",
              "      <td>0</td>\n",
              "      <td>0</td>\n",
              "      <td>0</td>\n",
              "      <td>0</td>\n",
              "      <td>0</td>\n",
              "    </tr>\n",
              "    <tr>\n",
              "      <th>2</th>\n",
              "      <td>0</td>\n",
              "      <td>0</td>\n",
              "      <td>0</td>\n",
              "      <td>0</td>\n",
              "      <td>0</td>\n",
              "      <td>0</td>\n",
              "      <td>0</td>\n",
              "      <td>0</td>\n",
              "      <td>0</td>\n",
              "      <td>0</td>\n",
              "      <td>...</td>\n",
              "      <td>0</td>\n",
              "      <td>0</td>\n",
              "      <td>0</td>\n",
              "      <td>0</td>\n",
              "      <td>0</td>\n",
              "      <td>0</td>\n",
              "      <td>0</td>\n",
              "      <td>0</td>\n",
              "      <td>0</td>\n",
              "      <td>0</td>\n",
              "    </tr>\n",
              "    <tr>\n",
              "      <th>3</th>\n",
              "      <td>0</td>\n",
              "      <td>0</td>\n",
              "      <td>0</td>\n",
              "      <td>0</td>\n",
              "      <td>0</td>\n",
              "      <td>0</td>\n",
              "      <td>0</td>\n",
              "      <td>0</td>\n",
              "      <td>0</td>\n",
              "      <td>0</td>\n",
              "      <td>...</td>\n",
              "      <td>0</td>\n",
              "      <td>0</td>\n",
              "      <td>0</td>\n",
              "      <td>0</td>\n",
              "      <td>16</td>\n",
              "      <td>0</td>\n",
              "      <td>0</td>\n",
              "      <td>0</td>\n",
              "      <td>0</td>\n",
              "      <td>0</td>\n",
              "    </tr>\n",
              "    <tr>\n",
              "      <th>4</th>\n",
              "      <td>0</td>\n",
              "      <td>0</td>\n",
              "      <td>0</td>\n",
              "      <td>0</td>\n",
              "      <td>0</td>\n",
              "      <td>0</td>\n",
              "      <td>0</td>\n",
              "      <td>0</td>\n",
              "      <td>0</td>\n",
              "      <td>0</td>\n",
              "      <td>...</td>\n",
              "      <td>0</td>\n",
              "      <td>0</td>\n",
              "      <td>0</td>\n",
              "      <td>0</td>\n",
              "      <td>2</td>\n",
              "      <td>0</td>\n",
              "      <td>0</td>\n",
              "      <td>0</td>\n",
              "      <td>0</td>\n",
              "      <td>0</td>\n",
              "    </tr>\n",
              "    <tr>\n",
              "      <th>...</th>\n",
              "      <td>...</td>\n",
              "      <td>...</td>\n",
              "      <td>...</td>\n",
              "      <td>...</td>\n",
              "      <td>...</td>\n",
              "      <td>...</td>\n",
              "      <td>...</td>\n",
              "      <td>...</td>\n",
              "      <td>...</td>\n",
              "      <td>...</td>\n",
              "      <td>...</td>\n",
              "      <td>...</td>\n",
              "      <td>...</td>\n",
              "      <td>...</td>\n",
              "      <td>...</td>\n",
              "      <td>...</td>\n",
              "      <td>...</td>\n",
              "      <td>...</td>\n",
              "      <td>...</td>\n",
              "      <td>...</td>\n",
              "      <td>...</td>\n",
              "    </tr>\n",
              "    <tr>\n",
              "      <th>115</th>\n",
              "      <td>0</td>\n",
              "      <td>0</td>\n",
              "      <td>0</td>\n",
              "      <td>0</td>\n",
              "      <td>0</td>\n",
              "      <td>0</td>\n",
              "      <td>0</td>\n",
              "      <td>1</td>\n",
              "      <td>2</td>\n",
              "      <td>0</td>\n",
              "      <td>...</td>\n",
              "      <td>0</td>\n",
              "      <td>0</td>\n",
              "      <td>0</td>\n",
              "      <td>0</td>\n",
              "      <td>5</td>\n",
              "      <td>0</td>\n",
              "      <td>3</td>\n",
              "      <td>0</td>\n",
              "      <td>0</td>\n",
              "      <td>0</td>\n",
              "    </tr>\n",
              "    <tr>\n",
              "      <th>116</th>\n",
              "      <td>0</td>\n",
              "      <td>0</td>\n",
              "      <td>0</td>\n",
              "      <td>0</td>\n",
              "      <td>0</td>\n",
              "      <td>0</td>\n",
              "      <td>0</td>\n",
              "      <td>0</td>\n",
              "      <td>0</td>\n",
              "      <td>0</td>\n",
              "      <td>...</td>\n",
              "      <td>0</td>\n",
              "      <td>0</td>\n",
              "      <td>0</td>\n",
              "      <td>0</td>\n",
              "      <td>9</td>\n",
              "      <td>0</td>\n",
              "      <td>0</td>\n",
              "      <td>0</td>\n",
              "      <td>0</td>\n",
              "      <td>0</td>\n",
              "    </tr>\n",
              "    <tr>\n",
              "      <th>117</th>\n",
              "      <td>0</td>\n",
              "      <td>0</td>\n",
              "      <td>1</td>\n",
              "      <td>0</td>\n",
              "      <td>0</td>\n",
              "      <td>0</td>\n",
              "      <td>0</td>\n",
              "      <td>0</td>\n",
              "      <td>0</td>\n",
              "      <td>0</td>\n",
              "      <td>...</td>\n",
              "      <td>0</td>\n",
              "      <td>0</td>\n",
              "      <td>0</td>\n",
              "      <td>0</td>\n",
              "      <td>7</td>\n",
              "      <td>0</td>\n",
              "      <td>4</td>\n",
              "      <td>0</td>\n",
              "      <td>0</td>\n",
              "      <td>0</td>\n",
              "    </tr>\n",
              "    <tr>\n",
              "      <th>118</th>\n",
              "      <td>0</td>\n",
              "      <td>0</td>\n",
              "      <td>0</td>\n",
              "      <td>0</td>\n",
              "      <td>0</td>\n",
              "      <td>0</td>\n",
              "      <td>0</td>\n",
              "      <td>0</td>\n",
              "      <td>0</td>\n",
              "      <td>0</td>\n",
              "      <td>...</td>\n",
              "      <td>0</td>\n",
              "      <td>0</td>\n",
              "      <td>0</td>\n",
              "      <td>0</td>\n",
              "      <td>16</td>\n",
              "      <td>0</td>\n",
              "      <td>1</td>\n",
              "      <td>0</td>\n",
              "      <td>0</td>\n",
              "      <td>0</td>\n",
              "    </tr>\n",
              "    <tr>\n",
              "      <th>119</th>\n",
              "      <td>0</td>\n",
              "      <td>0</td>\n",
              "      <td>0</td>\n",
              "      <td>0</td>\n",
              "      <td>0</td>\n",
              "      <td>0</td>\n",
              "      <td>0</td>\n",
              "      <td>0</td>\n",
              "      <td>0</td>\n",
              "      <td>0</td>\n",
              "      <td>...</td>\n",
              "      <td>0</td>\n",
              "      <td>0</td>\n",
              "      <td>0</td>\n",
              "      <td>0</td>\n",
              "      <td>5</td>\n",
              "      <td>0</td>\n",
              "      <td>0</td>\n",
              "      <td>0</td>\n",
              "      <td>0</td>\n",
              "      <td>0</td>\n",
              "    </tr>\n",
              "  </tbody>\n",
              "</table>\n",
              "<p>120 rows × 1776 columns</p>\n",
              "</div>\n",
              "      <button class=\"colab-df-convert\" onclick=\"convertToInteractive('df-a8c24000-7ec6-4b78-97ee-204a6081c6d2')\"\n",
              "              title=\"Convert this dataframe to an interactive table.\"\n",
              "              style=\"display:none;\">\n",
              "        \n",
              "  <svg xmlns=\"http://www.w3.org/2000/svg\" height=\"24px\"viewBox=\"0 0 24 24\"\n",
              "       width=\"24px\">\n",
              "    <path d=\"M0 0h24v24H0V0z\" fill=\"none\"/>\n",
              "    <path d=\"M18.56 5.44l.94 2.06.94-2.06 2.06-.94-2.06-.94-.94-2.06-.94 2.06-2.06.94zm-11 1L8.5 8.5l.94-2.06 2.06-.94-2.06-.94L8.5 2.5l-.94 2.06-2.06.94zm10 10l.94 2.06.94-2.06 2.06-.94-2.06-.94-.94-2.06-.94 2.06-2.06.94z\"/><path d=\"M17.41 7.96l-1.37-1.37c-.4-.4-.92-.59-1.43-.59-.52 0-1.04.2-1.43.59L10.3 9.45l-7.72 7.72c-.78.78-.78 2.05 0 2.83L4 21.41c.39.39.9.59 1.41.59.51 0 1.02-.2 1.41-.59l7.78-7.78 2.81-2.81c.8-.78.8-2.07 0-2.86zM5.41 20L4 18.59l7.72-7.72 1.47 1.35L5.41 20z\"/>\n",
              "  </svg>\n",
              "      </button>\n",
              "      \n",
              "  <style>\n",
              "    .colab-df-container {\n",
              "      display:flex;\n",
              "      flex-wrap:wrap;\n",
              "      gap: 12px;\n",
              "    }\n",
              "\n",
              "    .colab-df-convert {\n",
              "      background-color: #E8F0FE;\n",
              "      border: none;\n",
              "      border-radius: 50%;\n",
              "      cursor: pointer;\n",
              "      display: none;\n",
              "      fill: #1967D2;\n",
              "      height: 32px;\n",
              "      padding: 0 0 0 0;\n",
              "      width: 32px;\n",
              "    }\n",
              "\n",
              "    .colab-df-convert:hover {\n",
              "      background-color: #E2EBFA;\n",
              "      box-shadow: 0px 1px 2px rgba(60, 64, 67, 0.3), 0px 1px 3px 1px rgba(60, 64, 67, 0.15);\n",
              "      fill: #174EA6;\n",
              "    }\n",
              "\n",
              "    [theme=dark] .colab-df-convert {\n",
              "      background-color: #3B4455;\n",
              "      fill: #D2E3FC;\n",
              "    }\n",
              "\n",
              "    [theme=dark] .colab-df-convert:hover {\n",
              "      background-color: #434B5C;\n",
              "      box-shadow: 0px 1px 3px 1px rgba(0, 0, 0, 0.15);\n",
              "      filter: drop-shadow(0px 1px 2px rgba(0, 0, 0, 0.3));\n",
              "      fill: #FFFFFF;\n",
              "    }\n",
              "  </style>\n",
              "\n",
              "      <script>\n",
              "        const buttonEl =\n",
              "          document.querySelector('#df-a8c24000-7ec6-4b78-97ee-204a6081c6d2 button.colab-df-convert');\n",
              "        buttonEl.style.display =\n",
              "          google.colab.kernel.accessAllowed ? 'block' : 'none';\n",
              "\n",
              "        async function convertToInteractive(key) {\n",
              "          const element = document.querySelector('#df-a8c24000-7ec6-4b78-97ee-204a6081c6d2');\n",
              "          const dataTable =\n",
              "            await google.colab.kernel.invokeFunction('convertToInteractive',\n",
              "                                                     [key], {});\n",
              "          if (!dataTable) return;\n",
              "\n",
              "          const docLinkHtml = 'Like what you see? Visit the ' +\n",
              "            '<a target=\"_blank\" href=https://colab.research.google.com/notebooks/data_table.ipynb>data table notebook</a>'\n",
              "            + ' to learn more about interactive tables.';\n",
              "          element.innerHTML = '';\n",
              "          dataTable['output_type'] = 'display_data';\n",
              "          await google.colab.output.renderOutput(dataTable, element);\n",
              "          const docLink = document.createElement('div');\n",
              "          docLink.innerHTML = docLinkHtml;\n",
              "          element.appendChild(docLink);\n",
              "        }\n",
              "      </script>\n",
              "    </div>\n",
              "  </div>\n",
              "  "
            ]
          },
          "metadata": {},
          "execution_count": 61
        }
      ]
    },
    {
      "cell_type": "code",
      "source": [
        "sum_bow = bow_df.sum()\n",
        "sum_bow.idxmax()"
      ],
      "metadata": {
        "colab": {
          "base_uri": "https://localhost:8080/",
          "height": 35
        },
        "id": "QmHquNVGAkvo",
        "outputId": "d49bcbe6-40d9-4ba9-cf7a-f5b228c7d774"
      },
      "execution_count": null,
      "outputs": [
        {
          "output_type": "execute_result",
          "data": {
            "text/plain": [
              "'you'"
            ],
            "application/vnd.google.colaboratory.intrinsic+json": {
              "type": "string"
            }
          },
          "metadata": {},
          "execution_count": 62
        }
      ]
    },
    {
      "cell_type": "code",
      "source": [
        "word_counts = bow_df.sum()\n",
        "top_10_words = word_counts.nlargest(10)\n",
        "\n",
        "# Print the top 10 words\n",
        "print(top_10_words)"
      ],
      "metadata": {
        "colab": {
          "base_uri": "https://localhost:8080/"
        },
        "id": "5Y1UKv7iAnG5",
        "outputId": "d7689851-50f5-4f20-9990-ca42afb5ac22"
      },
      "execution_count": null,
      "outputs": [
        {
          "output_type": "stream",
          "name": "stdout",
          "text": [
            "you    994\n",
            "the    777\n",
            "and    650\n",
            "to     481\n",
            "it     458\n",
            "oh     334\n",
            "in     318\n",
            "me     314\n",
            "my     288\n",
            "on     285\n",
            "dtype: int64\n"
          ]
        }
      ]
    },
    {
      "cell_type": "markdown",
      "source": [
        "II. Text Similarity\n",
        "\n",
        "1. Similarity metrics"
      ],
      "metadata": {
        "id": "7RKXNOdPAquD"
      }
    },
    {
      "cell_type": "code",
      "source": [
        "import nltk\n",
        "import numpy as np\n",
        "import pandas as pd"
      ],
      "metadata": {
        "id": "0G-Tw1uQAu18"
      },
      "execution_count": null,
      "outputs": []
    },
    {
      "cell_type": "code",
      "source": [
        "A = \"Outside the classroom, Stallman pursued his studies with even more diligence, rushing off to fulfill his laboratory-assistant duties at Rockefeller University during the week and dodging the Vietnam protesters on his way to Saturday school at Columbia. It was there, while the rest of the Science Honors Program students sat around discussing their college choices, that Stallman finally took a moment to participate in the preclass bull session.\"\n",
        "B = \"To facilitate the process, AI Lab hackers had built a system that displayed both the source and display modes on a split screen. Despite this innovative hack, switching from mode to mode was still a nuisance.\"\n",
        "C = \"With no dorm and no dancing, Stallman's social universe imploded. Like an astronaut experiencing the aftereffects of zero-gravity, Stallman found that his ability to interact with nonhackers, especially female nonhackers, had atrophied significantly. After 16 weeks in the AI Lab, the self confidence he'd been quietly accumulating during his 4 years at Harvard was virtually gone.\""
      ],
      "metadata": {
        "id": "Pti0oS6wAw22"
      },
      "execution_count": null,
      "outputs": []
    },
    {
      "cell_type": "code",
      "source": [
        "set_A = set(A.lower().split())\n",
        "set_B = set(B.lower().split())\n",
        "set_C = set(C.lower().split())\n",
        "\n",
        "# Compute the intersection and union\n",
        "intersection_AB = len(set_A.intersection(set_B))\n",
        "union_AB = len(set_A.union(set_B))\n",
        "\n",
        "intersection_AC = len(set_A.intersection(set_C))\n",
        "union_AC = len(set_A.union(set_C))\n",
        "\n",
        "intersection_BC = len(set_B.intersection(set_C))\n",
        "union_BC = len(set_B.union(set_C))\n",
        "\n",
        "# Compute and print the Jaccard Similarity\n",
        "jaccard_AB = intersection_AB / union_AB\n",
        "jaccard_AC = intersection_AC / union_AC\n",
        "jaccard_BC = intersection_BC / union_BC\n",
        "\n",
        "print(\"Jaccard Similarity between A and B:\", jaccard_AB)\n",
        "print(\"Jaccard Similarity between A and C:\", jaccard_AC)\n",
        "print(\"Jaccard Similarity between B and C:\", jaccard_BC)"
      ],
      "metadata": {
        "colab": {
          "base_uri": "https://localhost:8080/"
        },
        "id": "sBVJG-2lBM3F",
        "outputId": "28cb1839-7fc9-4820-fe3c-a8e08e0de5a7"
      },
      "execution_count": null,
      "outputs": [
        {
          "output_type": "stream",
          "name": "stdout",
          "text": [
            "Jaccard Similarity between A and B: 0.08641975308641975\n",
            "Jaccard Similarity between A and C: 0.12631578947368421\n",
            "Jaccard Similarity between B and C: 0.0945945945945946\n"
          ]
        }
      ]
    },
    {
      "cell_type": "code",
      "source": [
        "from sklearn.feature_extraction.text import TfidfVectorizer\n",
        "from sklearn.metrics.pairwise import cosine_similarity\n",
        "# Create a TF-IDF vectorizer\n",
        "vectorizer = TfidfVectorizer()\n",
        "\n",
        "# Compute TF-IDF for sentences A, B, and C\n",
        "tfidf = vectorizer.fit_transform([A, B, C])\n",
        "\n",
        "# Calculate cosine similarities\n",
        "cosine_sim_AB = cosine_similarity(tfidf[0], tfidf[1])\n",
        "cosine_sim_BC = cosine_similarity(tfidf[1], tfidf[2])\n",
        "cosine_sim_AC = cosine_similarity(tfidf[0], tfidf[2])\n",
        "\n",
        "# Print cosine similarities\n",
        "print(\"cos(A, B):\", cosine_sim_AB)\n",
        "print(\"cos(B, C):\", cosine_sim_BC)\n",
        "print(\"cos(A, C):\", cosine_sim_AC)"
      ],
      "metadata": {
        "colab": {
          "base_uri": "https://localhost:8080/"
        },
        "id": "m-eeP-OLBPFD",
        "outputId": "268cf886-b295-476f-b134-5022f14d726d"
      },
      "execution_count": null,
      "outputs": [
        {
          "output_type": "stream",
          "name": "stdout",
          "text": [
            "cos(A, B): [[0.1679327]]\n",
            "cos(B, C): [[0.13618963]]\n",
            "cos(A, C): [[0.2850296]]\n"
          ]
        }
      ]
    },
    {
      "cell_type": "markdown",
      "source": [
        "2. TF-IDF"
      ],
      "metadata": {
        "id": "_IiyF05kBSOC"
      }
    },
    {
      "cell_type": "code",
      "source": [
        "import nltk\n",
        "import numpy as np\n",
        "import pandas as pd"
      ],
      "metadata": {
        "id": "NB3Fr5DjBT7e"
      },
      "execution_count": null,
      "outputs": []
    },
    {
      "cell_type": "code",
      "source": [
        "df=pd.read_csv(\"headlines.csv\")"
      ],
      "metadata": {
        "id": "MnOmLFesBVZB"
      },
      "execution_count": null,
      "outputs": []
    },
    {
      "cell_type": "code",
      "source": [
        "df.info()"
      ],
      "metadata": {
        "colab": {
          "base_uri": "https://localhost:8080/"
        },
        "id": "9rOw10RuBc3X",
        "outputId": "9e3d0d19-c2c9-423f-d454-36442131e2ca"
      },
      "execution_count": null,
      "outputs": [
        {
          "output_type": "stream",
          "name": "stdout",
          "text": [
            "<class 'pandas.core.frame.DataFrame'>\n",
            "RangeIndex: 1999 entries, 0 to 1998\n",
            "Data columns (total 2 columns):\n",
            " #   Column         Non-Null Count  Dtype \n",
            "---  ------         --------------  ----- \n",
            " 0   publish_date   1999 non-null   int64 \n",
            " 1   headline_text  1999 non-null   object\n",
            "dtypes: int64(1), object(1)\n",
            "memory usage: 31.4+ KB\n"
          ]
        }
      ]
    },
    {
      "cell_type": "code",
      "source": [
        "df.head(10)"
      ],
      "metadata": {
        "colab": {
          "base_uri": "https://localhost:8080/",
          "height": 363
        },
        "id": "oKGpYERGBeWy",
        "outputId": "22aac38b-3e12-4fe2-cad1-27ea9e76a11d"
      },
      "execution_count": null,
      "outputs": [
        {
          "output_type": "execute_result",
          "data": {
            "text/plain": [
              "   publish_date                                      headline_text\n",
              "0      20170721  algorithms can make decisions on behalf of fed...\n",
              "1      20170721  andrew forrests fmg to appeal pilbara native t...\n",
              "2      20170721                           a rural mural in thallan\n",
              "3      20170721  australia church risks becoming haven for abusers\n",
              "4      20170721  australian company usgfx embroiled in shanghai...\n",
              "5      20170721  australia suffers shock loss in womens world c...\n",
              "6      20170721                                           big rigs\n",
              "7      20170721  boy charged in connection with supermarket syr...\n",
              "8      20170721  breaking bad creator vince gilligan on success...\n",
              "9      20170721  breaking bad creator vince gilligan on walter ..."
            ],
            "text/html": [
              "\n",
              "  <div id=\"df-8b301432-e983-42b9-ad14-acc9ee8e11bc\">\n",
              "    <div class=\"colab-df-container\">\n",
              "      <div>\n",
              "<style scoped>\n",
              "    .dataframe tbody tr th:only-of-type {\n",
              "        vertical-align: middle;\n",
              "    }\n",
              "\n",
              "    .dataframe tbody tr th {\n",
              "        vertical-align: top;\n",
              "    }\n",
              "\n",
              "    .dataframe thead th {\n",
              "        text-align: right;\n",
              "    }\n",
              "</style>\n",
              "<table border=\"1\" class=\"dataframe\">\n",
              "  <thead>\n",
              "    <tr style=\"text-align: right;\">\n",
              "      <th></th>\n",
              "      <th>publish_date</th>\n",
              "      <th>headline_text</th>\n",
              "    </tr>\n",
              "  </thead>\n",
              "  <tbody>\n",
              "    <tr>\n",
              "      <th>0</th>\n",
              "      <td>20170721</td>\n",
              "      <td>algorithms can make decisions on behalf of fed...</td>\n",
              "    </tr>\n",
              "    <tr>\n",
              "      <th>1</th>\n",
              "      <td>20170721</td>\n",
              "      <td>andrew forrests fmg to appeal pilbara native t...</td>\n",
              "    </tr>\n",
              "    <tr>\n",
              "      <th>2</th>\n",
              "      <td>20170721</td>\n",
              "      <td>a rural mural in thallan</td>\n",
              "    </tr>\n",
              "    <tr>\n",
              "      <th>3</th>\n",
              "      <td>20170721</td>\n",
              "      <td>australia church risks becoming haven for abusers</td>\n",
              "    </tr>\n",
              "    <tr>\n",
              "      <th>4</th>\n",
              "      <td>20170721</td>\n",
              "      <td>australian company usgfx embroiled in shanghai...</td>\n",
              "    </tr>\n",
              "    <tr>\n",
              "      <th>5</th>\n",
              "      <td>20170721</td>\n",
              "      <td>australia suffers shock loss in womens world c...</td>\n",
              "    </tr>\n",
              "    <tr>\n",
              "      <th>6</th>\n",
              "      <td>20170721</td>\n",
              "      <td>big rigs</td>\n",
              "    </tr>\n",
              "    <tr>\n",
              "      <th>7</th>\n",
              "      <td>20170721</td>\n",
              "      <td>boy charged in connection with supermarket syr...</td>\n",
              "    </tr>\n",
              "    <tr>\n",
              "      <th>8</th>\n",
              "      <td>20170721</td>\n",
              "      <td>breaking bad creator vince gilligan on success...</td>\n",
              "    </tr>\n",
              "    <tr>\n",
              "      <th>9</th>\n",
              "      <td>20170721</td>\n",
              "      <td>breaking bad creator vince gilligan on walter ...</td>\n",
              "    </tr>\n",
              "  </tbody>\n",
              "</table>\n",
              "</div>\n",
              "      <button class=\"colab-df-convert\" onclick=\"convertToInteractive('df-8b301432-e983-42b9-ad14-acc9ee8e11bc')\"\n",
              "              title=\"Convert this dataframe to an interactive table.\"\n",
              "              style=\"display:none;\">\n",
              "        \n",
              "  <svg xmlns=\"http://www.w3.org/2000/svg\" height=\"24px\"viewBox=\"0 0 24 24\"\n",
              "       width=\"24px\">\n",
              "    <path d=\"M0 0h24v24H0V0z\" fill=\"none\"/>\n",
              "    <path d=\"M18.56 5.44l.94 2.06.94-2.06 2.06-.94-2.06-.94-.94-2.06-.94 2.06-2.06.94zm-11 1L8.5 8.5l.94-2.06 2.06-.94-2.06-.94L8.5 2.5l-.94 2.06-2.06.94zm10 10l.94 2.06.94-2.06 2.06-.94-2.06-.94-.94-2.06-.94 2.06-2.06.94z\"/><path d=\"M17.41 7.96l-1.37-1.37c-.4-.4-.92-.59-1.43-.59-.52 0-1.04.2-1.43.59L10.3 9.45l-7.72 7.72c-.78.78-.78 2.05 0 2.83L4 21.41c.39.39.9.59 1.41.59.51 0 1.02-.2 1.41-.59l7.78-7.78 2.81-2.81c.8-.78.8-2.07 0-2.86zM5.41 20L4 18.59l7.72-7.72 1.47 1.35L5.41 20z\"/>\n",
              "  </svg>\n",
              "      </button>\n",
              "      \n",
              "  <style>\n",
              "    .colab-df-container {\n",
              "      display:flex;\n",
              "      flex-wrap:wrap;\n",
              "      gap: 12px;\n",
              "    }\n",
              "\n",
              "    .colab-df-convert {\n",
              "      background-color: #E8F0FE;\n",
              "      border: none;\n",
              "      border-radius: 50%;\n",
              "      cursor: pointer;\n",
              "      display: none;\n",
              "      fill: #1967D2;\n",
              "      height: 32px;\n",
              "      padding: 0 0 0 0;\n",
              "      width: 32px;\n",
              "    }\n",
              "\n",
              "    .colab-df-convert:hover {\n",
              "      background-color: #E2EBFA;\n",
              "      box-shadow: 0px 1px 2px rgba(60, 64, 67, 0.3), 0px 1px 3px 1px rgba(60, 64, 67, 0.15);\n",
              "      fill: #174EA6;\n",
              "    }\n",
              "\n",
              "    [theme=dark] .colab-df-convert {\n",
              "      background-color: #3B4455;\n",
              "      fill: #D2E3FC;\n",
              "    }\n",
              "\n",
              "    [theme=dark] .colab-df-convert:hover {\n",
              "      background-color: #434B5C;\n",
              "      box-shadow: 0px 1px 3px 1px rgba(0, 0, 0, 0.15);\n",
              "      filter: drop-shadow(0px 1px 2px rgba(0, 0, 0, 0.3));\n",
              "      fill: #FFFFFF;\n",
              "    }\n",
              "  </style>\n",
              "\n",
              "      <script>\n",
              "        const buttonEl =\n",
              "          document.querySelector('#df-8b301432-e983-42b9-ad14-acc9ee8e11bc button.colab-df-convert');\n",
              "        buttonEl.style.display =\n",
              "          google.colab.kernel.accessAllowed ? 'block' : 'none';\n",
              "\n",
              "        async function convertToInteractive(key) {\n",
              "          const element = document.querySelector('#df-8b301432-e983-42b9-ad14-acc9ee8e11bc');\n",
              "          const dataTable =\n",
              "            await google.colab.kernel.invokeFunction('convertToInteractive',\n",
              "                                                     [key], {});\n",
              "          if (!dataTable) return;\n",
              "\n",
              "          const docLinkHtml = 'Like what you see? Visit the ' +\n",
              "            '<a target=\"_blank\" href=https://colab.research.google.com/notebooks/data_table.ipynb>data table notebook</a>'\n",
              "            + ' to learn more about interactive tables.';\n",
              "          element.innerHTML = '';\n",
              "          dataTable['output_type'] = 'display_data';\n",
              "          await google.colab.output.renderOutput(dataTable, element);\n",
              "          const docLink = document.createElement('div');\n",
              "          docLink.innerHTML = docLinkHtml;\n",
              "          element.appendChild(docLink);\n",
              "        }\n",
              "      </script>\n",
              "    </div>\n",
              "  </div>\n",
              "  "
            ]
          },
          "metadata": {},
          "execution_count": 72
        }
      ]
    },
    {
      "cell_type": "code",
      "source": [
        "import nltk\n",
        "nltk.download('stopwords')\n",
        "from nltk.corpus import stopwords\n",
        "from nltk.tokenize import word_tokenize\n",
        "from nltk.stem import PorterStemmer\n",
        "from sklearn.feature_extraction.text import TfidfVectorizer\n",
        "from sklearn.metrics.pairwise import cosine_similarity\n",
        "import string\n",
        "df['tokens'] = df['headline_text'].apply(lambda x: word_tokenize(x))\n",
        "\n",
        "# Remove punctuation\n",
        "df['tokens'] = df['tokens'].apply(lambda tokens: [token for token in tokens if token not in string.punctuation])\n",
        "\n",
        "# Remove stop words\n",
        "stop_words = set(stopwords.words('english'))\n",
        "df['tokens'] = df['tokens'].apply(lambda tokens: [token for token in tokens if token.lower() not in stop_words])\n",
        "\n",
        "# Stemming\n",
        "stemmer = PorterStemmer()\n",
        "df['tokens'] = df['tokens'].apply(lambda tokens: [stemmer.stem(token) for token in tokens])\n",
        "\n",
        "# Join tokens back into a single string\n",
        "df['Stem'] = df['tokens'].apply(lambda tokens: ' '.join(tokens))"
      ],
      "metadata": {
        "colab": {
          "base_uri": "https://localhost:8080/"
        },
        "id": "uVStzFnQBfu2",
        "outputId": "fb4dbf55-f0e3-4790-c26a-efa6d9af5b87"
      },
      "execution_count": null,
      "outputs": [
        {
          "output_type": "stream",
          "name": "stderr",
          "text": [
            "[nltk_data] Downloading package stopwords to /root/nltk_data...\n",
            "[nltk_data]   Package stopwords is already up-to-date!\n"
          ]
        }
      ]
    },
    {
      "cell_type": "code",
      "source": [
        "df['tokens']"
      ],
      "metadata": {
        "colab": {
          "base_uri": "https://localhost:8080/"
        },
        "id": "g2qlD7EsBh7f",
        "outputId": "99273ba8-b51b-4466-91fc-4c500f0d7f48"
      },
      "execution_count": null,
      "outputs": [
        {
          "output_type": "execute_result",
          "data": {
            "text/plain": [
              "0         [algorithm, make, decis, behalf, feder, minist]\n",
              "1       [andrew, forrest, fmg, appeal, pilbara, nativ,...\n",
              "2                                 [rural, mural, thallan]\n",
              "3                  [australia, church, risk, becom, abus]\n",
              "4       [australian, compani, usgfx, embroil, shanghai...\n",
              "                              ...                        \n",
              "1994    [constitut, avenu, win, top, prize, act, archi...\n",
              "1995                         [dark, mofo, number, crunch]\n",
              "1996    [david, petraeu, say, australia, must, firm, s...\n",
              "1997    [driverless, car, australia, face, challeng, r...\n",
              "1998               [drug, compani, criticis, price, hike]\n",
              "Name: tokens, Length: 1999, dtype: object"
            ]
          },
          "metadata": {},
          "execution_count": 74
        }
      ]
    },
    {
      "cell_type": "code",
      "source": [
        "from sklearn.feature_extraction.text import CountVectorizer\n",
        "\n",
        "vectorizer = CountVectorizer(analyzer=lambda x: x)\n",
        "\n",
        "vectorizer.fit(df['tokens'])\n",
        "bow = vectorizer.transform(df['tokens'])\n",
        "\n",
        "print(bow.shape)"
      ],
      "metadata": {
        "colab": {
          "base_uri": "https://localhost:8080/"
        },
        "id": "gOY-486jBjXt",
        "outputId": "bc1ccfe1-a46d-4c18-a5e6-0f51fedfc921"
      },
      "execution_count": null,
      "outputs": [
        {
          "output_type": "stream",
          "name": "stdout",
          "text": [
            "(1999, 4271)\n"
          ]
        }
      ]
    },
    {
      "cell_type": "code",
      "source": [
        "from sklearn.feature_extraction.text import TfidfVectorizer\n",
        "\n",
        "\n",
        "vectorizer = TfidfVectorizer(analyzer=lambda x: x)\n",
        "\n",
        "vectorizer.fit(df['Stem'])\n",
        "\n",
        "\n",
        "tfidf = vectorizer.transform(df['Stem'])\n",
        "\n",
        "tfidf_array = tfidf.toarray()\n",
        "\n",
        "all_zeros = (tfidf_array == 0).all()\n",
        "\n",
        "if not all_zeros:\n",
        "    print(tfidf_array[0])"
      ],
      "metadata": {
        "colab": {
          "base_uri": "https://localhost:8080/"
        },
        "id": "0IaFP9snBk7p",
        "outputId": "361b74f5-036b-4345-c623-9311dfc1c834"
      },
      "execution_count": null,
      "outputs": [
        {
          "output_type": "stream",
          "name": "stdout",
          "text": [
            "[0.3943827  0.         0.         0.         0.         0.\n",
            " 0.         0.         0.         0.         0.         0.\n",
            " 0.24444796 0.12987231 0.10011226 0.21470886 0.40884261 0.29023513\n",
            " 0.12972179 0.23484967 0.34095845 0.         0.15309538 0.18376484\n",
            " 0.32930567 0.08609939 0.08749485 0.         0.         0.16659404\n",
            " 0.18357889 0.17297874 0.         0.         0.         0.\n",
            " 0.         0.        ]\n"
          ]
        }
      ]
    },
    {
      "cell_type": "code",
      "source": [
        "import numpy as np\n",
        "from sklearn.feature_extraction.text import TfidfVectorizer\n",
        "\n",
        "\n",
        "vectorizer = TfidfVectorizer(analyzer=lambda x: x)\n",
        "\n",
        "\n",
        "vectorizer.fit(df['tokens'])\n",
        "\n",
        "\n",
        "tfidf = vectorizer.transform(df['tokens'])\n",
        "\n",
        "\n",
        "tfidf_array = tfidf.toarray()\n",
        "\n",
        "\n",
        "average_tfidf = np.mean(tfidf_array, axis=0)\n",
        "\n",
        "\n",
        "highest_indices = np.argsort(-average_tfidf)[:10]  # Use negative sign for descending order\n",
        "lowest_indices = np.argsort(average_tfidf)[:10]\n",
        "\n",
        "feature_names = vectorizer.get_feature_names_out()\n",
        "\n",
        "\n",
        "print(\"Words with the highest average TF-IDF:\")\n",
        "for index in highest_indices:\n",
        "    print(feature_names[index], average_tfidf[index])\n",
        "\n",
        "\n",
        "print(\"\\nWords with the lowest average TF-IDF:\")\n",
        "for index in lowest_indices:\n",
        "    print(feature_names[index], average_tfidf[index])"
      ],
      "metadata": {
        "colab": {
          "base_uri": "https://localhost:8080/"
        },
        "id": "3U1-SpEPBnCt",
        "outputId": "0107d43d-91d0-490d-b20c-810a4e97d838"
      },
      "execution_count": null,
      "outputs": [
        {
          "output_type": "stream",
          "name": "stdout",
          "text": [
            "Words with the highest average TF-IDF:\n",
            "australia 0.009983014998891405\n",
            "australian 0.00969733014866161\n",
            "new 0.008703107457097207\n",
            "polic 0.0077360592047481126\n",
            "say 0.007540459757782178\n",
            "trump 0.006840891998202155\n",
            "man 0.006548453421337382\n",
            "wa 0.006274671593818188\n",
            "charg 0.006028832916829903\n",
            "sydney 0.0056424159732095394\n",
            "\n",
            "Words with the lowest average TF-IDF:\n",
            "nmfc 0.0001527054029533165\n",
            "coll 0.0001527054029533165\n",
            "melb 0.0001527054029533165\n",
            "haw 0.0001527054029533165\n",
            "adel 0.0001527054029533165\n",
            "syd 0.0001527054029533165\n",
            "gcfc 0.0001527054029533165\n",
            "gw 0.0001527054029533165\n",
            "geel 0.0001527054029533165\n",
            "fabio 0.0001613676677950104\n"
          ]
        }
      ]
    },
    {
      "cell_type": "code",
      "source": [
        "from sklearn.feature_extraction.text import TfidfVectorizer\n",
        "\n",
        "documents = df['tokens'].apply(lambda x: ' '.join(x))\n",
        "vectorizer = TfidfVectorizer()\n",
        "tfidf = vectorizer.fit_transform(documents)"
      ],
      "metadata": {
        "id": "NXkOrQNJBrap"
      },
      "execution_count": null,
      "outputs": []
    },
    {
      "cell_type": "code",
      "source": [
        "import numpy as np\n",
        "\n",
        "# Assuming you have computed the TF-IDF representation and stored it in 'tfidf'\n",
        "\n",
        "# Compute the average TF-IDF values for each feature (word)\n",
        "average_tfidf = np.mean(tfidf.toarray(), axis=0)\n",
        "\n",
        "# Get the indices of the words with the highest and lowest average TF-IDF values\n",
        "highest_indices = np.argsort(-average_tfidf)[:10]  # Use negative sign for descending order\n",
        "lowest_indices = np.argsort(average_tfidf)[:10]\n",
        "\n",
        "# Get the feature names (words) from the vectorizer\n",
        "feature_names = vectorizer.get_feature_names_out()\n",
        "\n",
        "# Print the words with the highest average TF-IDF values\n",
        "print(\"Words with the highest average TF-IDF:\")\n",
        "for index in highest_indices:\n",
        "    print(feature_names[index], average_tfidf[index])\n",
        "\n",
        "# Print the words with the lowest average TF-IDF values\n",
        "print(\"\\nWords with the lowest average TF-IDF:\")\n",
        "for index in lowest_indices:\n",
        "    print(feature_names[index], average_tfidf[index])"
      ],
      "metadata": {
        "colab": {
          "base_uri": "https://localhost:8080/"
        },
        "id": "1ZZV6sXLBsUK",
        "outputId": "2c4d7478-6503-4d93-e710-e33c1c6d1417"
      },
      "execution_count": null,
      "outputs": [
        {
          "output_type": "stream",
          "name": "stdout",
          "text": [
            "Words with the highest average TF-IDF:\n",
            "australia 0.009983014998891405\n",
            "australian 0.009729510942149733\n",
            "new 0.008703107457097207\n",
            "polic 0.007736059204748111\n",
            "say 0.007555848605072935\n",
            "trump 0.006840891998202155\n",
            "man 0.006548453421337382\n",
            "wa 0.006274671593818188\n",
            "charg 0.006028832916829904\n",
            "sydney 0.005659788840016151\n",
            "\n",
            "Words with the lowest average TF-IDF:\n",
            "adel 0.0001527054029533165\n",
            "melb 0.0001527054029533165\n",
            "haw 0.0001527054029533165\n",
            "coll 0.0001527054029533165\n",
            "gw 0.0001527054029533165\n",
            "syd 0.0001527054029533165\n",
            "gcfc 0.0001527054029533165\n",
            "nmfc 0.0001527054029533165\n",
            "geel 0.0001527054029533165\n",
            "fabio 0.00016136766779501044\n"
          ]
        }
      ]
    },
    {
      "cell_type": "markdown",
      "source": [
        "3. Plagiarism checker"
      ],
      "metadata": {
        "id": "EpMMIznFBu_2"
      }
    },
    {
      "cell_type": "code",
      "source": [
        "file = open('A1.txt', 'r') \n",
        "A1 = file.readlines()[0]\n",
        "\n",
        "file = open('Asource.txt', 'r') \n",
        "A0 = file.readlines()[0]\n",
        "\n",
        "file = open('B1.txt', 'r') \n",
        "B1 = file.readlines()[0]\n",
        "\n",
        "file = open('Bsource.txt', 'r') \n",
        "B0 = file.readlines()[0]\n",
        "\n",
        "file = open('C1.txt', 'r') \n",
        "C1 = file.readlines()[0]\n",
        "\n",
        "file = open('Csource.txt', 'r') \n",
        "C0 = file.readlines()[0]\n",
        "\n",
        "file = open('D1.txt', 'r') \n",
        "D1 = file.readlines()[0]\n",
        "\n",
        "file = open('D2.txt', 'r') \n",
        "D2 = file.readlines()[0]\n",
        "\n",
        "file = open('Dsource.txt', 'r') \n",
        "D0 = file.readlines()[0]\n"
      ],
      "metadata": {
        "id": "d9OHm_erBwoF"
      },
      "execution_count": null,
      "outputs": []
    },
    {
      "cell_type": "code",
      "source": [
        "C0"
      ],
      "metadata": {
        "colab": {
          "base_uri": "https://localhost:8080/",
          "height": 87
        },
        "id": "e4wjl-WtCCnt",
        "outputId": "6c9c439c-795c-48e1-c06d-aa0cf3a65b47"
      },
      "execution_count": null,
      "outputs": [
        {
          "output_type": "execute_result",
          "data": {
            "text/plain": [
              "'Descartes has been heralded as the first modern philosopher. He is famous for having made an important connection between geometry and algebra, which allowed for the solving of geometrical problems by way of algebraic equations. He is also famous for having promoted a new conception of matter, which allowed for the accounting of physical phenomena by way of mechanical explanations. However, he is most famous for having written a relatively short work, Meditationes de Prima Philosophia (Meditations On First Philosophy), published in 1641, in which he provides a philosophical groundwork for the possibility of the sciences. (Smith, 2007).\\n'"
            ],
            "application/vnd.google.colaboratory.intrinsic+json": {
              "type": "string"
            }
          },
          "metadata": {},
          "execution_count": 81
        }
      ]
    },
    {
      "cell_type": "code",
      "source": [
        "alldata = [A0, A1, B0, B1, C0, C1, D0, D1, D2]"
      ],
      "metadata": {
        "id": "PR5WjgLoCEBR"
      },
      "execution_count": null,
      "outputs": []
    },
    {
      "cell_type": "code",
      "source": [
        "from sklearn.feature_extraction.text import TfidfVectorizer\n",
        "\n",
        "tfvect = TfidfVectorizer()\n",
        "tfvect.fit(alldata)\n",
        "\n",
        "\n",
        "tfidf = tfvect.fit_transform(alldata).toarray()\n",
        "# Compute the TF-IDF representation for each document\n",
        "TFIDFA = tfvect.transform([A0, A1]).toarray()\n",
        "TFIDFB = tfvect.transform([B0, B1]).toarray()\n",
        "TFIDFC = tfvect.transform([C0, C1]).toarray()\n",
        "TFIDFD = tfvect.transform([D0, D1, D2]).toarray()"
      ],
      "metadata": {
        "id": "OCAO8kevCFgQ"
      },
      "execution_count": null,
      "outputs": []
    },
    {
      "cell_type": "code",
      "source": [
        "from sklearn.metrics.pairwise import cosine_similarity\n",
        "\n",
        "# Compute pairwise similarity for document A\n",
        "similarityAA = cosine_similarity(TFIDFA, TFIDFA)\n",
        "\n",
        "# Compute pairwise similarity for document B\n",
        "similarityBB = cosine_similarity(TFIDFB, TFIDFB)\n",
        "\n",
        "# Compute pairwise similarity for document C\n",
        "similarityCC = cosine_similarity(TFIDFC, TFIDFC)\n",
        "\n",
        "# Compute pairwise similarity for document D\n",
        "similarityDD = cosine_similarity(TFIDFD, TFIDFD)\n",
        "\n",
        "# Compute pairwise similarity for all documents\n",
        "similarityAll = cosine_similarity(tfidf, tfidf)"
      ],
      "metadata": {
        "id": "AqSgQkkWCHl9"
      },
      "execution_count": null,
      "outputs": []
    },
    {
      "cell_type": "code",
      "source": [
        "similarityAA"
      ],
      "metadata": {
        "colab": {
          "base_uri": "https://localhost:8080/"
        },
        "id": "kt0ij8ylCJL8",
        "outputId": "be32ef16-a3ac-4787-e8e9-21a0af88d11a"
      },
      "execution_count": null,
      "outputs": [
        {
          "output_type": "execute_result",
          "data": {
            "text/plain": [
              "array([[1.        , 0.81898863],\n",
              "       [0.81898863, 1.        ]])"
            ]
          },
          "metadata": {},
          "execution_count": 85
        }
      ]
    },
    {
      "cell_type": "code",
      "source": [
        "similarityBB"
      ],
      "metadata": {
        "colab": {
          "base_uri": "https://localhost:8080/"
        },
        "id": "OTn9H1uOCKkn",
        "outputId": "b5b7b235-d26f-4e85-902d-c08e8f809a23"
      },
      "execution_count": null,
      "outputs": [
        {
          "output_type": "execute_result",
          "data": {
            "text/plain": [
              "array([[1.        , 0.63747903],\n",
              "       [0.63747903, 1.        ]])"
            ]
          },
          "metadata": {},
          "execution_count": 86
        }
      ]
    },
    {
      "cell_type": "code",
      "source": [
        "similarityCC"
      ],
      "metadata": {
        "colab": {
          "base_uri": "https://localhost:8080/"
        },
        "id": "IGnEGqjnCL1L",
        "outputId": "9362ca97-3849-404a-c10f-0c9f94fd2e05"
      },
      "execution_count": null,
      "outputs": [
        {
          "output_type": "execute_result",
          "data": {
            "text/plain": [
              "array([[1.        , 0.85723864],\n",
              "       [0.85723864, 1.        ]])"
            ]
          },
          "metadata": {},
          "execution_count": 87
        }
      ]
    },
    {
      "cell_type": "code",
      "source": [
        "similarityDD"
      ],
      "metadata": {
        "colab": {
          "base_uri": "https://localhost:8080/"
        },
        "id": "C4igwey5CNhv",
        "outputId": "fffee3a1-acdf-4147-a793-d56a5a97b7c4"
      },
      "execution_count": null,
      "outputs": [
        {
          "output_type": "execute_result",
          "data": {
            "text/plain": [
              "array([[1.        , 0.92754461, 0.45775827],\n",
              "       [0.92754461, 1.        , 0.47179638],\n",
              "       [0.45775827, 0.47179638, 1.        ]])"
            ]
          },
          "metadata": {},
          "execution_count": 88
        }
      ]
    },
    {
      "cell_type": "code",
      "source": [
        "similarityAll"
      ],
      "metadata": {
        "colab": {
          "base_uri": "https://localhost:8080/"
        },
        "id": "zHA-JalICOxR",
        "outputId": "f83c2480-4550-401b-a85f-65f5d506547a"
      },
      "execution_count": null,
      "outputs": [
        {
          "output_type": "execute_result",
          "data": {
            "text/plain": [
              "array([[1.        , 0.81898863, 0.10748497, 0.12736224, 0.24491604,\n",
              "        0.29501242, 0.2530779 , 0.2146434 , 0.18585492],\n",
              "       [0.81898863, 1.        , 0.10940658, 0.12644471, 0.21239125,\n",
              "        0.25583485, 0.214717  , 0.17937458, 0.16807197],\n",
              "       [0.10748497, 0.10940658, 1.        , 0.63747903, 0.08804551,\n",
              "        0.09372089, 0.08509508, 0.07946359, 0.10627147],\n",
              "       [0.12736224, 0.12644471, 0.63747903, 1.        , 0.08730757,\n",
              "        0.08893992, 0.12527568, 0.1207279 , 0.12910021],\n",
              "       [0.24491604, 0.21239125, 0.08804551, 0.08730757, 1.        ,\n",
              "        0.85723864, 0.20151171, 0.16200275, 0.14447728],\n",
              "       [0.29501242, 0.25583485, 0.09372089, 0.08893992, 0.85723864,\n",
              "        1.        , 0.22326634, 0.1806631 , 0.1558733 ],\n",
              "       [0.2530779 , 0.214717  , 0.08509508, 0.12527568, 0.20151171,\n",
              "        0.22326634, 1.        , 0.92754461, 0.45775827],\n",
              "       [0.2146434 , 0.17937458, 0.07946359, 0.1207279 , 0.16200275,\n",
              "        0.1806631 , 0.92754461, 1.        , 0.47179638],\n",
              "       [0.18585492, 0.16807197, 0.10627147, 0.12910021, 0.14447728,\n",
              "        0.1558733 , 0.45775827, 0.47179638, 1.        ]])"
            ]
          },
          "metadata": {},
          "execution_count": 89
        }
      ]
    },
    {
      "cell_type": "code",
      "source": [
        "import matplotlib.pyplot as plt\n",
        "pred_plagiarism = similarityAll>0.2\n",
        "# Function to plot the pairwise similarity matrix\n",
        "def plot_similarity(similarity_matrix):\n",
        "    plt.figure(figsize=(8, 6))\n",
        "    plt.imshow(similarity_matrix, cmap='hot', interpolation='nearest')\n",
        "    plt.colorbar()\n",
        "    plt.title('Pairwise Similarity')\n",
        "    plt.xlabel('Document Index')\n",
        "    plt.ylabel('Document Index')\n",
        "    plt.show()\n",
        "\n",
        "\n",
        "\n",
        "# Plot the pairwise similarity for all documents\n",
        "plot_similarity(similarityAll)"
      ],
      "metadata": {
        "colab": {
          "base_uri": "https://localhost:8080/",
          "height": 564
        },
        "id": "S2hyFzlVCQRd",
        "outputId": "73cc4f48-b265-4cc7-ea2d-80749f52ba2f"
      },
      "execution_count": null,
      "outputs": [
        {
          "output_type": "display_data",
          "data": {
            "text/plain": [
              "<Figure size 800x600 with 2 Axes>"
            ],
            "image/png": "[encoded data removed]"
          },
          "metadata": {}
        }
      ]
    },
    {
      "cell_type": "code",
      "source": [
        "import numpy as np\n",
        "\n",
        "# Initialize the true labels matrix\n",
        "real_plagiarism = np.zeros((9, 9))\n",
        "\n",
        "# Set the true labels for plagiarized pairs\n",
        "real_plagiarism[0:2, 0:2] = 1  # A0 and A1 are plagiarized\n",
        "real_plagiarism[2:4, 2:4] = 1  # B0 and B1 are plagiarized\n",
        "real_plagiarism[4:6, 4:6] = 1  # C0 and C1 are plagiarized\n",
        "real_plagiarism[6:9, 6:9] = 1  # D0, D1, and D2 are plagiarized\n",
        "\n",
        "# Print the true labels matrix\n",
        "print(real_plagiarism)"
      ],
      "metadata": {
        "colab": {
          "base_uri": "https://localhost:8080/"
        },
        "id": "hs24vf9xCSUa",
        "outputId": "e2c5774e-4753-4856-ea39-5eafb0d12380"
      },
      "execution_count": null,
      "outputs": [
        {
          "output_type": "stream",
          "name": "stdout",
          "text": [
            "[[1. 1. 0. 0. 0. 0. 0. 0. 0.]\n",
            " [1. 1. 0. 0. 0. 0. 0. 0. 0.]\n",
            " [0. 0. 1. 1. 0. 0. 0. 0. 0.]\n",
            " [0. 0. 1. 1. 0. 0. 0. 0. 0.]\n",
            " [0. 0. 0. 0. 1. 1. 0. 0. 0.]\n",
            " [0. 0. 0. 0. 1. 1. 0. 0. 0.]\n",
            " [0. 0. 0. 0. 0. 0. 1. 1. 1.]\n",
            " [0. 0. 0. 0. 0. 0. 1. 1. 1.]\n",
            " [0. 0. 0. 0. 0. 0. 1. 1. 1.]]\n"
          ]
        }
      ]
    },
    {
      "cell_type": "code",
      "source": [
        "import matplotlib.pyplot as plt\n",
        "plt.imshow(real_plagiarism)\n",
        "plt.show()"
      ],
      "metadata": {
        "colab": {
          "base_uri": "https://localhost:8080/",
          "height": 430
        },
        "id": "JgzhxN69CUL5",
        "outputId": "6d574c7c-8b43-4c7c-edaa-bcf05b7676f1"
      },
      "execution_count": null,
      "outputs": [
        {
          "output_type": "display_data",
          "data": {
            "text/plain": [
              "<Figure size 640x480 with 1 Axes>"
            ],
            "image/png": "[encoded data removed]"
          },
          "metadata": {}
        }
      ]
    },
    {
      "cell_type": "code",
      "source": [
        "from sklearn.metrics import accuracy_score\n",
        "\n",
        "# Convert similarity matrix to binary predictions\n",
        "threshold = 0.5\n",
        "binary_predictions_All = (similarityAll > threshold).astype(int).flatten()\n",
        "\n",
        "# Convert true labels matrix to binary labels\n",
        "true_labels = real_plagiarism.flatten()\n",
        "\n",
        "# Compute accuracy score\n",
        "accuracy_All = accuracy_score(true_labels, binary_predictions_All)\n",
        "\n",
        "print(\"Accuracy for All Documents:\", accuracy_All)"
      ],
      "metadata": {
        "colab": {
          "base_uri": "https://localhost:8080/"
        },
        "id": "OavspRg3CVvg",
        "outputId": "2a5facb9-30b6-4de1-e9b2-42b04dfc1cff"
      },
      "execution_count": null,
      "outputs": [
        {
          "output_type": "stream",
          "name": "stdout",
          "text": [
            "Accuracy for All Documents: 0.9506172839506173\n"
          ]
        }
      ]
    },
    {
      "cell_type": "markdown",
      "source": [
        "III. Text Classification"
      ],
      "metadata": {
        "id": "H8bVQx59CYu4"
      }
    },
    {
      "cell_type": "code",
      "source": [
        "import nltk\n",
        "import numpy as np\n",
        "import pandas as pd\n",
        "from sklearn.feature_extraction.text import CountVectorizer"
      ],
      "metadata": {
        "id": "y081hh1WCgau"
      },
      "execution_count": null,
      "outputs": []
    },
    {
      "cell_type": "code",
      "source": [
        "df = pd.read_csv('spam.csv', encoding='latin-1')\n",
        "\n",
        "print(df.head())"
      ],
      "metadata": {
        "colab": {
          "base_uri": "https://localhost:8080/"
        },
        "id": "ENfLgI_fCiFc",
        "outputId": "4a927689-47e3-4d10-f091-fbf102288943"
      },
      "execution_count": null,
      "outputs": [
        {
          "output_type": "stream",
          "name": "stdout",
          "text": [
            "  Class                                            Message\n",
            "0   ham  Go until jurong point, crazy.. Available only ...\n",
            "1   ham                      Ok lar... Joking wif u oni...\n",
            "2  spam  Free entry in 2 a wkly comp to win FA Cup fina...\n",
            "3   ham  U dun say so early hor... U c already then say...\n",
            "4   ham  Nah I don't think he goes to usf, he lives aro...\n"
          ]
        }
      ]
    },
    {
      "cell_type": "code",
      "source": [
        "df.info()"
      ],
      "metadata": {
        "colab": {
          "base_uri": "https://localhost:8080/"
        },
        "id": "QvARVVbZCq7n",
        "outputId": "64cbb973-198d-4b68-a6d2-56eabce241df"
      },
      "execution_count": null,
      "outputs": [
        {
          "output_type": "stream",
          "name": "stdout",
          "text": [
            "<class 'pandas.core.frame.DataFrame'>\n",
            "RangeIndex: 5572 entries, 0 to 5571\n",
            "Data columns (total 2 columns):\n",
            " #   Column   Non-Null Count  Dtype \n",
            "---  ------   --------------  ----- \n",
            " 0   Class    5572 non-null   object\n",
            " 1   Message  5572 non-null   object\n",
            "dtypes: object(2)\n",
            "memory usage: 87.2+ KB\n"
          ]
        }
      ]
    },
    {
      "cell_type": "code",
      "source": [
        "df.head(10)"
      ],
      "metadata": {
        "colab": {
          "base_uri": "https://localhost:8080/",
          "height": 363
        },
        "id": "MsQgQb3eCuB4",
        "outputId": "69c02308-43c1-4e00-b756-bb4c53ed6c4e"
      },
      "execution_count": null,
      "outputs": [
        {
          "output_type": "execute_result",
          "data": {
            "text/plain": [
              "  Class                                            Message\n",
              "0   ham  Go until jurong point, crazy.. Available only ...\n",
              "1   ham                      Ok lar... Joking wif u oni...\n",
              "2  spam  Free entry in 2 a wkly comp to win FA Cup fina...\n",
              "3   ham  U dun say so early hor... U c already then say...\n",
              "4   ham  Nah I don't think he goes to usf, he lives aro...\n",
              "5  spam  FreeMsg Hey there darling it's been 3 week's n...\n",
              "6   ham  Even my brother is not like to speak with me. ...\n",
              "7   ham  As per your request 'Melle Melle (Oru Minnamin...\n",
              "8  spam  WINNER!! As a valued network customer you have...\n",
              "9  spam  Had your mobile 11 months or more? U R entitle..."
            ],
            "text/html": [
              "\n",
              "  <div id=\"df-4b798ab3-d1dd-46b0-8d4b-3c84e1bf77c2\">\n",
              "    <div class=\"colab-df-container\">\n",
              "      <div>\n",
              "<style scoped>\n",
              "    .dataframe tbody tr th:only-of-type {\n",
              "        vertical-align: middle;\n",
              "    }\n",
              "\n",
              "    .dataframe tbody tr th {\n",
              "        vertical-align: top;\n",
              "    }\n",
              "\n",
              "    .dataframe thead th {\n",
              "        text-align: right;\n",
              "    }\n",
              "</style>\n",
              "<table border=\"1\" class=\"dataframe\">\n",
              "  <thead>\n",
              "    <tr style=\"text-align: right;\">\n",
              "      <th></th>\n",
              "      <th>Class</th>\n",
              "      <th>Message</th>\n",
              "    </tr>\n",
              "  </thead>\n",
              "  <tbody>\n",
              "    <tr>\n",
              "      <th>0</th>\n",
              "      <td>ham</td>\n",
              "      <td>Go until jurong point, crazy.. Available only ...</td>\n",
              "    </tr>\n",
              "    <tr>\n",
              "      <th>1</th>\n",
              "      <td>ham</td>\n",
              "      <td>Ok lar... Joking wif u oni...</td>\n",
              "    </tr>\n",
              "    <tr>\n",
              "      <th>2</th>\n",
              "      <td>spam</td>\n",
              "      <td>Free entry in 2 a wkly comp to win FA Cup fina...</td>\n",
              "    </tr>\n",
              "    <tr>\n",
              "      <th>3</th>\n",
              "      <td>ham</td>\n",
              "      <td>U dun say so early hor... U c already then say...</td>\n",
              "    </tr>\n",
              "    <tr>\n",
              "      <th>4</th>\n",
              "      <td>ham</td>\n",
              "      <td>Nah I don't think he goes to usf, he lives aro...</td>\n",
              "    </tr>\n",
              "    <tr>\n",
              "      <th>5</th>\n",
              "      <td>spam</td>\n",
              "      <td>FreeMsg Hey there darling it's been 3 week's n...</td>\n",
              "    </tr>\n",
              "    <tr>\n",
              "      <th>6</th>\n",
              "      <td>ham</td>\n",
              "      <td>Even my brother is not like to speak with me. ...</td>\n",
              "    </tr>\n",
              "    <tr>\n",
              "      <th>7</th>\n",
              "      <td>ham</td>\n",
              "      <td>As per your request 'Melle Melle (Oru Minnamin...</td>\n",
              "    </tr>\n",
              "    <tr>\n",
              "      <th>8</th>\n",
              "      <td>spam</td>\n",
              "      <td>WINNER!! As a valued network customer you have...</td>\n",
              "    </tr>\n",
              "    <tr>\n",
              "      <th>9</th>\n",
              "      <td>spam</td>\n",
              "      <td>Had your mobile 11 months or more? U R entitle...</td>\n",
              "    </tr>\n",
              "  </tbody>\n",
              "</table>\n",
              "</div>\n",
              "      <button class=\"colab-df-convert\" onclick=\"convertToInteractive('df-4b798ab3-d1dd-46b0-8d4b-3c84e1bf77c2')\"\n",
              "              title=\"Convert this dataframe to an interactive table.\"\n",
              "              style=\"display:none;\">\n",
              "        \n",
              "  <svg xmlns=\"http://www.w3.org/2000/svg\" height=\"24px\"viewBox=\"0 0 24 24\"\n",
              "       width=\"24px\">\n",
              "    <path d=\"M0 0h24v24H0V0z\" fill=\"none\"/>\n",
              "    <path d=\"M18.56 5.44l.94 2.06.94-2.06 2.06-.94-2.06-.94-.94-2.06-.94 2.06-2.06.94zm-11 1L8.5 8.5l.94-2.06 2.06-.94-2.06-.94L8.5 2.5l-.94 2.06-2.06.94zm10 10l.94 2.06.94-2.06 2.06-.94-2.06-.94-.94-2.06-.94 2.06-2.06.94z\"/><path d=\"M17.41 7.96l-1.37-1.37c-.4-.4-.92-.59-1.43-.59-.52 0-1.04.2-1.43.59L10.3 9.45l-7.72 7.72c-.78.78-.78 2.05 0 2.83L4 21.41c.39.39.9.59 1.41.59.51 0 1.02-.2 1.41-.59l7.78-7.78 2.81-2.81c.8-.78.8-2.07 0-2.86zM5.41 20L4 18.59l7.72-7.72 1.47 1.35L5.41 20z\"/>\n",
              "  </svg>\n",
              "      </button>\n",
              "      \n",
              "  <style>\n",
              "    .colab-df-container {\n",
              "      display:flex;\n",
              "      flex-wrap:wrap;\n",
              "      gap: 12px;\n",
              "    }\n",
              "\n",
              "    .colab-df-convert {\n",
              "      background-color: #E8F0FE;\n",
              "      border: none;\n",
              "      border-radius: 50%;\n",
              "      cursor: pointer;\n",
              "      display: none;\n",
              "      fill: #1967D2;\n",
              "      height: 32px;\n",
              "      padding: 0 0 0 0;\n",
              "      width: 32px;\n",
              "    }\n",
              "\n",
              "    .colab-df-convert:hover {\n",
              "      background-color: #E2EBFA;\n",
              "      box-shadow: 0px 1px 2px rgba(60, 64, 67, 0.3), 0px 1px 3px 1px rgba(60, 64, 67, 0.15);\n",
              "      fill: #174EA6;\n",
              "    }\n",
              "\n",
              "    [theme=dark] .colab-df-convert {\n",
              "      background-color: #3B4455;\n",
              "      fill: #D2E3FC;\n",
              "    }\n",
              "\n",
              "    [theme=dark] .colab-df-convert:hover {\n",
              "      background-color: #434B5C;\n",
              "      box-shadow: 0px 1px 3px 1px rgba(0, 0, 0, 0.15);\n",
              "      filter: drop-shadow(0px 1px 2px rgba(0, 0, 0, 0.3));\n",
              "      fill: #FFFFFF;\n",
              "    }\n",
              "  </style>\n",
              "\n",
              "      <script>\n",
              "        const buttonEl =\n",
              "          document.querySelector('#df-4b798ab3-d1dd-46b0-8d4b-3c84e1bf77c2 button.colab-df-convert');\n",
              "        buttonEl.style.display =\n",
              "          google.colab.kernel.accessAllowed ? 'block' : 'none';\n",
              "\n",
              "        async function convertToInteractive(key) {\n",
              "          const element = document.querySelector('#df-4b798ab3-d1dd-46b0-8d4b-3c84e1bf77c2');\n",
              "          const dataTable =\n",
              "            await google.colab.kernel.invokeFunction('convertToInteractive',\n",
              "                                                     [key], {});\n",
              "          if (!dataTable) return;\n",
              "\n",
              "          const docLinkHtml = 'Like what you see? Visit the ' +\n",
              "            '<a target=\"_blank\" href=https://colab.research.google.com/notebooks/data_table.ipynb>data table notebook</a>'\n",
              "            + ' to learn more about interactive tables.';\n",
              "          element.innerHTML = '';\n",
              "          dataTable['output_type'] = 'display_data';\n",
              "          await google.colab.output.renderOutput(dataTable, element);\n",
              "          const docLink = document.createElement('div');\n",
              "          docLink.innerHTML = docLinkHtml;\n",
              "          element.appendChild(docLink);\n",
              "        }\n",
              "      </script>\n",
              "    </div>\n",
              "  </div>\n",
              "  "
            ]
          },
          "metadata": {},
          "execution_count": 97
        }
      ]
    },
    {
      "cell_type": "code",
      "source": [
        "import nltk\n",
        "from nltk.tokenize import word_tokenize\n",
        "from nltk.corpus import stopwords\n",
        "from nltk.stem import PorterStemmer\n",
        "\n",
        "# Download NLTK resources\n",
        "nltk.download('punkt')\n",
        "nltk.download('stopwords')\n",
        "\n",
        "# Define the preprocess_text function\n",
        "def preprocess_text(text):\n",
        "    # Tokenization\n",
        "    tokens = word_tokenize(text)\n",
        "    \n",
        "    # Lowercasing\n",
        "    tokens_lower = [token.lower() for token in tokens]\n",
        "    \n",
        "    # Stopword Removal\n",
        "    stop_words = set(stopwords.words('english'))  # Specify 'latin-1' stopwords\n",
        "    tokens_no_stopwords = [token for token in tokens_lower if token not in stop_words]\n",
        "    \n",
        "    # Stemming\n",
        "    stemmer = PorterStemmer()\n",
        "    tokens_stemmed = [stemmer.stem(token) for token in tokens_no_stopwords]\n",
        "    \n",
        "    # Return preprocessed tokens as a string\n",
        "    return ' '.join(tokens_stemmed)\n",
        "\n",
        "df['preprocessed_text'] = df['Message'].apply(preprocess_text)"
      ],
      "metadata": {
        "colab": {
          "base_uri": "https://localhost:8080/"
        },
        "id": "wFbaTQMYCv9G",
        "outputId": "e7d97e19-637f-4735-8b7f-640d46abe278"
      },
      "execution_count": null,
      "outputs": [
        {
          "output_type": "stream",
          "name": "stderr",
          "text": [
            "[nltk_data] Downloading package punkt to /root/nltk_data...\n",
            "[nltk_data]   Package punkt is already up-to-date!\n",
            "[nltk_data] Downloading package stopwords to /root/nltk_data...\n",
            "[nltk_data]   Package stopwords is already up-to-date!\n"
          ]
        }
      ]
    },
    {
      "cell_type": "code",
      "source": [
        "df['preprocessed_text']"
      ],
      "metadata": {
        "colab": {
          "base_uri": "https://localhost:8080/"
        },
        "id": "QF6r5h6TCzIK",
        "outputId": "24c63f0e-7aaf-42c6-a7bf-19f056d5dc4d"
      },
      "execution_count": null,
      "outputs": [
        {
          "output_type": "execute_result",
          "data": {
            "text/plain": [
              "0       go jurong point , crazi .. avail bugi n great ...\n",
              "1                           ok lar ... joke wif u oni ...\n",
              "2       free entri 2 wkli comp win fa cup final tkt 21...\n",
              "3             u dun say earli hor ... u c alreadi say ...\n",
              "4              nah n't think goe usf , live around though\n",
              "                              ...                        \n",
              "5567    2nd time tri 2 contact u. u ï¿½750 pound prize...\n",
              "5568                         ï¿½_ b go esplanad fr home ?\n",
              "5569                        piti , * mood . ... suggest ?\n",
              "5570    guy bitch act like 'd interest buy someth els ...\n",
              "5571                                     rofl . true name\n",
              "Name: preprocessed_text, Length: 5572, dtype: object"
            ]
          },
          "metadata": {},
          "execution_count": 99
        }
      ]
    },
    {
      "cell_type": "code",
      "source": [
        "from sklearn.feature_extraction.text import CountVectorizer\n",
        "\n",
        "\n",
        "\n",
        "vectorizer = CountVectorizer()\n",
        "\n",
        "bow = vectorizer.fit_transform(df['preprocessed_text'])\n",
        "\n",
        "print( bow.shape)"
      ],
      "metadata": {
        "colab": {
          "base_uri": "https://localhost:8080/"
        },
        "id": "5qSEHoVrC1Dn",
        "outputId": "5a1e1ea7-f25a-4267-fc9f-b939b85855a4"
      },
      "execution_count": null,
      "outputs": [
        {
          "output_type": "stream",
          "name": "stdout",
          "text": [
            "(5572, 7495)\n"
          ]
        }
      ]
    },
    {
      "cell_type": "code",
      "source": [
        "import pandas as pd\n",
        "from sklearn.feature_extraction.text import CountVectorizer\n",
        "\n",
        "\n",
        "\n",
        "# Get the feature names (words) from the vectorizer\n",
        "feature_names = vectorizer.get_feature_names_out()\n",
        "\n",
        "# Create a dataframe from the BOW matrix and feature names\n",
        "bow_df = pd.DataFrame(bow.toarray(), columns=feature_names)\n",
        "\n",
        "bow_df"
      ],
      "metadata": {
        "colab": {
          "base_uri": "https://localhost:8080/",
          "height": 424
        },
        "id": "Zrmen6keC2eX",
        "outputId": "651c7ec9-ac4e-448d-add3-ebe3e443b09d"
      },
      "execution_count": null,
      "outputs": [
        {
          "output_type": "execute_result",
          "data": {
            "text/plain": [
              "      00  000  000pe  008704050406  0089  0121  01223585236  01223585334  \\\n",
              "0      0    0      0             0     0     0            0            0   \n",
              "1      0    0      0             0     0     0            0            0   \n",
              "2      0    0      0             0     0     0            0            0   \n",
              "3      0    0      0             0     0     0            0            0   \n",
              "4      0    0      0             0     0     0            0            0   \n",
              "...   ..  ...    ...           ...   ...   ...          ...          ...   \n",
              "5567   0    0      0             0     0     0            0            0   \n",
              "5568   0    0      0             0     0     0            0            0   \n",
              "5569   0    0      0             0     0     0            0            0   \n",
              "5570   0    0      0             0     0     0            0            0   \n",
              "5571   0    0      0             0     0     0            0            0   \n",
              "\n",
              "      0125698789  02  ...  ½t  ½te  ½v  ½wel  ½ï  ½û  ½ûªm  ½ûªt  ½ûªv  ì¼1  \n",
              "0              0   0  ...   0    0   0     0   0   0     0     0     0    0  \n",
              "1              0   0  ...   0    0   0     0   0   0     0     0     0    0  \n",
              "2              0   0  ...   0    0   0     0   0   0     0     0     0    0  \n",
              "3              0   0  ...   0    0   0     0   0   0     0     0     0    0  \n",
              "4              0   0  ...   0    0   0     0   0   0     0     0     0    0  \n",
              "...          ...  ..  ...  ..  ...  ..   ...  ..  ..   ...   ...   ...  ...  \n",
              "5567           0   0  ...   0    0   0     0   0   0     0     0     0    0  \n",
              "5568           0   0  ...   0    0   0     0   0   0     0     0     0    0  \n",
              "5569           0   0  ...   0    0   0     0   0   0     0     0     0    0  \n",
              "5570           0   0  ...   0    0   0     0   0   0     0     0     0    0  \n",
              "5571           0   0  ...   0    0   0     0   0   0     0     0     0    0  \n",
              "\n",
              "[5572 rows x 7495 columns]"
            ],
            "text/html": [
              "\n",
              "  <div id=\"df-d5703ae8-6f9d-46ec-9e93-6a18b3379be2\">\n",
              "    <div class=\"colab-df-container\">\n",
              "      <div>\n",
              "<style scoped>\n",
              "    .dataframe tbody tr th:only-of-type {\n",
              "        vertical-align: middle;\n",
              "    }\n",
              "\n",
              "    .dataframe tbody tr th {\n",
              "        vertical-align: top;\n",
              "    }\n",
              "\n",
              "    .dataframe thead th {\n",
              "        text-align: right;\n",
              "    }\n",
              "</style>\n",
              "<table border=\"1\" class=\"dataframe\">\n",
              "  <thead>\n",
              "    <tr style=\"text-align: right;\">\n",
              "      <th></th>\n",
              "      <th>00</th>\n",
              "      <th>000</th>\n",
              "      <th>000pe</th>\n",
              "      <th>008704050406</th>\n",
              "      <th>0089</th>\n",
              "      <th>0121</th>\n",
              "      <th>01223585236</th>\n",
              "      <th>01223585334</th>\n",
              "      <th>0125698789</th>\n",
              "      <th>02</th>\n",
              "      <th>...</th>\n",
              "      <th>½t</th>\n",
              "      <th>½te</th>\n",
              "      <th>½v</th>\n",
              "      <th>½wel</th>\n",
              "      <th>½ï</th>\n",
              "      <th>½û</th>\n",
              "      <th>½ûªm</th>\n",
              "      <th>½ûªt</th>\n",
              "      <th>½ûªv</th>\n",
              "      <th>ì¼1</th>\n",
              "    </tr>\n",
              "  </thead>\n",
              "  <tbody>\n",
              "    <tr>\n",
              "      <th>0</th>\n",
              "      <td>0</td>\n",
              "      <td>0</td>\n",
              "      <td>0</td>\n",
              "      <td>0</td>\n",
              "      <td>0</td>\n",
              "      <td>0</td>\n",
              "      <td>0</td>\n",
              "      <td>0</td>\n",
              "      <td>0</td>\n",
              "      <td>0</td>\n",
              "      <td>...</td>\n",
              "      <td>0</td>\n",
              "      <td>0</td>\n",
              "      <td>0</td>\n",
              "      <td>0</td>\n",
              "      <td>0</td>\n",
              "      <td>0</td>\n",
              "      <td>0</td>\n",
              "      <td>0</td>\n",
              "      <td>0</td>\n",
              "      <td>0</td>\n",
              "    </tr>\n",
              "    <tr>\n",
              "      <th>1</th>\n",
              "      <td>0</td>\n",
              "      <td>0</td>\n",
              "      <td>0</td>\n",
              "      <td>0</td>\n",
              "      <td>0</td>\n",
              "      <td>0</td>\n",
              "      <td>0</td>\n",
              "      <td>0</td>\n",
              "      <td>0</td>\n",
              "      <td>0</td>\n",
              "      <td>...</td>\n",
              "      <td>0</td>\n",
              "      <td>0</td>\n",
              "      <td>0</td>\n",
              "      <td>0</td>\n",
              "      <td>0</td>\n",
              "      <td>0</td>\n",
              "      <td>0</td>\n",
              "      <td>0</td>\n",
              "      <td>0</td>\n",
              "      <td>0</td>\n",
              "    </tr>\n",
              "    <tr>\n",
              "      <th>2</th>\n",
              "      <td>0</td>\n",
              "      <td>0</td>\n",
              "      <td>0</td>\n",
              "      <td>0</td>\n",
              "      <td>0</td>\n",
              "      <td>0</td>\n",
              "      <td>0</td>\n",
              "      <td>0</td>\n",
              "      <td>0</td>\n",
              "      <td>0</td>\n",
              "      <td>...</td>\n",
              "      <td>0</td>\n",
              "      <td>0</td>\n",
              "      <td>0</td>\n",
              "      <td>0</td>\n",
              "      <td>0</td>\n",
              "      <td>0</td>\n",
              "      <td>0</td>\n",
              "      <td>0</td>\n",
              "      <td>0</td>\n",
              "      <td>0</td>\n",
              "    </tr>\n",
              "    <tr>\n",
              "      <th>3</th>\n",
              "      <td>0</td>\n",
              "      <td>0</td>\n",
              "      <td>0</td>\n",
              "      <td>0</td>\n",
              "      <td>0</td>\n",
              "      <td>0</td>\n",
              "      <td>0</td>\n",
              "      <td>0</td>\n",
              "      <td>0</td>\n",
              "      <td>0</td>\n",
              "      <td>...</td>\n",
              "      <td>0</td>\n",
              "      <td>0</td>\n",
              "      <td>0</td>\n",
              "      <td>0</td>\n",
              "      <td>0</td>\n",
              "      <td>0</td>\n",
              "      <td>0</td>\n",
              "      <td>0</td>\n",
              "      <td>0</td>\n",
              "      <td>0</td>\n",
              "    </tr>\n",
              "    <tr>\n",
              "      <th>4</th>\n",
              "      <td>0</td>\n",
              "      <td>0</td>\n",
              "      <td>0</td>\n",
              "      <td>0</td>\n",
              "      <td>0</td>\n",
              "      <td>0</td>\n",
              "      <td>0</td>\n",
              "      <td>0</td>\n",
              "      <td>0</td>\n",
              "      <td>0</td>\n",
              "      <td>...</td>\n",
              "      <td>0</td>\n",
              "      <td>0</td>\n",
              "      <td>0</td>\n",
              "      <td>0</td>\n",
              "      <td>0</td>\n",
              "      <td>0</td>\n",
              "      <td>0</td>\n",
              "      <td>0</td>\n",
              "      <td>0</td>\n",
              "      <td>0</td>\n",
              "    </tr>\n",
              "    <tr>\n",
              "      <th>...</th>\n",
              "      <td>...</td>\n",
              "      <td>...</td>\n",
              "      <td>...</td>\n",
              "      <td>...</td>\n",
              "      <td>...</td>\n",
              "      <td>...</td>\n",
              "      <td>...</td>\n",
              "      <td>...</td>\n",
              "      <td>...</td>\n",
              "      <td>...</td>\n",
              "      <td>...</td>\n",
              "      <td>...</td>\n",
              "      <td>...</td>\n",
              "      <td>...</td>\n",
              "      <td>...</td>\n",
              "      <td>...</td>\n",
              "      <td>...</td>\n",
              "      <td>...</td>\n",
              "      <td>...</td>\n",
              "      <td>...</td>\n",
              "      <td>...</td>\n",
              "    </tr>\n",
              "    <tr>\n",
              "      <th>5567</th>\n",
              "      <td>0</td>\n",
              "      <td>0</td>\n",
              "      <td>0</td>\n",
              "      <td>0</td>\n",
              "      <td>0</td>\n",
              "      <td>0</td>\n",
              "      <td>0</td>\n",
              "      <td>0</td>\n",
              "      <td>0</td>\n",
              "      <td>0</td>\n",
              "      <td>...</td>\n",
              "      <td>0</td>\n",
              "      <td>0</td>\n",
              "      <td>0</td>\n",
              "      <td>0</td>\n",
              "      <td>0</td>\n",
              "      <td>0</td>\n",
              "      <td>0</td>\n",
              "      <td>0</td>\n",
              "      <td>0</td>\n",
              "      <td>0</td>\n",
              "    </tr>\n",
              "    <tr>\n",
              "      <th>5568</th>\n",
              "      <td>0</td>\n",
              "      <td>0</td>\n",
              "      <td>0</td>\n",
              "      <td>0</td>\n",
              "      <td>0</td>\n",
              "      <td>0</td>\n",
              "      <td>0</td>\n",
              "      <td>0</td>\n",
              "      <td>0</td>\n",
              "      <td>0</td>\n",
              "      <td>...</td>\n",
              "      <td>0</td>\n",
              "      <td>0</td>\n",
              "      <td>0</td>\n",
              "      <td>0</td>\n",
              "      <td>0</td>\n",
              "      <td>0</td>\n",
              "      <td>0</td>\n",
              "      <td>0</td>\n",
              "      <td>0</td>\n",
              "      <td>0</td>\n",
              "    </tr>\n",
              "    <tr>\n",
              "      <th>5569</th>\n",
              "      <td>0</td>\n",
              "      <td>0</td>\n",
              "      <td>0</td>\n",
              "      <td>0</td>\n",
              "      <td>0</td>\n",
              "      <td>0</td>\n",
              "      <td>0</td>\n",
              "      <td>0</td>\n",
              "      <td>0</td>\n",
              "      <td>0</td>\n",
              "      <td>...</td>\n",
              "      <td>0</td>\n",
              "      <td>0</td>\n",
              "      <td>0</td>\n",
              "      <td>0</td>\n",
              "      <td>0</td>\n",
              "      <td>0</td>\n",
              "      <td>0</td>\n",
              "      <td>0</td>\n",
              "      <td>0</td>\n",
              "      <td>0</td>\n",
              "    </tr>\n",
              "    <tr>\n",
              "      <th>5570</th>\n",
              "      <td>0</td>\n",
              "      <td>0</td>\n",
              "      <td>0</td>\n",
              "      <td>0</td>\n",
              "      <td>0</td>\n",
              "      <td>0</td>\n",
              "      <td>0</td>\n",
              "      <td>0</td>\n",
              "      <td>0</td>\n",
              "      <td>0</td>\n",
              "      <td>...</td>\n",
              "      <td>0</td>\n",
              "      <td>0</td>\n",
              "      <td>0</td>\n",
              "      <td>0</td>\n",
              "      <td>0</td>\n",
              "      <td>0</td>\n",
              "      <td>0</td>\n",
              "      <td>0</td>\n",
              "      <td>0</td>\n",
              "      <td>0</td>\n",
              "    </tr>\n",
              "    <tr>\n",
              "      <th>5571</th>\n",
              "      <td>0</td>\n",
              "      <td>0</td>\n",
              "      <td>0</td>\n",
              "      <td>0</td>\n",
              "      <td>0</td>\n",
              "      <td>0</td>\n",
              "      <td>0</td>\n",
              "      <td>0</td>\n",
              "      <td>0</td>\n",
              "      <td>0</td>\n",
              "      <td>...</td>\n",
              "      <td>0</td>\n",
              "      <td>0</td>\n",
              "      <td>0</td>\n",
              "      <td>0</td>\n",
              "      <td>0</td>\n",
              "      <td>0</td>\n",
              "      <td>0</td>\n",
              "      <td>0</td>\n",
              "      <td>0</td>\n",
              "      <td>0</td>\n",
              "    </tr>\n",
              "  </tbody>\n",
              "</table>\n",
              "<p>5572 rows × 7495 columns</p>\n",
              "</div>\n",
              "      <button class=\"colab-df-convert\" onclick=\"convertToInteractive('df-d5703ae8-6f9d-46ec-9e93-6a18b3379be2')\"\n",
              "              title=\"Convert this dataframe to an interactive table.\"\n",
              "              style=\"display:none;\">\n",
              "        \n",
              "  <svg xmlns=\"http://www.w3.org/2000/svg\" height=\"24px\"viewBox=\"0 0 24 24\"\n",
              "       width=\"24px\">\n",
              "    <path d=\"M0 0h24v24H0V0z\" fill=\"none\"/>\n",
              "    <path d=\"M18.56 5.44l.94 2.06.94-2.06 2.06-.94-2.06-.94-.94-2.06-.94 2.06-2.06.94zm-11 1L8.5 8.5l.94-2.06 2.06-.94-2.06-.94L8.5 2.5l-.94 2.06-2.06.94zm10 10l.94 2.06.94-2.06 2.06-.94-2.06-.94-.94-2.06-.94 2.06-2.06.94z\"/><path d=\"M17.41 7.96l-1.37-1.37c-.4-.4-.92-.59-1.43-.59-.52 0-1.04.2-1.43.59L10.3 9.45l-7.72 7.72c-.78.78-.78 2.05 0 2.83L4 21.41c.39.39.9.59 1.41.59.51 0 1.02-.2 1.41-.59l7.78-7.78 2.81-2.81c.8-.78.8-2.07 0-2.86zM5.41 20L4 18.59l7.72-7.72 1.47 1.35L5.41 20z\"/>\n",
              "  </svg>\n",
              "      </button>\n",
              "      \n",
              "  <style>\n",
              "    .colab-df-container {\n",
              "      display:flex;\n",
              "      flex-wrap:wrap;\n",
              "      gap: 12px;\n",
              "    }\n",
              "\n",
              "    .colab-df-convert {\n",
              "      background-color: #E8F0FE;\n",
              "      border: none;\n",
              "      border-radius: 50%;\n",
              "      cursor: pointer;\n",
              "      display: none;\n",
              "      fill: #1967D2;\n",
              "      height: 32px;\n",
              "      padding: 0 0 0 0;\n",
              "      width: 32px;\n",
              "    }\n",
              "\n",
              "    .colab-df-convert:hover {\n",
              "      background-color: #E2EBFA;\n",
              "      box-shadow: 0px 1px 2px rgba(60, 64, 67, 0.3), 0px 1px 3px 1px rgba(60, 64, 67, 0.15);\n",
              "      fill: #174EA6;\n",
              "    }\n",
              "\n",
              "    [theme=dark] .colab-df-convert {\n",
              "      background-color: #3B4455;\n",
              "      fill: #D2E3FC;\n",
              "    }\n",
              "\n",
              "    [theme=dark] .colab-df-convert:hover {\n",
              "      background-color: #434B5C;\n",
              "      box-shadow: 0px 1px 3px 1px rgba(0, 0, 0, 0.15);\n",
              "      filter: drop-shadow(0px 1px 2px rgba(0, 0, 0, 0.3));\n",
              "      fill: #FFFFFF;\n",
              "    }\n",
              "  </style>\n",
              "\n",
              "      <script>\n",
              "        const buttonEl =\n",
              "          document.querySelector('#df-d5703ae8-6f9d-46ec-9e93-6a18b3379be2 button.colab-df-convert');\n",
              "        buttonEl.style.display =\n",
              "          google.colab.kernel.accessAllowed ? 'block' : 'none';\n",
              "\n",
              "        async function convertToInteractive(key) {\n",
              "          const element = document.querySelector('#df-d5703ae8-6f9d-46ec-9e93-6a18b3379be2');\n",
              "          const dataTable =\n",
              "            await google.colab.kernel.invokeFunction('convertToInteractive',\n",
              "                                                     [key], {});\n",
              "          if (!dataTable) return;\n",
              "\n",
              "          const docLinkHtml = 'Like what you see? Visit the ' +\n",
              "            '<a target=\"_blank\" href=https://colab.research.google.com/notebooks/data_table.ipynb>data table notebook</a>'\n",
              "            + ' to learn more about interactive tables.';\n",
              "          element.innerHTML = '';\n",
              "          dataTable['output_type'] = 'display_data';\n",
              "          await google.colab.output.renderOutput(dataTable, element);\n",
              "          const docLink = document.createElement('div');\n",
              "          docLink.innerHTML = docLinkHtml;\n",
              "          element.appendChild(docLink);\n",
              "        }\n",
              "      </script>\n",
              "    </div>\n",
              "  </div>\n",
              "  "
            ]
          },
          "metadata": {},
          "execution_count": 101
        }
      ]
    },
    {
      "cell_type": "markdown",
      "source": [
        "IV. Topic Modelling"
      ],
      "metadata": {
        "id": "-A84D3ALC5h6"
      }
    },
    {
      "cell_type": "code",
      "source": [
        "import pandas as pd\n",
        "df = pd.read_csv('random_headlines.csv')"
      ],
      "metadata": {
        "colab": {
          "base_uri": "https://localhost:8080/"
        },
        "id": "oM-uqcABC7tn",
        "outputId": "f80b8df2-0cbf-427b-af64-cd155ace97f3"
      },
      "execution_count": null,
      "outputs": [
        {
          "output_type": "stream",
          "name": "stderr",
          "text": [
            "/usr/local/lib/python3.10/dist-packages/ipykernel/ipkernel.py:283: DeprecationWarning: `should_run_async` will not call `transform_cell` automatically in the future. Please pass the result to `transformed_cell` argument and any exception that happen during thetransform in `preprocessing_exc_tuple` in IPython 7.17 and above.\n",
            "  and should_run_async(code)\n"
          ]
        }
      ]
    },
    {
      "cell_type": "code",
      "source": [
        "df.head(10)"
      ],
      "metadata": {
        "colab": {
          "base_uri": "https://localhost:8080/",
          "height": 418
        },
        "id": "Omf_GRsaDBvS",
        "outputId": "8390ffaf-b05c-4e84-fe49-c77cd3db38dd"
      },
      "execution_count": null,
      "outputs": [
        {
          "output_type": "stream",
          "name": "stderr",
          "text": [
            "/usr/local/lib/python3.10/dist-packages/ipykernel/ipkernel.py:283: DeprecationWarning: `should_run_async` will not call `transform_cell` automatically in the future. Please pass the result to `transformed_cell` argument and any exception that happen during thetransform in `preprocessing_exc_tuple` in IPython 7.17 and above.\n",
            "  and should_run_async(code)\n"
          ]
        },
        {
          "output_type": "execute_result",
          "data": {
            "text/plain": [
              "   publish_date                                headline_text\n",
              "0      20120305        ute driver hurt in intersection crash\n",
              "1      20081128                 6yo dies in cycling accident\n",
              "2      20090325                bumper olive harvest expected\n",
              "3      20100201           replica replaces northernmost sign\n",
              "4      20080225                 woods targets perfect season\n",
              "5      20091120   leckie salvages dramatic draw for adelaide\n",
              "6      20031024          group to gauge rail services future\n",
              "7      20130304         anti hunting rally still going ahead\n",
              "8      20081115          dr congo refugees receive first aid\n",
              "9      20130304  thailand signs agreement with muslim rebels"
            ],
            "text/html": [
              "\n",
              "  <div id=\"df-6985dc40-ea18-4551-8cb9-dd7925f144ea\">\n",
              "    <div class=\"colab-df-container\">\n",
              "      <div>\n",
              "<style scoped>\n",
              "    .dataframe tbody tr th:only-of-type {\n",
              "        vertical-align: middle;\n",
              "    }\n",
              "\n",
              "    .dataframe tbody tr th {\n",
              "        vertical-align: top;\n",
              "    }\n",
              "\n",
              "    .dataframe thead th {\n",
              "        text-align: right;\n",
              "    }\n",
              "</style>\n",
              "<table border=\"1\" class=\"dataframe\">\n",
              "  <thead>\n",
              "    <tr style=\"text-align: right;\">\n",
              "      <th></th>\n",
              "      <th>publish_date</th>\n",
              "      <th>headline_text</th>\n",
              "    </tr>\n",
              "  </thead>\n",
              "  <tbody>\n",
              "    <tr>\n",
              "      <th>0</th>\n",
              "      <td>20120305</td>\n",
              "      <td>ute driver hurt in intersection crash</td>\n",
              "    </tr>\n",
              "    <tr>\n",
              "      <th>1</th>\n",
              "      <td>20081128</td>\n",
              "      <td>6yo dies in cycling accident</td>\n",
              "    </tr>\n",
              "    <tr>\n",
              "      <th>2</th>\n",
              "      <td>20090325</td>\n",
              "      <td>bumper olive harvest expected</td>\n",
              "    </tr>\n",
              "    <tr>\n",
              "      <th>3</th>\n",
              "      <td>20100201</td>\n",
              "      <td>replica replaces northernmost sign</td>\n",
              "    </tr>\n",
              "    <tr>\n",
              "      <th>4</th>\n",
              "      <td>20080225</td>\n",
              "      <td>woods targets perfect season</td>\n",
              "    </tr>\n",
              "    <tr>\n",
              "      <th>5</th>\n",
              "      <td>20091120</td>\n",
              "      <td>leckie salvages dramatic draw for adelaide</td>\n",
              "    </tr>\n",
              "    <tr>\n",
              "      <th>6</th>\n",
              "      <td>20031024</td>\n",
              "      <td>group to gauge rail services future</td>\n",
              "    </tr>\n",
              "    <tr>\n",
              "      <th>7</th>\n",
              "      <td>20130304</td>\n",
              "      <td>anti hunting rally still going ahead</td>\n",
              "    </tr>\n",
              "    <tr>\n",
              "      <th>8</th>\n",
              "      <td>20081115</td>\n",
              "      <td>dr congo refugees receive first aid</td>\n",
              "    </tr>\n",
              "    <tr>\n",
              "      <th>9</th>\n",
              "      <td>20130304</td>\n",
              "      <td>thailand signs agreement with muslim rebels</td>\n",
              "    </tr>\n",
              "  </tbody>\n",
              "</table>\n",
              "</div>\n",
              "      <button class=\"colab-df-convert\" onclick=\"convertToInteractive('df-6985dc40-ea18-4551-8cb9-dd7925f144ea')\"\n",
              "              title=\"Convert this dataframe to an interactive table.\"\n",
              "              style=\"display:none;\">\n",
              "        \n",
              "  <svg xmlns=\"http://www.w3.org/2000/svg\" height=\"24px\"viewBox=\"0 0 24 24\"\n",
              "       width=\"24px\">\n",
              "    <path d=\"M0 0h24v24H0V0z\" fill=\"none\"/>\n",
              "    <path d=\"M18.56 5.44l.94 2.06.94-2.06 2.06-.94-2.06-.94-.94-2.06-.94 2.06-2.06.94zm-11 1L8.5 8.5l.94-2.06 2.06-.94-2.06-.94L8.5 2.5l-.94 2.06-2.06.94zm10 10l.94 2.06.94-2.06 2.06-.94-2.06-.94-.94-2.06-.94 2.06-2.06.94z\"/><path d=\"M17.41 7.96l-1.37-1.37c-.4-.4-.92-.59-1.43-.59-.52 0-1.04.2-1.43.59L10.3 9.45l-7.72 7.72c-.78.78-.78 2.05 0 2.83L4 21.41c.39.39.9.59 1.41.59.51 0 1.02-.2 1.41-.59l7.78-7.78 2.81-2.81c.8-.78.8-2.07 0-2.86zM5.41 20L4 18.59l7.72-7.72 1.47 1.35L5.41 20z\"/>\n",
              "  </svg>\n",
              "      </button>\n",
              "      \n",
              "  <style>\n",
              "    .colab-df-container {\n",
              "      display:flex;\n",
              "      flex-wrap:wrap;\n",
              "      gap: 12px;\n",
              "    }\n",
              "\n",
              "    .colab-df-convert {\n",
              "      background-color: #E8F0FE;\n",
              "      border: none;\n",
              "      border-radius: 50%;\n",
              "      cursor: pointer;\n",
              "      display: none;\n",
              "      fill: #1967D2;\n",
              "      height: 32px;\n",
              "      padding: 0 0 0 0;\n",
              "      width: 32px;\n",
              "    }\n",
              "\n",
              "    .colab-df-convert:hover {\n",
              "      background-color: #E2EBFA;\n",
              "      box-shadow: 0px 1px 2px rgba(60, 64, 67, 0.3), 0px 1px 3px 1px rgba(60, 64, 67, 0.15);\n",
              "      fill: #174EA6;\n",
              "    }\n",
              "\n",
              "    [theme=dark] .colab-df-convert {\n",
              "      background-color: #3B4455;\n",
              "      fill: #D2E3FC;\n",
              "    }\n",
              "\n",
              "    [theme=dark] .colab-df-convert:hover {\n",
              "      background-color: #434B5C;\n",
              "      box-shadow: 0px 1px 3px 1px rgba(0, 0, 0, 0.15);\n",
              "      filter: drop-shadow(0px 1px 2px rgba(0, 0, 0, 0.3));\n",
              "      fill: #FFFFFF;\n",
              "    }\n",
              "  </style>\n",
              "\n",
              "      <script>\n",
              "        const buttonEl =\n",
              "          document.querySelector('#df-6985dc40-ea18-4551-8cb9-dd7925f144ea button.colab-df-convert');\n",
              "        buttonEl.style.display =\n",
              "          google.colab.kernel.accessAllowed ? 'block' : 'none';\n",
              "\n",
              "        async function convertToInteractive(key) {\n",
              "          const element = document.querySelector('#df-6985dc40-ea18-4551-8cb9-dd7925f144ea');\n",
              "          const dataTable =\n",
              "            await google.colab.kernel.invokeFunction('convertToInteractive',\n",
              "                                                     [key], {});\n",
              "          if (!dataTable) return;\n",
              "\n",
              "          const docLinkHtml = 'Like what you see? Visit the ' +\n",
              "            '<a target=\"_blank\" href=https://colab.research.google.com/notebooks/data_table.ipynb>data table notebook</a>'\n",
              "            + ' to learn more about interactive tables.';\n",
              "          element.innerHTML = '';\n",
              "          dataTable['output_type'] = 'display_data';\n",
              "          await google.colab.output.renderOutput(dataTable, element);\n",
              "          const docLink = document.createElement('div');\n",
              "          docLink.innerHTML = docLinkHtml;\n",
              "          element.appendChild(docLink);\n",
              "        }\n",
              "      </script>\n",
              "    </div>\n",
              "  </div>\n",
              "  "
            ]
          },
          "metadata": {},
          "execution_count": 9
        }
      ]
    },
    {
      "cell_type": "code",
      "source": [
        "df.info()"
      ],
      "metadata": {
        "colab": {
          "base_uri": "https://localhost:8080/"
        },
        "id": "ldjeHTTDDDX1",
        "outputId": "5a14d32f-e067-4bd4-e894-af70c3e05f77"
      },
      "execution_count": null,
      "outputs": [
        {
          "output_type": "stream",
          "name": "stdout",
          "text": [
            "<class 'pandas.core.frame.DataFrame'>\n",
            "RangeIndex: 20000 entries, 0 to 19999\n",
            "Data columns (total 2 columns):\n",
            " #   Column         Non-Null Count  Dtype \n",
            "---  ------         --------------  ----- \n",
            " 0   publish_date   20000 non-null  int64 \n",
            " 1   headline_text  20000 non-null  object\n",
            "dtypes: int64(1), object(1)\n",
            "memory usage: 312.6+ KB\n"
          ]
        },
        {
          "output_type": "stream",
          "name": "stderr",
          "text": [
            "/usr/local/lib/python3.10/dist-packages/ipykernel/ipkernel.py:283: DeprecationWarning: `should_run_async` will not call `transform_cell` automatically in the future. Please pass the result to `transformed_cell` argument and any exception that happen during thetransform in `preprocessing_exc_tuple` in IPython 7.17 and above.\n",
            "  and should_run_async(code)\n"
          ]
        }
      ]
    },
    {
      "cell_type": "code",
      "source": [
        "import pandas as pd\n",
        "import nltk\n",
        "from nltk.corpus import stopwords\n",
        "from nltk.tokenize import word_tokenize\n",
        "from nltk.stem import PorterStemmer, WordNetLemmatizer\n",
        "import string"
      ],
      "metadata": {
        "colab": {
          "base_uri": "https://localhost:8080/"
        },
        "id": "OLLAhXTaDFA7",
        "outputId": "85ae04fb-799a-497e-d187-32ef8928e73a"
      },
      "execution_count": null,
      "outputs": [
        {
          "output_type": "stream",
          "name": "stderr",
          "text": [
            "/usr/local/lib/python3.10/dist-packages/ipykernel/ipkernel.py:283: DeprecationWarning: `should_run_async` will not call `transform_cell` automatically in the future. Please pass the result to `transformed_cell` argument and any exception that happen during thetransform in `preprocessing_exc_tuple` in IPython 7.17 and above.\n",
            "  and should_run_async(code)\n"
          ]
        }
      ]
    },
    {
      "cell_type": "code",
      "source": [
        "df['lowercase'] = df['headline_text'].str.lower()\n",
        "df['tokens'] = df['lowercase'].apply(word_tokenize)\n",
        "df['no_punctuation'] = df['tokens'].apply(lambda tokens: [token for token in tokens if token not in string.punctuation])\n",
        "stopwords_set = set(stopwords.words('english'))\n",
        "df['no_stopwords'] = df['no_punctuation'].apply(lambda tokens: [token for token in tokens if token not in stopwords_set])\n",
        "stemmer = PorterStemmer()\n",
        "df['stemmed'] = df['no_stopwords'].apply(lambda tokens: [stemmer.stem(token) for token in tokens])\n"
      ],
      "metadata": {
        "colab": {
          "base_uri": "https://localhost:8080/"
        },
        "id": "jGrIUDCeDHrT",
        "outputId": "7bbedba5-d62b-40ee-8ab8-887d7a7caca6"
      },
      "execution_count": null,
      "outputs": [
        {
          "output_type": "stream",
          "name": "stderr",
          "text": [
            "/usr/local/lib/python3.10/dist-packages/ipykernel/ipkernel.py:283: DeprecationWarning: `should_run_async` will not call `transform_cell` automatically in the future. Please pass the result to `transformed_cell` argument and any exception that happen during thetransform in `preprocessing_exc_tuple` in IPython 7.17 and above.\n",
            "  and should_run_async(code)\n"
          ]
        }
      ]
    },
    {
      "cell_type": "code",
      "source": [
        "df['stemmed']"
      ],
      "metadata": {
        "colab": {
          "base_uri": "https://localhost:8080/"
        },
        "id": "WJyMtZEeDIb7",
        "outputId": "e7d9d12e-f68a-4f1b-f43b-ae492a587e26"
      },
      "execution_count": null,
      "outputs": [
        {
          "output_type": "stream",
          "name": "stderr",
          "text": [
            "/usr/local/lib/python3.10/dist-packages/ipykernel/ipkernel.py:283: DeprecationWarning: `should_run_async` will not call `transform_cell` automatically in the future. Please pass the result to `transformed_cell` argument and any exception that happen during thetransform in `preprocessing_exc_tuple` in IPython 7.17 and above.\n",
            "  and should_run_async(code)\n"
          ]
        },
        {
          "output_type": "execute_result",
          "data": {
            "text/plain": [
              "0                    [ute, driver, hurt, intersect, crash]\n",
              "1                                  [6yo, die, cycl, accid]\n",
              "2                          [bumper, oliv, harvest, expect]\n",
              "3                    [replica, replac, northernmost, sign]\n",
              "4                          [wood, target, perfect, season]\n",
              "                               ...                        \n",
              "19995               [judg, attack, walkinshaw, run, arrow]\n",
              "19996           [polish, govt, collaps, elect, held, next]\n",
              "19997                              [drum, friday, may, 29]\n",
              "19998            [winterbottom, bathurst, provision, pole]\n",
              "19999    [pull, pork, pawpaw, salad, local, success, st...\n",
              "Name: stemmed, Length: 20000, dtype: object"
            ]
          },
          "metadata": {},
          "execution_count": 13
        }
      ]
    },
    {
      "cell_type": "code",
      "source": [
        "!pip install gensim"
      ],
      "metadata": {
        "colab": {
          "base_uri": "https://localhost:8080/"
        },
        "id": "lJOwd9jYDKzE",
        "outputId": "d55fc138-b850-45e3-a4ae-37bfad7ac27f"
      },
      "execution_count": null,
      "outputs": [
        {
          "output_type": "stream",
          "name": "stderr",
          "text": [
            "/usr/local/lib/python3.10/dist-packages/ipykernel/ipkernel.py:283: DeprecationWarning: `should_run_async` will not call `transform_cell` automatically in the future. Please pass the result to `transformed_cell` argument and any exception that happen during thetransform in `preprocessing_exc_tuple` in IPython 7.17 and above.\n",
            "  and should_run_async(code)\n"
          ]
        },
        {
          "output_type": "stream",
          "name": "stdout",
          "text": [
            "Looking in indexes: https://pypi.org/simple, https://us-python.pkg.dev/colab-wheels/public/simple/\n",
            "Requirement already satisfied: gensim in /usr/local/lib/python3.10/dist-packages (4.3.1)\n",
            "Requirement already satisfied: numpy>=1.18.5 in /usr/local/lib/python3.10/dist-packages (from gensim) (1.24.3)\n",
            "Requirement already satisfied: scipy>=1.7.0 in /usr/local/lib/python3.10/dist-packages (from gensim) (1.10.1)\n",
            "Requirement already satisfied: smart-open>=1.8.1 in /usr/local/lib/python3.10/dist-packages (from gensim) (6.3.0)\n"
          ]
        }
      ]
    },
    {
      "cell_type": "code",
      "source": [
        "import pandas as pd\n",
        "import nltk\n",
        "from nltk.corpus import stopwords\n",
        "from nltk.tokenize import word_tokenize\n",
        "from nltk.stem import PorterStemmer, WordNetLemmatizer\n",
        "import string\n",
        "from gensim.corpora import Dictionary"
      ],
      "metadata": {
        "colab": {
          "base_uri": "https://localhost:8080/"
        },
        "id": "-CaeBzMqDNyA",
        "outputId": "7ac871f0-2f23-4030-a36d-d1e31cb43f66"
      },
      "execution_count": null,
      "outputs": [
        {
          "output_type": "stream",
          "name": "stderr",
          "text": [
            "/usr/local/lib/python3.10/dist-packages/ipykernel/ipkernel.py:283: DeprecationWarning: `should_run_async` will not call `transform_cell` automatically in the future. Please pass the result to `transformed_cell` argument and any exception that happen during thetransform in `preprocessing_exc_tuple` in IPython 7.17 and above.\n",
            "  and should_run_async(code)\n"
          ]
        }
      ]
    },
    {
      "cell_type": "code",
      "source": [
        "lemmatizer = WordNetLemmatizer()\n",
        "df['lemmatized'] = df['no_stopwords'].apply(lambda tokens: [lemmatizer.lemmatize(token) for token in tokens])"
      ],
      "metadata": {
        "colab": {
          "base_uri": "https://localhost:8080/"
        },
        "id": "PaDQVQSWDQFv",
        "outputId": "358a746e-d7f1-4853-b0d2-4f953ccede10"
      },
      "execution_count": null,
      "outputs": [
        {
          "output_type": "stream",
          "name": "stderr",
          "text": [
            "/usr/local/lib/python3.10/dist-packages/ipykernel/ipkernel.py:283: DeprecationWarning: `should_run_async` will not call `transform_cell` automatically in the future. Please pass the result to `transformed_cell` argument and any exception that happen during thetransform in `preprocessing_exc_tuple` in IPython 7.17 and above.\n",
            "  and should_run_async(code)\n"
          ]
        }
      ]
    },
    {
      "cell_type": "code",
      "source": [
        "# Create a dictionary of the tokens\n",
        "dictionary = Dictionary(df['stemmed'])\n",
        "\n",
        "# Filter out rare and common tokens\n",
        "dictionary.filter_extremes(no_below=5, no_above=0.5)\n",
        "\n",
        "# Convert each headline to its BOW representation\n",
        "df['bow'] = df['stemmed'].apply(lambda tokens: dictionary.doc2bow(tokens))"
      ],
      "metadata": {
        "colab": {
          "base_uri": "https://localhost:8080/"
        },
        "id": "C9DSgtbsDS75",
        "outputId": "cb8964f4-9121-4f6d-ea71-749a9bd564bc"
      },
      "execution_count": null,
      "outputs": [
        {
          "output_type": "stream",
          "name": "stderr",
          "text": [
            "/usr/local/lib/python3.10/dist-packages/ipykernel/ipkernel.py:283: DeprecationWarning: `should_run_async` will not call `transform_cell` automatically in the future. Please pass the result to `transformed_cell` argument and any exception that happen during thetransform in `preprocessing_exc_tuple` in IPython 7.17 and above.\n",
            "  and should_run_async(code)\n"
          ]
        }
      ]
    },
    {
      "cell_type": "code",
      "source": [
        "df['bow']"
      ],
      "metadata": {
        "colab": {
          "base_uri": "https://localhost:8080/"
        },
        "id": "rlvo_BdnDVIn",
        "outputId": "3e6209db-9d60-4127-bca5-7c34575130e9"
      },
      "execution_count": null,
      "outputs": [
        {
          "output_type": "stream",
          "name": "stderr",
          "text": [
            "/usr/local/lib/python3.10/dist-packages/ipykernel/ipkernel.py:283: DeprecationWarning: `should_run_async` will not call `transform_cell` automatically in the future. Please pass the result to `transformed_cell` argument and any exception that happen during thetransform in `preprocessing_exc_tuple` in IPython 7.17 and above.\n",
            "  and should_run_async(code)\n"
          ]
        },
        {
          "output_type": "execute_result",
          "data": {
            "text/plain": [
              "0                         [(0, 1), (1, 1), (2, 1), (3, 1)]\n",
              "1                                 [(4, 1), (5, 1), (6, 1)]\n",
              "2                                 [(7, 1), (8, 1), (9, 1)]\n",
              "3                                       [(10, 1), (11, 1)]\n",
              "4                     [(12, 1), (13, 1), (14, 1), (15, 1)]\n",
              "                               ...                        \n",
              "19995                        [(94, 1), (612, 1), (791, 1)]\n",
              "19996    [(306, 1), (502, 1), (1125, 1), (1279, 1), (16...\n",
              "19997            [(122, 1), (362, 1), (435, 1), (1929, 1)]\n",
              "19998                                [(129, 1), (2498, 1)]\n",
              "19999    [(767, 1), (1327, 1), (1500, 1), (1927, 1), (2...\n",
              "Name: bow, Length: 20000, dtype: object"
            ]
          },
          "metadata": {},
          "execution_count": 18
        }
      ]
    },
    {
      "cell_type": "code",
      "source": [
        "from gensim.corpora import Dictionary\n",
        "from gensim.models import TfidfModel"
      ],
      "metadata": {
        "colab": {
          "base_uri": "https://localhost:8080/"
        },
        "id": "cDkqIpfeDWvG",
        "outputId": "49cb709c-5c6b-4f62-8a31-313d77aab039"
      },
      "execution_count": null,
      "outputs": [
        {
          "output_type": "stream",
          "name": "stderr",
          "text": [
            "/usr/local/lib/python3.10/dist-packages/ipykernel/ipkernel.py:283: DeprecationWarning: `should_run_async` will not call `transform_cell` automatically in the future. Please pass the result to `transformed_cell` argument and any exception that happen during thetransform in `preprocessing_exc_tuple` in IPython 7.17 and above.\n",
            "  and should_run_async(code)\n"
          ]
        }
      ]
    },
    {
      "cell_type": "code",
      "source": [
        "# Create a dictionary of the tokens\n",
        "dictionary = Dictionary(df['stemmed'])\n",
        "\n",
        "# Filter out rare and common tokens\n",
        "dictionary.filter_extremes(no_below=5, no_above=0.5)\n",
        "\n",
        "# Convert each headline to its BOW representation\n",
        "df['bow'] = df['stemmed'].apply(lambda tokens: dictionary.doc2bow(tokens))\n",
        "\n",
        "# Create a list of BOW representations\n",
        "bow_corpus = df['bow'].tolist()\n",
        "\n",
        "# Create the TF-IDF model\n",
        "tfidf_model = TfidfModel(bow_corpus)\n",
        "\n",
        "# Convert each BOW representation to TF-IDF representation\n",
        "df['tfidf'] = df['bow'].apply(lambda bow: tfidf_model[bow])"
      ],
      "metadata": {
        "colab": {
          "base_uri": "https://localhost:8080/"
        },
        "id": "-SInMu6oDYu-",
        "outputId": "399c538b-a895-4012-f53d-2495e7b75fdc"
      },
      "execution_count": null,
      "outputs": [
        {
          "output_type": "stream",
          "name": "stderr",
          "text": [
            "/usr/local/lib/python3.10/dist-packages/ipykernel/ipkernel.py:283: DeprecationWarning: `should_run_async` will not call `transform_cell` automatically in the future. Please pass the result to `transformed_cell` argument and any exception that happen during thetransform in `preprocessing_exc_tuple` in IPython 7.17 and above.\n",
            "  and should_run_async(code)\n"
          ]
        }
      ]
    },
    {
      "cell_type": "code",
      "source": [
        "df['tfidf']"
      ],
      "metadata": {
        "colab": {
          "base_uri": "https://localhost:8080/"
        },
        "id": "qBu9zLUADaiY",
        "outputId": "b61e5106-7787-4996-94d4-443f88265592"
      },
      "execution_count": null,
      "outputs": [
        {
          "output_type": "stream",
          "name": "stderr",
          "text": [
            "/usr/local/lib/python3.10/dist-packages/ipykernel/ipkernel.py:283: DeprecationWarning: `should_run_async` will not call `transform_cell` automatically in the future. Please pass the result to `transformed_cell` argument and any exception that happen during thetransform in `preprocessing_exc_tuple` in IPython 7.17 and above.\n",
            "  and should_run_async(code)\n"
          ]
        },
        {
          "output_type": "execute_result",
          "data": {
            "text/plain": [
              "0        [(0, 0.38380472505678387), (1, 0.4408152091819...\n",
              "1        [(4, 0.565040562691219), (5, 0.678282623325040...\n",
              "2        [(7, 0.4778523954688469), (8, 0.56145873585743...\n",
              "3        [(10, 0.7596694993542321), (11, 0.650309350809...\n",
              "4        [(12, 0.5937887452228604), (13, 0.432499245079...\n",
              "                               ...                        \n",
              "19995    [(94, 0.6788936377183876), (612, 0.47999246040...\n",
              "19996    [(306, 0.3169859350661769), (502, 0.2621260609...\n",
              "19997    [(122, 0.37474224836119696), (362, 0.485431117...\n",
              "19998    [(129, 0.6582992963848873), (2498, 0.752756292...\n",
              "19999    [(767, 0.43161038088504416), (1327, 0.42560245...\n",
              "Name: tfidf, Length: 20000, dtype: object"
            ]
          },
          "metadata": {},
          "execution_count": 21
        }
      ]
    },
    {
      "cell_type": "code",
      "source": [
        "from gensim.models import  LsiModel"
      ],
      "metadata": {
        "colab": {
          "base_uri": "https://localhost:8080/"
        },
        "id": "yCs3SFY1DdEf",
        "outputId": "18d18e22-d28f-4b03-c553-9b6f9f7aa339"
      },
      "execution_count": null,
      "outputs": [
        {
          "output_type": "stream",
          "name": "stderr",
          "text": [
            "/usr/local/lib/python3.10/dist-packages/ipykernel/ipkernel.py:283: DeprecationWarning: `should_run_async` will not call `transform_cell` automatically in the future. Please pass the result to `transformed_cell` argument and any exception that happen during thetransform in `preprocessing_exc_tuple` in IPython 7.17 and above.\n",
            "  and should_run_async(code)\n"
          ]
        }
      ]
    },
    {
      "cell_type": "code",
      "source": [
        "# Convert each BOW representation to TF-IDF representation\n",
        "df['tfidf'] = df['bow'].apply(lambda bow: tfidf_model[bow])\n",
        "\n",
        "# Create the LSA model\n",
        "lsa_model = LsiModel(df['tfidf'], num_topics=10, id2word=dictionary)\n",
        "\n",
        "# Convert each TF-IDF representation to LSA representation\n",
        "df['lsa'] = df['tfidf'].apply(lambda tfidf: lsa_model[tfidf])"
      ],
      "metadata": {
        "colab": {
          "base_uri": "https://localhost:8080/"
        },
        "id": "scqffBzrDesu",
        "outputId": "a8ae1126-fd5a-4c65-dd76-7088c65839ac"
      },
      "execution_count": null,
      "outputs": [
        {
          "output_type": "stream",
          "name": "stderr",
          "text": [
            "/usr/local/lib/python3.10/dist-packages/ipykernel/ipkernel.py:283: DeprecationWarning: `should_run_async` will not call `transform_cell` automatically in the future. Please pass the result to `transformed_cell` argument and any exception that happen during thetransform in `preprocessing_exc_tuple` in IPython 7.17 and above.\n",
            "  and should_run_async(code)\n",
            "/usr/local/lib/python3.10/dist-packages/gensim/models/lsimodel.py:963: DeprecationWarning: Please use `csc_matvecs` from the `scipy.sparse` namespace, the `scipy.sparse.sparsetools` namespace is deprecated.\n",
            "  sparsetools.csc_matvecs(\n"
          ]
        }
      ]
    },
    {
      "cell_type": "code",
      "source": [
        "df['lsa']"
      ],
      "metadata": {
        "colab": {
          "base_uri": "https://localhost:8080/"
        },
        "id": "dYdlepMODh3M",
        "outputId": "da0082de-9a2f-4e7f-dea1-aa3b2fcfeffe"
      },
      "execution_count": null,
      "outputs": [
        {
          "output_type": "stream",
          "name": "stderr",
          "text": [
            "/usr/local/lib/python3.10/dist-packages/ipykernel/ipkernel.py:283: DeprecationWarning: `should_run_async` will not call `transform_cell` automatically in the future. Please pass the result to `transformed_cell` argument and any exception that happen during thetransform in `preprocessing_exc_tuple` in IPython 7.17 and above.\n",
            "  and should_run_async(code)\n"
          ]
        },
        {
          "output_type": "execute_result",
          "data": {
            "text/plain": [
              "0        [(0, 0.002867367110049353), (1, 0.075804422020...\n",
              "1        [(0, 0.0015359273267990818), (1, 0.05874323257...\n",
              "2        [(0, 0.00027773358204099196), (1, 0.0084072494...\n",
              "3        [(0, 0.0019272539172306216), (1, 0.01022088358...\n",
              "4        [(0, 0.0006562715317489626), (1, 0.01299398238...\n",
              "                               ...                        \n",
              "19995    [(0, 0.003221018403748414), (1, 0.071940008792...\n",
              "19996    [(0, 0.002853484413780994), (1, 0.037888104568...\n",
              "19997    [(0, 0.004263204786016491), (1, 0.013133621783...\n",
              "19998    [(0, 8.144870600590804e-05), (1, 0.00212594016...\n",
              "19999    [(0, 0.0004552773124242481), (1, 0.01107118830...\n",
              "Name: lsa, Length: 20000, dtype: object"
            ]
          },
          "metadata": {},
          "execution_count": 24
        }
      ]
    },
    {
      "cell_type": "code",
      "source": [
        "# Print the most significant words for each topic\n",
        "for topic_id, topic in lsa_model.show_topics(num_topics=10, num_words=4, formatted=False):\n",
        "    words = [f\"{word}: {weight:.3f}\" for word, weight in topic]\n",
        "    topic_str = f\"({topic_id}, '{', '.join(words)}')\"\n",
        "    print(topic_str)"
      ],
      "metadata": {
        "colab": {
          "base_uri": "https://localhost:8080/"
        },
        "id": "KMDqbBRmDj09",
        "outputId": "139745a5-a069-4d05-a062-7eb35a0e425e"
      },
      "execution_count": null,
      "outputs": [
        {
          "output_type": "stream",
          "name": "stdout",
          "text": [
            "(0, 'interview: 0.989, michael: 0.058, extend: 0.041, jame: 0.037')\n",
            "(1, 'man: 0.465, polic: 0.386, charg: 0.321, court: 0.156')\n",
            "(2, 'man: -0.437, charg: -0.316, plan: 0.250, new: 0.219')\n",
            "(3, 'polic: 0.770, man: -0.225, charg: -0.225, second: -0.134')\n",
            "(4, 'second: 0.451, 90: 0.410, abc: 0.393, news: 0.352')\n",
            "(5, 'new: 0.803, fire: -0.213, plan: -0.190, crash: -0.134')\n",
            "(6, 'fire: -0.402, plan: 0.342, crash: -0.276, kill: -0.243')\n",
            "(7, 'fire: 0.664, crash: -0.284, plan: -0.262, kill: -0.241')\n",
            "(8, 'win: 0.474, plan: -0.400, new: -0.306, court: 0.270')\n",
            "(9, 'court: -0.481, win: 0.425, charg: 0.391, face: -0.260')\n"
          ]
        },
        {
          "output_type": "stream",
          "name": "stderr",
          "text": [
            "/usr/local/lib/python3.10/dist-packages/ipykernel/ipkernel.py:283: DeprecationWarning: `should_run_async` will not call `transform_cell` automatically in the future. Please pass the result to `transformed_cell` argument and any exception that happen during thetransform in `preprocessing_exc_tuple` in IPython 7.17 and above.\n",
            "  and should_run_async(code)\n"
          ]
        }
      ]
    },
    {
      "cell_type": "code",
      "source": [
        "from gensim.models import  LdaModel"
      ],
      "metadata": {
        "colab": {
          "base_uri": "https://localhost:8080/"
        },
        "id": "pt0NkvcxDlVs",
        "outputId": "9b987b29-f5de-42d9-8971-57102f89e34a"
      },
      "execution_count": null,
      "outputs": [
        {
          "output_type": "stream",
          "name": "stderr",
          "text": [
            "/usr/local/lib/python3.10/dist-packages/ipykernel/ipkernel.py:283: DeprecationWarning: `should_run_async` will not call `transform_cell` automatically in the future. Please pass the result to `transformed_cell` argument and any exception that happen during thetransform in `preprocessing_exc_tuple` in IPython 7.17 and above.\n",
            "  and should_run_async(code)\n",
            "/usr/local/lib/python3.10/dist-packages/google/rpc/__init__.py:20: DeprecationWarning: Deprecated call to `pkg_resources.declare_namespace('google.rpc')`.\n",
            "Implementing implicit namespace packages (as specified in PEP 420) is preferred to `pkg_resources.declare_namespace`. See https://setuptools.pypa.io/en/latest/references/keywords.html#keyword-namespace-packages\n",
            "  pkg_resources.declare_namespace(__name__)\n",
            "/usr/local/lib/python3.10/dist-packages/pkg_resources/__init__.py:2349: DeprecationWarning: Deprecated call to `pkg_resources.declare_namespace('google')`.\n",
            "Implementing implicit namespace packages (as specified in PEP 420) is preferred to `pkg_resources.declare_namespace`. See https://setuptools.pypa.io/en/latest/references/keywords.html#keyword-namespace-packages\n",
            "  declare_namespace(parent)\n"
          ]
        }
      ]
    },
    {
      "cell_type": "code",
      "source": [
        "lda_model = LdaModel(df['tfidf'], num_topics=10, id2word=dictionary)\n",
        "\n",
        "# Convert each TF-IDF representation to LDA representation\n",
        "df['lda'] = df['tfidf'].apply(lambda tfidf: lda_model[tfidf])\n",
        "df['lda']"
      ],
      "metadata": {
        "colab": {
          "base_uri": "https://localhost:8080/"
        },
        "id": "tZfRF10tDm3s",
        "outputId": "88904f42-e29a-48f3-ae70-254d7ddd5978"
      },
      "execution_count": null,
      "outputs": [
        {
          "output_type": "stream",
          "name": "stderr",
          "text": [
            "/usr/local/lib/python3.10/dist-packages/ipykernel/ipkernel.py:283: DeprecationWarning: `should_run_async` will not call `transform_cell` automatically in the future. Please pass the result to `transformed_cell` argument and any exception that happen during thetransform in `preprocessing_exc_tuple` in IPython 7.17 and above.\n",
            "  and should_run_async(code)\n"
          ]
        },
        {
          "output_type": "execute_result",
          "data": {
            "text/plain": [
              "0        [(0, 0.03369879), (1, 0.033691447), (2, 0.0337...\n",
              "1        [(0, 0.03686331), (1, 0.036862183), (2, 0.0368...\n",
              "2        [(0, 0.33402774), (1, 0.3712063), (2, 0.036844...\n",
              "3        [(0, 0.62648916), (1, 0.041507572), (2, 0.0414...\n",
              "4        [(0, 0.033563003), (1, 0.033544112), (2, 0.033...\n",
              "                               ...                        \n",
              "19995    [(0, 0.036871202), (1, 0.036854707), (2, 0.036...\n",
              "19996    [(0, 0.034487896), (1, 0.03449208), (2, 0.0344...\n",
              "19997    [(0, 0.1978397), (1, 0.033696435), (2, 0.03369...\n",
              "19998    [(0, 0.055072326), (1, 0.05507218), (2, 0.0550...\n",
              "19999    [(0, 0.031081725), (1, 0.03108086), (2, 0.0310...\n",
              "Name: lda, Length: 20000, dtype: object"
            ]
          },
          "metadata": {},
          "execution_count": 26
        }
      ]
    },
    {
      "cell_type": "code",
      "source": [
        "# Print the most frequent words for each topic\n",
        "for topic_id, topic in lda_model.show_topics(num_topics=10, num_words=3, formatted=False):\n",
        "    words = [f\"{word}: {weight:.3f}\" for word, weight in topic]\n",
        "    topic_str = f\"({topic_id}, '{', '.join(words)}')\"\n",
        "    print(topic_str)"
      ],
      "metadata": {
        "colab": {
          "base_uri": "https://localhost:8080/"
        },
        "id": "esjj_ivrDrzu",
        "outputId": "1c747e80-e6e7-4f46-f9d8-abc0140f7b19"
      },
      "execution_count": null,
      "outputs": [
        {
          "output_type": "stream",
          "name": "stdout",
          "text": [
            "(0, 'drought: 0.009, west: 0.008, union: 0.008')\n",
            "(1, 'sex: 0.009, commun: 0.008, inquiri: 0.008')\n",
            "(2, 'countri: 0.010, final: 0.008, bodi: 0.008')\n",
            "(3, 'rate: 0.012, rise: 0.009, end: 0.008')\n",
            "(4, 'news: 0.009, question: 0.009, rural: 0.009')\n",
            "(5, 'pakistan: 0.009, attack: 0.009, sport: 0.009')\n",
            "(6, 'coast: 0.011, gold: 0.010, polic: 0.008')\n",
            "(7, 'alleg: 0.010, one: 0.009, arrest: 0.008')\n",
            "(8, 'interview: 0.026, miss: 0.014, search: 0.013')\n",
            "(9, 'second: 0.012, weather: 0.011, 90: 0.009')\n"
          ]
        }
      ]
    },
    {
      "cell_type": "code",
      "source": [
        "!pip install pyLDAvis\n",
        "\n",
        "import pyLDAvis\n",
        "import pyLDAvis.gensim_models"
      ],
      "metadata": {
        "id": "WT6bFpMkDtKU"
      },
      "execution_count": null,
      "outputs": []
    },
    {
      "cell_type": "code",
      "source": [
        "corpus = df['tfidf']\n",
        "id2word = dictionary"
      ],
      "metadata": {
        "colab": {
          "base_uri": "https://localhost:8080/"
        },
        "id": "UNaEtPK1EFqm",
        "outputId": "f36e8554-b45d-4e31-d787-d939feef23f0"
      },
      "execution_count": null,
      "outputs": [
        {
          "output_type": "stream",
          "name": "stderr",
          "text": [
            "/usr/local/lib/python3.10/dist-packages/ipykernel/ipkernel.py:283: DeprecationWarning: `should_run_async` will not call `transform_cell` automatically in the future. Please pass the result to `transformed_cell` argument and any exception that happen during thetransform in `preprocessing_exc_tuple` in IPython 7.17 and above.\n",
            "  and should_run_async(code)\n"
          ]
        }
      ]
    },
    {
      "cell_type": "code",
      "source": [
        "!pip install joblib"
      ],
      "metadata": {
        "colab": {
          "base_uri": "https://localhost:8080/"
        },
        "id": "JTSJEMJAE-Vx",
        "outputId": "a88f79f6-c0a6-4206-bcc3-23885603dc25"
      },
      "execution_count": null,
      "outputs": [
        {
          "output_type": "stream",
          "name": "stderr",
          "text": [
            "/usr/local/lib/python3.10/dist-packages/ipykernel/ipkernel.py:283: DeprecationWarning: `should_run_async` will not call `transform_cell` automatically in the future. Please pass the result to `transformed_cell` argument and any exception that happen during thetransform in `preprocessing_exc_tuple` in IPython 7.17 and above.\n",
            "  and should_run_async(code)\n"
          ]
        },
        {
          "output_type": "stream",
          "name": "stdout",
          "text": [
            "Looking in indexes: https://pypi.org/simple, https://us-python.pkg.dev/colab-wheels/public/simple/\n",
            "Requirement already satisfied: joblib in /usr/local/lib/python3.10/dist-packages (1.2.0)\n"
          ]
        }
      ]
    },
    {
      "cell_type": "code",
      "source": [
        "import pyLDAvis.gensim_models as gensimvis\n",
        "import pyLDAvis\n",
        "from joblib import Memory"
      ],
      "metadata": {
        "colab": {
          "base_uri": "https://localhost:8080/"
        },
        "id": "TikBCFb1FCCX",
        "outputId": "2e4a0616-69b4-4068-df90-aa2dba954c12"
      },
      "execution_count": null,
      "outputs": [
        {
          "output_type": "stream",
          "name": "stderr",
          "text": [
            "/usr/local/lib/python3.10/dist-packages/ipykernel/ipkernel.py:283: DeprecationWarning: `should_run_async` will not call `transform_cell` automatically in the future. Please pass the result to `transformed_cell` argument and any exception that happen during thetransform in `preprocessing_exc_tuple` in IPython 7.17 and above.\n",
            "  and should_run_async(code)\n"
          ]
        }
      ]
    },
    {
      "cell_type": "code",
      "source": [
        "cache_dir = './cache'\n",
        "memory = Memory(cache_dir, verbose=0)"
      ],
      "metadata": {
        "colab": {
          "base_uri": "https://localhost:8080/"
        },
        "id": "QJyeAK_MFEk8",
        "outputId": "25d62a2a-1a2b-483d-db74-54ee93bdc87d"
      },
      "execution_count": null,
      "outputs": [
        {
          "output_type": "stream",
          "name": "stderr",
          "text": [
            "/usr/local/lib/python3.10/dist-packages/ipykernel/ipkernel.py:283: DeprecationWarning: `should_run_async` will not call `transform_cell` automatically in the future. Please pass the result to `transformed_cell` argument and any exception that happen during thetransform in `preprocessing_exc_tuple` in IPython 7.17 and above.\n",
            "  and should_run_async(code)\n"
          ]
        }
      ]
    },
    {
      "cell_type": "code",
      "source": [
        "@memory.cache\n",
        "def compute_vis_data():\n",
        "    return gensimvis.prepare(lda_model, corpus, id2word)\n",
        "\n",
        "vis_data = compute_vis_data()"
      ],
      "metadata": {
        "colab": {
          "base_uri": "https://localhost:8080/"
        },
        "id": "kiTUGUK6FFkx",
        "outputId": "5dd7cf5a-fc6b-4af6-b3f1-ec8f3fd60d9c"
      },
      "execution_count": null,
      "outputs": [
        {
          "output_type": "stream",
          "name": "stderr",
          "text": [
            "/usr/local/lib/python3.10/dist-packages/ipykernel/ipkernel.py:283: DeprecationWarning: `should_run_async` will not call `transform_cell` automatically in the future. Please pass the result to `transformed_cell` argument and any exception that happen during thetransform in `preprocessing_exc_tuple` in IPython 7.17 and above.\n",
            "  and should_run_async(code)\n"
          ]
        }
      ]
    },
    {
      "cell_type": "code",
      "source": [
        "pyLDAvis.display(vis_data)"
      ],
      "metadata": {
        "colab": {
          "base_uri": "https://localhost:8080/",
          "height": 916
        },
        "id": "RiKMvbbLFI8E",
        "outputId": "33162f15-c5d8-4d01-b6ef-9403f7f14533"
      },
      "execution_count": null,
      "outputs": [
        {
          "output_type": "stream",
          "name": "stderr",
          "text": [
            "/usr/local/lib/python3.10/dist-packages/ipykernel/ipkernel.py:283: DeprecationWarning: `should_run_async` will not call `transform_cell` automatically in the future. Please pass the result to `transformed_cell` argument and any exception that happen during thetransform in `preprocessing_exc_tuple` in IPython 7.17 and above.\n",
            "  and should_run_async(code)\n"
          ]
        },
        {
          "output_type": "execute_result",
          "data": {
            "text/plain": [
              "<IPython.core.display.HTML object>"
            ],
            "text/html": [
              "\n",
              "<link rel=\"stylesheet\" type=\"text/css\" href=\"https://cdn.jsdelivr.net/gh/bmabey/pyLDAvis@3.4.0/pyLDAvis/js/ldavis.v1.0.0.css\">\n",
              "\n",
              "\n",
              "<div id=\"ldavis_el129151405279436955206770922066\" style=\"background-color:white;\"></div>\n",
              "<script type=\"text/javascript\">\n",
              "\n",
              "var ldavis_el129151405279436955206770922066_data = {\"mdsDat\": {\"x\": [0.013264262077378302, -0.18576772594032875, -0.05014505725428252, -0.17353667722327243, 0.132884510566518, 0.04187229186625756, 0.027386408820656016, 0.17962650737032365, -0.0892409689600174, 0.10365644867676742], \"y\": [0.06811804510690732, 0.007116750502586621, -0.13699867297434987, 0.023948584674146754, 0.088719034086956, 0.1876522809119707, 0.04466448946202231, -0.005145666609017133, -0.03412804128719869, -0.24394680387402434], \"topics\": [1, 2, 3, 4, 5, 6, 7, 8, 9, 10], \"cluster\": [1, 1, 1, 1, 1, 1, 1, 1, 1, 1], \"Freq\": [10.8495760380506, 10.514721371142121, 10.495016790773363, 10.426051351936373, 10.41756031512685, 10.157906258848728, 9.622866400646366, 9.370634481976905, 9.353022376908635, 8.792644614590053]}, \"tinfo\": {\"Term\": [\"interview\", \"miss\", \"rate\", \"search\", \"found\", \"rural\", \"health\", \"face\", \"market\", \"man\", \"woman\", \"injur\", \"kill\", \"drought\", \"countri\", \"murder\", \"safeti\", \"assault\", \"guilti\", \"fall\", \"second\", \"bodi\", \"test\", \"review\", \"blaze\", \"alleg\", \"famili\", \"pakistan\", \"abc\", \"welcom\", \"clash\", \"stock\", \"flight\", \"rudd\", \"suspend\", \"good\", \"highlight\", \"western\", \"disput\", \"french\", \"robberi\", \"money\", \"ask\", \"member\", \"brother\", \"video\", \"bail\", \"cat\", \"destroy\", \"docker\", \"must\", \"point\", \"full\", \"peter\", \"refus\", \"keen\", \"jame\", \"pole\", \"angri\", \"popul\", \"start\", \"cash\", \"access\", \"carbon\", \"sex\", \"liber\", \"despit\", \"look\", \"challeng\", \"sentenc\", \"news\", \"big\", \"busi\", \"grant\", \"png\", \"tax\", \"park\", \"return\", \"inquiri\", \"feder\", \"act\", \"group\", \"delay\", \"set\", \"govt\", \"polic\", \"second\", \"plan\", \"bodi\", \"festiv\", \"speak\", \"plane\", \"boy\", \"mark\", \"se\", \"old\", \"ad\", \"outbreak\", \"kangaroo\", \"patient\", \"film\", \"bash\", \"expert\", \"plead\", \"coalit\", \"neglect\", \"guilti\", \"controversi\", \"drown\", \"semi\", \"chelsea\", \"snap\", \"william\", \"bird\", \"2\", \"coff\", \"nightclub\", \"vaccin\", \"search\", \"found\", \"iraqi\", \"highway\", \"miss\", \"star\", \"town\", \"fatal\", \"shop\", \"woman\", \"studi\", \"shoot\", \"murder\", \"crash\", \"man\", \"storm\", \"charg\", \"close\", \"polic\", \"flood\", \"centr\", \"work\", \"fire\", \"day\", \"investig\", \"convict\", \"front\", \"attempt\", \"rape\", \"oil\", \"third\", \"econom\", \"packag\", \"last\", \"reduc\", \"holiday\", \"victorian\", \"arm\", \"replac\", \"clean\", \"mill\", \"term\", \"music\", \"given\", \"comeback\", \"fourth\", \"johnson\", \"tsunami\", \"van\", \"helicopt\", \"respond\", \"part\", \"journalist\", \"oppos\", \"breach\", \"drought\", \"hour\", \"countri\", \"west\", \"revamp\", \"assault\", \"alleg\", \"player\", \"teenag\", \"brace\", \"central\", \"crime\", \"drum\", \"pm\", \"face\", \"stab\", \"bush\", \"care\", \"court\", \"nuclear\", \"accus\", \"wa\", \"man\", \"darwin\", \"victim\", \"charg\", \"defenc\", \"new\", \"increas\", \"mine\", \"sale\", \"polic\", \"injur\", \"break\", \"four\", \"worri\", \"tri\", \"reach\", \"order\", \"approv\", \"zealand\", \"await\", \"mix\", \"updat\", \"newcastl\", \"pakistan\", \"afghanistan\", \"finish\", \"tiger\", \"japan\", \"next\", \"territori\", \"rememb\", \"survivor\", \"form\", \"japanes\", \"quak\", \"father\", \"southern\", \"massiv\", \"cancel\", \"net\", \"abbott\", \"phone\", \"raid\", \"pipelin\", \"accid\", \"track\", \"korea\", \"hold\", \"live\", \"save\", \"teen\", \"kill\", \"final\", \"station\", \"violenc\", \"match\", \"one\", \"two\", \"china\", \"ban\", \"may\", \"three\", \"talk\", \"power\", \"polic\", \"high\", \"us\", \"charg\", \"new\", \"slam\", \"doubt\", \"sport\", \"red\", \"collaps\", \"closer\", \"bu\", \"dam\", \"shortag\", \"major\", \"safe\", \"eye\", \"explos\", \"stage\", \"like\", \"cross\", \"low\", \"option\", \"gp\", \"beatti\", \"sheep\", \"insur\", \"crack\", \"buy\", \"late\", \"fine\", \"scott\", \"3\", \"irrig\", \"origin\", \"drink\", \"project\", \"remain\", \"christma\", \"economi\", \"rain\", \"green\", \"clear\", \"driver\", \"weather\", \"airport\", \"abc\", \"plant\", \"land\", \"second\", \"trade\", \"90\", \"region\", \"boost\", \"farmer\", \"train\", \"plan\", \"rise\", \"job\", \"hunt\", \"escap\", \"author\", \"rais\", \"higher\", \"howard\", \"knight\", \"indonesia\", \"turnbul\", \"nrn\", \"hawk\", \"clark\", \"dairi\", \"cricket\", \"fiji\", \"killer\", \"race\", \"slow\", \"explor\", \"ralli\", \"tim\", \"africa\", \"grand\", \"summit\", \"global\", \"royal\", \"mid\", \"figur\", \"roll\", \"cooper\", \"sack\", \"nrl\", \"loss\", \"interview\", \"impact\", \"go\", \"women\", \"end\", \"world\", \"fall\", \"market\", \"rule\", \"keep\", \"cup\", \"protest\", \"share\", \"run\", \"local\", \"australian\", \"hit\", \"industri\", \"price\", \"farmer\", \"senat\", \"pressur\", \"celebr\", \"educ\", \"shire\", \"whale\", \"bulldog\", \"jump\", \"blaze\", \"export\", \"control\", \"firm\", \"discuss\", \"eagl\", \"wit\", \"leak\", \"contract\", \"stori\", \"across\", \"cultur\", \"meat\", \"game\", \"medic\", \"perform\", \"smith\", \"inform\", \"petrol\", \"recess\", \"legisl\", \"costello\", \"expans\", \"theft\", \"lift\", \"poll\", \"veteran\", \"renew\", \"john\", \"coal\", \"appoint\", \"welcom\", \"doctor\", \"port\", \"east\", \"scientist\", \"dog\", \"suspect\", \"firefight\", \"stay\", \"record\", \"indigen\", \"want\", \"sa\", \"arrest\", \"leav\", \"budget\", \"new\", \"polic\", \"result\", \"wallabi\", \"evid\", \"problem\", \"quarter\", \"mental\", \"join\", \"chanc\", \"edg\", \"militari\", \"gain\", \"rail\", \"condit\", \"roar\", \"scam\", \"campbel\", \"injuri\", \"class\", \"pilbara\", \"sink\", \"construct\", \"latest\", \"possibl\", \"dismiss\", \"sold\", \"unlik\", \"onlin\", \"dept\", \"anzac\", \"blow\", \"compani\", \"wast\", \"uk\", \"crisi\", \"famili\", \"club\", \"rural\", \"push\", \"give\", \"health\", \"climat\", \"resid\", \"nation\", \"launch\", \"bushfir\", \"propos\", \"worker\", \"servic\", \"develop\", \"futur\", \"win\", \"chang\", \"dump\", \"critic\", \"youth\", \"marin\", \"ash\", \"spring\", \"wait\", \"andrew\", \"sugar\", \"cruis\", \"basin\", \"goe\", \"effort\", \"traffic\", \"board\", \"week\", \"mosqu\", \"way\", \"qanta\", \"quit\", \"justic\", \"gener\", \"place\", \"amnesti\", \"olymp\", \"nativ\", \"parent\", \"apologis\", \"abort\", \"snub\", \"children\", \"polit\", \"inquest\", \"kid\", \"peopl\", \"aid\", \"rate\", \"indonesian\", \"canberra\", \"stand\", \"confid\", \"test\", \"review\", \"england\", \"media\", \"india\", \"play\", \"readi\", \"take\", \"gold\", \"car\", \"council\", \"mayor\", \"call\", \"top\", \"babi\", \"level\", \"month\", \"mother\", \"uni\", \"foreign\", \"harvest\", \"policeman\", \"earli\", \"ambul\", \"boss\", \"march\", \"2014\", \"histori\", \"zimbabw\", \"product\", \"capit\", \"resign\", \"retir\", \"palestinian\", \"hobart\", \"takeov\", \"entertain\", \"london\", \"toddler\", \"brown\", \"soldier\", \"comment\", \"church\", \"brumbi\", \"great\", \"tip\", \"hill\", \"volunt\", \"black\", \"safeti\", \"struggl\", \"former\", \"art\", \"hunter\", \"bid\", \"need\", \"citi\", \"grain\", \"murray\", \"ta\", \"announc\", \"report\", \"show\", \"grower\", \"new\", \"qld\"], \"Freq\": [149.0, 78.0, 58.0, 55.0, 56.0, 56.0, 70.0, 94.0, 73.0, 154.0, 61.0, 42.0, 92.0, 43.0, 45.0, 84.0, 43.0, 44.0, 40.0, 52.0, 60.0, 36.0, 62.0, 52.0, 35.0, 40.0, 41.0, 37.0, 61.0, 46.0, 28.468524514763278, 23.61431144064062, 24.66403693758283, 25.65551200974142, 23.846039556781065, 21.907865040189126, 27.855689588621974, 19.932628639224756, 17.24347156433371, 17.16901133849319, 16.471008387837905, 15.065104868283631, 14.660703048754229, 14.550117032362664, 14.308157937113785, 14.324032313152, 27.79383515102219, 13.978080109263466, 13.744294031623756, 13.56395406042309, 13.542172075748068, 13.50031103341597, 15.118920458281723, 13.230453865305185, 15.897272666028682, 13.126019027717843, 13.10328133975881, 13.907523198563478, 12.757486011571322, 12.749804262604908, 31.25451518027974, 16.437819888373575, 17.517465296982635, 15.582401460410146, 34.65414785613631, 22.846586529562636, 20.067283722880298, 25.922648622931412, 19.770315956643785, 24.315801779413267, 35.641445080677535, 24.736022242823932, 31.727792657107774, 18.302762350731882, 21.110998403487642, 21.15550775535189, 22.980983593973033, 23.81219362428011, 21.315161807630904, 21.479932897579605, 24.666972164515585, 24.443147693892378, 21.274685812606737, 23.538121453780658, 23.252306311396232, 25.255885610401133, 21.189834635725795, 21.758362497091042, 35.760109781188895, 31.913996024549824, 26.769636059178588, 23.240323119895223, 31.5563960869973, 19.514460244024544, 18.286791812182006, 22.720372890711737, 17.3259970370248, 17.94796207050135, 16.466366876109976, 18.870148215121727, 16.07321999242666, 16.59307520036919, 16.2817105982199, 25.246445566613517, 14.465041501724702, 14.338918308265077, 37.94955120685872, 12.936932909772338, 14.85511869921326, 12.460761466857415, 12.099302666698385, 11.82159858899096, 14.128786335562229, 12.072963778928273, 11.080342889391494, 10.938934279044204, 10.690256689890635, 11.277935058958585, 51.13751123099527, 50.34073311996836, 16.50148272587389, 23.99329343816949, 65.21112923428058, 26.894802038663503, 17.00712375639261, 30.127762731645436, 19.64259888801608, 48.61653569450323, 32.156926328960786, 30.42689559952439, 47.621437251136406, 45.86262808859623, 64.8405143873875, 22.523342846801686, 47.32245041590145, 24.731976562697955, 51.192835598152094, 29.481038163445863, 25.266005939120724, 26.808110659754487, 31.091112077849044, 24.992660835814323, 24.235071485005882, 24.251500712714346, 23.34982967896793, 21.943517099791123, 20.51811408777137, 20.00825716627302, 18.307978677072647, 17.043481597599854, 16.380514852228874, 17.111217592136413, 16.5998272063118, 15.93515528055719, 17.923158999114808, 15.820611685150356, 15.16657617146084, 27.692071525878458, 14.86567872314481, 15.017103333617225, 14.065407019623228, 14.82796608322, 13.778557342488723, 13.083173201194551, 15.494929220321465, 12.708934027748244, 12.504356309076309, 12.386718829589343, 12.222479409161274, 12.138047023093213, 12.136734193933686, 12.394051704248449, 12.191839074762006, 40.6277236618582, 32.66986844497888, 40.91008476112104, 32.67090672811645, 18.213980109250528, 39.86518456524484, 35.797650472854244, 17.147874976987747, 15.41023626511984, 15.279498447814387, 19.130963822577797, 17.204846770765357, 17.98888232172315, 32.96743839550882, 54.74539525891898, 24.228624539815947, 20.904593022050985, 19.399955029746057, 45.79258326177904, 17.52686629248679, 28.25659205787166, 26.983243614651062, 30.462071168038037, 19.07658573994578, 19.946135887472717, 25.659326789234, 18.550932937867934, 21.659840176321236, 18.41028750339203, 19.520188217076957, 18.621981454953016, 19.273074833636354, 41.05477847490852, 27.850194127951074, 25.94934368611488, 18.818245612787056, 17.824578401799073, 19.435868179946667, 19.836538938762082, 28.505647485689256, 15.65437499232184, 15.550062617377113, 15.31735624453154, 14.9465343603295, 21.04830446590437, 34.94933478375523, 14.498496761978588, 15.569497709978247, 27.627148769446574, 27.06206522022187, 14.521200790342803, 13.202600769431301, 12.774021074823075, 12.990584101972146, 17.339563942994598, 13.975859788235788, 12.165143109187458, 12.889303625276126, 13.244119030630968, 12.497922951804394, 11.7849488211744, 13.387141912787108, 27.02965753059977, 16.51227028880049, 21.35036365158519, 17.096670907763524, 27.96368848326431, 23.873841226679453, 19.92934259690014, 25.068030273362602, 25.593364912540956, 19.558748824113604, 29.358891292869107, 49.50544951392442, 33.58754137042324, 22.30036041975764, 19.709123836370388, 18.647465538518855, 24.574873228813313, 27.665487355871836, 22.482885256558127, 25.38693598297294, 24.729346312239105, 23.122751662095887, 23.682610468116735, 23.14860759514914, 27.239496229935224, 20.590066320125278, 21.763080676716864, 21.957435569883256, 20.644400475721344, 27.11067870159322, 26.80685382314815, 32.94437005888597, 26.50983500251697, 21.46206891006475, 24.115914165376864, 19.37137043489464, 18.023769005782196, 22.03725412793581, 17.74843285040552, 18.36480125852551, 17.68555312116746, 17.59209369885703, 18.748649838279157, 17.468540164186056, 17.137683304808064, 16.765155692507225, 15.161005126660466, 14.873660262986071, 15.757134728907847, 14.64454940941294, 13.88820492875188, 13.958970885142378, 13.64845391170354, 14.934453977125377, 28.826689225785397, 15.247103541772063, 12.907853146897063, 15.014943439524886, 12.400417339116927, 22.42736174396676, 23.868715925778815, 20.921371814505722, 18.17144103711515, 14.745144886225091, 28.90776931288745, 36.49706286906378, 24.334806022418714, 34.07466520062783, 34.18230952560978, 20.673045838478988, 37.113912893971424, 22.869414604390332, 29.172721968879454, 32.957328127024354, 24.34970443144231, 23.79017869603705, 23.56797498034435, 25.867274965389825, 25.452073727349067, 20.798684397267674, 24.464804897803372, 20.397685899557242, 19.69832282895715, 28.56506532766216, 29.59759088851549, 27.6942121374554, 26.856904364962435, 23.395953776625735, 23.739478334243763, 20.30784664970566, 18.585417578987673, 17.93727094437028, 19.363030432264054, 16.91134315146688, 20.208661750908263, 22.205174547968085, 19.374805534817927, 16.578524989409082, 20.518331680832414, 24.295834053712394, 15.198639700903561, 15.470447835048253, 14.985398835829352, 14.37381918019984, 12.915412916096875, 13.83934586450891, 12.583971704731614, 12.495008128338196, 13.684813345558599, 12.106854907782923, 18.614922008774315, 13.160377758845977, 12.271990430206372, 17.49300770780496, 20.929555831026317, 22.014542730124763, 112.84720262268661, 19.174114729810167, 29.5119764427188, 26.929224714178112, 27.431497675568586, 37.32271910019004, 38.69653517655533, 45.27093071711719, 25.12681268442562, 26.625605637051628, 26.625559255554617, 28.7499709631869, 26.484072498920064, 27.054066311072546, 23.42689410025737, 31.480074775171758, 30.998136235096215, 24.63286713431114, 24.72761873501916, 23.68049459798136, 20.907165163343862, 27.148526059042965, 24.431059296724722, 26.139231738553427, 28.327422907852462, 22.81284905954967, 21.485667167737116, 17.324867144794453, 33.81180919042266, 28.758876800815624, 31.44991456811199, 19.23066387982292, 17.746965803304736, 14.837442119209667, 13.762117418874318, 14.86950713952767, 20.041874383854832, 12.740856270595883, 12.680740193078845, 12.268528607692396, 12.189326753429508, 29.4979439841332, 15.136692452424983, 12.014451607648828, 16.647564647335365, 11.946072349955063, 11.751030357772088, 11.323963904998028, 11.23797355575446, 11.115934430778116, 13.131375978210324, 24.735194124171013, 19.515568299697183, 28.83916338627486, 14.051264648111507, 14.305434102037633, 24.33771382920044, 27.629242309864868, 13.963419728906926, 36.36189964068214, 26.276501038757466, 24.53428909121791, 24.202678068337402, 17.52703907055409, 24.382435877579105, 22.492213502529243, 21.883486155148745, 16.79570322874229, 28.406548785162354, 25.986239786004703, 26.298935293744865, 26.48739841410662, 23.95833801828163, 20.482544372754557, 22.358927957739972, 26.90027182283059, 26.16527627188546, 22.108240699899856, 23.252391168371076, 20.104892557036628, 20.26225518640538, 18.633621144392635, 23.40235346835081, 27.364239520593063, 18.87016248471161, 17.29927989300669, 16.91976297659995, 16.10186523731417, 32.13823818350936, 21.429098690962547, 15.040425171558928, 14.666294040525404, 14.729345702655333, 20.492990004724827, 14.0239165684853, 13.812977764990142, 14.222936580814407, 14.295576937624853, 14.048427151141258, 19.028006465305374, 13.144211549125364, 12.808184715898667, 12.00027858009656, 11.974195583438886, 11.963350918617547, 13.58030951925022, 14.013463224382072, 32.525658173917904, 22.815190547384475, 19.790810882714798, 17.973446156503204, 34.81801315784435, 30.029253057360954, 41.05403237597279, 32.29666335113777, 26.93165274023734, 46.00700455547866, 20.550753934508858, 29.503852846910895, 36.2833675159853, 21.74869629376658, 23.076188095498804, 20.122099971939733, 25.339187785828635, 21.811287998059274, 19.21673001837496, 20.406473361766608, 22.770389227811847, 21.114721074776448, 29.609965632541368, 28.88843993768494, 23.714228374822866, 18.60322755983402, 18.656993084901995, 15.510666231806239, 22.932732276993054, 15.103710230381598, 14.677189378779152, 13.764873920062866, 13.613261011495382, 13.556542519727085, 18.46254569943773, 14.53772998787555, 15.79007079843368, 22.533095077640382, 12.892563642037569, 23.120437396215966, 13.286302915431683, 17.30487776644758, 12.496196148205746, 21.61807043434968, 12.495879409385223, 12.143212975627678, 18.511353728135045, 11.804390519531191, 14.475838688515905, 11.793420323865327, 11.545452974890573, 11.468545052461304, 22.992341455356517, 22.158353905467127, 22.842701936406783, 15.311005111824377, 22.301363262364788, 25.628231243158595, 47.913729093592025, 18.08746109697031, 29.345940693025046, 26.71504932851987, 20.201392000024295, 37.56091077187523, 32.130416576283885, 22.682663419327074, 23.011002354293726, 20.363106741648572, 21.744488371232986, 20.25255243726505, 32.88557530735775, 22.309925887108363, 24.194379514693512, 26.346730124904294, 21.736504061751603, 21.566372608772987, 19.907760877946966, 24.384452052694698, 21.255463329357813, 20.545315046845367, 28.394147966531566, 19.258066106324335, 22.550549424852132, 18.81609071347635, 16.69004705158143, 22.431300880684383, 16.573317772171368, 24.790112227332408, 16.495473160286195, 15.856036591301162, 15.38723587995762, 15.389832094369263, 17.169987061743996, 14.752704015002829, 22.64317673438916, 14.942649217330914, 14.354959617810925, 20.46228135177404, 16.68403326884312, 12.702354556728798, 12.998571413212833, 12.883896354999612, 15.087123865446841, 23.196628756355615, 19.411657615615166, 11.674044547397827, 13.508179697020816, 13.87851077999185, 17.71252896103472, 27.304852010805458, 14.812432001837685, 25.852154623010527, 35.04804141970657, 16.440582964739015, 28.33682381997347, 18.623196332019575, 24.771843375792752, 24.53204148897717, 25.173998995538458, 19.543363639630535, 19.2449645913295, 19.447514481538853, 21.161479363965213, 21.902531296632738, 28.33512758194937, 21.99119068053548, 18.65890264427248, 20.592381469967773, 19.593929599189256], \"Total\": [149.0, 78.0, 58.0, 55.0, 56.0, 56.0, 70.0, 94.0, 73.0, 154.0, 61.0, 42.0, 92.0, 43.0, 45.0, 84.0, 43.0, 44.0, 40.0, 52.0, 60.0, 36.0, 62.0, 52.0, 35.0, 40.0, 41.0, 37.0, 61.0, 46.0, 29.336425876274657, 24.482257093082467, 25.604741396806787, 26.65502884113868, 24.786286221830682, 22.775787288690076, 28.990718821122204, 20.8216444063475, 18.128533426477468, 18.05260889719951, 17.338879476068957, 15.937078597724929, 15.528607303393192, 15.418098174124841, 15.17603926771886, 15.207713468024034, 29.50963639908911, 14.845965451754086, 14.612366064058454, 14.431926638024482, 14.410043818203397, 14.368216763722437, 16.092240150448266, 14.098333373482951, 16.94463507162797, 13.993917985207702, 13.971127774407549, 14.840396654593675, 13.625344127341119, 13.617701043065317, 33.478564216273185, 17.58154749443803, 18.910417375622718, 16.756603061629892, 43.338212635778866, 29.12580971742212, 24.591306181973682, 35.53721561675369, 24.716330581787147, 33.36645962913737, 59.76859041880126, 36.078833822068596, 58.87075166709826, 23.08335812780764, 30.023667954767216, 31.34316408639475, 39.78808545994742, 43.23076903140583, 33.855251084655556, 34.6208598758832, 51.158492809931715, 59.54919920560638, 38.27352889730735, 75.60511729096763, 100.22407820746604, 190.53832616768844, 60.2208817906373, 123.61728193700174, 36.88353090981244, 32.984716242017846, 27.730007402617474, 24.105221434782, 33.00989828281403, 20.42624385680003, 19.151728531104343, 23.821889625056116, 18.190923400510254, 18.884207928956897, 17.33126262692382, 19.90181379495287, 16.996526846981556, 17.551008917288875, 17.240473602240794, 26.755478077735095, 15.329961966252316, 15.222770541614796, 40.32390147073331, 13.818631971174982, 15.884278403594136, 13.32572865226059, 12.964258292485678, 12.68657478803627, 15.187477911688342, 12.997918356301554, 11.945268642284521, 11.803838099858778, 11.55518745289421, 12.196344647666967, 55.919763726903724, 56.98792301304693, 18.077690348397716, 26.907597848680773, 78.67416221072962, 30.520733659577505, 18.74160733898552, 35.29221556628739, 22.090529980413542, 61.72623654451224, 40.23359576100499, 38.99265223681296, 84.45565078709326, 87.71879196863355, 154.12095814160762, 31.193620383848064, 127.6190815830109, 40.37295023832767, 190.53832616768844, 62.70049821146207, 43.77746227573373, 52.2428698728281, 97.59704396459263, 62.00287152542149, 54.530827715300894, 25.116713260168723, 24.24679393668404, 22.827805038667357, 21.38326525405081, 20.873473962503997, 19.173195207758052, 17.926039268294705, 17.24915740346715, 18.018652226121333, 17.489629900067314, 16.80036288177659, 18.916876616722085, 16.703723832669375, 16.050105254576167, 29.30790248231737, 15.747529850608153, 15.921841341169694, 14.930629205622008, 15.784074523032103, 14.668167081196312, 13.948411541797121, 16.527023618739275, 13.574128953054895, 13.369555944995252, 13.251931197100477, 13.087774530570588, 13.003306842011241, 13.001969180503838, 13.284930572706298, 13.073006467937946, 43.748403737956856, 35.430777660548806, 45.07967803060445, 35.81867062172736, 19.7102796662688, 44.687184395594905, 40.47492573726156, 18.65707834443569, 16.689530582055735, 16.562610098207905, 21.793537987911996, 19.191824912218287, 20.536474247723323, 47.1575862195715, 94.63476205814781, 31.31390965528524, 25.579766930504586, 23.734503083365524, 102.64466337559156, 20.563081893556078, 61.57438677362585, 68.4979912878779, 154.12095814160762, 29.094677859212354, 38.05928328529234, 127.6190815830109, 28.366924995639106, 149.3559260994752, 27.20222525532223, 76.99790536819317, 39.785541105438924, 190.53832616768844, 42.22425368449901, 28.928047127371634, 27.0040311328286, 19.684450145748823, 18.690801176673716, 20.391414435858795, 20.875579683543553, 30.075129410506484, 16.52054583911589, 16.416347501672163, 16.1992755601889, 15.812700719513526, 22.309756585299347, 37.04463575294154, 15.385666470044894, 16.5547358591341, 29.385530914858318, 28.837498899343792, 15.47422166220087, 14.088261112519934, 13.640219078506027, 13.879589524414197, 18.528057692812826, 14.95956114354885, 13.03127647421177, 13.815233874656318, 14.19638421420563, 13.407101079538071, 12.651121733231738, 14.403251690002381, 30.22111659424786, 18.007662724547846, 23.78721030556646, 18.74411478265673, 32.221409705411055, 27.24914637499053, 23.03130604737449, 30.5276997437584, 32.266267387869256, 23.633238297953966, 41.62346598245366, 92.17726859875128, 57.8236492095296, 30.795974840738403, 24.948353719501213, 22.841764867982715, 41.82472206662249, 57.66887007079858, 38.353093767805994, 53.41602722220478, 50.76575256983686, 44.20799535641318, 51.67518203885099, 49.707047112282815, 190.53832616768844, 39.8587422469795, 89.81342110742091, 127.6190815830109, 149.3559260994752, 27.975874007356264, 27.687445697473652, 34.090384046918885, 27.492434667682158, 22.327232961972435, 25.09267303372514, 20.301102212269363, 18.888888034740145, 23.10204416066593, 18.61364887129995, 19.262412107856832, 18.550724686859454, 18.461627381901693, 19.68198676319764, 18.377471453162176, 18.03231701075308, 17.653478037516745, 16.026154853537466, 15.738804431023908, 16.700550460608675, 15.536286710687536, 14.753601375252613, 14.837323378189051, 14.513585453376725, 15.883085873254556, 30.680624515012738, 16.249717188097055, 13.773025599992787, 16.038875707867863, 13.26551760563597, 24.220398620412702, 26.057977505814716, 22.740664824238817, 20.10643943137744, 15.813584676766803, 35.20750467071396, 46.676025479527425, 29.1034794956961, 46.73034641270492, 48.22408248382633, 24.61281306356878, 61.30514532279962, 29.778152002070186, 43.589085106275704, 60.2208817906373, 37.880721067612946, 39.100130456587735, 40.53437227792695, 59.65888512189922, 67.53522528268842, 40.903470432716, 123.61728193700174, 63.040020024689994, 53.65617948508754, 29.522945637689286, 30.634677926033177, 28.70587236758665, 27.841050511334725, 24.26119165634072, 24.817459739881365, 21.235424288091068, 19.51453732927715, 18.84414361731829, 20.349003590599864, 17.781605122331523, 21.26649128419667, 23.372916003522302, 20.400389964781912, 17.457677849806682, 21.63831453190199, 25.66648429415604, 16.06385917548652, 16.354957144663086, 15.865435720743708, 15.25159495891047, 13.780601997267045, 14.770865620649689, 13.44917476650659, 13.361848458857951, 14.651404083623628, 12.974515888145918, 19.95586188076381, 14.11888149893186, 13.174051260872044, 18.911162432567668, 22.933869385956015, 24.24693669351305, 149.14074586625478, 21.44636032336443, 35.01305989375597, 32.27834324730378, 33.077498389528714, 50.156911045461094, 52.78865859828506, 73.42824854031853, 33.58611608999827, 37.07324168863403, 39.89471148248437, 46.56118612598504, 40.32304065375236, 43.39179118342667, 33.07280227173763, 78.07729639817026, 79.94906125832803, 42.328539373913905, 50.92954416212919, 67.53522528268842, 28.097310441562204, 28.010151415961815, 25.292633062541483, 27.062278986742285, 29.358135514879567, 23.716107333500275, 22.396745117164777, 18.186483118900345, 35.6453511731859, 30.32034441890079, 33.204203480669086, 20.369185334663086, 18.8039410271873, 15.726820717726333, 14.640315873106314, 15.840213091402942, 21.394977721162117, 13.605432190935737, 13.562550013638655, 13.132609871894266, 13.050927345502947, 31.60045832338632, 16.21701482147375, 12.876032359655039, 17.844168941567766, 12.807658002626933, 12.634700582188591, 12.185614784093795, 12.099575003133483, 11.977496832415586, 14.156954713646519, 26.728825621052327, 21.133971688867135, 31.50718877998893, 15.17181626794609, 15.481669919671447, 27.282870335519583, 32.115173463399564, 15.22866713294678, 46.347329562131385, 32.598046379418356, 31.111882819404812, 31.076375414623893, 20.57268403626092, 32.70532609716619, 29.99013313254129, 29.26941997863874, 19.583158264077365, 50.750965067794425, 44.80750013388121, 48.375327501980316, 62.12973448168698, 52.7212576213719, 31.446726263169683, 45.25613713388131, 149.3559260994752, 190.53832616768844, 22.97109390691311, 24.21408101711383, 20.967714899502212, 21.138516006199655, 19.496402528326822, 24.514172028271073, 28.6864462765869, 19.795700243213147, 18.18024248917435, 17.782589409026098, 16.964669480966467, 33.92782162491406, 22.65729587495928, 15.903258417346999, 15.529123794430802, 15.609799910086313, 21.732076252165147, 14.886742429264093, 14.675782762792759, 15.111555760358835, 15.195002605681347, 14.975124467874327, 20.294847304994168, 14.032029951186136, 13.688659595490385, 12.863094705974973, 12.836993148005156, 12.826195813580867, 14.563117842833519, 15.044390054017413, 35.27077001618063, 24.83835271530867, 21.522604872680926, 19.742116858480703, 41.65306814645013, 35.903728223221776, 56.90419312052183, 42.68915381645791, 34.23160303978075, 70.44519994307457, 25.21292973296989, 44.67906978107462, 63.38306254716355, 28.79630648196213, 32.19057398734701, 28.479309722910752, 48.74659540444148, 48.09393011058425, 30.229574470544232, 45.85986359606275, 100.39549212023252, 75.31651494055384, 30.618888599890752, 30.037402003487575, 24.692737025075576, 19.486666769496427, 19.547052604957866, 16.372573486607333, 24.255093315215305, 15.98632307754723, 15.561779282280309, 14.626797159818917, 14.48496936454803, 14.43297307520993, 19.660510373987215, 15.494757340648977, 16.831229274651022, 24.02013772938743, 13.754520412534673, 24.669361111230383, 14.181221666959674, 18.47587509170142, 13.358122100739795, 23.11196298080608, 13.372371896311007, 13.00575670321355, 19.851672585763676, 12.666318936659325, 15.540055599102788, 12.672548283837386, 12.412885729289963, 12.33045364110729, 24.930220534847038, 24.134010998663307, 24.975201950925094, 16.65889614379218, 24.990442258531584, 29.11523459301315, 58.3427346695198, 20.495342452033483, 37.118157530673116, 33.361201367848025, 25.38166119012715, 62.17070712621612, 52.47006614717637, 30.923730568017387, 31.819082827780946, 26.760313719199214, 30.134892202600245, 28.48960593423118, 90.65834392208632, 46.11013580844785, 62.689459202597476, 110.79274353925231, 53.26385850821518, 109.95642225478336, 53.31029300584885, 25.33645979056675, 22.111925328269063, 21.432613095223136, 29.65364024075145, 20.11446485575718, 23.59827965301484, 19.693536821279746, 17.546576811011008, 23.60068229954976, 17.439927833263635, 26.1176560287891, 17.37948969881616, 16.712507559361406, 16.243613185808027, 16.28279884402848, 18.181174328011007, 15.641662074851912, 24.021217450130496, 15.87552588276211, 15.256874622872006, 21.761468011684716, 17.747367940467786, 13.558693775733143, 13.887681374891576, 13.787175720224253, 16.16346347661294, 24.869650742281372, 20.823677480706685, 12.530405376386, 14.506776038831072, 14.942170782717884, 19.278774072089924, 30.56731937368835, 16.105444052821007, 30.346435620330748, 43.89939084523208, 18.26328417380807, 37.46533810690348, 21.55758276093598, 33.78206967488876, 36.006625332821564, 40.07156436053515, 25.531967757899807, 25.266110384911666, 26.8430275794992, 35.61856668615455, 39.889977091870215, 87.34798916890178, 47.676598327646225, 29.643341203782406, 149.3559260994752, 80.40069910453862], \"Category\": [\"Default\", \"Default\", \"Default\", \"Default\", \"Default\", \"Default\", \"Default\", \"Default\", \"Default\", \"Default\", \"Default\", \"Default\", \"Default\", \"Default\", \"Default\", \"Default\", \"Default\", \"Default\", \"Default\", \"Default\", \"Default\", \"Default\", \"Default\", \"Default\", \"Default\", \"Default\", \"Default\", \"Default\", \"Default\", \"Default\", \"Topic1\", \"Topic1\", \"Topic1\", \"Topic1\", \"Topic1\", \"Topic1\", \"Topic1\", \"Topic1\", \"Topic1\", \"Topic1\", \"Topic1\", \"Topic1\", \"Topic1\", \"Topic1\", \"Topic1\", \"Topic1\", \"Topic1\", \"Topic1\", \"Topic1\", \"Topic1\", \"Topic1\", \"Topic1\", \"Topic1\", \"Topic1\", \"Topic1\", \"Topic1\", \"Topic1\", \"Topic1\", \"Topic1\", \"Topic1\", \"Topic1\", \"Topic1\", \"Topic1\", \"Topic1\", \"Topic1\", \"Topic1\", \"Topic1\", \"Topic1\", \"Topic1\", \"Topic1\", \"Topic1\", \"Topic1\", \"Topic1\", \"Topic1\", \"Topic1\", \"Topic1\", \"Topic1\", \"Topic1\", \"Topic1\", \"Topic1\", \"Topic1\", \"Topic1\", \"Topic1\", \"Topic1\", \"Topic1\", \"Topic1\", \"Topic1\", \"Topic1\", \"Topic2\", \"Topic2\", \"Topic2\", \"Topic2\", \"Topic2\", \"Topic2\", \"Topic2\", \"Topic2\", \"Topic2\", \"Topic2\", \"Topic2\", \"Topic2\", \"Topic2\", \"Topic2\", \"Topic2\", \"Topic2\", \"Topic2\", \"Topic2\", \"Topic2\", \"Topic2\", \"Topic2\", \"Topic2\", \"Topic2\", \"Topic2\", \"Topic2\", \"Topic2\", \"Topic2\", \"Topic2\", \"Topic2\", \"Topic2\", \"Topic2\", \"Topic2\", \"Topic2\", \"Topic2\", \"Topic2\", \"Topic2\", \"Topic2\", \"Topic2\", \"Topic2\", \"Topic2\", \"Topic2\", \"Topic2\", \"Topic2\", \"Topic2\", \"Topic2\", \"Topic2\", \"Topic2\", \"Topic2\", \"Topic2\", \"Topic2\", \"Topic2\", \"Topic2\", \"Topic2\", \"Topic2\", \"Topic2\", \"Topic3\", \"Topic3\", \"Topic3\", \"Topic3\", \"Topic3\", \"Topic3\", \"Topic3\", \"Topic3\", \"Topic3\", \"Topic3\", \"Topic3\", \"Topic3\", \"Topic3\", \"Topic3\", \"Topic3\", \"Topic3\", \"Topic3\", \"Topic3\", \"Topic3\", \"Topic3\", \"Topic3\", \"Topic3\", \"Topic3\", \"Topic3\", \"Topic3\", \"Topic3\", \"Topic3\", \"Topic3\", \"Topic3\", \"Topic3\", \"Topic3\", \"Topic3\", \"Topic3\", \"Topic3\", \"Topic3\", \"Topic3\", \"Topic3\", \"Topic3\", \"Topic3\", \"Topic3\", \"Topic3\", \"Topic3\", \"Topic3\", \"Topic3\", \"Topic3\", \"Topic3\", \"Topic3\", \"Topic3\", \"Topic3\", \"Topic3\", \"Topic3\", \"Topic3\", \"Topic3\", \"Topic3\", \"Topic3\", \"Topic3\", \"Topic3\", \"Topic3\", \"Topic3\", \"Topic3\", \"Topic3\", \"Topic3\", \"Topic4\", \"Topic4\", \"Topic4\", \"Topic4\", \"Topic4\", \"Topic4\", \"Topic4\", \"Topic4\", \"Topic4\", \"Topic4\", \"Topic4\", \"Topic4\", \"Topic4\", \"Topic4\", \"Topic4\", \"Topic4\", \"Topic4\", \"Topic4\", \"Topic4\", \"Topic4\", \"Topic4\", \"Topic4\", \"Topic4\", \"Topic4\", \"Topic4\", \"Topic4\", \"Topic4\", \"Topic4\", \"Topic4\", \"Topic4\", \"Topic4\", \"Topic4\", \"Topic4\", \"Topic4\", \"Topic4\", \"Topic4\", \"Topic4\", \"Topic4\", \"Topic4\", \"Topic4\", \"Topic4\", \"Topic4\", \"Topic4\", \"Topic4\", \"Topic4\", \"Topic4\", \"Topic4\", \"Topic4\", \"Topic4\", \"Topic4\", \"Topic4\", \"Topic4\", \"Topic4\", \"Topic4\", \"Topic4\", \"Topic4\", \"Topic4\", \"Topic4\", \"Topic4\", \"Topic5\", \"Topic5\", \"Topic5\", \"Topic5\", \"Topic5\", \"Topic5\", \"Topic5\", \"Topic5\", \"Topic5\", \"Topic5\", \"Topic5\", \"Topic5\", \"Topic5\", \"Topic5\", \"Topic5\", \"Topic5\", \"Topic5\", \"Topic5\", \"Topic5\", \"Topic5\", \"Topic5\", \"Topic5\", \"Topic5\", \"Topic5\", \"Topic5\", \"Topic5\", \"Topic5\", \"Topic5\", \"Topic5\", \"Topic5\", \"Topic5\", \"Topic5\", \"Topic5\", \"Topic5\", \"Topic5\", \"Topic5\", \"Topic5\", \"Topic5\", \"Topic5\", \"Topic5\", \"Topic5\", \"Topic5\", \"Topic5\", \"Topic5\", \"Topic5\", \"Topic5\", \"Topic5\", \"Topic5\", \"Topic5\", \"Topic5\", \"Topic5\", \"Topic5\", \"Topic5\", \"Topic5\", \"Topic6\", \"Topic6\", \"Topic6\", \"Topic6\", \"Topic6\", \"Topic6\", \"Topic6\", \"Topic6\", \"Topic6\", \"Topic6\", \"Topic6\", \"Topic6\", \"Topic6\", \"Topic6\", \"Topic6\", \"Topic6\", \"Topic6\", \"Topic6\", \"Topic6\", \"Topic6\", \"Topic6\", \"Topic6\", \"Topic6\", \"Topic6\", \"Topic6\", \"Topic6\", \"Topic6\", \"Topic6\", \"Topic6\", \"Topic6\", \"Topic6\", \"Topic6\", \"Topic6\", \"Topic6\", \"Topic6\", \"Topic6\", \"Topic6\", \"Topic6\", \"Topic6\", \"Topic6\", \"Topic6\", \"Topic6\", \"Topic6\", \"Topic6\", \"Topic6\", \"Topic6\", \"Topic6\", \"Topic6\", \"Topic6\", \"Topic6\", \"Topic6\", \"Topic6\", \"Topic6\", \"Topic6\", \"Topic7\", \"Topic7\", \"Topic7\", \"Topic7\", \"Topic7\", \"Topic7\", \"Topic7\", \"Topic7\", \"Topic7\", \"Topic7\", \"Topic7\", \"Topic7\", \"Topic7\", \"Topic7\", \"Topic7\", \"Topic7\", \"Topic7\", \"Topic7\", \"Topic7\", \"Topic7\", \"Topic7\", \"Topic7\", \"Topic7\", \"Topic7\", \"Topic7\", \"Topic7\", \"Topic7\", \"Topic7\", \"Topic7\", \"Topic7\", \"Topic7\", \"Topic7\", \"Topic7\", \"Topic7\", \"Topic7\", \"Topic7\", \"Topic7\", \"Topic7\", \"Topic7\", \"Topic7\", \"Topic7\", \"Topic7\", \"Topic7\", \"Topic7\", \"Topic7\", \"Topic7\", \"Topic7\", \"Topic7\", \"Topic7\", \"Topic7\", \"Topic7\", \"Topic7\", \"Topic7\", \"Topic7\", \"Topic7\", \"Topic7\", \"Topic8\", \"Topic8\", \"Topic8\", \"Topic8\", \"Topic8\", \"Topic8\", \"Topic8\", \"Topic8\", \"Topic8\", \"Topic8\", \"Topic8\", \"Topic8\", \"Topic8\", \"Topic8\", \"Topic8\", \"Topic8\", \"Topic8\", \"Topic8\", \"Topic8\", \"Topic8\", \"Topic8\", \"Topic8\", \"Topic8\", \"Topic8\", \"Topic8\", \"Topic8\", \"Topic8\", \"Topic8\", \"Topic8\", \"Topic8\", \"Topic8\", \"Topic8\", \"Topic8\", \"Topic8\", \"Topic8\", \"Topic8\", \"Topic8\", \"Topic8\", \"Topic8\", \"Topic8\", \"Topic8\", \"Topic8\", \"Topic8\", \"Topic8\", \"Topic8\", \"Topic8\", \"Topic8\", \"Topic8\", \"Topic8\", \"Topic8\", \"Topic8\", \"Topic8\", \"Topic9\", \"Topic9\", \"Topic9\", \"Topic9\", \"Topic9\", \"Topic9\", \"Topic9\", \"Topic9\", \"Topic9\", \"Topic9\", \"Topic9\", \"Topic9\", \"Topic9\", \"Topic9\", \"Topic9\", \"Topic9\", \"Topic9\", \"Topic9\", \"Topic9\", \"Topic9\", \"Topic9\", \"Topic9\", \"Topic9\", \"Topic9\", \"Topic9\", \"Topic9\", \"Topic9\", \"Topic9\", \"Topic9\", \"Topic9\", \"Topic9\", \"Topic9\", \"Topic9\", \"Topic9\", \"Topic9\", \"Topic9\", \"Topic9\", \"Topic9\", \"Topic9\", \"Topic9\", \"Topic9\", \"Topic9\", \"Topic9\", \"Topic9\", \"Topic9\", \"Topic9\", \"Topic9\", \"Topic9\", \"Topic9\", \"Topic9\", \"Topic9\", \"Topic9\", \"Topic9\", \"Topic9\", \"Topic9\", \"Topic10\", \"Topic10\", \"Topic10\", \"Topic10\", \"Topic10\", \"Topic10\", \"Topic10\", \"Topic10\", \"Topic10\", \"Topic10\", \"Topic10\", \"Topic10\", \"Topic10\", \"Topic10\", \"Topic10\", \"Topic10\", \"Topic10\", \"Topic10\", \"Topic10\", \"Topic10\", \"Topic10\", \"Topic10\", \"Topic10\", \"Topic10\", \"Topic10\", \"Topic10\", \"Topic10\", \"Topic10\", \"Topic10\", \"Topic10\", \"Topic10\", \"Topic10\", \"Topic10\", \"Topic10\", \"Topic10\", \"Topic10\", \"Topic10\", \"Topic10\", \"Topic10\", \"Topic10\", \"Topic10\", \"Topic10\", \"Topic10\", \"Topic10\", \"Topic10\", \"Topic10\", \"Topic10\", \"Topic10\", \"Topic10\", \"Topic10\", \"Topic10\", \"Topic10\"], \"logprob\": [30.0, 29.0, 28.0, 27.0, 26.0, 25.0, 24.0, 23.0, 22.0, 21.0, 20.0, 19.0, 18.0, 17.0, 16.0, 15.0, 14.0, 13.0, 12.0, 11.0, 10.0, 9.0, 8.0, 7.0, 6.0, 5.0, 4.0, 3.0, 2.0, 1.0, -5.048, -5.2349, -5.1914, -5.152, -5.2252, -5.3099, -5.0697, -5.4044, -5.5493, -5.5537, -5.5952, -5.6844, -5.7116, -5.7192, -5.7359, -5.7348, -5.072, -5.7593, -5.7761, -5.7894, -5.791, -5.7941, -5.6808, -5.8143, -5.6306, -5.8222, -5.8239, -5.7643, -5.8507, -5.8513, -4.9546, -5.5972, -5.5336, -5.6506, -4.8514, -5.268, -5.3977, -5.1417, -5.4126, -5.2056, -4.8233, -5.1885, -4.9396, -5.4897, -5.347, -5.3449, -5.2621, -5.2266, -5.3374, -5.3297, -5.1913, -5.2004, -5.3393, -5.2382, -5.2504, -5.1677, -5.3433, -5.3168, -4.7886, -4.9024, -5.0782, -5.2195, -4.9136, -5.3943, -5.4592, -5.2422, -5.5132, -5.4779, -5.5641, -5.4278, -5.5883, -5.5564, -5.5754, -5.1367, -5.6937, -5.7024, -4.7292, -5.8053, -5.6671, -5.8428, -5.8723, -5.8955, -5.7172, -5.8745, -5.9603, -5.9731, -5.9961, -5.9426, -4.4309, -4.4466, -5.562, -5.1876, -4.1878, -5.0735, -5.5318, -4.96, -5.3877, -4.4815, -4.8948, -4.9501, -4.5021, -4.5398, -4.1935, -5.2509, -4.5084, -5.1573, -4.4298, -4.9817, -5.136, -5.0767, -4.9285, -5.1468, -5.1776, -5.1751, -5.213, -5.2751, -5.3422, -5.3674, -5.4562, -5.5278, -5.5675, -5.5238, -5.5542, -5.595, -5.4775, -5.6022, -5.6445, -5.0424, -5.6645, -5.6544, -5.7198, -5.667, -5.7404, -5.7922, -5.623, -5.8212, -5.8375, -5.8469, -5.8603, -5.8672, -5.8673, -5.8463, -5.8628, -4.6591, -4.8771, -4.6522, -4.8771, -5.4614, -4.678, -4.7857, -5.5217, -5.6285, -5.637, -5.4122, -5.5184, -5.4738, -4.868, -4.3609, -5.176, -5.3236, -5.3983, -4.5394, -5.4998, -5.0222, -5.0683, -4.9471, -5.4151, -5.3705, -5.1186, -5.443, -5.2881, -5.4506, -5.3921, -5.4392, -5.4048, -4.642, -5.0301, -5.1008, -5.4221, -5.4764, -5.3898, -5.3694, -5.0069, -5.6062, -5.6129, -5.628, -5.6525, -5.3101, -4.8031, -5.6829, -5.6116, -5.0382, -5.0588, -5.6813, -5.7765, -5.8095, -5.7927, -5.504, -5.7196, -5.8584, -5.8006, -5.7734, -5.8314, -5.8901, -5.7627, -5.06, -5.5529, -5.2959, -5.5181, -5.026, -5.1842, -5.3648, -5.1354, -5.1146, -5.3835, -4.9774, -4.4549, -4.8428, -5.2524, -5.3759, -5.4312, -5.1552, -5.0368, -5.2442, -5.1227, -5.149, -5.2161, -5.1922, -5.215, -5.0523, -5.3321, -5.2767, -5.2678, -5.3295, -5.0562, -5.0675, -4.8613, -5.0786, -5.2899, -5.1733, -5.3923, -5.4644, -5.2634, -5.4798, -5.4457, -5.4834, -5.4887, -5.425, -5.4957, -5.5149, -5.5368, -5.6374, -5.6565, -5.5988, -5.6721, -5.7251, -5.72, -5.7425, -5.6525, -4.9948, -5.6317, -5.7983, -5.6471, -5.8384, -5.2459, -5.1836, -5.3154, -5.4563, -5.6652, -4.992, -4.7589, -5.1642, -4.8276, -4.8244, -5.3273, -4.7421, -5.2263, -4.9829, -4.8609, -5.1636, -5.1869, -5.1963, -5.1032, -5.1193, -5.3212, -5.1589, -5.3407, -5.3756, -4.9787, -4.9432, -5.0097, -5.0404, -5.1783, -5.1638, -5.3199, -5.4085, -5.444, -5.3675, -5.5029, -5.3248, -5.2306, -5.3669, -5.5228, -5.3096, -5.1406, -5.6097, -5.592, -5.6238, -5.6655, -5.7725, -5.7034, -5.7985, -5.8056, -5.7146, -5.8371, -5.4069, -5.7537, -5.8236, -5.4691, -5.2897, -5.2392, -3.6049, -5.3773, -4.9461, -5.0377, -5.0192, -4.7113, -4.6751, -4.5182, -5.107, -5.049, -5.049, -4.9723, -5.0544, -5.0331, -5.177, -4.8815, -4.897, -5.1268, -5.123, -5.1662, -5.2908, -4.9755, -5.0809, -5.0134, -4.933, -5.1495, -5.2094, -5.4246, -4.756, -4.9178, -4.8284, -5.3203, -5.4006, -5.5796, -5.6549, -5.5775, -5.279, -5.732, -5.7367, -5.7698, -5.7762, -4.8925, -5.5597, -5.7907, -5.4645, -5.7964, -5.8128, -5.8499, -5.8575, -5.8684, -5.7018, -5.0686, -5.3056, -4.9151, -5.6341, -5.6161, -5.0848, -4.9579, -5.6403, -4.6833, -5.0081, -5.0767, -5.0903, -5.413, -5.0829, -5.1636, -5.1911, -5.4557, -4.9302, -5.0192, -5.0073, -5.0001, -5.1005, -5.2572, -5.1696, -4.9847, -5.0124, -5.1543, -5.1038, -5.2493, -5.2415, -5.3253, -5.0974, -4.941, -5.3126, -5.3996, -5.4217, -5.4713, -4.7802, -5.1855, -5.5395, -5.5647, -5.5604, -5.2301, -5.6095, -5.6246, -5.5954, -5.5903, -5.6077, -5.3043, -5.6742, -5.7001, -5.7653, -5.7675, -5.7684, -5.6416, -5.6102, -4.7682, -5.1228, -5.265, -5.3613, -4.7001, -4.8481, -4.5353, -4.7753, -4.9569, -4.4214, -5.2273, -4.8657, -4.6589, -5.1707, -5.1114, -5.2484, -5.0179, -5.1678, -5.2944, -5.2344, -5.1248, -5.2003, -4.8602, -4.8849, -5.0823, -5.325, -5.3221, -5.5068, -5.1158, -5.5334, -5.5621, -5.6262, -5.6373, -5.6415, -5.3326, -5.5716, -5.489, -5.1334, -5.6917, -5.1076, -5.6616, -5.3974, -5.7229, -5.1748, -5.7229, -5.7516, -5.33, -5.7799, -5.5759, -5.7808, -5.8021, -5.8087, -5.1132, -5.1501, -5.1197, -5.5198, -5.1437, -5.0047, -4.3789, -5.3531, -4.8692, -4.9631, -5.2426, -4.6224, -4.7785, -5.1267, -5.1124, -5.2346, -5.169, -5.2401, -4.7553, -5.1433, -5.0622, -4.977, -5.1694, -5.1772, -5.2572, -4.9926, -5.1299, -5.1639, -4.8404, -5.2286, -5.0708, -5.2518, -5.3717, -5.0761, -5.3788, -4.9761, -5.3835, -5.423, -5.453, -5.4529, -5.3434, -5.4951, -5.0667, -5.4823, -5.5225, -5.168, -5.3721, -5.6448, -5.6217, -5.6306, -5.4727, -5.0426, -5.2207, -5.7292, -5.5833, -5.5562, -5.3123, -4.8795, -5.4911, -4.9342, -4.6298, -5.3868, -4.8424, -5.2622, -4.9769, -4.9866, -4.9608, -5.2139, -5.2293, -5.2188, -5.1344, -5.1, -4.8425, -5.0959, -5.2602, -5.1616, -5.2113], \"loglift\": [30.0, 29.0, 28.0, 27.0, 26.0, 25.0, 24.0, 23.0, 22.0, 21.0, 20.0, 19.0, 18.0, 17.0, 16.0, 15.0, 14.0, 13.0, 12.0, 11.0, 10.0, 9.0, 8.0, 7.0, 6.0, 5.0, 4.0, 3.0, 2.0, 1.0, 2.191, 2.1849, 2.1836, 2.1828, 2.1824, 2.1822, 2.1811, 2.1774, 2.171, 2.1709, 2.1697, 2.1648, 2.1635, 2.1631, 2.1622, 2.1612, 2.1611, 2.1608, 2.1598, 2.159, 2.1589, 2.1587, 2.1587, 2.1575, 2.1572, 2.157, 2.1569, 2.1561, 2.1552, 2.1552, 2.1523, 2.1538, 2.1445, 2.1484, 1.9974, 1.9782, 2.0177, 1.9056, 1.9978, 1.9046, 1.7041, 1.8436, 1.6029, 1.989, 1.8689, 1.8279, 1.6721, 1.6247, 1.7584, 1.7437, 1.4916, 1.3306, 1.6338, 1.0541, 0.76, 0.2003, 1.1765, 0.4839, 2.2215, 2.2194, 2.2171, 2.2159, 2.2074, 2.2067, 2.2062, 2.2051, 2.2037, 2.2015, 2.2012, 2.1992, 2.1965, 2.1963, 2.1952, 2.1943, 2.1943, 2.1926, 2.1917, 2.1865, 2.1854, 2.1853, 2.1833, 2.1818, 2.1801, 2.1786, 2.1772, 2.1763, 2.1746, 2.1741, 2.163, 2.1284, 2.1612, 2.1378, 2.0647, 2.1259, 2.1553, 2.0942, 2.1349, 2.0136, 2.0283, 2.0043, 1.6795, 1.6039, 1.3866, 1.9267, 1.2603, 1.7623, 0.9381, 1.4978, 1.7027, 1.5852, 1.1085, 1.3438, 1.4414, 2.2192, 2.2166, 2.2148, 2.213, 2.2119, 2.2081, 2.2038, 2.2026, 2.2026, 2.2021, 2.2014, 2.2003, 2.2, 2.1976, 2.1976, 2.1966, 2.1958, 2.1946, 2.1918, 2.1917, 2.1902, 2.1898, 2.1884, 2.1874, 2.1868, 2.1859, 2.1854, 2.1854, 2.1849, 2.1845, 2.1803, 2.1731, 2.1572, 2.1623, 2.1753, 2.1401, 2.1315, 2.1699, 2.1745, 2.1736, 2.124, 2.145, 2.1218, 1.8963, 1.7069, 1.9977, 2.0524, 2.0526, 1.4471, 2.0945, 1.4754, 1.3227, 0.633, 1.8322, 1.6082, 0.6501, 1.8296, 0.3234, 1.8639, 0.8819, 1.4951, -0.0369, 2.2328, 2.2229, 2.221, 2.2159, 2.2134, 2.2129, 2.2098, 2.2073, 2.207, 2.2066, 2.2049, 2.2045, 2.2027, 2.2026, 2.2015, 2.1995, 2.1992, 2.1973, 2.1973, 2.1959, 2.1953, 2.1947, 2.1946, 2.1928, 2.1921, 2.1915, 2.1914, 2.1906, 2.1899, 2.1877, 2.1493, 2.1742, 2.1528, 2.1689, 2.1191, 2.1286, 2.1162, 2.0638, 2.0292, 2.0716, 1.9118, 1.6392, 1.7176, 1.9381, 2.0251, 2.058, 1.7291, 1.5263, 1.7268, 1.517, 1.5416, 1.6128, 1.4806, 1.4967, 0.3157, 1.6003, 0.8433, 0.5009, 0.282, 2.2303, 2.2294, 2.2275, 2.2253, 2.2222, 2.222, 2.2148, 2.2148, 2.2145, 2.2141, 2.214, 2.2139, 2.2134, 2.2131, 2.211, 2.2108, 2.21, 2.2062, 2.2051, 2.2035, 2.2026, 2.2012, 2.2007, 2.2002, 2.2001, 2.1993, 2.198, 2.1968, 2.1957, 2.1942, 2.1848, 2.1739, 2.1783, 2.1605, 2.1917, 2.0645, 2.0157, 2.0827, 1.9458, 1.9175, 2.0872, 1.7598, 1.9977, 1.8601, 1.6589, 1.8198, 1.7648, 1.7194, 1.426, 1.2858, 1.5854, 0.6417, 1.1333, 1.2596, 2.2539, 2.2525, 2.251, 2.2509, 2.2506, 2.2425, 2.2423, 2.2381, 2.2376, 2.2373, 2.2367, 2.2359, 2.2357, 2.2353, 2.2352, 2.2338, 2.232, 2.2316, 2.2313, 2.2299, 2.2276, 2.2221, 2.2218, 2.2204, 2.2198, 2.2187, 2.2177, 2.2174, 2.2166, 2.216, 2.209, 2.1955, 2.1903, 2.0081, 2.1749, 2.116, 2.1057, 2.0998, 1.9914, 1.9764, 1.8033, 1.9967, 1.9559, 1.8825, 1.8048, 1.8665, 1.8145, 1.9421, 1.3786, 1.3395, 1.7455, 1.5644, 1.2389, 1.9913, 2.3098, 2.3064, 2.3063, 2.3053, 2.3022, 2.2995, 2.2925, 2.2882, 2.2882, 2.2867, 2.2835, 2.2832, 2.2828, 2.2792, 2.2778, 2.2757, 2.2754, 2.2738, 2.273, 2.2727, 2.2722, 2.2721, 2.2718, 2.2716, 2.2714, 2.2685, 2.2677, 2.2672, 2.2664, 2.2658, 2.2635, 2.2614, 2.2525, 2.2643, 2.262, 2.2268, 2.1906, 2.2543, 2.0984, 2.1255, 2.1035, 2.091, 2.1808, 2.0474, 2.0533, 2.0502, 2.1875, 1.7607, 1.7962, 1.7316, 1.4885, 1.5523, 1.9123, 1.6359, 0.6268, 0.3556, 2.3293, 2.3271, 2.3256, 2.3253, 2.3223, 2.3212, 2.3204, 2.3197, 2.3179, 2.3179, 2.3154, 2.3134, 2.3119, 2.3118, 2.3104, 2.3095, 2.3089, 2.3079, 2.307, 2.307, 2.3066, 2.3037, 2.3031, 2.3022, 2.3011, 2.2982, 2.298, 2.2979, 2.2977, 2.2966, 2.2866, 2.2826, 2.2837, 2.2737, 2.1883, 2.1889, 2.0411, 2.0886, 2.1277, 1.9415, 2.1631, 1.9526, 1.8098, 2.0869, 2.0347, 2.0202, 1.7133, 1.5769, 1.9145, 1.5579, 0.8839, 1.0959, 2.336, 2.3305, 2.329, 2.3231, 2.3229, 2.3154, 2.3134, 2.3127, 2.3109, 2.3087, 2.3074, 2.3068, 2.3066, 2.3057, 2.3056, 2.3056, 2.3048, 2.3046, 2.3043, 2.304, 2.3028, 2.3026, 2.3017, 2.3008, 2.2996, 2.299, 2.2985, 2.2976, 2.297, 2.297, 2.2886, 2.2841, 2.2802, 2.2851, 2.2556, 2.2419, 2.1725, 2.2445, 2.1345, 2.1473, 2.1412, 1.8656, 1.879, 2.0595, 2.0454, 2.0963, 2.0431, 2.0282, 1.3554, 1.6435, 1.4174, 0.9332, 1.4732, 0.7405, 1.3845, 2.393, 2.3918, 2.389, 2.3879, 2.3877, 2.3858, 2.3857, 2.3812, 2.3804, 2.3803, 2.3791, 2.379, 2.3786, 2.3771, 2.3749, 2.374, 2.3727, 2.3722, 2.3707, 2.3703, 2.3697, 2.3695, 2.366, 2.3651, 2.3635, 2.3623, 2.3616, 2.361, 2.3605, 2.3599, 2.3574, 2.3465, 2.3184, 2.3476, 2.271, 2.2061, 2.3261, 2.152, 2.2849, 2.121, 2.0475, 1.9664, 2.164, 2.159, 2.109, 1.9106, 1.8317, 1.3055, 1.6575, 1.9683, 0.4498, 1.0195]}, \"token.table\": {\"Topic\": [2, 10, 5, 1, 5, 1, 4, 1, 2, 3, 5, 10, 9, 1, 2, 4, 1, 2, 3, 5, 9, 10, 7, 1, 4, 5, 6, 10, 2, 4, 6, 2, 9, 1, 5, 7, 1, 3, 10, 9, 9, 1, 5, 6, 8, 10, 8, 9, 7, 4, 3, 1, 4, 6, 7, 7, 10, 9, 1, 3, 4, 10, 3, 1, 2, 3, 5, 6, 7, 8, 9, 10, 6, 4, 10, 1, 1, 3, 4, 7, 8, 10, 2, 9, 5, 3, 5, 7, 9, 10, 1, 4, 9, 2, 4, 8, 10, 4, 7, 8, 9, 2, 2, 3, 5, 6, 7, 8, 10, 2, 3, 6, 3, 4, 1, 10, 10, 5, 1, 3, 5, 6, 7, 7, 2, 3, 3, 6, 8, 1, 2, 4, 5, 6, 5, 1, 2, 3, 4, 5, 6, 7, 8, 9, 10, 8, 2, 9, 4, 10, 2, 4, 6, 7, 8, 9, 1, 2, 3, 8, 1, 1, 7, 2, 5, 6, 7, 9, 3, 9, 1, 2, 7, 9, 8, 1, 2, 4, 5, 6, 7, 8, 1, 2, 3, 4, 5, 6, 8, 9, 10, 2, 6, 9, 1, 2, 3, 4, 6, 7, 10, 5, 6, 10, 2, 10, 6, 1, 8, 3, 6, 1, 5, 7, 4, 7, 8, 1, 2, 3, 5, 7, 8, 5, 3, 8, 5, 7, 2, 2, 5, 3, 10, 6, 8, 8, 2, 3, 9, 8, 6, 7, 7, 10, 2, 3, 6, 7, 1, 2, 3, 4, 5, 6, 7, 8, 9, 10, 3, 10, 1, 2, 3, 4, 5, 6, 7, 9, 10, 5, 1, 2, 3, 4, 5, 7, 9, 6, 3, 8, 6, 8, 9, 5, 9, 7, 1, 2, 6, 8, 9, 6, 5, 3, 4, 5, 1, 2, 3, 6, 10, 3, 8, 1, 2, 3, 5, 9, 8, 1, 4, 1, 1, 3, 5, 8, 7, 8, 1, 1, 6, 7, 7, 9, 5, 5, 10, 3, 5, 7, 3, 10, 2, 3, 10, 9, 7, 10, 1, 5, 7, 3, 5, 8, 7, 9, 5, 6, 3, 6, 9, 10, 6, 8, 7, 2, 6, 5, 1, 7, 5, 2, 3, 4, 5, 6, 7, 5, 6, 8, 6, 7, 8, 1, 3, 5, 6, 7, 9, 2, 9, 4, 1, 3, 9, 2, 6, 9, 6, 2, 1, 3, 4, 5, 8, 10, 2, 5, 4, 1, 2, 3, 4, 5, 6, 7, 8, 9, 3, 7, 9, 7, 1, 2, 4, 5, 8, 10, 10, 4, 1, 3, 6, 10, 1, 2, 4, 5, 7, 4, 3, 1, 3, 1, 4, 5, 6, 8, 8, 6, 7, 9, 8, 9, 3, 6, 2, 6, 9, 1, 2, 3, 6, 7, 9, 1, 1, 2, 3, 4, 5, 6, 7, 8, 9, 10, 5, 3, 4, 6, 10, 6, 1, 7, 10, 3, 5, 7, 1, 3, 5, 8, 9, 2, 5, 10, 2, 7, 10, 6, 1, 6, 7, 8, 3, 2, 4, 7, 8, 6, 1, 2, 4, 6, 7, 10, 10, 2, 3, 4, 6, 8, 9, 3, 10, 3, 4, 3, 3, 4, 10, 6, 6, 3, 10, 5, 6, 3, 4, 10, 4, 9, 2, 5, 6, 7, 9, 6, 2, 9, 10, 3, 4, 6, 8, 7, 4, 8, 9, 10, 1, 4, 6, 9, 5, 2, 3, 4, 6, 9, 10, 1, 2, 3, 4, 5, 6, 7, 8, 2, 6, 5, 1, 4, 10, 4, 1, 2, 3, 4, 5, 6, 9, 10, 7, 9, 3, 8, 3, 7, 9, 2, 1, 3, 6, 7, 9, 1, 2, 3, 4, 7, 9, 6, 6, 4, 6, 4, 5, 8, 3, 5, 8, 5, 6, 8, 7, 1, 3, 7, 9, 7, 10, 1, 4, 6, 4, 7, 5, 4, 7, 1, 6, 7, 10, 1, 2, 5, 9, 3, 6, 5, 5, 1, 2, 3, 4, 6, 7, 8, 9, 10, 10, 9, 2, 1, 2, 6, 8, 4, 4, 9, 4, 5, 6, 7, 9, 10, 5, 6, 7, 8, 9, 7, 1, 2, 9, 7, 1, 8, 6, 8, 3, 1, 2, 3, 5, 6, 7, 8, 10, 2, 3, 4, 5, 7, 8, 9, 4, 1, 10, 9, 10, 1, 2, 6, 7, 10, 3, 5, 8, 10, 3, 1, 1, 3, 5, 6, 8, 9, 10, 9, 3, 8, 9, 10, 2, 4, 1, 2, 3, 4, 5, 6, 7, 8, 9, 10, 4, 1, 3, 8, 10, 4, 2, 1, 6, 6, 3, 5, 3, 2, 9, 1, 3, 4, 7, 8, 9, 8, 3, 5, 4, 5, 2, 3, 3, 4, 10, 9, 1, 5, 7, 9, 10, 3, 2, 3, 9, 7, 1, 7, 1, 4, 8, 3, 4, 9, 1, 2, 3, 4, 5, 6, 7, 8, 9, 10, 2, 1, 5, 4, 5, 9, 3, 4, 2, 1, 3, 7, 1, 4, 5, 6, 1, 1, 1, 2, 3, 4, 5, 6, 7, 8, 9, 10, 10, 9, 10, 7, 9, 1, 7, 9, 10, 8, 1, 3, 4, 5, 6, 7, 8, 7, 1, 4, 5, 6, 7, 8, 10, 4, 5, 4, 7, 8, 1, 5, 6, 8, 10, 1, 5, 6, 8, 9, 1, 2, 3, 5, 6, 7, 10, 4, 8, 9, 4, 6, 4, 6, 3, 8, 3, 4, 5, 6, 6, 6, 3, 1, 2, 9, 4, 5, 9, 7, 1, 3, 6, 7, 5, 3, 1, 2, 3, 5, 6, 5, 8, 4, 7, 3, 1, 3, 5, 7, 8, 9, 10, 1, 7, 8, 5, 10, 3, 8, 10, 1, 2, 4, 9, 10, 3, 8, 2, 7, 9, 1, 2, 4, 5, 6, 9, 10, 8, 1, 6, 6, 1, 6, 7, 9, 1, 4, 5, 6, 6, 8, 10, 3, 4, 7, 8, 9, 6, 5, 2, 7, 10, 3, 4, 10, 1, 4, 6, 7, 9, 8, 7, 8, 10, 5, 2, 2, 3, 4, 6, 1, 3, 5, 2, 3, 6, 1, 5, 9, 1, 3, 4, 5, 7, 8, 1, 2, 4, 5, 6, 7, 1, 7, 10, 1, 5, 6, 8, 9, 5, 7, 2, 4, 9, 1, 2, 7, 5, 1, 3, 4, 7, 8, 9, 10, 8, 5, 6, 7, 2, 9, 8, 7, 10, 4, 2, 5, 9, 3, 4, 9, 5, 7, 9, 2, 7, 10, 1, 7, 1, 4, 5, 8, 5, 7, 1, 7, 2, 3, 4, 2, 10, 2, 5, 9, 6, 4, 4, 7, 1, 3, 5, 9, 10, 1, 3, 5, 7, 8, 9, 10, 10, 1, 2, 3, 4, 8, 9, 10, 1, 5, 6, 8, 1, 3, 4, 9, 1, 3, 3, 4, 1, 5, 7, 9, 2, 7, 3, 1, 2, 4, 6, 7, 10, 4, 10, 6, 6, 10, 10, 2, 3, 4, 5, 8, 9, 10, 2, 7, 4, 5, 1, 5, 6, 8, 9, 5, 6, 7, 8, 9, 4, 3, 6, 1, 3, 4, 5, 6, 7, 5, 8, 10, 8, 4, 1, 2, 4, 5, 6, 8, 9, 10, 2, 3, 7, 2, 3, 6, 7, 8, 9, 10, 3, 1, 1, 4, 9, 9, 10, 1, 3, 4, 5, 6, 9, 9, 8, 1, 2, 5, 7, 8, 10, 4, 8, 5, 9, 1, 2, 3, 4, 5, 8, 9, 10, 1, 3, 4, 7, 3, 8, 10, 1, 7, 2, 1, 3, 4, 5, 6, 7, 8, 9, 10, 7, 1, 2, 3, 5, 9, 2, 4, 6, 7, 1, 2, 6, 9, 10, 1, 2, 4, 5, 7, 8, 10, 1, 2, 6, 8, 4, 9, 4, 10], \"Freq\": [0.9208666903531657, 0.9573668070556953, 0.9438739444444806, 0.3580550713390581, 0.6138086937240996, 0.06617889162906278, 0.8934150369923476, 0.17943028993863355, 0.01631184453987578, 0.01631184453987578, 0.6035382479754038, 0.16311844539875778, 0.9667373293934625, 0.9518563045151859, 0.09310579603524297, 0.8689874296622677, 0.146164671246957, 0.12992415221951734, 0.4547345327683107, 0.08120259513719834, 0.09744311416463801, 0.08120259513719834, 0.9585218109372539, 0.48867741457673664, 0.13682967608148625, 0.19547096583069465, 0.07818838633227786, 0.09773548291534732, 0.9345319984978416, 0.9099378325441595, 0.9433550147212834, 0.10303884004149212, 0.8930032803595984, 0.12188773352528805, 0.8532141346770163, 0.04062924450842935, 0.09882661739679405, 0.8894395565711464, 0.9747746758203581, 0.9226683440137674, 0.9383020677886512, 0.9541043425034469, 0.025068953980517707, 0.20055163184414165, 0.20055163184414165, 0.5515169875713896, 0.9613326041229127, 0.9469287258747195, 0.9193188003769158, 0.9642518774954665, 0.9578702426046447, 0.151741448533978, 0.24657985386771428, 0.13277376746723077, 0.45522434560193403, 0.09277478009381256, 0.8813604108912193, 0.9720135502771854, 0.9659591299422141, 0.8951112168065584, 0.02237778042016396, 0.06713334126049188, 0.9637369849065575, 0.025615641066778407, 0.11527038480050283, 0.03842346160016761, 0.07684692320033522, 0.3970424365350653, 0.17930948746744885, 0.012807820533389204, 0.10246256426711363, 0.051231282133556814, 0.9754101753624569, 0.9746382377913385, 0.9472515181041852, 0.9488425957313487, 0.14976778349166406, 0.09360486468229004, 0.4680243234114502, 0.2246516752374961, 0.018720972936458007, 0.018720972936458007, 0.9686052853208856, 0.9665191308077604, 0.958052253291827, 0.02777266657890479, 0.13886333289452396, 0.02777266657890479, 0.11109066631561916, 0.6943166644726197, 0.692927053110793, 0.1385854106221586, 0.1385854106221586, 0.9232247557688535, 0.03295279921870115, 0.09885839765610346, 0.85677277968623, 0.028054149197223977, 0.9538410727056152, 0.9305794352401464, 0.9506138701406135, 0.976045381555989, 0.03352392516074445, 0.050285887741116676, 0.4358110270896779, 0.1340957006429778, 0.1843815883840945, 0.15085766322335004, 0.9572068784596472, 0.9694061982814466, 0.9056543570764259, 0.060376957138428396, 0.9179219814072963, 0.9679187771201632, 0.9225068381168183, 0.928018925009707, 0.9650662533512231, 0.9359097748159202, 0.19886805569320432, 0.19886805569320432, 0.08838580253031303, 0.022096450632578257, 0.48612191391672166, 0.9376362453625319, 0.11728019290208685, 0.8209613503146079, 0.18638996627889862, 0.09319498313944931, 0.714494870735778, 0.543563638883928, 0.067945454860491, 0.05095909114536825, 0.25479545572684126, 0.08493181857561374, 0.964613468186303, 0.10003963183261426, 0.036378047939132456, 0.09094511984783114, 0.07275609587826491, 0.11822865580218048, 0.10003963183261426, 0.1364176797717467, 0.10003963183261426, 0.20007926366522852, 0.05456707190869868, 0.9609348029059431, 0.18858694681209462, 0.7812887796501062, 0.9485324900857303, 0.9589773726231081, 0.12761316019884453, 0.3190329004971113, 0.07975822512427783, 0.07975822512427783, 0.015951645024855566, 0.38283948059653355, 0.9548474676611276, 0.04213275485429717, 0.8005223422316463, 0.08426550970859434, 0.9100450347195912, 0.9430171480256184, 0.9488929025560459, 0.5710701054925639, 0.09137121687881022, 0.06852841265910767, 0.09137121687881022, 0.18274243375762045, 0.8718180595797956, 0.09177032206103111, 0.8091816029818563, 0.040459080149092816, 0.12137724044727843, 0.040459080149092816, 0.9598043901737727, 0.05310920192147948, 0.01327730048036987, 0.15932760576443844, 0.10621840384295896, 0.11949570432332883, 0.2655460096073974, 0.2788233100877673, 0.10186564453172343, 0.36828348407623085, 0.20373128906344687, 0.17238801382291657, 0.04701491286079543, 0.06268655048106057, 0.007835818810132572, 0.03134327524053029, 0.007835818810132572, 0.9256217925676026, 0.040111959643606726, 0.9225750718029546, 0.026073515895591478, 0.026073515895591478, 0.13036757947795738, 0.5736173497030125, 0.18251461126914034, 0.026073515895591478, 0.026073515895591478, 0.8952355816868203, 0.04973531009371224, 0.9576705333583566, 0.19583292785778164, 0.7833317114311266, 0.9404466271717418, 0.954444829717465, 0.9404340853294438, 0.9553737261441183, 0.034120490219432795, 0.06872030542931354, 0.8246436651517625, 0.06872030542931354, 0.03966218962218984, 0.11898656886656951, 0.8329059820659866, 0.024769059335442364, 0.6192264833860591, 0.0743071780063271, 0.04953811867088473, 0.09907623734176946, 0.1486143560126542, 0.9564544984005265, 0.13926130369843054, 0.8355678221905833, 0.12455171710526948, 0.8718620197368864, 0.9132442748925196, 0.9319002774302373, 0.9405554210755552, 0.9544478135885934, 0.912422890606314, 0.05670417739908969, 0.93561892708498, 0.9268537655991457, 0.07879704898030675, 0.07879704898030675, 0.7879704898030675, 0.9213555511181984, 0.046739941169038186, 0.9347988233807637, 0.9336167337381746, 0.030116668830263697, 0.9407588267143513, 0.9555390369511579, 0.9108815323681738, 0.9183888882550055, 0.13538792813344955, 0.036103447502253215, 0.04512930937781652, 0.07220689500450643, 0.15343965188457617, 0.08123275688006973, 0.07220689500450643, 0.09025861875563304, 0.2346724087646459, 0.08123275688006973, 0.9095007282919197, 0.06654883377745754, 0.06819643388946578, 0.0779387815879609, 0.44814799413077516, 0.08768112928645601, 0.009742347698495113, 0.04871173849247556, 0.05845408619097067, 0.13639286777893156, 0.05845408619097067, 0.9435664131025194, 0.05700032898068065, 0.524403026622262, 0.07980046057295291, 0.06840039477681678, 0.10260059216522517, 0.01140006579613613, 0.14820085534976968, 0.9313547453161696, 0.8857938251185856, 0.05210551912462268, 0.05065312940696255, 0.9117563293253259, 0.9654629916606262, 0.9427518377068523, 0.9571473403937819, 0.913755918820202, 0.025065978994209457, 0.20052783195367566, 0.6767814328436553, 0.07519793698262837, 0.025065978994209457, 0.9412603885918469, 0.9529412195622465, 0.6530403976954143, 0.27496437797701656, 0.03437054724712707, 0.29030913499901223, 0.40320713194307256, 0.12902628222178322, 0.08064142638861452, 0.09676971166633741, 0.669794135350268, 0.317270906218548, 0.5486820945187891, 0.10451087514643603, 0.07838315635982702, 0.07838315635982702, 0.13063859393304503, 0.9355852798765119, 0.8132955546159937, 0.16265911092319874, 0.9580926140657897, 0.03308018778016218, 0.09924056334048655, 0.1984811266809731, 0.6285235678230815, 0.9572461418579787, 0.9264518423366893, 0.9377482226538415, 0.9700714499970874, 0.15338342493913631, 0.7975938096835089, 0.7338254304114559, 0.2140324172033413, 0.9751712127949608, 0.9083252651943815, 0.04128751205429007, 0.17119496460280856, 0.7275785995619364, 0.08559748230140428, 0.9371770509749526, 0.04571595370609525, 0.9443299606613511, 0.8764893030260773, 0.04869385016811541, 0.9797873591044398, 0.9537846376726922, 0.9321764396794453, 0.032178784901968356, 0.1608939245098418, 0.7722908376472406, 0.9483411112496799, 0.9485515337985247, 0.9350810370171277, 0.960746876223444, 0.9155408307108734, 0.12092812923441251, 0.8162648723322845, 0.22636337438664958, 0.032337624912378515, 0.7437653729847058, 0.9587944248189252, 0.9792823698827324, 0.9538473837449408, 0.9182765829906004, 0.9280487513939544, 0.9171531216695831, 0.9749953039159357, 0.032981155694809, 0.956453515149461, 0.9703124974276847, 0.04226776623099894, 0.5811817856762355, 0.21133883115499472, 0.08453553246199788, 0.04226776623099894, 0.03170082467324921, 0.0947173149075327, 0.7387950562787551, 0.17049116683355886, 0.07202350591442984, 0.07202350591442984, 0.840274235668348, 0.08884252588016471, 0.01480708764669412, 0.370177191167353, 0.35537010352065884, 0.05922835058677648, 0.10364961352685884, 0.8500458109141004, 0.11333944145521338, 0.9409902226735486, 0.6065707228325818, 0.23107456107907878, 0.11553728053953939, 0.9701462873049228, 0.9521011978096923, 0.05011058935840485, 0.9737835779910585, 0.9413687951689653, 0.10376377281652388, 0.08646981068043656, 0.5879947126269687, 0.017293962136087315, 0.08646981068043656, 0.1210577349526112, 0.03259386064682865, 0.9452219587580308, 0.9664908057818377, 0.12295454362688994, 0.31763257103613235, 0.08196969575125997, 0.09221590772016745, 0.09221590772016745, 0.05123105984453748, 0.11270833165798244, 0.08196969575125997, 0.04098484787562998, 0.2049921045370523, 0.7516377166358584, 0.03416535075617538, 0.9327815368082941, 0.9763816635585234, 0.46251626107013305, 0.2073348756521286, 0.09569301953175166, 0.09569301953175166, 0.11164185612037694, 0.9746473191346215, 0.9175273675121612, 0.10676535171219895, 0.08007401378414922, 0.053382675856099474, 0.7473574619853927, 0.0350951551531737, 0.8773788788293425, 0.01754757757658685, 0.01754757757658685, 0.0350951551531737, 0.9628192128838124, 0.9320057671832267, 0.941692145263126, 0.9485790187379078, 0.9321262832124811, 0.08722223936888063, 0.37069451731774267, 0.08722223936888063, 0.43611119684440314, 0.9431365590677272, 0.031645110642586384, 0.9177082086350052, 0.9518879905731271, 0.7887448323300296, 0.17527662940667324, 0.9503249606501805, 0.8980793366238828, 0.11424308564111922, 0.8568231423083941, 0.9700011166823553, 0.06506161709136343, 0.2385592626683326, 0.15181043987984802, 0.021687205697121147, 0.04337441139424229, 0.4771185253366652, 0.9659380692813497, 0.2294857723948281, 0.039910569112144016, 0.06984349594625203, 0.049888211390180015, 0.18957520328268407, 0.02993292683410801, 0.14966463417054005, 0.07982113822428803, 0.05986585366821602, 0.09977642278036003, 0.9530584146806224, 0.07915741558678353, 0.03957870779339177, 0.11873612338017529, 0.7519954480744435, 0.9478117504791312, 0.7797825559148645, 0.17328501242552544, 0.9369455217438956, 0.12854564925695441, 0.7712738955417265, 0.08569709950463628, 0.4030280897167879, 0.050378511214598486, 0.28547823021605806, 0.15113553364379545, 0.10075702242919697, 0.03373438888435434, 0.303609499959189, 0.6409533888027323, 0.9423691313098764, 0.02479918766604938, 0.9647835313903418, 0.9560441750362614, 0.17034517624617393, 0.05678172541539131, 0.11356345083078262, 0.6529898422770001, 0.905528395938669, 0.07526579693385434, 0.5268605785369803, 0.15053159386770867, 0.225797390801563, 0.9480160878243132, 0.9658263450714999, 0.8919413815743746, 0.07432844846453122, 0.03271467765213253, 0.06542935530426507, 0.8832962966075784, 0.9234398670060325, 0.1751114994929558, 0.03752389274849052, 0.10006371399597473, 0.3877468917344021, 0.07504778549698105, 0.22514335649094316, 0.045952782204907075, 0.9190556440981416, 0.1637856779897832, 0.8189283899489159, 0.9523603812960049, 0.931393612529837, 0.028224048864540517, 0.028224048864540517, 0.9670611034147175, 0.9822868068753381, 0.2368120152788224, 0.74003754774632, 0.046627958540385255, 0.8859312122673199, 0.6617105707731843, 0.25733188863401607, 0.03676169837628802, 0.2242126180940582, 0.7473753936468607, 0.022317692283927475, 0.11158846141963737, 0.0892707691357099, 0.5802599993821144, 0.20085923055534727, 0.9736331269045665, 0.0487915731264487, 0.8782483162760765, 0.0487915731264487, 0.04724944516352845, 0.1653730580723496, 0.5906180645441056, 0.1653730580723496, 0.9369394465044837, 0.9710059130080386, 0.9202986299115078, 0.9209134743011785, 0.040039716273964285, 0.6202878232239125, 0.1476875769580744, 0.1772250923496893, 0.029537515391614883, 0.9489208528761873, 0.09387106064599413, 0.006705075760428152, 0.006705075760428152, 0.7576735609283811, 0.02682030304171261, 0.10728121216685044, 0.09169125446076884, 0.44011802141169043, 0.07335300356861507, 0.07335300356861507, 0.055014752676461304, 0.055014752676461304, 0.18338250892153768, 0.018338250892153768, 0.9403856174307557, 0.05531680102533857, 0.9352276476986324, 0.9304903805842739, 0.9362809200008116, 0.034677071111141176, 0.9358563306542819, 0.13046027628458867, 0.037274364652739624, 0.018637182326369812, 0.018637182326369812, 0.3727436465273962, 0.1863718232636981, 0.16773464093732832, 0.07454872930547925, 0.8796728388491584, 0.07330606990409652, 0.9076044390105519, 0.9412110423045559, 0.9229371207858061, 0.9347601671448347, 0.898329863247426, 0.9231872105581201, 0.9289750028363518, 0.10789453033523978, 0.7282880797628685, 0.16184179550285965, 0.9004198039609992, 0.04339464664994627, 0.23867055657470448, 0.08678929329989254, 0.5424330831243284, 0.021697323324973136, 0.05424330831243284, 0.9705007277271571, 0.941822481560498, 0.8683832327554846, 0.08683832327554845, 0.11470761517038881, 0.6653041679882551, 0.1835321842726221, 0.9434667913372228, 0.944400862634535, 0.9348837153262912, 0.06945335163913437, 0.1736333790978359, 0.763986868030478, 0.9469569578038722, 0.12719925013894973, 0.09539943760421228, 0.6359962506947485, 0.12719925013894973, 0.9091228408560862, 0.9497137715616506, 0.7896776166275008, 0.13733523767434797, 0.03433380941858699, 0.04731718271993218, 0.9463436543986437, 0.9250456485989993, 0.8057950951517526, 0.18595271426578908, 0.12094530022387008, 0.695435476287253, 0.1511816252798376, 0.9360813838589016, 0.731627381289336, 0.028139514664974462, 0.14069757332487232, 0.11255805865989785, 0.041242323211390944, 0.9073311106506008, 0.962983042994248, 0.9670323172236195, 0.06488410220504805, 0.42174666433281227, 0.19465230661514413, 0.12327979418959129, 0.032442051102524024, 0.012976820441009609, 0.0064884102205048045, 0.11679138396908648, 0.019465230661514413, 0.9206254198067665, 0.9750256534248211, 0.9791325385230759, 0.25875600164379975, 0.0680936846431052, 0.6128431617879468, 0.05447494771448416, 0.8950480740623646, 0.8318096307274525, 0.13133836274643987, 0.4924579807146221, 0.17728487305726395, 0.1378882346000942, 0.07879327691433954, 0.019698319228584886, 0.07879327691433954, 0.15019565281336342, 0.09387228300835214, 0.18774456601670428, 0.131421196211693, 0.41303804523674936, 0.9194748911183639, 0.2199937703386084, 0.03142768147694406, 0.7228366739697133, 0.9249544484683926, 0.9728826364054091, 0.938232789321832, 0.9248900000163953, 0.9559912568959799, 0.9525303423648196, 0.11688629654226648, 0.09091156397731838, 0.2597473256494811, 0.11688629654226648, 0.11688629654226648, 0.06493683141237028, 0.1428610291072146, 0.09091156397731838, 0.8261924648895119, 0.03813195991797747, 0.012710653305992492, 0.06355326652996246, 0.012710653305992492, 0.012710653305992492, 0.025421306611984985, 0.9259673338024927, 0.941201356824663, 0.9798151959678889, 0.9451438225467267, 0.9442348316319378, 0.1657674752313852, 0.5683456293647492, 0.05920266972549471, 0.07104320367059365, 0.1420864073411873, 0.1490144875854062, 0.03725362189635155, 0.11176086568905466, 0.7078188160306795, 0.9376697932280318, 0.9715445821416996, 0.015777085546409133, 0.047331256639227395, 0.09466251327845479, 0.047331256639227395, 0.5679750796707288, 0.15777085546409134, 0.07888542773204567, 0.9473944292740932, 0.12477676077264147, 0.12477676077264147, 0.09982140861811317, 0.6238838038632073, 0.9196749016040093, 0.9025739659207365, 0.10043123424516535, 0.06025874054709922, 0.14729914355957585, 0.1406037279432315, 0.02678166246537743, 0.07364957177978793, 0.18077622164129764, 0.10043123424516535, 0.03347707808172179, 0.1406037279432315, 0.941292206381024, 0.6023230554334031, 0.06692478393704479, 0.23423674377965678, 0.083655979921306, 0.9693540862633977, 0.951953401434855, 0.043603631954595885, 0.9156762710465136, 0.9337066513063553, 0.8753551677309966, 0.09726168530344408, 0.9581538768260108, 0.9654985545650567, 0.9570981950218925, 0.167365128902703, 0.023909304128957573, 0.5977326032239393, 0.023909304128957573, 0.047818608257915146, 0.14345582477374544, 0.9347983489314845, 0.9032790901183805, 0.9359699901245517, 0.958057227784013, 0.9046009629433303, 0.9531773886263422, 0.9275815406950797, 0.026994461672378428, 0.944806158533245, 0.9176191288228986, 0.9008976776639266, 0.5780624962000973, 0.1256657600434994, 0.15079891205219928, 0.07539945602609964, 0.05026630401739977, 0.9228421774398382, 0.9546868539599356, 0.08003059647002495, 0.8803365611702744, 0.9319641070179394, 0.9220948076352935, 0.9497652850528692, 0.05553191523499666, 0.9440425589949433, 0.9539525234384051, 0.053350078763136084, 0.9069513389733135, 0.8973725897729782, 0.17796864366595372, 0.02426845140899369, 0.04044741901498948, 0.07280535422698108, 0.19414761127194952, 0.12134225704496845, 0.05662638662098528, 0.09707380563597476, 0.12943174084796635, 0.08898432183297686, 0.954150123126965, 0.20149000514144996, 0.7723783530422248, 0.16592062007006503, 0.09955237204203901, 0.7300507283082861, 0.9111823237355972, 0.05359896021974101, 0.9343880878287898, 0.106027479369266, 0.6997813638371556, 0.1908494628646788, 0.6994481830680378, 0.16653528168286613, 0.03330705633657323, 0.06661411267314646, 0.9743728279035901, 0.9433710112907568, 0.13120719858742785, 0.26766268511835284, 0.09971747092644517, 0.1417037744744221, 0.05773116737846826, 0.06297945532196537, 0.13645548653092499, 0.026241439717485573, 0.04723459149147403, 0.026241439717485573, 0.9688499462374898, 0.9115766128232269, 0.04143530058287395, 0.9204248656553798, 0.06347757694175032, 0.9546398440447571, 0.803551496549326, 0.03214205986197304, 0.1607102993098652, 0.9361982238380512, 0.10058935886305102, 0.020117871772610204, 0.4627110507700347, 0.18106084595349184, 0.10058935886305102, 0.10058935886305102, 0.020117871772610204, 0.9639362386528846, 0.09817484295722326, 0.11780981154866792, 0.07853987436577861, 0.4908742147861163, 0.19634968591444651, 0.9461402112681069, 0.9350331113545719, 0.03837596374380378, 0.9210231298512908, 0.03511321059848336, 0.24579247418938352, 0.7022642119696672, 0.15033981267271485, 0.17181692876881696, 0.6228363667869615, 0.02147711609610212, 0.02147711609610212, 0.04685030789317126, 0.02342515394658563, 0.14055092367951377, 0.7496049262907402, 0.9167052250715635, 0.1243770279534236, 0.18656554193013541, 0.1243770279534236, 0.11193932515808125, 0.14925243354410833, 0.049750811181369446, 0.2487540559068472, 0.920861438535771, 0.9745387628509625, 0.9201187990081011, 0.03896131579764855, 0.9350715791435651, 0.8828273568122352, 0.04203939794343977, 0.029474335577904437, 0.943178738492942, 0.02840303535716953, 0.0852091060715086, 0.8236880253579164, 0.02840303535716953, 0.9697909922259466, 0.9454514999791547, 0.9820763924733991, 0.1542608527176547, 0.017140094746406077, 0.8227245478274917, 0.9317646924280074, 0.2457036442048247, 0.7020104120137849, 0.9027037367337912, 0.1773365292261452, 0.01970405880290502, 0.23644870563486026, 0.5517136464813406, 0.9820883572650252, 0.9720045591093137, 0.9442516721289759, 0.12335210141450142, 0.09868168113160114, 0.5920900867896068, 0.172692941980302, 0.9234558515464563, 0.04397408816887887, 0.9530638712749951, 0.9042952131547001, 0.9345733103976521, 0.14882998594120297, 0.14882998594120297, 0.06869076274209368, 0.06869076274209368, 0.10303614411314051, 0.13738152548418736, 0.3205568927964372, 0.17905475738863033, 0.15667291271505154, 0.6714553402073637, 0.04162986335209948, 0.957486857098288, 0.9168862110185539, 0.9577253956277257, 0.9448505901960218, 0.555160144908936, 0.023131672704539, 0.11565836352269498, 0.138790036227234, 0.161921708931773, 0.9132290512754272, 0.050734947293079286, 0.09529242799075584, 0.2668187983741164, 0.6098715391408374, 0.14276645211208844, 0.015862939123565383, 0.031725878247130766, 0.3172587824713076, 0.25380702597704613, 0.1586293912356538, 0.047588817370696146, 0.9432029340376096, 0.9227816608381832, 0.9207528231597873, 0.9555398185794545, 0.9754256937764882, 0.7443551952541735, 0.08932262343050082, 0.14887103905083468, 0.04609166723598846, 0.1382750017079654, 0.16132083532595962, 0.6222375076858442, 0.017573397409959262, 0.7205092938083297, 0.24602756373942966, 0.1448581758007157, 0.09657211720047712, 0.4184791745354009, 0.24143029300119281, 0.06438141146698476, 0.8989399811152603, 0.9344624078859826, 0.02277935936572592, 0.15945551556008145, 0.7972775778004072, 0.4775604270316833, 0.37702138976185523, 0.12567379658728506, 0.0423132872183062, 0.8462657443661239, 0.0423132872183062, 0.0423132872183062, 0.0423132872183062, 0.9659270026155268, 0.8749466024109266, 0.04860814457838481, 0.09721628915676962, 0.923092988411363, 0.9398629460921076, 0.9120210208517608, 0.017882765114740407, 0.05364829534422123, 0.017882765114740407, 0.34871624884219027, 0.08302767829575958, 0.5479826767520133, 0.9005136089098068, 0.21354357074421823, 0.7474024976047638, 0.7192851823884223, 0.08991064779855279, 0.14985107966425465, 0.14554851275212125, 0.1663411574309957, 0.041585289357748925, 0.041585289357748925, 0.14554851275212125, 0.4574381829352382, 0.3174388303325498, 0.07935970758313746, 0.21162588688836653, 0.1587194151662749, 0.09258632551366036, 0.13226617930522908, 0.8076013723534352, 0.023074324924383865, 0.16152027447068704, 0.1487983024772626, 0.024799717079543766, 0.644792644068138, 0.1487983024772626, 0.024799717079543766, 0.9654816674875972, 0.9537390406079697, 0.7693757228362375, 0.1538751445672475, 0.02564585742787458, 0.04526826657787952, 0.9053653315575905, 0.04526826657787952, 0.9522966819298919, 0.06292395232107804, 0.08389860309477072, 0.1048732538684634, 0.14682255541584877, 0.08389860309477072, 0.06292395232107804, 0.46144231702123895, 0.926443327345904, 0.9651173004604018, 0.9337731261296183, 0.9526921682745737, 0.9458817845236112, 0.8921001870789391, 0.9496912323163286, 0.04020965193129475, 0.9248219944197792, 0.9157261316576325, 0.9736744605935962, 0.9680149086787001, 0.9772440485967526, 0.7664325618934402, 0.09580407023668003, 0.09580407023668003, 0.965349699123218, 0.1798496383221535, 0.8093233724496908, 0.8846445272631024, 0.03276461212085564, 0.06552922424171129, 0.9259656357942492, 0.02986985921916933, 0.1948306566370781, 0.714379074335953, 0.032471776106179684, 0.032471776106179684, 0.10212857257395133, 0.8680928668785863, 0.9803017715544401, 0.9555007013052411, 0.7373302526919675, 0.16028918536781903, 0.09617351122069141, 0.05475466463113629, 0.8760746340981806, 0.7953552098620746, 0.17398395215732881, 0.9639000610347951, 0.9666020574269582, 0.936627122663318, 0.23341010088429834, 0.7335746027792234, 0.968277368590291, 0.11230098154272046, 0.22460196308544092, 0.05615049077136023, 0.5895801530992824, 0.09927381872025799, 0.15442594023151243, 0.07721297011575622, 0.05515212151125444, 0.12133466732475977, 0.3640040019742793, 0.13236509162701066, 0.9578885194145534, 0.15481319434898852, 0.0580549478808707, 0.09675824646811783, 0.4644395830469656, 0.09675824646811783, 0.019351649293623565, 0.1161098957617414, 0.6700025543724717, 0.06380976708309254, 0.2233341847908239, 0.03190488354154627, 0.19219927536482412, 0.024024909420603015, 0.6967223731974874, 0.07207472826180904, 0.059917802665773054, 0.8987670399865958, 0.9421020897384491, 0.9227540500684772, 0.11259321831081832, 0.11259321831081832, 0.16084745472974046, 0.6112203279730137, 0.03741279224824504, 0.9353198062061261, 0.9388106575327965, 0.022620342585946543, 0.3166847962032516, 0.5202678794767704, 0.022620342585946543, 0.022620342585946543, 0.09048137034378617, 0.9528498934093531, 0.03403035333604833, 0.9179367821999989, 0.051870518128417205, 0.9336693263115097, 0.9429052232162709, 0.24385534700726044, 0.03751620723188622, 0.09379051807971556, 0.07503241446377244, 0.07503241446377244, 0.3751620723188622, 0.09379051807971556, 0.9070726801877499, 0.05335721648163235, 0.88076153541556, 0.110095191926945, 0.13199326356738422, 0.6335676651234443, 0.15839191628086108, 0.05279730542695369, 0.9680693714801826, 0.513403869594485, 0.0488956066280462, 0.22003022982620787, 0.12223901657011549, 0.0977912132560924, 0.96304057968709, 0.9577041771858454, 0.9552039278376917, 0.08670188949188061, 0.12138264528863285, 0.4855305811545314, 0.0693615115935045, 0.1560634010853851, 0.08670188949188061, 0.046462777434032626, 0.9292555486806525, 0.9445938600032803, 0.9329014731133044, 0.9486045594658843, 0.03340258018244138, 0.11134193394147127, 0.2449522546712368, 0.10020774054732415, 0.15587870751805977, 0.1670129009122069, 0.1224761273356184, 0.07793935375902988, 0.9019095735462169, 0.9723583979516095, 0.9227636133175553, 0.05254959703281858, 0.5254959703281858, 0.07882439554922786, 0.15764879109845573, 0.02627479851640929, 0.10509919406563716, 0.05254959703281858, 0.9515312894776938, 0.9205854666736463, 0.04008280511183937, 0.8016561022367874, 0.16033122044735748, 0.06209080586168882, 0.9313620879253324, 0.1313907142499335, 0.39417214274980056, 0.1313907142499335, 0.16058865074991874, 0.1021927777499483, 0.07299484124996307, 0.9482544429368169, 0.9498605370876659, 0.12403016805941791, 0.020671694676569652, 0.08268677870627861, 0.537464061590811, 0.041343389353139304, 0.14470186273598756, 0.040260318848909335, 0.9259873335249147, 0.04053611260912484, 0.9323305900098714, 0.020736527238965838, 0.14515569067276085, 0.041473054477931676, 0.041473054477931676, 0.7050419261248385, 0.020736527238965838, 0.9575298967524511, 0.04163173464141092, 0.06472864841065588, 0.06472864841065588, 0.08630486454754117, 0.7767437809278706, 0.921307224059355, 0.027918400729071362, 0.027918400729071362, 0.9605389281311029, 0.9698050222395167, 0.9218120402483381, 0.11952727902990838, 0.10956667244408268, 0.15936970537321116, 0.03984242634330279, 0.07968485268660558, 0.06972424610077989, 0.22909395147399106, 0.11952727902990838, 0.07968485268660558, 0.9562635206332843, 0.016200566501067604, 0.7938277585523127, 0.11340396550747324, 0.04860169950320282, 0.03240113300213521, 0.030980524382506227, 0.12392209753002491, 0.8364741583276681, 0.030980524382506227, 0.05742410413713359, 0.5168169372342023, 0.11484820827426719, 0.05742410413713359, 0.22969641654853437, 0.12308551910588034, 0.020514253184313387, 0.041028506368626774, 0.10257126592156694, 0.06154275955294017, 0.5128563296078347, 0.12308551910588034, 0.059812295802683456, 0.09968715967113909, 0.7376849815664293, 0.07974972773691127, 0.9652288918064271, 0.9719457173025372, 0.9684910024048123, 0.9212175464232961], \"Term\": [\"2\", \"2014\", \"3\", \"90\", \"90\", \"abbott\", \"abbott\", \"abc\", \"abc\", \"abc\", \"abc\", \"abc\", \"abort\", \"access\", \"accid\", \"accid\", \"accus\", \"accus\", \"accus\", \"accus\", \"accus\", \"accus\", \"across\", \"act\", \"act\", \"act\", \"act\", \"act\", \"ad\", \"afghanistan\", \"africa\", \"aid\", \"aid\", \"airport\", \"airport\", \"airport\", \"alleg\", \"alleg\", \"ambul\", \"amnesti\", \"andrew\", \"angri\", \"announc\", \"announc\", \"announc\", \"announc\", \"anzac\", \"apologis\", \"appoint\", \"approv\", \"arm\", \"arrest\", \"arrest\", \"arrest\", \"arrest\", \"art\", \"art\", \"ash\", \"ask\", \"assault\", \"assault\", \"assault\", \"attempt\", \"australian\", \"australian\", \"australian\", \"australian\", \"australian\", \"australian\", \"australian\", \"australian\", \"australian\", \"author\", \"await\", \"babi\", \"bail\", \"ban\", \"ban\", \"ban\", \"ban\", \"ban\", \"ban\", \"bash\", \"basin\", \"beatti\", \"bid\", \"bid\", \"bid\", \"bid\", \"bid\", \"big\", \"big\", \"big\", \"bird\", \"black\", \"black\", \"black\", \"blaze\", \"blaze\", \"blow\", \"board\", \"bodi\", \"boost\", \"boost\", \"boost\", \"boost\", \"boost\", \"boost\", \"boss\", \"boy\", \"brace\", \"brace\", \"breach\", \"break\", \"brother\", \"brown\", \"brumbi\", \"bu\", \"budget\", \"budget\", \"budget\", \"budget\", \"budget\", \"bulldog\", \"bush\", \"bush\", \"bushfir\", \"bushfir\", \"bushfir\", \"busi\", \"busi\", \"busi\", \"busi\", \"busi\", \"buy\", \"call\", \"call\", \"call\", \"call\", \"call\", \"call\", \"call\", \"call\", \"call\", \"call\", \"campbel\", \"canberra\", \"canberra\", \"cancel\", \"capit\", \"car\", \"car\", \"car\", \"car\", \"car\", \"car\", \"carbon\", \"care\", \"care\", \"care\", \"cash\", \"cat\", \"celebr\", \"centr\", \"centr\", \"centr\", \"centr\", \"centr\", \"central\", \"central\", \"challeng\", \"challeng\", \"challeng\", \"challeng\", \"chanc\", \"chang\", \"chang\", \"chang\", \"chang\", \"chang\", \"chang\", \"chang\", \"charg\", \"charg\", \"charg\", \"charg\", \"charg\", \"charg\", \"charg\", \"charg\", \"charg\", \"chelsea\", \"children\", \"children\", \"china\", \"china\", \"china\", \"china\", \"china\", \"china\", \"china\", \"christma\", \"christma\", \"church\", \"citi\", \"citi\", \"clark\", \"clash\", \"class\", \"clean\", \"clean\", \"clear\", \"clear\", \"clear\", \"climat\", \"climat\", \"climat\", \"close\", \"close\", \"close\", \"close\", \"close\", \"close\", \"closer\", \"club\", \"club\", \"coal\", \"coal\", \"coalit\", \"coff\", \"collaps\", \"comeback\", \"comment\", \"compani\", \"compani\", \"condit\", \"confid\", \"confid\", \"confid\", \"construct\", \"contract\", \"contract\", \"control\", \"control\", \"controversi\", \"convict\", \"cooper\", \"costello\", \"council\", \"council\", \"council\", \"council\", \"council\", \"council\", \"council\", \"council\", \"council\", \"council\", \"countri\", \"countri\", \"court\", \"court\", \"court\", \"court\", \"court\", \"court\", \"court\", \"court\", \"court\", \"crack\", \"crash\", \"crash\", \"crash\", \"crash\", \"crash\", \"crash\", \"crash\", \"cricket\", \"crime\", \"crime\", \"crisi\", \"crisi\", \"critic\", \"cross\", \"cruis\", \"cultur\", \"cup\", \"cup\", \"cup\", \"cup\", \"cup\", \"dairi\", \"dam\", \"darwin\", \"darwin\", \"darwin\", \"day\", \"day\", \"day\", \"day\", \"day\", \"defenc\", \"defenc\", \"delay\", \"delay\", \"delay\", \"delay\", \"delay\", \"dept\", \"despit\", \"despit\", \"destroy\", \"develop\", \"develop\", \"develop\", \"develop\", \"discuss\", \"dismiss\", \"disput\", \"docker\", \"doctor\", \"doctor\", \"dog\", \"dog\", \"doubt\", \"drink\", \"drink\", \"driver\", \"driver\", \"driver\", \"drought\", \"drought\", \"drown\", \"drum\", \"drum\", \"dump\", \"eagl\", \"earli\", \"east\", \"east\", \"east\", \"econom\", \"economi\", \"edg\", \"educ\", \"effort\", \"end\", \"end\", \"england\", \"england\", \"england\", \"entertain\", \"escap\", \"evid\", \"expans\", \"expert\", \"explor\", \"explos\", \"export\", \"export\", \"eye\", \"face\", \"face\", \"face\", \"face\", \"face\", \"face\", \"fall\", \"fall\", \"fall\", \"famili\", \"famili\", \"famili\", \"farmer\", \"farmer\", \"farmer\", \"farmer\", \"farmer\", \"farmer\", \"fatal\", \"fatal\", \"father\", \"feder\", \"feder\", \"feder\", \"festiv\", \"figur\", \"figur\", \"fiji\", \"film\", \"final\", \"final\", \"final\", \"final\", \"final\", \"final\", \"fine\", \"fine\", \"finish\", \"fire\", \"fire\", \"fire\", \"fire\", \"fire\", \"fire\", \"fire\", \"fire\", \"fire\", \"firefight\", \"firefight\", \"firefight\", \"firm\", \"flight\", \"flood\", \"flood\", \"flood\", \"flood\", \"flood\", \"foreign\", \"form\", \"former\", \"former\", \"former\", \"former\", \"found\", \"found\", \"found\", \"found\", \"found\", \"four\", \"fourth\", \"french\", \"front\", \"full\", \"futur\", \"futur\", \"futur\", \"futur\", \"gain\", \"game\", \"game\", \"gener\", \"give\", \"give\", \"given\", \"global\", \"go\", \"go\", \"goe\", \"gold\", \"gold\", \"gold\", \"gold\", \"gold\", \"gold\", \"good\", \"govt\", \"govt\", \"govt\", \"govt\", \"govt\", \"govt\", \"govt\", \"govt\", \"govt\", \"govt\", \"gp\", \"grain\", \"grain\", \"grain\", \"grain\", \"grand\", \"grant\", \"grant\", \"great\", \"green\", \"green\", \"green\", \"group\", \"group\", \"group\", \"group\", \"group\", \"grower\", \"grower\", \"grower\", \"guilti\", \"guilti\", \"harvest\", \"hawk\", \"health\", \"health\", \"health\", \"health\", \"helicopt\", \"high\", \"high\", \"high\", \"high\", \"higher\", \"highlight\", \"highway\", \"highway\", \"hill\", \"hill\", \"hill\", \"histori\", \"hit\", \"hit\", \"hit\", \"hit\", \"hit\", \"hit\", \"hobart\", \"hobart\", \"hold\", \"hold\", \"holiday\", \"hour\", \"hour\", \"hour\", \"howard\", \"hunt\", \"hunter\", \"hunter\", \"impact\", \"impact\", \"increas\", \"increas\", \"increas\", \"india\", \"india\", \"indigen\", \"indigen\", \"indigen\", \"indigen\", \"indigen\", \"indonesia\", \"indonesian\", \"indonesian\", \"indonesian\", \"industri\", \"industri\", \"industri\", \"industri\", \"inform\", \"injur\", \"injuri\", \"inquest\", \"inquest\", \"inquiri\", \"inquiri\", \"inquiri\", \"inquiri\", \"insur\", \"interview\", \"interview\", \"interview\", \"interview\", \"interview\", \"interview\", \"investig\", \"investig\", \"investig\", \"investig\", \"investig\", \"investig\", \"investig\", \"investig\", \"iraqi\", \"iraqi\", \"irrig\", \"jame\", \"japan\", \"japan\", \"japanes\", \"job\", \"job\", \"job\", \"job\", \"job\", \"job\", \"job\", \"job\", \"john\", \"john\", \"johnson\", \"join\", \"journalist\", \"jump\", \"justic\", \"kangaroo\", \"keen\", \"keep\", \"keep\", \"keep\", \"kid\", \"kill\", \"kill\", \"kill\", \"kill\", \"kill\", \"kill\", \"killer\", \"knight\", \"korea\", \"korea\", \"land\", \"land\", \"land\", \"last\", \"late\", \"latest\", \"launch\", \"launch\", \"launch\", \"leak\", \"leav\", \"leav\", \"leav\", \"leav\", \"legisl\", \"level\", \"liber\", \"liber\", \"liber\", \"lift\", \"lift\", \"like\", \"live\", \"live\", \"local\", \"local\", \"local\", \"london\", \"look\", \"look\", \"look\", \"look\", \"loss\", \"loss\", \"low\", \"major\", \"man\", \"man\", \"man\", \"man\", \"man\", \"man\", \"man\", \"man\", \"man\", \"march\", \"marin\", \"mark\", \"market\", \"market\", \"market\", \"market\", \"massiv\", \"match\", \"match\", \"may\", \"may\", \"may\", \"may\", \"may\", \"may\", \"mayor\", \"mayor\", \"mayor\", \"mayor\", \"mayor\", \"meat\", \"media\", \"media\", \"media\", \"medic\", \"member\", \"mental\", \"mid\", \"militari\", \"mill\", \"mine\", \"mine\", \"mine\", \"mine\", \"mine\", \"mine\", \"mine\", \"mine\", \"miss\", \"miss\", \"miss\", \"miss\", \"miss\", \"miss\", \"miss\", \"mix\", \"money\", \"month\", \"mosqu\", \"mother\", \"murder\", \"murder\", \"murder\", \"murder\", \"murder\", \"murray\", \"murray\", \"murray\", \"murray\", \"music\", \"must\", \"nation\", \"nation\", \"nation\", \"nation\", \"nation\", \"nation\", \"nation\", \"nativ\", \"need\", \"need\", \"need\", \"need\", \"neglect\", \"net\", \"new\", \"new\", \"new\", \"new\", \"new\", \"new\", \"new\", \"new\", \"new\", \"new\", \"newcastl\", \"news\", \"news\", \"news\", \"news\", \"next\", \"nightclub\", \"nrl\", \"nrl\", \"nrn\", \"nuclear\", \"nuclear\", \"oil\", \"old\", \"olymp\", \"one\", \"one\", \"one\", \"one\", \"one\", \"one\", \"onlin\", \"oppos\", \"option\", \"order\", \"origin\", \"outbreak\", \"packag\", \"pakistan\", \"pakistan\", \"palestinian\", \"parent\", \"park\", \"park\", \"park\", \"park\", \"park\", \"part\", \"patient\", \"peopl\", \"peopl\", \"perform\", \"peter\", \"petrol\", \"phone\", \"phone\", \"pilbara\", \"pipelin\", \"pipelin\", \"place\", \"plan\", \"plan\", \"plan\", \"plan\", \"plan\", \"plan\", \"plan\", \"plan\", \"plan\", \"plan\", \"plane\", \"plant\", \"plant\", \"play\", \"play\", \"play\", \"player\", \"player\", \"plead\", \"pm\", \"pm\", \"pm\", \"png\", \"png\", \"png\", \"png\", \"point\", \"pole\", \"polic\", \"polic\", \"polic\", \"polic\", \"polic\", \"polic\", \"polic\", \"polic\", \"polic\", \"polic\", \"policeman\", \"polit\", \"polit\", \"poll\", \"poll\", \"popul\", \"port\", \"port\", \"port\", \"possibl\", \"power\", \"power\", \"power\", \"power\", \"power\", \"power\", \"power\", \"pressur\", \"price\", \"price\", \"price\", \"price\", \"price\", \"problem\", \"product\", \"project\", \"project\", \"propos\", \"propos\", \"propos\", \"protest\", \"protest\", \"protest\", \"protest\", \"protest\", \"push\", \"push\", \"push\", \"push\", \"qanta\", \"qld\", \"qld\", \"qld\", \"qld\", \"qld\", \"qld\", \"qld\", \"quak\", \"quarter\", \"quit\", \"race\", \"race\", \"raid\", \"raid\", \"rail\", \"rail\", \"rain\", \"rain\", \"rain\", \"rain\", \"rais\", \"ralli\", \"rape\", \"rate\", \"rate\", \"rate\", \"reach\", \"readi\", \"readi\", \"recess\", \"record\", \"record\", \"record\", \"record\", \"red\", \"reduc\", \"refus\", \"region\", \"region\", \"region\", \"region\", \"remain\", \"remain\", \"rememb\", \"renew\", \"replac\", \"report\", \"report\", \"report\", \"report\", \"report\", \"report\", \"report\", \"resid\", \"resid\", \"resid\", \"resign\", \"resign\", \"respond\", \"result\", \"retir\", \"return\", \"return\", \"return\", \"return\", \"return\", \"revamp\", \"revamp\", \"review\", \"review\", \"review\", \"rise\", \"rise\", \"rise\", \"rise\", \"rise\", \"rise\", \"rise\", \"roar\", \"robberi\", \"roll\", \"royal\", \"rudd\", \"rule\", \"rule\", \"rule\", \"run\", \"run\", \"run\", \"run\", \"rural\", \"rural\", \"rural\", \"sa\", \"sa\", \"sa\", \"sa\", \"sa\", \"sack\", \"safe\", \"safeti\", \"safeti\", \"safeti\", \"sale\", \"sale\", \"sale\", \"save\", \"save\", \"save\", \"save\", \"save\", \"scam\", \"scientist\", \"scientist\", \"scientist\", \"scott\", \"se\", \"search\", \"search\", \"search\", \"search\", \"second\", \"second\", \"second\", \"semi\", \"senat\", \"senat\", \"sentenc\", \"sentenc\", \"sentenc\", \"servic\", \"servic\", \"servic\", \"servic\", \"servic\", \"servic\", \"set\", \"set\", \"set\", \"set\", \"set\", \"set\", \"sex\", \"sex\", \"sex\", \"share\", \"share\", \"share\", \"share\", \"share\", \"sheep\", \"shire\", \"shoot\", \"shoot\", \"shoot\", \"shop\", \"shop\", \"shop\", \"shortag\", \"show\", \"show\", \"show\", \"show\", \"show\", \"show\", \"show\", \"sink\", \"slam\", \"slow\", \"smith\", \"snap\", \"snub\", \"sold\", \"soldier\", \"soldier\", \"southern\", \"speak\", \"sport\", \"spring\", \"stab\", \"stab\", \"stab\", \"stage\", \"stand\", \"stand\", \"star\", \"star\", \"star\", \"start\", \"start\", \"station\", \"station\", \"station\", \"station\", \"stay\", \"stay\", \"stock\", \"stori\", \"storm\", \"storm\", \"storm\", \"struggl\", \"struggl\", \"studi\", \"studi\", \"sugar\", \"summit\", \"survivor\", \"suspect\", \"suspect\", \"suspend\", \"ta\", \"ta\", \"ta\", \"ta\", \"take\", \"take\", \"take\", \"take\", \"take\", \"take\", \"take\", \"takeov\", \"talk\", \"talk\", \"talk\", \"talk\", \"talk\", \"talk\", \"talk\", \"tax\", \"tax\", \"tax\", \"tax\", \"teen\", \"teen\", \"teen\", \"teen\", \"teenag\", \"teenag\", \"term\", \"territori\", \"test\", \"test\", \"test\", \"test\", \"theft\", \"theft\", \"third\", \"three\", \"three\", \"three\", \"three\", \"three\", \"three\", \"tiger\", \"tiger\", \"tim\", \"tip\", \"tip\", \"toddler\", \"top\", \"top\", \"top\", \"top\", \"top\", \"top\", \"top\", \"town\", \"town\", \"track\", \"track\", \"trade\", \"trade\", \"trade\", \"trade\", \"traffic\", \"train\", \"train\", \"train\", \"train\", \"train\", \"tri\", \"tsunami\", \"turnbul\", \"two\", \"two\", \"two\", \"two\", \"two\", \"two\", \"uk\", \"uk\", \"uni\", \"unlik\", \"updat\", \"us\", \"us\", \"us\", \"us\", \"us\", \"us\", \"us\", \"us\", \"vaccin\", \"van\", \"veteran\", \"victim\", \"victim\", \"victim\", \"victim\", \"victim\", \"victim\", \"victim\", \"victorian\", \"video\", \"violenc\", \"violenc\", \"violenc\", \"volunt\", \"volunt\", \"wa\", \"wa\", \"wa\", \"wa\", \"wa\", \"wa\", \"wait\", \"wallabi\", \"want\", \"want\", \"want\", \"want\", \"want\", \"want\", \"wast\", \"wast\", \"way\", \"way\", \"weather\", \"weather\", \"weather\", \"weather\", \"weather\", \"weather\", \"week\", \"week\", \"welcom\", \"welcom\", \"welcom\", \"welcom\", \"west\", \"west\", \"west\", \"western\", \"whale\", \"william\", \"win\", \"win\", \"win\", \"win\", \"win\", \"win\", \"win\", \"win\", \"win\", \"wit\", \"woman\", \"woman\", \"woman\", \"woman\", \"woman\", \"women\", \"women\", \"women\", \"women\", \"work\", \"work\", \"work\", \"work\", \"work\", \"worker\", \"worker\", \"worker\", \"worker\", \"worker\", \"worker\", \"worker\", \"world\", \"world\", \"world\", \"world\", \"worri\", \"youth\", \"zealand\", \"zimbabw\"]}, \"R\": 30, \"lambda.step\": 0.01, \"plot.opts\": {\"xlab\": \"PC1\", \"ylab\": \"PC2\"}, \"topic.order\": [5, 8, 1, 4, 9, 6, 7, 10, 3, 2]};\n",
              "\n",
              "function LDAvis_load_lib(url, callback){\n",
              "  var s = document.createElement('script');\n",
              "  s.src = url;\n",
              "  s.async = true;\n",
              "  s.onreadystatechange = s.onload = callback;\n",
              "  s.onerror = function(){console.warn(\"failed to load library \" + url);};\n",
              "  document.getElementsByTagName(\"head\")[0].appendChild(s);\n",
              "}\n",
              "\n",
              "if(typeof(LDAvis) !== \"undefined\"){\n",
              "   // already loaded: just create the visualization\n",
              "   !function(LDAvis){\n",
              "       new LDAvis(\"#\" + \"ldavis_el129151405279436955206770922066\", ldavis_el129151405279436955206770922066_data);\n",
              "   }(LDAvis);\n",
              "}else if(typeof define === \"function\" && define.amd){\n",
              "   // require.js is available: use it to load d3/LDAvis\n",
              "   require.config({paths: {d3: \"https://d3js.org/d3.v5\"}});\n",
              "   require([\"d3\"], function(d3){\n",
              "      window.d3 = d3;\n",
              "      LDAvis_load_lib(\"https://cdn.jsdelivr.net/gh/bmabey/pyLDAvis@3.4.0/pyLDAvis/js/ldavis.v3.0.0.js\", function(){\n",
              "        new LDAvis(\"#\" + \"ldavis_el129151405279436955206770922066\", ldavis_el129151405279436955206770922066_data);\n",
              "      });\n",
              "    });\n",
              "}else{\n",
              "    // require.js not available: dynamically load d3 & LDAvis\n",
              "    LDAvis_load_lib(\"https://d3js.org/d3.v5.js\", function(){\n",
              "         LDAvis_load_lib(\"https://cdn.jsdelivr.net/gh/bmabey/pyLDAvis@3.4.0/pyLDAvis/js/ldavis.v3.0.0.js\", function(){\n",
              "                 new LDAvis(\"#\" + \"ldavis_el129151405279436955206770922066\", ldavis_el129151405279436955206770922066_data);\n",
              "            })\n",
              "         });\n",
              "}\n",
              "</script>"
            ]
          },
          "metadata": {},
          "execution_count": 32
        }
      ]
    },
    {
      "cell_type": "markdown",
      "source": [
        "V. Named Entity Recognition"
      ],
      "metadata": {
        "id": "UymTEwE7FRz8"
      }
    },
    {
      "cell_type": "code",
      "source": [
        "adafile = \"ada_lovelace.txt\""
      ],
      "metadata": {
        "colab": {
          "base_uri": "https://localhost:8080/"
        },
        "id": "jz6fsRHzFUFm",
        "outputId": "2587e1a0-8b75-4ea3-eb56-1143c5f0c891"
      },
      "execution_count": null,
      "outputs": [
        {
          "output_type": "stream",
          "name": "stderr",
          "text": [
            "/usr/local/lib/python3.10/dist-packages/ipykernel/ipkernel.py:283: DeprecationWarning: `should_run_async` will not call `transform_cell` automatically in the future. Please pass the result to `transformed_cell` argument and any exception that happen during thetransform in `preprocessing_exc_tuple` in IPython 7.17 and above.\n",
            "  and should_run_async(code)\n"
          ]
        }
      ]
    },
    {
      "cell_type": "markdown",
      "source": [
        "Clean File"
      ],
      "metadata": {
        "id": "FSPLA0uHFcYg"
      }
    },
    {
      "cell_type": "code",
      "source": [
        "def clean_file(filename):\n",
        "    with open(filename, 'r') as file:\n",
        "        contents = file.read()\n",
        "\n",
        "    redacted_contents = contents.replace(\"Ada Lovelace\", \"[REDACTED]\")\n",
        "\n",
        "    with open(filename, 'w') as file:\n",
        "        file.write(redacted_contents)\n",
        "\n",
        "clean_file(adafile)\n"
      ],
      "metadata": {
        "colab": {
          "base_uri": "https://localhost:8080/"
        },
        "id": "04Eo8dBXFeDD",
        "outputId": "823a74b9-196b-4e72-cdd9-dec8e402fc38"
      },
      "execution_count": null,
      "outputs": [
        {
          "output_type": "stream",
          "name": "stderr",
          "text": [
            "/usr/local/lib/python3.10/dist-packages/ipykernel/ipkernel.py:283: DeprecationWarning: `should_run_async` will not call `transform_cell` automatically in the future. Please pass the result to `transformed_cell` argument and any exception that happen during thetransform in `preprocessing_exc_tuple` in IPython 7.17 and above.\n",
            "  and should_run_async(code)\n"
          ]
        }
      ]
    },
    {
      "cell_type": "code",
      "source": [
        "#Q1.\n",
        "\n",
        "import spacy\n",
        "\n",
        "def identify_entities(filename):\n",
        "    nlp = spacy.load(\"en_core_web_sm\")\n",
        "\n",
        "    with open(filename, 'r') as file:\n",
        "        contents = file.read()\n",
        "\n",
        "    doc = nlp(contents)\n",
        "\n",
        "    for entity in doc.ents:\n",
        "        print(entity.text, entity.label_)\n",
        "\n",
        "identify_entities(adafile)"
      ],
      "metadata": {
        "colab": {
          "base_uri": "https://localhost:8080/"
        },
        "id": "yqckNYziFrA6",
        "outputId": "41619d7d-d66d-46f4-ee4f-defd4d4aacda"
      },
      "execution_count": null,
      "outputs": [
        {
          "output_type": "stream",
          "name": "stderr",
          "text": [
            "/usr/local/lib/python3.10/dist-packages/ipykernel/ipkernel.py:283: DeprecationWarning: `should_run_async` will not call `transform_cell` automatically in the future. Please pass the result to `transformed_cell` argument and any exception that happen during thetransform in `preprocessing_exc_tuple` in IPython 7.17 and above.\n",
            "  and should_run_async(code)\n"
          ]
        },
        {
          "output_type": "stream",
          "name": "stdout",
          "text": [
            "Augusta Ada King PERSON\n",
            "Countess PERSON\n",
            "Lovelace PERSON\n",
            "Byron ORG\n",
            "10 December 1815 DATE\n",
            "27 November 1852 DATE\n",
            "English LANGUAGE\n",
            "Charles Babbage's ORG\n",
            "the Analytical Engine ORG\n",
            "first ORDINAL\n",
            "first ORDINAL\n",
            "first ORDINAL\n",
            "one CARDINAL\n",
            "first ORDINAL\n",
            "Lovelace PERSON\n",
            "Mary Somerville PERSON\n",
            "Charles Babbage PERSON\n",
            "1833 DATE\n",
            "Somerville GPE\n",
            "many years DATE\n",
            "Andrew Crosse PERSON\n",
            "David Brewster PERSON\n",
            "Charles Wheatstone PERSON\n",
            "Michael Faraday PERSON\n",
            "Charles Dickens PERSON\n"
          ]
        }
      ]
    },
    {
      "cell_type": "code",
      "source": [
        "#Q2.\n",
        "\n",
        "import spacy\n",
        "from spacy import displacy\n",
        "from IPython.display import display\n",
        "\n",
        "def visualize_entities(filename):\n",
        "\n",
        "    nlp = spacy.load(\"en_core_web_sm\")\n",
        "\n",
        "    with open(filename, 'r') as file:\n",
        "        contents = file.read()\n",
        "\n",
        "    doc = nlp(contents)\n",
        "\n",
        "    displacy.render(doc, style=\"ent\", jupyter=True)\n",
        "\n",
        "\n",
        "visualize_entities(adafile)"
      ],
      "metadata": {
        "colab": {
          "base_uri": "https://localhost:8080/",
          "height": 352
        },
        "id": "oBAdGm6hFuKi",
        "outputId": "01128597-b6f0-47f3-d1de-9abe436e35dc"
      },
      "execution_count": null,
      "outputs": [
        {
          "output_type": "stream",
          "name": "stderr",
          "text": [
            "/usr/local/lib/python3.10/dist-packages/ipykernel/ipkernel.py:283: DeprecationWarning: `should_run_async` will not call `transform_cell` automatically in the future. Please pass the result to `transformed_cell` argument and any exception that happen during thetransform in `preprocessing_exc_tuple` in IPython 7.17 and above.\n",
            "  and should_run_async(code)\n"
          ]
        },
        {
          "output_type": "display_data",
          "data": {
            "text/plain": [
              "<IPython.core.display.HTML object>"
            ],
            "text/html": [
              "<span class=\"tex2jax_ignore\"><div class=\"entities\" style=\"line-height: 2.5; direction: ltr\">\n",
              "<mark class=\"entity\" style=\"background: #aa9cfc; padding: 0.45em 0.6em; margin: 0 0.25em; line-height: 1; border-radius: 0.35em;\">\n",
              "    Augusta Ada King\n",
              "    <span style=\"font-size: 0.8em; font-weight: bold; line-height: 1; border-radius: 0.35em; vertical-align: middle; margin-left: 0.5rem\">PERSON</span>\n",
              "</mark>\n",
              ", \n",
              "<mark class=\"entity\" style=\"background: #aa9cfc; padding: 0.45em 0.6em; margin: 0 0.25em; line-height: 1; border-radius: 0.35em;\">\n",
              "    Countess\n",
              "    <span style=\"font-size: 0.8em; font-weight: bold; line-height: 1; border-radius: 0.35em; vertical-align: middle; margin-left: 0.5rem\">PERSON</span>\n",
              "</mark>\n",
              " of \n",
              "<mark class=\"entity\" style=\"background: #aa9cfc; padding: 0.45em 0.6em; margin: 0 0.25em; line-height: 1; border-radius: 0.35em;\">\n",
              "    Lovelace\n",
              "    <span style=\"font-size: 0.8em; font-weight: bold; line-height: 1; border-radius: 0.35em; vertical-align: middle; margin-left: 0.5rem\">PERSON</span>\n",
              "</mark>\n",
              " (née \n",
              "<mark class=\"entity\" style=\"background: #7aecec; padding: 0.45em 0.6em; margin: 0 0.25em; line-height: 1; border-radius: 0.35em;\">\n",
              "    Byron\n",
              "    <span style=\"font-size: 0.8em; font-weight: bold; line-height: 1; border-radius: 0.35em; vertical-align: middle; margin-left: 0.5rem\">ORG</span>\n",
              "</mark>\n",
              "; \n",
              "<mark class=\"entity\" style=\"background: #bfe1d9; padding: 0.45em 0.6em; margin: 0 0.25em; line-height: 1; border-radius: 0.35em;\">\n",
              "    10 December 1815\n",
              "    <span style=\"font-size: 0.8em; font-weight: bold; line-height: 1; border-radius: 0.35em; vertical-align: middle; margin-left: 0.5rem\">DATE</span>\n",
              "</mark>\n",
              " – \n",
              "<mark class=\"entity\" style=\"background: #bfe1d9; padding: 0.45em 0.6em; margin: 0 0.25em; line-height: 1; border-radius: 0.35em;\">\n",
              "    27 November 1852\n",
              "    <span style=\"font-size: 0.8em; font-weight: bold; line-height: 1; border-radius: 0.35em; vertical-align: middle; margin-left: 0.5rem\">DATE</span>\n",
              "</mark>\n",
              ") was an \n",
              "<mark class=\"entity\" style=\"background: #ff8197; padding: 0.45em 0.6em; margin: 0 0.25em; line-height: 1; border-radius: 0.35em;\">\n",
              "    English\n",
              "    <span style=\"font-size: 0.8em; font-weight: bold; line-height: 1; border-radius: 0.35em; vertical-align: middle; margin-left: 0.5rem\">LANGUAGE</span>\n",
              "</mark>\n",
              " mathematician and writer, chiefly known for her work on \n",
              "<mark class=\"entity\" style=\"background: #7aecec; padding: 0.45em 0.6em; margin: 0 0.25em; line-height: 1; border-radius: 0.35em;\">\n",
              "    Charles Babbage's\n",
              "    <span style=\"font-size: 0.8em; font-weight: bold; line-height: 1; border-radius: 0.35em; vertical-align: middle; margin-left: 0.5rem\">ORG</span>\n",
              "</mark>\n",
              " proposed mechanical general-purpose computer, \n",
              "<mark class=\"entity\" style=\"background: #7aecec; padding: 0.45em 0.6em; margin: 0 0.25em; line-height: 1; border-radius: 0.35em;\">\n",
              "    the Analytical Engine\n",
              "    <span style=\"font-size: 0.8em; font-weight: bold; line-height: 1; border-radius: 0.35em; vertical-align: middle; margin-left: 0.5rem\">ORG</span>\n",
              "</mark>\n",
              ". She was the \n",
              "<mark class=\"entity\" style=\"background: #e4e7d2; padding: 0.45em 0.6em; margin: 0 0.25em; line-height: 1; border-radius: 0.35em;\">\n",
              "    first\n",
              "    <span style=\"font-size: 0.8em; font-weight: bold; line-height: 1; border-radius: 0.35em; vertical-align: middle; margin-left: 0.5rem\">ORDINAL</span>\n",
              "</mark>\n",
              " to recognise that the machine had applications beyond pure calculation, and published the \n",
              "<mark class=\"entity\" style=\"background: #e4e7d2; padding: 0.45em 0.6em; margin: 0 0.25em; line-height: 1; border-radius: 0.35em;\">\n",
              "    first\n",
              "    <span style=\"font-size: 0.8em; font-weight: bold; line-height: 1; border-radius: 0.35em; vertical-align: middle; margin-left: 0.5rem\">ORDINAL</span>\n",
              "</mark>\n",
              " algorithm intended to be carried out by such a machine. As a result, she is sometimes regarded as the \n",
              "<mark class=\"entity\" style=\"background: #e4e7d2; padding: 0.45em 0.6em; margin: 0 0.25em; line-height: 1; border-radius: 0.35em;\">\n",
              "    first\n",
              "    <span style=\"font-size: 0.8em; font-weight: bold; line-height: 1; border-radius: 0.35em; vertical-align: middle; margin-left: 0.5rem\">ORDINAL</span>\n",
              "</mark>\n",
              " to recognise the full potential of a &quot;computing machine&quot; and \n",
              "<mark class=\"entity\" style=\"background: #e4e7d2; padding: 0.45em 0.6em; margin: 0 0.25em; line-height: 1; border-radius: 0.35em;\">\n",
              "    one\n",
              "    <span style=\"font-size: 0.8em; font-weight: bold; line-height: 1; border-radius: 0.35em; vertical-align: middle; margin-left: 0.5rem\">CARDINAL</span>\n",
              "</mark>\n",
              " of the \n",
              "<mark class=\"entity\" style=\"background: #e4e7d2; padding: 0.45em 0.6em; margin: 0 0.25em; line-height: 1; border-radius: 0.35em;\">\n",
              "    first\n",
              "    <span style=\"font-size: 0.8em; font-weight: bold; line-height: 1; border-radius: 0.35em; vertical-align: middle; margin-left: 0.5rem\">ORDINAL</span>\n",
              "</mark>\n",
              " computer programmers. </br></br>\n",
              "<mark class=\"entity\" style=\"background: #aa9cfc; padding: 0.45em 0.6em; margin: 0 0.25em; line-height: 1; border-radius: 0.35em;\">\n",
              "    Lovelace\n",
              "    <span style=\"font-size: 0.8em; font-weight: bold; line-height: 1; border-radius: 0.35em; vertical-align: middle; margin-left: 0.5rem\">PERSON</span>\n",
              "</mark>\n",
              " became close friends with her tutor \n",
              "<mark class=\"entity\" style=\"background: #aa9cfc; padding: 0.45em 0.6em; margin: 0 0.25em; line-height: 1; border-radius: 0.35em;\">\n",
              "    Mary Somerville\n",
              "    <span style=\"font-size: 0.8em; font-weight: bold; line-height: 1; border-radius: 0.35em; vertical-align: middle; margin-left: 0.5rem\">PERSON</span>\n",
              "</mark>\n",
              ", who introduced her to \n",
              "<mark class=\"entity\" style=\"background: #aa9cfc; padding: 0.45em 0.6em; margin: 0 0.25em; line-height: 1; border-radius: 0.35em;\">\n",
              "    Charles Babbage\n",
              "    <span style=\"font-size: 0.8em; font-weight: bold; line-height: 1; border-radius: 0.35em; vertical-align: middle; margin-left: 0.5rem\">PERSON</span>\n",
              "</mark>\n",
              " in \n",
              "<mark class=\"entity\" style=\"background: #bfe1d9; padding: 0.45em 0.6em; margin: 0 0.25em; line-height: 1; border-radius: 0.35em;\">\n",
              "    1833\n",
              "    <span style=\"font-size: 0.8em; font-weight: bold; line-height: 1; border-radius: 0.35em; vertical-align: middle; margin-left: 0.5rem\">DATE</span>\n",
              "</mark>\n",
              ". She had a strong respect and affection for \n",
              "<mark class=\"entity\" style=\"background: #feca74; padding: 0.45em 0.6em; margin: 0 0.25em; line-height: 1; border-radius: 0.35em;\">\n",
              "    Somerville\n",
              "    <span style=\"font-size: 0.8em; font-weight: bold; line-height: 1; border-radius: 0.35em; vertical-align: middle; margin-left: 0.5rem\">GPE</span>\n",
              "</mark>\n",
              ", and they corresponded for \n",
              "<mark class=\"entity\" style=\"background: #bfe1d9; padding: 0.45em 0.6em; margin: 0 0.25em; line-height: 1; border-radius: 0.35em;\">\n",
              "    many years\n",
              "    <span style=\"font-size: 0.8em; font-weight: bold; line-height: 1; border-radius: 0.35em; vertical-align: middle; margin-left: 0.5rem\">DATE</span>\n",
              "</mark>\n",
              ". Other acquaintances included the scientists \n",
              "<mark class=\"entity\" style=\"background: #aa9cfc; padding: 0.45em 0.6em; margin: 0 0.25em; line-height: 1; border-radius: 0.35em;\">\n",
              "    Andrew Crosse\n",
              "    <span style=\"font-size: 0.8em; font-weight: bold; line-height: 1; border-radius: 0.35em; vertical-align: middle; margin-left: 0.5rem\">PERSON</span>\n",
              "</mark>\n",
              ", Sir \n",
              "<mark class=\"entity\" style=\"background: #aa9cfc; padding: 0.45em 0.6em; margin: 0 0.25em; line-height: 1; border-radius: 0.35em;\">\n",
              "    David Brewster\n",
              "    <span style=\"font-size: 0.8em; font-weight: bold; line-height: 1; border-radius: 0.35em; vertical-align: middle; margin-left: 0.5rem\">PERSON</span>\n",
              "</mark>\n",
              ", \n",
              "<mark class=\"entity\" style=\"background: #aa9cfc; padding: 0.45em 0.6em; margin: 0 0.25em; line-height: 1; border-radius: 0.35em;\">\n",
              "    Charles Wheatstone\n",
              "    <span style=\"font-size: 0.8em; font-weight: bold; line-height: 1; border-radius: 0.35em; vertical-align: middle; margin-left: 0.5rem\">PERSON</span>\n",
              "</mark>\n",
              ", \n",
              "<mark class=\"entity\" style=\"background: #aa9cfc; padding: 0.45em 0.6em; margin: 0 0.25em; line-height: 1; border-radius: 0.35em;\">\n",
              "    Michael Faraday\n",
              "    <span style=\"font-size: 0.8em; font-weight: bold; line-height: 1; border-radius: 0.35em; vertical-align: middle; margin-left: 0.5rem\">PERSON</span>\n",
              "</mark>\n",
              " and the author \n",
              "<mark class=\"entity\" style=\"background: #aa9cfc; padding: 0.45em 0.6em; margin: 0 0.25em; line-height: 1; border-radius: 0.35em;\">\n",
              "    Charles Dickens\n",
              "    <span style=\"font-size: 0.8em; font-weight: bold; line-height: 1; border-radius: 0.35em; vertical-align: middle; margin-left: 0.5rem\">PERSON</span>\n",
              "</mark>\n",
              ".</div></span>"
            ]
          },
          "metadata": {}
        }
      ]
    },
    {
      "cell_type": "code",
      "source": [
        "#Q3. \n",
        "\n",
        "import spacy\n",
        "\n",
        "def replace_name_by_redacted(filename):\n",
        "    nlp = spacy.load(\"en_core_web_sm\")\n",
        "\n",
        "    with open(filename, 'r') as file:\n",
        "        contents = file.read()\n",
        "\n",
        "    doc = nlp(contents)\n",
        "\n",
        "    redacted_contents = contents\n",
        "    for entity in doc.ents:\n",
        "        if entity.label_ == \"PERSON\":\n",
        "            redacted_contents = redacted_contents.replace(entity.text, \"[REDACTED]\")\n",
        "\n",
        "    with open(filename, 'w') as file:\n",
        "        file.write(redacted_contents)\n",
        "\n",
        "replace_name_by_redacted(adafile)"
      ],
      "metadata": {
        "colab": {
          "base_uri": "https://localhost:8080/"
        },
        "id": "Fr1Jo1oQFx_B",
        "outputId": "db8f1724-f670-4fe8-91fd-7b8708fa4d6d"
      },
      "execution_count": null,
      "outputs": [
        {
          "output_type": "stream",
          "name": "stderr",
          "text": [
            "/usr/local/lib/python3.10/dist-packages/ipykernel/ipkernel.py:283: DeprecationWarning: `should_run_async` will not call `transform_cell` automatically in the future. Please pass the result to `transformed_cell` argument and any exception that happen during thetransform in `preprocessing_exc_tuple` in IPython 7.17 and above.\n",
            "  and should_run_async(code)\n"
          ]
        }
      ]
    },
    {
      "cell_type": "code",
      "source": [
        "#Q4.\n",
        "\n",
        "import spacy\n",
        "\n",
        "def make_doc_GDPR_compliant(filename):\n",
        "\n",
        "    nlp = spacy.load(\"en_core_web_sm\")\n",
        "\n",
        "    with open(filename, 'r') as file:\n",
        "        contents = file.read()\n",
        "\n",
        "    doc = nlp(contents)\n",
        "\n",
        "    redacted_contents = contents\n",
        "    for entity in doc.ents:\n",
        "        if entity.label_ == \"PERSON\":\n",
        "            redacted_contents = redacted_contents.replace(entity.text, \"[REDACTED]\")\n",
        "\n",
        "    with open(filename, 'w') as file:\n",
        "        file.write(redacted_contents)\n",
        "\n",
        "make_doc_GDPR_compliant(adafile)"
      ],
      "metadata": {
        "colab": {
          "base_uri": "https://localhost:8080/"
        },
        "id": "vXlhwmY7F02v",
        "outputId": "473c698f-da44-4a20-931a-0359a5d50c92"
      },
      "execution_count": null,
      "outputs": [
        {
          "output_type": "stream",
          "name": "stderr",
          "text": [
            "/usr/local/lib/python3.10/dist-packages/ipykernel/ipkernel.py:283: DeprecationWarning: `should_run_async` will not call `transform_cell` automatically in the future. Please pass the result to `transformed_cell` argument and any exception that happen during thetransform in `preprocessing_exc_tuple` in IPython 7.17 and above.\n",
            "  and should_run_async(code)\n"
          ]
        }
      ]
    },
    {
      "cell_type": "markdown",
      "source": [
        "VI. Exercise\n",
        "\n",
        "1."
      ],
      "metadata": {
        "id": "TGMpCT2oF-iw"
      }
    },
    {
      "cell_type": "code",
      "source": [
        "jobmarket = \"job-market.csv\""
      ],
      "metadata": {
        "colab": {
          "base_uri": "https://localhost:8080/"
        },
        "id": "XvO6xVBZF61K",
        "outputId": "bd41b8a5-a3cd-4b0e-e36f-9fa27fdd35e4"
      },
      "execution_count": null,
      "outputs": [
        {
          "output_type": "stream",
          "name": "stderr",
          "text": [
            "/usr/local/lib/python3.10/dist-packages/ipykernel/ipkernel.py:283: DeprecationWarning: `should_run_async` will not call `transform_cell` automatically in the future. Please pass the result to `transformed_cell` argument and any exception that happen during thetransform in `preprocessing_exc_tuple` in IPython 7.17 and above.\n",
            "  and should_run_async(code)\n"
          ]
        }
      ]
    },
    {
      "cell_type": "code",
      "source": [
        "jobs_df = pd.read_csv(jobmarket)"
      ],
      "metadata": {
        "colab": {
          "base_uri": "https://localhost:8080/"
        },
        "id": "epITNlb7G241",
        "outputId": "b1fd924d-a54e-455a-c46d-65db4e0d9407"
      },
      "execution_count": null,
      "outputs": [
        {
          "output_type": "stream",
          "name": "stderr",
          "text": [
            "/usr/local/lib/python3.10/dist-packages/ipykernel/ipkernel.py:283: DeprecationWarning: `should_run_async` will not call `transform_cell` automatically in the future. Please pass the result to `transformed_cell` argument and any exception that happen during thetransform in `preprocessing_exc_tuple` in IPython 7.17 and above.\n",
            "  and should_run_async(code)\n"
          ]
        }
      ]
    },
    {
      "cell_type": "code",
      "source": [
        "jobs_df.fillna(0)"
      ],
      "metadata": {
        "colab": {
          "base_uri": "https://localhost:8080/",
          "height": 870
        },
        "id": "mr08T52AHBV7",
        "outputId": "13f9af06-ce62-4403-f97b-a93e47e59b3b"
      },
      "execution_count": null,
      "outputs": [
        {
          "output_type": "stream",
          "name": "stderr",
          "text": [
            "/usr/local/lib/python3.10/dist-packages/ipykernel/ipkernel.py:283: DeprecationWarning: `should_run_async` will not call `transform_cell` automatically in the future. Please pass the result to `transformed_cell` argument and any exception that happen during thetransform in `preprocessing_exc_tuple` in IPython 7.17 and above.\n",
            "  and should_run_async(code)\n"
          ]
        },
        {
          "output_type": "execute_result",
          "data": {
            "text/plain": [
              "               Id                                              Title  \\\n",
              "0      37404348.0                           Casual Stock Replenisher   \n",
              "1      37404337.0                           Casual Stock Replenisher   \n",
              "2      37404356.0  RETAIL SALES SUPERSTARS and STYLISTS Wanted - ...   \n",
              "3      37404330.0                              Team member - Belrose   \n",
              "4      37404308.0  Business Banking Contact Centre Specialist, Ni...   \n",
              "...           ...                                                ...   \n",
              "40784         0.0                                                  0   \n",
              "40785         0.0                                                  0   \n",
              "40786         0.0                                                  0   \n",
              "40787         0.0                                                  0   \n",
              "40788         0.0                                                  0   \n",
              "\n",
              "                                              Company  \\\n",
              "0                                         Aldi Stores   \n",
              "1                                         Aldi Stores   \n",
              "2                                 LB Creative Pty Ltd   \n",
              "3                              Anaconda Group Pty Ltd   \n",
              "4      Commonwealth Bank - Business & Private Banking   \n",
              "...                                               ...   \n",
              "40784                                               0   \n",
              "40785                                               0   \n",
              "40786                                               0   \n",
              "40787                                               0   \n",
              "40788                                               0   \n",
              "\n",
              "                           Date                 Location  \\\n",
              "0      2018-10-07T00:00:00.000Z                   Sydney   \n",
              "1      2018-10-07T00:00:00.000Z    Richmond & Hawkesbury   \n",
              "2      2018-10-07T00:00:00.000Z                 Brisbane   \n",
              "3      2018-10-07T00:00:00.000Z  Gosford & Central Coast   \n",
              "4      2018-10-07T00:00:00.000Z                   Sydney   \n",
              "...                         ...                      ...   \n",
              "40784                         0                        0   \n",
              "40785                         0                        0   \n",
              "40786                         0                        0   \n",
              "40787                         0                        0   \n",
              "40788                         0                        0   \n",
              "\n",
              "                              Area                  Classification  \\\n",
              "0      North West & Hills District      Retail & Consumer Products   \n",
              "1                                0      Retail & Consumer Products   \n",
              "2              CBD & Inner Suburbs      Retail & Consumer Products   \n",
              "3                                0      Retail & Consumer Products   \n",
              "4            Ryde & Macquarie Park  Call Centre & Customer Service   \n",
              "...                            ...                             ...   \n",
              "40784                            0                               0   \n",
              "40785                            0                               0   \n",
              "40786                            0                               0   \n",
              "40787                            0                               0   \n",
              "40788                            0                               0   \n",
              "\n",
              "       SubClassification                                        Requirement  \\\n",
              "0      Retail Assistants  Our Casual Stock Replenishers pride themselves...   \n",
              "1      Retail Assistants  Our Casual Stock Replenishers pride themselves...   \n",
              "2      Retail Assistants  BRAND NEW FLAGSHIP STORE OPENING - SUNSHINE PLAZA   \n",
              "3      Retail Assistants  Bring it on - do you love the great outdoors a...   \n",
              "4        Sales - Inbound  We are seeking highly articulate, enthusiastic...   \n",
              "...                  ...                                                ...   \n",
              "40784                  0                                                  0   \n",
              "40785                  0                                                  0   \n",
              "40786                  0                                                  0   \n",
              "40787                  0                                                  0   \n",
              "40788                  0                                                  0   \n",
              "\n",
              "      FullDescription  LowestSalary  HighestSalary JobType  \n",
              "0                   0           0.0           30.0       0  \n",
              "1                   0           0.0           30.0       0  \n",
              "2                   0           0.0           30.0       0  \n",
              "3                   0           0.0           30.0       0  \n",
              "4                   0           0.0           30.0       0  \n",
              "...               ...           ...            ...     ...  \n",
              "40784               0           0.0            0.0       0  \n",
              "40785               0           0.0            0.0       0  \n",
              "40786               0           0.0            0.0       0  \n",
              "40787               0           0.0            0.0       0  \n",
              "40788               0           0.0            0.0       0  \n",
              "\n",
              "[40789 rows x 13 columns]"
            ],
            "text/html": [
              "\n",
              "  <div id=\"df-c9438652-0c85-444f-b776-7606db250364\">\n",
              "    <div class=\"colab-df-container\">\n",
              "      <div>\n",
              "<style scoped>\n",
              "    .dataframe tbody tr th:only-of-type {\n",
              "        vertical-align: middle;\n",
              "    }\n",
              "\n",
              "    .dataframe tbody tr th {\n",
              "        vertical-align: top;\n",
              "    }\n",
              "\n",
              "    .dataframe thead th {\n",
              "        text-align: right;\n",
              "    }\n",
              "</style>\n",
              "<table border=\"1\" class=\"dataframe\">\n",
              "  <thead>\n",
              "    <tr style=\"text-align: right;\">\n",
              "      <th></th>\n",
              "      <th>Id</th>\n",
              "      <th>Title</th>\n",
              "      <th>Company</th>\n",
              "      <th>Date</th>\n",
              "      <th>Location</th>\n",
              "      <th>Area</th>\n",
              "      <th>Classification</th>\n",
              "      <th>SubClassification</th>\n",
              "      <th>Requirement</th>\n",
              "      <th>FullDescription</th>\n",
              "      <th>LowestSalary</th>\n",
              "      <th>HighestSalary</th>\n",
              "      <th>JobType</th>\n",
              "    </tr>\n",
              "  </thead>\n",
              "  <tbody>\n",
              "    <tr>\n",
              "      <th>0</th>\n",
              "      <td>37404348.0</td>\n",
              "      <td>Casual Stock Replenisher</td>\n",
              "      <td>Aldi Stores</td>\n",
              "      <td>2018-10-07T00:00:00.000Z</td>\n",
              "      <td>Sydney</td>\n",
              "      <td>North West &amp; Hills District</td>\n",
              "      <td>Retail &amp; Consumer Products</td>\n",
              "      <td>Retail Assistants</td>\n",
              "      <td>Our Casual Stock Replenishers pride themselves...</td>\n",
              "      <td>0</td>\n",
              "      <td>0.0</td>\n",
              "      <td>30.0</td>\n",
              "      <td>0</td>\n",
              "    </tr>\n",
              "    <tr>\n",
              "      <th>1</th>\n",
              "      <td>37404337.0</td>\n",
              "      <td>Casual Stock Replenisher</td>\n",
              "      <td>Aldi Stores</td>\n",
              "      <td>2018-10-07T00:00:00.000Z</td>\n",
              "      <td>Richmond &amp; Hawkesbury</td>\n",
              "      <td>0</td>\n",
              "      <td>Retail &amp; Consumer Products</td>\n",
              "      <td>Retail Assistants</td>\n",
              "      <td>Our Casual Stock Replenishers pride themselves...</td>\n",
              "      <td>0</td>\n",
              "      <td>0.0</td>\n",
              "      <td>30.0</td>\n",
              "      <td>0</td>\n",
              "    </tr>\n",
              "    <tr>\n",
              "      <th>2</th>\n",
              "      <td>37404356.0</td>\n",
              "      <td>RETAIL SALES SUPERSTARS and STYLISTS Wanted - ...</td>\n",
              "      <td>LB Creative Pty Ltd</td>\n",
              "      <td>2018-10-07T00:00:00.000Z</td>\n",
              "      <td>Brisbane</td>\n",
              "      <td>CBD &amp; Inner Suburbs</td>\n",
              "      <td>Retail &amp; Consumer Products</td>\n",
              "      <td>Retail Assistants</td>\n",
              "      <td>BRAND NEW FLAGSHIP STORE OPENING - SUNSHINE PLAZA</td>\n",
              "      <td>0</td>\n",
              "      <td>0.0</td>\n",
              "      <td>30.0</td>\n",
              "      <td>0</td>\n",
              "    </tr>\n",
              "    <tr>\n",
              "      <th>3</th>\n",
              "      <td>37404330.0</td>\n",
              "      <td>Team member - Belrose</td>\n",
              "      <td>Anaconda Group Pty Ltd</td>\n",
              "      <td>2018-10-07T00:00:00.000Z</td>\n",
              "      <td>Gosford &amp; Central Coast</td>\n",
              "      <td>0</td>\n",
              "      <td>Retail &amp; Consumer Products</td>\n",
              "      <td>Retail Assistants</td>\n",
              "      <td>Bring it on - do you love the great outdoors a...</td>\n",
              "      <td>0</td>\n",
              "      <td>0.0</td>\n",
              "      <td>30.0</td>\n",
              "      <td>0</td>\n",
              "    </tr>\n",
              "    <tr>\n",
              "      <th>4</th>\n",
              "      <td>37404308.0</td>\n",
              "      <td>Business Banking Contact Centre Specialist, Ni...</td>\n",
              "      <td>Commonwealth Bank - Business &amp; Private Banking</td>\n",
              "      <td>2018-10-07T00:00:00.000Z</td>\n",
              "      <td>Sydney</td>\n",
              "      <td>Ryde &amp; Macquarie Park</td>\n",
              "      <td>Call Centre &amp; Customer Service</td>\n",
              "      <td>Sales - Inbound</td>\n",
              "      <td>We are seeking highly articulate, enthusiastic...</td>\n",
              "      <td>0</td>\n",
              "      <td>0.0</td>\n",
              "      <td>30.0</td>\n",
              "      <td>0</td>\n",
              "    </tr>\n",
              "    <tr>\n",
              "      <th>...</th>\n",
              "      <td>...</td>\n",
              "      <td>...</td>\n",
              "      <td>...</td>\n",
              "      <td>...</td>\n",
              "      <td>...</td>\n",
              "      <td>...</td>\n",
              "      <td>...</td>\n",
              "      <td>...</td>\n",
              "      <td>...</td>\n",
              "      <td>...</td>\n",
              "      <td>...</td>\n",
              "      <td>...</td>\n",
              "      <td>...</td>\n",
              "    </tr>\n",
              "    <tr>\n",
              "      <th>40784</th>\n",
              "      <td>0.0</td>\n",
              "      <td>0</td>\n",
              "      <td>0</td>\n",
              "      <td>0</td>\n",
              "      <td>0</td>\n",
              "      <td>0</td>\n",
              "      <td>0</td>\n",
              "      <td>0</td>\n",
              "      <td>0</td>\n",
              "      <td>0</td>\n",
              "      <td>0.0</td>\n",
              "      <td>0.0</td>\n",
              "      <td>0</td>\n",
              "    </tr>\n",
              "    <tr>\n",
              "      <th>40785</th>\n",
              "      <td>0.0</td>\n",
              "      <td>0</td>\n",
              "      <td>0</td>\n",
              "      <td>0</td>\n",
              "      <td>0</td>\n",
              "      <td>0</td>\n",
              "      <td>0</td>\n",
              "      <td>0</td>\n",
              "      <td>0</td>\n",
              "      <td>0</td>\n",
              "      <td>0.0</td>\n",
              "      <td>0.0</td>\n",
              "      <td>0</td>\n",
              "    </tr>\n",
              "    <tr>\n",
              "      <th>40786</th>\n",
              "      <td>0.0</td>\n",
              "      <td>0</td>\n",
              "      <td>0</td>\n",
              "      <td>0</td>\n",
              "      <td>0</td>\n",
              "      <td>0</td>\n",
              "      <td>0</td>\n",
              "      <td>0</td>\n",
              "      <td>0</td>\n",
              "      <td>0</td>\n",
              "      <td>0.0</td>\n",
              "      <td>0.0</td>\n",
              "      <td>0</td>\n",
              "    </tr>\n",
              "    <tr>\n",
              "      <th>40787</th>\n",
              "      <td>0.0</td>\n",
              "      <td>0</td>\n",
              "      <td>0</td>\n",
              "      <td>0</td>\n",
              "      <td>0</td>\n",
              "      <td>0</td>\n",
              "      <td>0</td>\n",
              "      <td>0</td>\n",
              "      <td>0</td>\n",
              "      <td>0</td>\n",
              "      <td>0.0</td>\n",
              "      <td>0.0</td>\n",
              "      <td>0</td>\n",
              "    </tr>\n",
              "    <tr>\n",
              "      <th>40788</th>\n",
              "      <td>0.0</td>\n",
              "      <td>0</td>\n",
              "      <td>0</td>\n",
              "      <td>0</td>\n",
              "      <td>0</td>\n",
              "      <td>0</td>\n",
              "      <td>0</td>\n",
              "      <td>0</td>\n",
              "      <td>0</td>\n",
              "      <td>0</td>\n",
              "      <td>0.0</td>\n",
              "      <td>0.0</td>\n",
              "      <td>0</td>\n",
              "    </tr>\n",
              "  </tbody>\n",
              "</table>\n",
              "<p>40789 rows × 13 columns</p>\n",
              "</div>\n",
              "      <button class=\"colab-df-convert\" onclick=\"convertToInteractive('df-c9438652-0c85-444f-b776-7606db250364')\"\n",
              "              title=\"Convert this dataframe to an interactive table.\"\n",
              "              style=\"display:none;\">\n",
              "        \n",
              "  <svg xmlns=\"http://www.w3.org/2000/svg\" height=\"24px\"viewBox=\"0 0 24 24\"\n",
              "       width=\"24px\">\n",
              "    <path d=\"M0 0h24v24H0V0z\" fill=\"none\"/>\n",
              "    <path d=\"M18.56 5.44l.94 2.06.94-2.06 2.06-.94-2.06-.94-.94-2.06-.94 2.06-2.06.94zm-11 1L8.5 8.5l.94-2.06 2.06-.94-2.06-.94L8.5 2.5l-.94 2.06-2.06.94zm10 10l.94 2.06.94-2.06 2.06-.94-2.06-.94-.94-2.06-.94 2.06-2.06.94z\"/><path d=\"M17.41 7.96l-1.37-1.37c-.4-.4-.92-.59-1.43-.59-.52 0-1.04.2-1.43.59L10.3 9.45l-7.72 7.72c-.78.78-.78 2.05 0 2.83L4 21.41c.39.39.9.59 1.41.59.51 0 1.02-.2 1.41-.59l7.78-7.78 2.81-2.81c.8-.78.8-2.07 0-2.86zM5.41 20L4 18.59l7.72-7.72 1.47 1.35L5.41 20z\"/>\n",
              "  </svg>\n",
              "      </button>\n",
              "      \n",
              "  <style>\n",
              "    .colab-df-container {\n",
              "      display:flex;\n",
              "      flex-wrap:wrap;\n",
              "      gap: 12px;\n",
              "    }\n",
              "\n",
              "    .colab-df-convert {\n",
              "      background-color: #E8F0FE;\n",
              "      border: none;\n",
              "      border-radius: 50%;\n",
              "      cursor: pointer;\n",
              "      display: none;\n",
              "      fill: #1967D2;\n",
              "      height: 32px;\n",
              "      padding: 0 0 0 0;\n",
              "      width: 32px;\n",
              "    }\n",
              "\n",
              "    .colab-df-convert:hover {\n",
              "      background-color: #E2EBFA;\n",
              "      box-shadow: 0px 1px 2px rgba(60, 64, 67, 0.3), 0px 1px 3px 1px rgba(60, 64, 67, 0.15);\n",
              "      fill: #174EA6;\n",
              "    }\n",
              "\n",
              "    [theme=dark] .colab-df-convert {\n",
              "      background-color: #3B4455;\n",
              "      fill: #D2E3FC;\n",
              "    }\n",
              "\n",
              "    [theme=dark] .colab-df-convert:hover {\n",
              "      background-color: #434B5C;\n",
              "      box-shadow: 0px 1px 3px 1px rgba(0, 0, 0, 0.15);\n",
              "      filter: drop-shadow(0px 1px 2px rgba(0, 0, 0, 0.3));\n",
              "      fill: #FFFFFF;\n",
              "    }\n",
              "  </style>\n",
              "\n",
              "      <script>\n",
              "        const buttonEl =\n",
              "          document.querySelector('#df-c9438652-0c85-444f-b776-7606db250364 button.colab-df-convert');\n",
              "        buttonEl.style.display =\n",
              "          google.colab.kernel.accessAllowed ? 'block' : 'none';\n",
              "\n",
              "        async function convertToInteractive(key) {\n",
              "          const element = document.querySelector('#df-c9438652-0c85-444f-b776-7606db250364');\n",
              "          const dataTable =\n",
              "            await google.colab.kernel.invokeFunction('convertToInteractive',\n",
              "                                                     [key], {});\n",
              "          if (!dataTable) return;\n",
              "\n",
              "          const docLinkHtml = 'Like what you see? Visit the ' +\n",
              "            '<a target=\"_blank\" href=https://colab.research.google.com/notebooks/data_table.ipynb>data table notebook</a>'\n",
              "            + ' to learn more about interactive tables.';\n",
              "          element.innerHTML = '';\n",
              "          dataTable['output_type'] = 'display_data';\n",
              "          await google.colab.output.renderOutput(dataTable, element);\n",
              "          const docLink = document.createElement('div');\n",
              "          docLink.innerHTML = docLinkHtml;\n",
              "          element.appendChild(docLink);\n",
              "        }\n",
              "      </script>\n",
              "    </div>\n",
              "  </div>\n",
              "  "
            ]
          },
          "metadata": {},
          "execution_count": 41
        }
      ]
    },
    {
      "cell_type": "code",
      "source": [
        "import pandas as pd\n",
        "from sklearn.feature_extraction.text import TfidfVectorizer\n",
        "from sklearn.linear_model import LogisticRegression\n",
        "\n",
        "# Step 1: Filter the jobs for the IT sector only\n",
        "jobs_df['Title'] = jobs_df['Title'].fillna('')\n",
        "it_jobs_df = jobs_df[jobs_df['Title'].str.contains('IT', case=False)]\n",
        "     "
      ],
      "metadata": {
        "colab": {
          "base_uri": "https://localhost:8080/"
        },
        "id": "tzAqSm_GHHMB",
        "outputId": "ef3e3ae0-6af8-4f3c-bcde-efa5801de570"
      },
      "execution_count": null,
      "outputs": [
        {
          "output_type": "stream",
          "name": "stderr",
          "text": [
            "/usr/local/lib/python3.10/dist-packages/ipykernel/ipkernel.py:283: DeprecationWarning: `should_run_async` will not call `transform_cell` automatically in the future. Please pass the result to `transformed_cell` argument and any exception that happen during thetransform in `preprocessing_exc_tuple` in IPython 7.17 and above.\n",
            "  and should_run_async(code)\n"
          ]
        }
      ]
    },
    {
      "cell_type": "code",
      "source": [
        "# Step 2: Put the descriptions of all jobs into a list\n",
        "job_descriptions = it_jobs_df['Classification'].tolist()"
      ],
      "metadata": {
        "colab": {
          "base_uri": "https://localhost:8080/"
        },
        "id": "RoseAYM7HJxO",
        "outputId": "537269bb-85fa-46e7-aafa-4b92ec5b9604"
      },
      "execution_count": null,
      "outputs": [
        {
          "output_type": "stream",
          "name": "stderr",
          "text": [
            "/usr/local/lib/python3.10/dist-packages/ipykernel/ipkernel.py:283: DeprecationWarning: `should_run_async` will not call `transform_cell` automatically in the future. Please pass the result to `transformed_cell` argument and any exception that happen during thetransform in `preprocessing_exc_tuple` in IPython 7.17 and above.\n",
            "  and should_run_async(code)\n"
          ]
        }
      ]
    },
    {
      "cell_type": "code",
      "source": [
        "# Step 3: Use scikit-learn to get the top 20 important keywords\n",
        "vectorizer = TfidfVectorizer(stop_words='english', max_features=1000)\n",
        "X = vectorizer.fit_transform(job_descriptions)\n",
        "# Train a logistic regression model\n",
        "model = LogisticRegression()\n",
        "model.fit(X, it_jobs_df['Title'])\n",
        "\n",
        "# Get feature names and their corresponding coefficients\n",
        "feature_names = vectorizer.get_feature_names_out()\n",
        "coefficients = model.coef_[0]\n",
        "\n",
        "# Sort feature names based on coefficients\n",
        "top_keywords = sorted(zip(coefficients, feature_names), reverse=True)[:20]\n",
        "\n",
        "# Print the top 20 important keywords\n",
        "print(\"Top 20 important keywords:\")\n",
        "for coef, keyword in top_keywords:\n",
        "    print(keyword)"
      ],
      "metadata": {
        "colab": {
          "base_uri": "https://localhost:8080/"
        },
        "id": "YpoSCYo3HL_D",
        "outputId": "7936637e-5f0b-42bf-f821-d79ca4e2de3f"
      },
      "execution_count": null,
      "outputs": [
        {
          "output_type": "stream",
          "name": "stderr",
          "text": [
            "/usr/local/lib/python3.10/dist-packages/ipykernel/ipkernel.py:283: DeprecationWarning: `should_run_async` will not call `transform_cell` automatically in the future. Please pass the result to `transformed_cell` argument and any exception that happen during thetransform in `preprocessing_exc_tuple` in IPython 7.17 and above.\n",
            "  and should_run_async(code)\n"
          ]
        },
        {
          "output_type": "stream",
          "name": "stdout",
          "text": [
            "Top 20 important keywords:\n",
            "retail\n",
            "products\n",
            "consumer\n",
            "management\n",
            "general\n",
            "ceo\n",
            "strategy\n",
            "consulting\n",
            "science\n",
            "farming\n",
            "conservation\n",
            "animals\n",
            "superannuation\n",
            "insurance\n",
            "media\n",
            "arts\n",
            "advertising\n",
            "financial\n",
            "banking\n",
            "real\n"
          ]
        }
      ]
    },
    {
      "cell_type": "code",
      "source": [
        "# Step 4: Perform information retrieval with scikit-learn using a favorite keyword\n",
        "favorite_keyword = 'python'\n",
        "\n",
        "# Construct a query using the favorite keyword\n",
        "query = vectorizer.transform([favorite_keyword])\n",
        "\n",
        "# Compute similarity scores between the query and job descriptions\n",
        "similarity_scores = model.predict_proba(query)[0]\n",
        "\n",
        "# Rank the job descriptions based on similarity scores\n",
        "ranked_jobs = sorted(zip(similarity_scores, it_jobs_df['Title'], job_descriptions), reverse=True)\n",
        "\n",
        "# Print the top 5 job descriptions most similar to the query\n",
        "print(\"\\nTop 5 job descriptions most similar to the query:\")\n",
        "for score, job_title, job_description in ranked_jobs[:5]:\n",
        "    print(\"Job Title:\", job_title)\n",
        "    print(\"Similarity Score:\", score)\n",
        "    print(\"Job Description:\", job_description)\n",
        "    print()"
      ],
      "metadata": {
        "colab": {
          "base_uri": "https://localhost:8080/"
        },
        "id": "1L5FQn_LHOjH",
        "outputId": "e0c45cf8-0629-434d-df54-c46b8f64775d"
      },
      "execution_count": null,
      "outputs": [
        {
          "output_type": "stream",
          "name": "stdout",
          "text": [
            "\n",
            "Top 5 job descriptions most similar to the query:\n",
            "Job Title: Credit Controller - Temporary Position\n",
            "Similarity Score: 0.004172072785443803\n",
            "Job Description: Accounting\n",
            "\n",
            "Job Title: Wait Staff\n",
            "Similarity Score: 0.0033997001440222003\n",
            "Job Description: Hospitality & Tourism\n",
            "\n",
            "Job Title: Solution Architect (IAM)\n",
            "Similarity Score: 0.003043823447949755\n",
            "Job Description: Information & Communication Technology\n",
            "\n",
            "Job Title: Recruitment Consultant\n",
            "Similarity Score: 0.0027987719273321284\n",
            "Job Description: Human Resources & Recruitment\n",
            "\n",
            "Job Title: IT Security Architect\n",
            "Similarity Score: 0.002747864116015302\n",
            "Job Description: Information & Communication Technology\n",
            "\n"
          ]
        },
        {
          "output_type": "stream",
          "name": "stderr",
          "text": [
            "/usr/local/lib/python3.10/dist-packages/ipykernel/ipkernel.py:283: DeprecationWarning: `should_run_async` will not call `transform_cell` automatically in the future. Please pass the result to `transformed_cell` argument and any exception that happen during thetransform in `preprocessing_exc_tuple` in IPython 7.17 and above.\n",
            "  and should_run_async(code)\n"
          ]
        }
      ]
    },
    {
      "cell_type": "markdown",
      "source": [
        "2."
      ],
      "metadata": {
        "id": "Mb70JKKpHShK"
      }
    },
    {
      "cell_type": "code",
      "source": [
        "def extract_ngrams(sequence, n):\n",
        "    ngrams = []\n",
        "    sequence_length = len(sequence)\n",
        "    for i in range(sequence_length - n + 1):\n",
        "        ngram = sequence[i:i+n]\n",
        "        ngrams.append(ngram)\n",
        "    return ngrams"
      ],
      "metadata": {
        "colab": {
          "base_uri": "https://localhost:8080/"
        },
        "id": "-FSClD_sHTHU",
        "outputId": "0326aa50-2e25-40d5-913f-61fb34de1fd0"
      },
      "execution_count": null,
      "outputs": [
        {
          "output_type": "stream",
          "name": "stderr",
          "text": [
            "/usr/local/lib/python3.10/dist-packages/ipykernel/ipkernel.py:283: DeprecationWarning: `should_run_async` will not call `transform_cell` automatically in the future. Please pass the result to `transformed_cell` argument and any exception that happen during thetransform in `preprocessing_exc_tuple` in IPython 7.17 and above.\n",
            "  and should_run_async(code)\n"
          ]
        }
      ]
    },
    {
      "cell_type": "code",
      "source": [
        "sentence = \"I like deadline and want to immerse myself in deadline.\"\n",
        "\n",
        "# Extract word tri-grams\n",
        "words = sentence.split()\n",
        "word_trigrams = extract_ngrams(words, 3)\n",
        "\n",
        "print(\"Word Tri-grams:\")\n",
        "for trigram in word_trigrams:\n",
        "    print(trigram)\n",
        "\n",
        "# Extract letter tri-grams\n",
        "letters = list(sentence.replace(\" \", \"\"))\n",
        "letter_trigrams = extract_ngrams(letters, 3)\n",
        "\n",
        "print(\"\\nLetter Tri-grams:\")\n",
        "for trigram in letter_trigrams:\n",
        "    print(trigram)"
      ],
      "metadata": {
        "colab": {
          "base_uri": "https://localhost:8080/"
        },
        "id": "U-DeOWeBHU8B",
        "outputId": "092cdf11-fec8-48c3-cad6-6a64f2aa8b0b"
      },
      "execution_count": null,
      "outputs": [
        {
          "output_type": "stream",
          "name": "stdout",
          "text": [
            "Word Tri-grams:\n",
            "['I', 'like', 'deadline']\n",
            "['like', 'deadline', 'and']\n",
            "['deadline', 'and', 'want']\n",
            "['and', 'want', 'to']\n",
            "['want', 'to', 'immerse']\n",
            "['to', 'immerse', 'myself']\n",
            "['immerse', 'myself', 'in']\n",
            "['myself', 'in', 'deadline.']\n",
            "\n",
            "Letter Tri-grams:\n",
            "['I', 'l', 'i']\n",
            "['l', 'i', 'k']\n",
            "['i', 'k', 'e']\n",
            "['k', 'e', 'd']\n",
            "['e', 'd', 'e']\n",
            "['d', 'e', 'a']\n",
            "['e', 'a', 'd']\n",
            "['a', 'd', 'l']\n",
            "['d', 'l', 'i']\n",
            "['l', 'i', 'n']\n",
            "['i', 'n', 'e']\n",
            "['n', 'e', 'a']\n",
            "['e', 'a', 'n']\n",
            "['a', 'n', 'd']\n",
            "['n', 'd', 'w']\n",
            "['d', 'w', 'a']\n",
            "['w', 'a', 'n']\n",
            "['a', 'n', 't']\n",
            "['n', 't', 't']\n",
            "['t', 't', 'o']\n",
            "['t', 'o', 'i']\n",
            "['o', 'i', 'm']\n",
            "['i', 'm', 'm']\n",
            "['m', 'm', 'e']\n",
            "['m', 'e', 'r']\n",
            "['e', 'r', 's']\n",
            "['r', 's', 'e']\n",
            "['s', 'e', 'm']\n",
            "['e', 'm', 'y']\n",
            "['m', 'y', 's']\n",
            "['y', 's', 'e']\n",
            "['s', 'e', 'l']\n",
            "['e', 'l', 'f']\n",
            "['l', 'f', 'i']\n",
            "['f', 'i', 'n']\n",
            "['i', 'n', 'd']\n",
            "['n', 'd', 'e']\n",
            "['d', 'e', 'a']\n",
            "['e', 'a', 'd']\n",
            "['a', 'd', 'l']\n",
            "['d', 'l', 'i']\n",
            "['l', 'i', 'n']\n",
            "['i', 'n', 'e']\n",
            "['n', 'e', '.']\n"
          ]
        },
        {
          "output_type": "stream",
          "name": "stderr",
          "text": [
            "/usr/local/lib/python3.10/dist-packages/ipykernel/ipkernel.py:283: DeprecationWarning: `should_run_async` will not call `transform_cell` automatically in the future. Please pass the result to `transformed_cell` argument and any exception that happen during thetransform in `preprocessing_exc_tuple` in IPython 7.17 and above.\n",
            "  and should_run_async(code)\n"
          ]
        }
      ]
    },
    {
      "cell_type": "markdown",
      "source": [
        "3."
      ],
      "metadata": {
        "id": "8Fc_XAGfHYRd"
      }
    },
    {
      "cell_type": "code",
      "source": [
        "import random\n",
        "\n",
        "def modify_phrase(phrase):\n",
        "    words = phrase.split()\n",
        "    modified_words = []\n",
        "    \n",
        "    for word in words:\n",
        "        if len(word) <= 4:\n",
        "            modified_words.append(word)\n",
        "        else:\n",
        "            first_letter = word[0]\n",
        "            last_letter = word[-1]\n",
        "            middle_letters = list(word[1:-1])\n",
        "            random.shuffle(middle_letters)\n",
        "            modified_word = first_letter + ''.join(middle_letters) + last_letter\n",
        "            modified_words.append(modified_word)\n",
        "    \n",
        "    modified_phrase = ' '.join(modified_words)\n",
        "    return modified_phrase\n",
        "\n",
        "# Example phrase\n",
        "phrase = \"I couldn't believe that I could completely understand what I was reading: the astounding power of the human mind\"\n",
        "\n",
        "modified_phrase = modify_phrase(phrase)\n",
        "\n",
        "print(\"Original phrase:\")\n",
        "print(phrase)\n",
        "print()\n",
        "print(\"Modified phrase:\")\n",
        "print(modified_phrase)\n"
      ],
      "metadata": {
        "colab": {
          "base_uri": "https://localhost:8080/"
        },
        "id": "VDeGrv2jHWpp",
        "outputId": "43f6241e-dc65-4367-f4c2-384a51184eae"
      },
      "execution_count": null,
      "outputs": [
        {
          "output_type": "stream",
          "name": "stdout",
          "text": [
            "Original phrase:\n",
            "I couldn't believe that I could completely understand what I was reading: the astounding power of the human mind\n",
            "\n",
            "Modified phrase:\n",
            "I codln'ut bveeile that I could cepoemtlly ueadrtnnsd what I was riaedng: the annidotusg power of the huamn mind\n"
          ]
        },
        {
          "output_type": "stream",
          "name": "stderr",
          "text": [
            "/usr/local/lib/python3.10/dist-packages/ipykernel/ipkernel.py:283: DeprecationWarning: `should_run_async` will not call `transform_cell` automatically in the future. Please pass the result to `transformed_cell` argument and any exception that happen during thetransform in `preprocessing_exc_tuple` in IPython 7.17 and above.\n",
            "  and should_run_async(code)\n"
          ]
        }
      ]
    },
    {
      "cell_type": "markdown",
      "source": [
        "4."
      ],
      "metadata": {
        "id": "G9L0Cqs7He0R"
      }
    },
    {
      "cell_type": "code",
      "source": [
        "alice = \"alice.txt\""
      ],
      "metadata": {
        "colab": {
          "base_uri": "https://localhost:8080/"
        },
        "id": "1-6uDwyiHdlq",
        "outputId": "9253a8d4-bbc5-41b1-b8f6-530b25a201f3"
      },
      "execution_count": null,
      "outputs": [
        {
          "output_type": "stream",
          "name": "stderr",
          "text": [
            "/usr/local/lib/python3.10/dist-packages/ipykernel/ipkernel.py:283: DeprecationWarning: `should_run_async` will not call `transform_cell` automatically in the future. Please pass the result to `transformed_cell` argument and any exception that happen during thetransform in `preprocessing_exc_tuple` in IPython 7.17 and above.\n",
            "  and should_run_async(code)\n"
          ]
        }
      ]
    },
    {
      "cell_type": "code",
      "source": [
        "import nltk\n",
        "\n",
        "nltk.download('punkt')\n",
        "nltk.download('averaged_perceptron_tagger')"
      ],
      "metadata": {
        "colab": {
          "base_uri": "https://localhost:8080/"
        },
        "id": "q5u4k9kpHvaD",
        "outputId": "e5b330b9-2e51-4dd8-dcbb-34ad62114eaf"
      },
      "execution_count": null,
      "outputs": [
        {
          "output_type": "stream",
          "name": "stderr",
          "text": [
            "/usr/local/lib/python3.10/dist-packages/ipykernel/ipkernel.py:283: DeprecationWarning: `should_run_async` will not call `transform_cell` automatically in the future. Please pass the result to `transformed_cell` argument and any exception that happen during thetransform in `preprocessing_exc_tuple` in IPython 7.17 and above.\n",
            "  and should_run_async(code)\n",
            "[nltk_data] Downloading package punkt to /root/nltk_data...\n",
            "[nltk_data]   Package punkt is already up-to-date!\n",
            "[nltk_data] Downloading package averaged_perceptron_tagger to\n",
            "[nltk_data]     /root/nltk_data...\n",
            "[nltk_data]   Package averaged_perceptron_tagger is already up-to-\n",
            "[nltk_data]       date!\n"
          ]
        },
        {
          "output_type": "execute_result",
          "data": {
            "text/plain": [
              "True"
            ]
          },
          "metadata": {},
          "execution_count": 50
        }
      ]
    },
    {
      "cell_type": "code",
      "source": [
        "import nltk\n",
        "\n",
        "# Read the input file\n",
        "with open(alice, 'r') as file:\n",
        "    text = file.read()\n",
        "\n",
        "# Tokenize the text into sentences\n",
        "sentences = nltk.sent_tokenize(text)\n",
        "\n",
        "# Perform POS tagging on each sentence\n",
        "tagged_sentences = []\n",
        "for sentence in sentences:\n",
        "    tagged_sentence = nltk.pos_tag(nltk.word_tokenize(sentence))\n",
        "    tagged_sentences.append(tagged_sentence)\n",
        "\n",
        "# Save the POS tagged output to a separate file\n",
        "output_file = 'alice_pos_tagged.txt'\n",
        "with open(output_file, 'w') as file:\n",
        "    for tagged_sentence in tagged_sentences:\n",
        "        tagged_text = ' '.join([f\"{word}/{tag}\" for word, tag in tagged_sentence])\n",
        "        file.write(tagged_text + '\\n')\n",
        "\n",
        "print(f\"POS tagged output saved to '{output_file}'.\")\n"
      ],
      "metadata": {
        "colab": {
          "base_uri": "https://localhost:8080/"
        },
        "id": "NtBmZPf6HxGB",
        "outputId": "8826160d-2faa-496d-d149-b91904ab6b02"
      },
      "execution_count": null,
      "outputs": [
        {
          "output_type": "stream",
          "name": "stderr",
          "text": [
            "/usr/local/lib/python3.10/dist-packages/ipykernel/ipkernel.py:283: DeprecationWarning: `should_run_async` will not call `transform_cell` automatically in the future. Please pass the result to `transformed_cell` argument and any exception that happen during thetransform in `preprocessing_exc_tuple` in IPython 7.17 and above.\n",
            "  and should_run_async(code)\n"
          ]
        },
        {
          "output_type": "stream",
          "name": "stdout",
          "text": [
            "POS tagged output saved to 'alice_pos_tagged.txt'.\n"
          ]
        }
      ]
    },
    {
      "cell_type": "code",
      "source": [
        "# Open the POS tagged file for reading\n",
        "with open('alice_pos_tagged.txt', 'r') as file:\n",
        "    pos_tagged_text = file.read()\n",
        "\n",
        "# Print the contents of the POS tagged file\n",
        "print(\"POS tagged text:\")\n",
        "print(pos_tagged_text)"
      ],
      "metadata": {
        "colab": {
          "base_uri": "https://localhost:8080/"
        },
        "id": "ZMQX6AXTHy1w",
        "outputId": "a9ea533a-1a0f-4c6e-a7a1-70899bfb748e"
      },
      "execution_count": null,
      "outputs": [
        {
          "output_type": "stream",
          "name": "stdout",
          "text": [
            "POS tagged text:\n",
            "ALICE/NNP 'S/POS ADVENTURES/NNP IN/NNP WONDERLAND/NNP Lewis/NNP Carroll/NNP THE/NNP MILLENNIUM/NNP FULCRUM/NNP EDITION/NNP 3.0/CD CHAPTER/NN I/PRP ./.\n",
            "Down/IN the/DT Rabbit-Hole/JJ Alice/NNP was/VBD beginning/VBG to/TO get/VB very/RB tired/JJ of/IN sitting/VBG by/IN her/PRP$ sister/NN on/IN the/DT bank/NN ,/, and/CC of/IN having/VBG nothing/NN to/TO do/VB :/: once/RB or/CC twice/VB she/PRP had/VBD peeped/VBN into/IN the/DT book/NN her/PRP$ sister/NN was/VBD reading/VBG ,/, but/CC it/PRP had/VBD no/DT pictures/NNS or/CC conversations/NNS in/IN it/PRP ,/, 'and/VB what/WP is/VBZ the/DT use/NN of/IN a/DT book/NN ,/, '/'' thought/JJ Alice/NNP 'without/POS pictures/NNS or/CC conversations/NNS ?/. '/''\n",
            "So/IN she/PRP was/VBD considering/VBG in/IN her/PRP$ own/JJ mind/NN (/( as/RB well/RB as/IN she/PRP could/MD ,/, for/IN the/DT hot/JJ day/NN made/VBD her/PRP$ feel/JJ very/RB sleepy/JJ and/CC stupid/JJ )/) ,/, whether/IN the/DT pleasure/NN of/IN making/VBG a/DT daisy-chain/NN would/MD be/VB worth/IN the/DT trouble/NN of/IN getting/VBG up/RP and/CC picking/VBG the/DT daisies/NNS ,/, when/WRB suddenly/RB a/DT White/NNP Rabbit/NN with/IN pink/JJ eyes/NNS ran/VBD close/RB by/IN her/PRP ./.\n",
            "There/EX was/VBD nothing/NN so/RB VERY/RB remarkable/JJ in/IN that/DT ;/: nor/CC did/VBD Alice/NNP think/VB it/PRP so/RB VERY/RB much/JJ out/IN of/IN the/DT way/NN to/TO hear/VB the/DT Rabbit/NNP say/VBP to/TO itself/PRP ,/, 'Oh/'' dear/NN !/.\n",
            "Oh/UH dear/NN !/.\n",
            "I/PRP shall/MD be/VB late/RB !/. '/''\n",
            "(/( when/WRB she/PRP thought/VBD it/PRP over/IN afterwards/NNS ,/, it/PRP occurred/VBD to/TO her/PRP$ that/IN she/PRP ought/MD to/TO have/VB wondered/VBN at/IN this/DT ,/, but/CC at/IN the/DT time/NN it/PRP all/DT seemed/VBD quite/RB natural/JJ )/) ;/: but/CC when/WRB the/DT Rabbit/NNP actually/RB TOOK/VBZ A/NNP WATCH/NNP OUT/NNP OF/IN ITS/NNP WAISTCOAT-POCKET/NNP ,/, and/CC looked/VBD at/IN it/PRP ,/, and/CC then/RB hurried/VBD on/IN ,/, Alice/NNP started/VBD to/TO her/PRP$ feet/NNS ,/, for/IN it/PRP flashed/VBD across/IN her/PRP$ mind/NN that/IN she/PRP had/VBD never/RB before/RB seen/VBN a/DT rabbit/NN with/IN either/DT a/DT waistcoat-pocket/NN ,/, or/CC a/DT watch/NN to/TO take/VB out/IN of/IN it/PRP ,/, and/CC burning/VBG with/IN curiosity/NN ,/, she/PRP ran/VBD across/IN the/DT field/NN after/IN it/PRP ,/, and/CC fortunately/RB was/VBD just/RB in/IN time/NN to/TO see/VB it/PRP pop/VB down/RP a/DT large/JJ rabbit-hole/JJ under/IN the/DT hedge/NN ./.\n",
            "In/IN another/DT moment/NN down/RP went/VBD Alice/NNP after/IN it/PRP ,/, never/RB once/RB considering/VBG how/WRB in/IN the/DT world/NN she/PRP was/VBD to/TO get/VB out/RP again/RB ./.\n",
            "The/DT rabbit-hole/JJ went/VBD straight/RB on/IN like/IN a/DT tunnel/NN for/IN some/DT way/NN ,/, and/CC then/RB dipped/VBD suddenly/RB down/RB ,/, so/IN suddenly/RB that/IN Alice/NNP had/VBD not/RB a/DT moment/NN to/TO think/VB about/IN stopping/VBG herself/PRP before/IN she/PRP found/VBD herself/PRP falling/VBG down/RP a/DT very/RB deep/JJ well/NN ./.\n",
            "Either/CC the/DT well/NN was/VBD very/RB deep/JJ ,/, or/CC she/PRP fell/VBD very/RB slowly/RB ,/, for/IN she/PRP had/VBD plenty/NN of/IN time/NN as/IN she/PRP went/VBD down/RB to/TO look/VB about/IN her/PRP$ and/CC to/TO wonder/VB what/WP was/VBD going/VBG to/TO happen/VB next/RB ./.\n",
            "First/RB ,/, she/PRP tried/VBD to/TO look/VB down/RP and/CC make/VB out/RP what/WP she/PRP was/VBD coming/VBG to/TO ,/, but/CC it/PRP was/VBD too/RB dark/JJ to/TO see/VB anything/NN ;/: then/RB she/PRP looked/VBD at/IN the/DT sides/NNS of/IN the/DT well/NN ,/, and/CC noticed/VBD that/IN they/PRP were/VBD filled/VBN with/IN cupboards/NNS and/CC book-shelves/NNS ;/: here/RB and/CC there/RB she/PRP saw/VBD maps/NNS and/CC pictures/NNS hung/VBP upon/IN pegs/NNS ./.\n",
            "She/PRP took/VBD down/RP a/DT jar/NN from/IN one/CD of/IN the/DT shelves/NNS as/IN she/PRP passed/VBD ;/: it/PRP was/VBD labelled/VBN 'ORANGE/RB MARMALADE/NNP '/POS ,/, but/CC to/TO her/PRP$ great/JJ disappointment/NN it/PRP was/VBD empty/JJ :/: she/PRP did/VBD not/RB like/IN to/TO drop/VB the/DT jar/NN for/IN fear/NN of/IN killing/VBG somebody/NN ,/, so/RB managed/VBN to/TO put/VB it/PRP into/IN one/CD of/IN the/DT cupboards/NNS as/IN she/PRP fell/VBD past/IN it/PRP ./.\n",
            "'Well/RB !/. '/''\n",
            "thought/VBN Alice/NNP to/TO herself/VB ,/, 'after/FW such/PDT a/DT fall/NN as/IN this/DT ,/, I/PRP shall/MD think/VB nothing/NN of/IN tumbling/VBG down/RP stairs/NNS !/.\n",
            "How/WRB brave/VBP they/PRP 'll/MD all/DT think/VB me/PRP at/IN home/NN !/.\n",
            "Why/WRB ,/, I/PRP would/MD n't/RB say/VB anything/NN about/IN it/PRP ,/, even/RB if/IN I/PRP fell/VBD off/RP the/DT top/NN of/IN the/DT house/NN !/. '/''\n",
            "(/( Which/NNP was/VBD very/RB likely/JJ true/JJ ./. )/)\n",
            "Down/NNP ,/, down/RB ,/, down/RB ./.\n",
            "Would/MD the/DT fall/NN NEVER/NNP come/VBP to/TO an/DT end/NN !/.\n",
            "'/POS I/PRP wonder/VBP how/WRB many/JJ miles/NNS I/PRP 've/VBP fallen/VBN by/IN this/DT time/NN ?/. '/''\n",
            "she/PRP said/VBD aloud/NN ./.\n",
            "'/POS I/PRP must/MD be/VB getting/VBG somewhere/RB near/IN the/DT centre/NN of/IN the/DT earth/NN ./.\n",
            "Let/VB me/PRP see/VB :/: that/DT would/MD be/VB four/CD thousand/NN miles/NNS down/RB ,/, I/PRP think/VBP --/: '/POS (/( for/IN ,/, you/PRP see/VBP ,/, Alice/NNP had/VBD learnt/VBN several/JJ things/NNS of/IN this/DT sort/NN in/IN her/PRP$ lessons/NNS in/IN the/DT schoolroom/NN ,/, and/CC though/IN this/DT was/VBD not/RB a/DT VERY/RB good/JJ opportunity/NN for/IN showing/VBG off/RP her/PRP$ knowledge/NN ,/, as/IN there/EX was/VBD no/DT one/NN to/TO listen/VB to/TO her/PRP$ ,/, still/RB it/PRP was/VBD good/JJ practice/NN to/TO say/VB it/PRP over/RP )/) '/POS --/: yes/UH ,/, that/DT 's/VBZ about/IN the/DT right/JJ distance/NN --/: but/CC then/RB I/PRP wonder/VBP what/WP Latitude/NNP or/CC Longitude/NNP I/PRP 've/VBP got/VBN to/TO ?/. '/''\n",
            "(/( Alice/NNP had/VBD no/DT idea/NN what/WP Latitude/NNP was/VBD ,/, or/CC Longitude/NNP either/CC ,/, but/CC thought/VBD they/PRP were/VBD nice/JJ grand/JJ words/NNS to/TO say/VB ./. )/)\n",
            "Presently/RB she/PRP began/VBD again/RB ./.\n",
            "'/POS I/PRP wonder/VBP if/IN I/PRP shall/MD fall/VB right/RB THROUGH/IN the/DT earth/NN !/.\n",
            "How/WRB funny/JJ it/PRP 'll/MD seem/VB to/TO come/VB out/RP among/IN the/DT people/NNS that/WDT walk/VBP with/IN their/PRP$ heads/NNS downward/RB !/.\n",
            "The/DT Antipathies/NNPS ,/, I/PRP think/VBP --/: '/'' (/( she/PRP was/VBD rather/RB glad/JJ there/EX WAS/NNP no/DT one/NN listening/NN ,/, this/DT time/NN ,/, as/IN it/PRP did/VBD n't/RB sound/VB at/IN all/PDT the/DT right/JJ word/NN )/) '/POS --/: but/CC I/PRP shall/MD have/VB to/TO ask/VB them/PRP what/WP the/DT name/NN of/IN the/DT country/NN is/VBZ ,/, you/PRP know/VBP ./.\n",
            "Please/NNP ,/, Ma'am/NNP ,/, is/VBZ this/DT New/NNP Zealand/NNP or/CC Australia/NNP ?/. '/''\n",
            "(/( and/CC she/PRP tried/VBD to/TO curtsey/VB as/IN she/PRP spoke/VBD --/: fancy/JJ CURTSEYING/NN as/IN you/PRP 're/VBP falling/VBG through/IN the/DT air/NN !/.\n",
            "Do/VBP you/PRP think/VB you/PRP could/MD manage/VB it/PRP ?/. )/)\n",
            "'And/POS what/WP an/DT ignorant/JJ little/JJ girl/NN she/PRP 'll/MD think/VB me/PRP for/IN asking/VBG !/.\n",
            "No/DT ,/, it/PRP 'll/MD never/RB do/VB to/TO ask/VB :/: perhaps/RB I/PRP shall/MD see/VB it/PRP written/VBN up/RP somewhere/RB ./. '/''\n",
            "Down/NNP ,/, down/RB ,/, down/RB ./.\n",
            "There/EX was/VBD nothing/NN else/RB to/TO do/VB ,/, so/IN Alice/NNP soon/RB began/VBD talking/VBG again/RB ./.\n",
            "'Dinah/POS 'll/MD miss/VB me/PRP very/RB much/JJ to-night/NN ,/, I/PRP should/MD think/VB !/. '/''\n",
            "(/( Dinah/NNP was/VBD the/DT cat/NN ./. )/)\n",
            "'/POS I/PRP hope/VBP they/PRP 'll/MD remember/VB her/PRP$ saucer/NN of/IN milk/NN at/IN tea-time/NN ./.\n",
            "Dinah/NNP my/PRP$ dear/NN !/.\n",
            "I/PRP wish/VBP you/PRP were/VBD down/RB here/RB with/IN me/PRP !/.\n",
            "There/EX are/VBP no/DT mice/NN in/IN the/DT air/NN ,/, I/PRP 'm/VBP afraid/JJ ,/, but/CC you/PRP might/MD catch/VB a/DT bat/NN ,/, and/CC that/DT 's/VBZ very/RB like/IN a/DT mouse/NN ,/, you/PRP know/VBP ./.\n",
            "But/CC do/VBP cats/NNS eat/VB bats/NNS ,/, I/PRP wonder/VBP ?/. '/''\n",
            "And/CC here/RB Alice/NNP began/VBD to/TO get/VB rather/RB sleepy/NN ,/, and/CC went/VBD on/IN saying/VBG to/TO herself/VB ,/, in/IN a/DT dreamy/JJ sort/NN of/IN way/NN ,/, 'Do/'' cats/VBZ eat/NN bats/NNS ?/.\n",
            "Do/VB cats/NNS eat/VB bats/NNS ?/. '/''\n",
            "and/CC sometimes/RB ,/, 'Do/'' bats/VBZ eat/NN cats/NNS ?/. '/''\n",
            "for/IN ,/, you/PRP see/VBP ,/, as/IN she/PRP could/MD n't/RB answer/VB either/DT question/NN ,/, it/PRP did/VBD n't/RB much/JJ matter/NN which/WDT way/NN she/PRP put/VBD it/PRP ./.\n",
            "She/PRP felt/VBD that/IN she/PRP was/VBD dozing/VBG off/RP ,/, and/CC had/VBD just/RB begun/VBN to/TO dream/VB that/IN she/PRP was/VBD walking/VBG hand/NN in/IN hand/NN with/IN Dinah/NNP ,/, and/CC saying/VBG to/TO her/PRP$ very/RB earnestly/RB ,/, 'Now/PRP ,/, Dinah/NNP ,/, tell/VB me/PRP the/DT truth/NN :/: did/VBD you/PRP ever/RB eat/VB a/DT bat/NN ?/. '/''\n",
            "when/WRB suddenly/RB ,/, thump/NN !/.\n",
            "thump/NN !/.\n",
            "down/IN she/PRP came/VBD upon/IN a/DT heap/NN of/IN sticks/NNS and/CC dry/JJ leaves/NNS ,/, and/CC the/DT fall/NN was/VBD over/RB ./.\n",
            "Alice/NNP was/VBD not/RB a/DT bit/NN hurt/JJ ,/, and/CC she/PRP jumped/VBD up/RB on/IN to/TO her/PRP$ feet/NNS in/IN a/DT moment/NN :/: she/PRP looked/VBD up/RB ,/, but/CC it/PRP was/VBD all/DT dark/JJ overhead/NN ;/: before/IN her/PRP$ was/VBD another/DT long/JJ passage/NN ,/, and/CC the/DT White/NNP Rabbit/NNP was/VBD still/RB in/IN sight/NN ,/, hurrying/VBG down/RP it/PRP ./.\n",
            "There/EX was/VBD not/RB a/DT moment/NN to/TO be/VB lost/VBN :/: away/RB went/VBD Alice/NNP like/IN the/DT wind/NN ,/, and/CC was/VBD just/RB in/IN time/NN to/TO hear/VB it/PRP say/VB ,/, as/IN it/PRP turned/VBD a/DT corner/NN ,/, 'Oh/'' my/PRP$ ears/NNS and/CC whiskers/NNS ,/, how/WRB late/JJ it/PRP 's/VBZ getting/VBG !/. '/''\n",
            "She/PRP was/VBD close/RB behind/IN it/PRP when/WRB she/PRP turned/VBD the/DT corner/NN ,/, but/CC the/DT Rabbit/NNP was/VBD no/RB longer/JJR to/TO be/VB seen/VBN :/: she/PRP found/VBD herself/PRP in/IN a/DT long/JJ ,/, low/JJ hall/NN ,/, which/WDT was/VBD lit/VBN up/RP by/IN a/DT row/NN of/IN lamps/NNS hanging/VBG from/IN the/DT roof/NN ./.\n",
            "There/EX were/VBD doors/NNS all/DT round/VBP the/DT hall/NN ,/, but/CC they/PRP were/VBD all/DT locked/VBN ;/: and/CC when/WRB Alice/NNP had/VBD been/VBN all/PDT the/DT way/NN down/RP one/CD side/NN and/CC up/RB the/DT other/JJ ,/, trying/VBG every/DT door/NN ,/, she/PRP walked/VBD sadly/RB down/RP the/DT middle/NN ,/, wondering/VBG how/WRB she/PRP was/VBD ever/RB to/TO get/VB out/RP again/RB ./.\n",
            "Suddenly/RB she/PRP came/VBD upon/IN a/DT little/JJ three-legged/JJ table/NN ,/, all/DT made/VBN of/IN solid/JJ glass/NN ;/: there/EX was/VBD nothing/NN on/IN it/PRP except/IN a/DT tiny/JJ golden/JJ key/NN ,/, and/CC Alice's/NNP first/RB thought/VBD was/VBD that/IN it/PRP might/MD belong/VB to/TO one/CD of/IN the/DT doors/NNS of/IN the/DT hall/NN ;/: but/CC ,/, alas/UH !/.\n",
            "either/CC the/DT locks/NNS were/VBD too/RB large/JJ ,/, or/CC the/DT key/NN was/VBD too/RB small/JJ ,/, but/CC at/IN any/DT rate/NN it/PRP would/MD not/RB open/VB any/DT of/IN them/PRP ./.\n",
            "However/RB ,/, on/IN the/DT second/JJ time/NN round/NN ,/, she/PRP came/VBD upon/IN a/DT low/JJ curtain/NN she/PRP had/VBD not/RB noticed/VBN before/IN ,/, and/CC behind/IN it/PRP was/VBD a/DT little/JJ door/NN about/IN fifteen/JJ inches/NNS high/JJ :/: she/PRP tried/VBD the/DT little/JJ golden/JJ key/NN in/IN the/DT lock/NN ,/, and/CC to/TO her/PRP$ great/JJ delight/NN it/PRP fitted/VBD !/.\n",
            "Alice/NNP opened/VBD the/DT door/NN and/CC found/VBD that/IN it/PRP led/VBD into/IN a/DT small/JJ passage/NN ,/, not/RB much/RB larger/JJR than/IN a/DT rat-hole/JJ :/: she/PRP knelt/VBD down/RB and/CC looked/VBD along/IN the/DT passage/NN into/IN the/DT loveliest/JJS garden/NN you/PRP ever/RB saw/VBD ./.\n",
            "How/WRB she/PRP longed/VBD to/TO get/VB out/IN of/IN that/DT dark/NN hall/NN ,/, and/CC wander/VBP about/IN among/IN those/DT beds/NNS of/IN bright/JJ flowers/NNS and/CC those/DT cool/JJ fountains/NNS ,/, but/CC she/PRP could/MD not/RB even/RB get/VB her/PRP$ head/NN through/IN the/DT doorway/NN ;/: 'and/CC even/RB if/IN my/PRP$ head/NN would/MD go/VB through/IN ,/, '/'' thought/VBD poor/JJ Alice/NNP ,/, 'it/NNP would/MD be/VB of/IN very/RB little/JJ use/NN without/IN my/PRP$ shoulders/NNS ./.\n",
            "Oh/UH ,/, how/WRB I/PRP wish/VBP I/PRP could/MD shut/VB up/RP like/IN a/DT telescope/NN !/.\n",
            "I/PRP think/VBP I/PRP could/MD ,/, if/IN I/PRP only/RB knew/VBD how/WRB to/TO begin/VB ./. '/''\n",
            "For/IN ,/, you/PRP see/VBP ,/, so/RB many/JJ out-of-the-way/JJ things/NNS had/VBD happened/VBN lately/RB ,/, that/IN Alice/NNP had/VBD begun/VBN to/TO think/VB that/DT very/RB few/JJ things/NNS indeed/RB were/VBD really/RB impossible/JJ ./.\n",
            "There/EX seemed/VBN to/TO be/VB no/DT use/NN in/IN waiting/VBG by/IN the/DT little/JJ door/NN ,/, so/IN she/PRP went/VBD back/RB to/TO the/DT table/NN ,/, half/NN hoping/VBG she/PRP might/MD find/VB another/DT key/NN on/IN it/PRP ,/, or/CC at/IN any/DT rate/NN a/DT book/NN of/IN rules/NNS for/IN shutting/VBG people/NNS up/IN like/IN telescopes/NNS :/: this/DT time/NN she/PRP found/VBD a/DT little/JJ bottle/NN on/IN it/PRP ,/, (/( 'which/CD certainly/RB was/VBD not/RB here/RB before/RB ,/, '/'' said/VBD Alice/NNP ,/, )/) and/CC round/VB the/DT neck/NN of/IN the/DT bottle/NN was/VBD a/DT paper/NN label/NN ,/, with/IN the/DT words/NNS 'DRINK/POS ME/NNP '/POS beautifully/RB printed/VBN on/IN it/PRP in/IN large/JJ letters/NNS ./.\n",
            "It/PRP was/VBD all/DT very/RB well/RB to/TO say/VB 'Drink/VB me/PRP ,/, '/'' but/CC the/DT wise/NN little/JJ Alice/NNP was/VBD not/RB going/VBG to/TO do/VB THAT/DT in/IN a/DT hurry/NN ./.\n",
            "'No/CD ,/, I/PRP 'll/MD look/VB first/RB ,/, '/'' she/PRP said/VBD ,/, 'and/NNP see/VBP whether/IN it/PRP 's/VBZ marked/VBN ``/`` poison/NN ''/'' or/CC not/RB '/POS ;/: for/IN she/PRP had/VBD read/VBN several/JJ nice/JJ little/JJ histories/NNS about/IN children/NNS who/WP had/VBD got/VBN burnt/RB ,/, and/CC eaten/VB up/RP by/IN wild/JJ beasts/NNS and/CC other/JJ unpleasant/JJ things/NNS ,/, all/DT because/IN they/PRP WOULD/MD not/RB remember/VB the/DT simple/NN rules/NNS their/PRP$ friends/NNS had/VBD taught/VBN them/PRP :/: such/JJ as/IN ,/, that/IN a/DT red-hot/JJ poker/NN will/MD burn/VB you/PRP if/IN you/PRP hold/VBP it/PRP too/RB long/RB ;/: and/CC that/IN if/IN you/PRP cut/VBP your/PRP$ finger/NN VERY/RB deeply/RB with/IN a/DT knife/NN ,/, it/PRP usually/RB bleeds/VBZ ;/: and/CC she/PRP had/VBD never/RB forgotten/VBN that/IN ,/, if/IN you/PRP drink/VBP much/RB from/IN a/DT bottle/NN marked/VBD 'poison/NNP ,/, '/'' it/PRP is/VBZ almost/RB certain/JJ to/TO disagree/VB with/IN you/PRP ,/, sooner/RB or/CC later/RB ./.\n",
            "However/RB ,/, this/DT bottle/NN was/VBD NOT/NNP marked/VBD 'poison/NNP ,/, '/'' so/RB Alice/NNP ventured/VBD to/TO taste/VB it/PRP ,/, and/CC finding/VBG it/PRP very/RB nice/JJ ,/, (/( it/PRP had/VBD ,/, in/IN fact/NN ,/, a/DT sort/NN of/IN mixed/JJ flavour/NN of/IN cherry-tart/NN ,/, custard/NN ,/, pine-apple/JJ ,/, roast/JJ turkey/NN ,/, toffee/NN ,/, and/CC hot/JJ buttered/VBN toast/NN ,/, )/) she/PRP very/RB soon/RB finished/VBD it/PRP off/RP ./.\n",
            "*/JJ */NNP */NNP */NNP */NNP */NNP */NNP */NNP */NNP */NNP */NNP */NNP */NNP */NNP */NNP */NNP */NNP */NNP */NNP */NNP 'What/IN a/DT curious/JJ feeling/NN !/. '/''\n",
            "said/VBD Alice/NNP ;/: '/POS I/PRP must/MD be/VB shutting/VBG up/RP like/IN a/DT telescope/NN ./. '/''\n",
            "And/CC so/IN it/PRP was/VBD indeed/RB :/: she/PRP was/VBD now/RB only/RB ten/JJ inches/NNS high/JJ ,/, and/CC her/PRP$ face/NN brightened/VBD up/RP at/IN the/DT thought/NN that/IN she/PRP was/VBD now/RB the/DT right/NN size/NN for/IN going/VBG through/IN the/DT little/JJ door/NN into/IN that/DT lovely/JJ garden/NN ./.\n",
            "First/RB ,/, however/RB ,/, she/PRP waited/VBD for/IN a/DT few/JJ minutes/NNS to/TO see/VB if/IN she/PRP was/VBD going/VBG to/TO shrink/VB any/DT further/JJ :/: she/PRP felt/VBD a/DT little/JJ nervous/JJ about/IN this/DT ;/: 'for/VBZ it/PRP might/MD end/VB ,/, you/PRP know/VBP ,/, '/'' said/VBD Alice/NNP to/TO herself/VB ,/, 'in/VB my/PRP$ going/VBG out/RP altogether/RB ,/, like/IN a/DT candle/NN ./.\n",
            "I/PRP wonder/VBP what/WP I/PRP should/MD be/VB like/IN then/RB ?/. '/''\n",
            "And/CC she/PRP tried/VBD to/TO fancy/VB what/WP the/DT flame/NN of/IN a/DT candle/NN is/VBZ like/IN after/IN the/DT candle/NN is/VBZ blown/VBN out/RP ,/, for/IN she/PRP could/MD not/RB remember/VB ever/RB having/VBG seen/VBN such/PDT a/DT thing/NN ./.\n",
            "After/IN a/DT while/NN ,/, finding/VBG that/IN nothing/NN more/RBR happened/VBD ,/, she/PRP decided/VBD on/IN going/VBG into/IN the/DT garden/NN at/IN once/RB ;/: but/CC ,/, alas/NNS for/IN poor/JJ Alice/NNP !/.\n",
            "when/WRB she/PRP got/VBD to/TO the/DT door/NN ,/, she/PRP found/VBD she/PRP had/VBD forgotten/VBN the/DT little/JJ golden/JJ key/NN ,/, and/CC when/WRB she/PRP went/VBD back/RB to/TO the/DT table/NN for/IN it/PRP ,/, she/PRP found/VBD she/PRP could/MD not/RB possibly/RB reach/VB it/PRP :/: she/PRP could/MD see/VB it/PRP quite/RB plainly/RB through/IN the/DT glass/NN ,/, and/CC she/PRP tried/VBD her/PRP best/JJS to/TO climb/VB up/RP one/CD of/IN the/DT legs/NN of/IN the/DT table/NN ,/, but/CC it/PRP was/VBD too/RB slippery/JJ ;/: and/CC when/WRB she/PRP had/VBD tired/VBN herself/PRP out/IN with/IN trying/VBG ,/, the/DT poor/JJ little/JJ thing/NN sat/VBD down/RB and/CC cried/VBN ./.\n",
            "'Come/CD ,/, there/EX 's/VBZ no/DT use/NN in/IN crying/VBG like/IN that/DT !/. '/''\n",
            "said/VBD Alice/NNP to/TO herself/VB ,/, rather/RB sharply/RB ;/: '/'' I/PRP advise/VBP you/PRP to/TO leave/VB off/RP this/DT minute/NN !/. '/''\n",
            "She/PRP generally/RB gave/VBD herself/PRP very/RB good/JJ advice/NN ,/, (/( though/IN she/PRP very/RB seldom/RB followed/VBD it/PRP )/) ,/, and/CC sometimes/RB she/PRP scolded/VBD herself/PRP so/RB severely/RB as/IN to/TO bring/VB tears/NNS into/IN her/PRP$ eyes/NNS ;/: and/CC once/RB she/PRP remembered/VBD trying/VBG to/TO box/VB her/PRP$ own/JJ ears/NNS for/IN having/VBG cheated/VBN herself/PRP in/IN a/DT game/NN of/IN croquet/NN she/PRP was/VBD playing/VBG against/IN herself/PRP ,/, for/IN this/DT curious/JJ child/NN was/VBD very/RB fond/JJ of/IN pretending/VBG to/TO be/VB two/CD people/NNS ./.\n",
            "'But/IN it/PRP 's/VBZ no/DT use/NN now/RB ,/, '/'' thought/VBD poor/JJ Alice/NNP ,/, 'to/'' pretend/VBP to/TO be/VB two/CD people/NNS !/.\n",
            "Why/WRB ,/, there/EX 's/VBZ hardly/RB enough/RB of/IN me/PRP left/VBD to/TO make/VB ONE/CD respectable/JJ person/NN !/. '/''\n",
            "Soon/RB her/PRP$ eye/NN fell/VBD on/IN a/DT little/JJ glass/NN box/NN that/WDT was/VBD lying/VBG under/IN the/DT table/NN :/: she/PRP opened/VBD it/PRP ,/, and/CC found/VBD in/IN it/PRP a/DT very/RB small/JJ cake/NN ,/, on/IN which/WDT the/DT words/NNS 'EAT/POS ME/NNP '/POS were/VBD beautifully/RB marked/VBN in/IN currants/NNS ./.\n",
            "'Well/UH ,/, I/PRP 'll/MD eat/VB it/PRP ,/, '/'' said/VBD Alice/NNP ,/, 'and/CD if/IN it/PRP makes/VBZ me/PRP grow/JJ larger/JJR ,/, I/PRP can/MD reach/VB the/DT key/NN ;/: and/CC if/IN it/PRP makes/VBZ me/PRP grow/VB smaller/JJR ,/, I/PRP can/MD creep/VB under/IN the/DT door/NN ;/: so/CC either/DT way/NN I'll/NNP get/VB into/IN the/DT garden/NN ,/, and/CC I/PRP do/VBP n't/RB care/VB which/WDT happens/VBZ !/. '/''\n",
            "She/PRP ate/VBD a/DT little/JJ bit/NN ,/, and/CC said/VBD anxiously/RB to/TO herself/VB ,/, 'Which/VB way/NN ?/.\n",
            "Which/JJ way/NN ?/.\n",
            "'/'' ,/, holding/VBG her/PRP$ hand/NN on/IN the/DT top/NN of/IN her/PRP$ head/NN to/TO feel/VB which/WDT way/NN it/PRP was/VBD growing/VBG ,/, and/CC she/PRP was/VBD quite/RB surprised/JJ to/TO find/VB that/IN she/PRP remained/VBD the/DT same/JJ size/NN :/: to/TO be/VB sure/JJ ,/, this/DT generally/RB happens/VBZ when/WRB one/CD eats/NNS cake/VBP ,/, but/CC Alice/NNP had/VBD got/VBN so/RB much/JJ into/IN the/DT way/NN of/IN expecting/VBG nothing/NN but/CC out-of-the-way/JJ things/NNS to/TO happen/VB ,/, that/IN it/PRP seemed/VBD quite/RB dull/JJ and/CC stupid/JJ for/IN life/NN to/TO go/VB on/IN in/IN the/DT common/JJ way/NN ./.\n",
            "So/RB she/PRP set/VBD to/TO work/VB ,/, and/CC very/RB soon/RB finished/VBD off/RP the/DT cake/NN ./.\n",
            "*/JJ */NNP */NNP */NNP */NNP */NNP */NNP */NNP */NNP */NNP */NNP */NNP */NNP */NNP */NNP */NNP */NNP */NNP */NNP */NNP CHAPTER/NNP II/NNP ./.\n",
            "The/DT Pool/NNP of/IN Tears/NNP 'Curiouser/NNP and/CC curiouser/NN !/. '/''\n",
            "cried/VBN Alice/NNP (/( she/PRP was/VBD so/RB much/JJ surprised/VBN ,/, that/IN for/IN the/DT moment/NN she/PRP quite/RB forgot/VBD how/WRB to/TO speak/VB good/JJ English/NNP )/) ;/: 'now/CC I'm/NNP opening/VBG out/RP like/IN the/DT largest/JJS telescope/NN that/IN ever/RB was/VBD !/.\n",
            "Good-bye/NNP ,/, feet/NNS !/. '/''\n",
            "(/( for/IN when/WRB she/PRP looked/VBD down/RB at/IN her/PRP$ feet/NNS ,/, they/PRP seemed/VBD to/TO be/VB almost/RB out/IN of/IN sight/NN ,/, they/PRP were/VBD getting/VBG so/RB far/RB off/RP )/) ./.\n",
            "'Oh/NN ,/, my/PRP$ poor/JJ little/JJ feet/NNS ,/, I/PRP wonder/VBP who/WP will/MD put/VB on/IN your/PRP$ shoes/NNS and/CC stockings/NNS for/IN you/PRP now/RB ,/, dears/NNS ?/.\n",
            "I/PRP 'm/VBP sure/JJ _I_/NNP sha/NN n't/RB be/VB able/JJ !/.\n",
            "I/PRP shall/MD be/VB a/DT great/JJ deal/NN too/RB far/RB off/IN to/TO trouble/NN myself/PRP about/IN you/PRP :/: you/PRP must/MD manage/VB the/DT best/JJS way/NN you/PRP can/MD ;/: --/: but/CC I/PRP must/MD be/VB kind/NN to/TO them/PRP ,/, '/'' thought/JJ Alice/NNP ,/, 'or/'' perhaps/RB they/PRP wo/MD n't/RB walk/VB the/DT way/NN I/PRP want/VBP to/TO go/VB !/.\n",
            "Let/VB me/PRP see/VB :/: I/PRP 'll/MD give/VB them/PRP a/DT new/JJ pair/NN of/IN boots/NNS every/DT Christmas/NNP ./. '/''\n",
            "And/CC she/PRP went/VBD on/IN planning/NN to/TO herself/VB how/WRB she/PRP would/MD manage/VB it/PRP ./.\n",
            "'They/NN must/MD go/VB by/IN the/DT carrier/NN ,/, '/'' she/PRP thought/VBD ;/: 'and/VB how/WRB funny/JJ it/PRP 'll/MD seem/VB ,/, sending/VBG presents/NNS to/TO one/CD 's/POS own/JJ feet/NNS !/.\n",
            "And/CC how/WRB odd/JJ the/DT directions/NNS will/MD look/VB !/.\n",
            "ALICE/NNP 'S/POS RIGHT/NNP FOOT/NNP ,/, ESQ/NNP ./.\n",
            "HEARTHRUG/NNP ,/, NEAR/NNP THE/NNP FENDER/NNP ,/, (/( WITH/NNP ALICE/NNP 'S/POS LOVE/NNP )/) ./.\n",
            "Oh/UH dear/NN ,/, what/WP nonsense/NN I/PRP 'm/VBP talking/VBG !/. '/''\n",
            "Just/RB then/RB her/PRP$ head/NN struck/NN against/IN the/DT roof/NN of/IN the/DT hall/NN :/: in/IN fact/NN she/PRP was/VBD now/RB more/JJR than/IN nine/CD feet/NNS high/JJ ,/, and/CC she/PRP at/IN once/RB took/VBD up/RP the/DT little/JJ golden/JJ key/NN and/CC hurried/VBD off/IN to/TO the/DT garden/NN door/NN ./.\n",
            "Poor/NNP Alice/NNP !/.\n",
            "It/PRP was/VBD as/RB much/JJ as/IN she/PRP could/MD do/VB ,/, lying/VBG down/RP on/IN one/CD side/NN ,/, to/TO look/VB through/IN into/IN the/DT garden/NN with/IN one/CD eye/NN ;/: but/CC to/TO get/VB through/IN was/VBD more/JJR hopeless/NN than/IN ever/RB :/: she/PRP sat/VBD down/RB and/CC began/VBD to/TO cry/VB again/RB ./.\n",
            "'You/NNS ought/MD to/TO be/VB ashamed/VBN of/IN yourself/PRP ,/, '/'' said/VBD Alice/NNP ,/, '/'' a/DT great/JJ girl/NN like/IN you/PRP ,/, '/'' (/( she/PRP might/MD well/RB say/VB this/DT )/) ,/, 'to/'' go/VBP on/IN crying/VBG in/IN this/DT way/NN !/.\n",
            "Stop/VB this/DT moment/NN ,/, I/PRP tell/VBP you/PRP !/. '/''\n",
            "But/CC she/PRP went/VBD on/IN all/PDT the/DT same/JJ ,/, shedding/VBG gallons/NNS of/IN tears/NNS ,/, until/IN there/EX was/VBD a/DT large/JJ pool/NN all/DT round/VBD her/PRP ,/, about/RB four/CD inches/NNS deep/RB and/CC reaching/VBG half/NN down/RP the/DT hall/NN ./.\n",
            "After/IN a/DT time/NN she/PRP heard/VBD a/DT little/JJ pattering/NN of/IN feet/NNS in/IN the/DT distance/NN ,/, and/CC she/PRP hastily/RB dried/VBD her/PRP eyes/NNS to/TO see/VB what/WP was/VBD coming/VBG ./.\n",
            "It/PRP was/VBD the/DT White/NNP Rabbit/NNP returning/NN ,/, splendidly/RB dressed/VBD ,/, with/IN a/DT pair/NN of/IN white/JJ kid/NN gloves/NNS in/IN one/CD hand/NN and/CC a/DT large/JJ fan/NN in/IN the/DT other/JJ :/: he/PRP came/VBD trotting/VBG along/RB in/IN a/DT great/JJ hurry/NN ,/, muttering/VBG to/TO himself/PRP as/IN he/PRP came/VBD ,/, 'Oh/CD !/.\n",
            "the/DT Duchess/NNP ,/, the/DT Duchess/NN !/.\n",
            "Oh/UH !/.\n",
            "wo/MD n't/RB she/PRP be/VB savage/JJ if/IN I/PRP 've/VBP kept/VBD her/PRP waiting/VBG !/. '/''\n",
            "Alice/NNP felt/VBD so/RB desperate/JJ that/IN she/PRP was/VBD ready/JJ to/TO ask/VB help/NN of/IN any/DT one/CD ;/: so/RB ,/, when/WRB the/DT Rabbit/NNP came/VBD near/IN her/PRP ,/, she/PRP began/VBD ,/, in/IN a/DT low/JJ ,/, timid/JJ voice/NN ,/, 'If/'' you/PRP please/VBP ,/, sir/FW --/: '/'' The/DT Rabbit/NNP started/VBD violently/RB ,/, dropped/VBD the/DT white/JJ kid/NN gloves/NNS and/CC the/DT fan/NN ,/, and/CC skurried/VBD away/RB into/IN the/DT darkness/NN as/RB hard/RB as/IN he/PRP could/MD go/VB ./.\n",
            "Alice/NNP took/VBD up/RP the/DT fan/NN and/CC gloves/NNS ,/, and/CC ,/, as/IN the/DT hall/NN was/VBD very/RB hot/JJ ,/, she/PRP kept/VBD fanning/VBG herself/PRP all/PDT the/DT time/NN she/PRP went/VBD on/IN talking/VBG :/: 'Dear/NN ,/, dear/NN !/.\n",
            "How/WRB queer/NN everything/NN is/VBZ to-day/JJ !/.\n",
            "And/CC yesterday/NN things/NNS went/VBD on/IN just/RB as/IN usual/JJ ./.\n",
            "I/PRP wonder/VBP if/IN I/PRP 've/VBP been/VBN changed/VBN in/IN the/DT night/NN ?/.\n",
            "Let/VB me/PRP think/VB :/: was/VBD I/PRP the/DT same/JJ when/WRB I/PRP got/VBD up/RP this/DT morning/NN ?/.\n",
            "I/PRP almost/RB think/VBP I/PRP can/MD remember/VB feeling/VBG a/DT little/JJ different/JJ ./.\n",
            "But/CC if/IN I/PRP 'm/VBP not/RB the/DT same/JJ ,/, the/DT next/JJ question/NN is/VBZ ,/, Who/WP in/IN the/DT world/NN am/VBP I/PRP ?/.\n",
            "Ah/NNP ,/, THAT/NNP 'S/VBZ the/DT great/JJ puzzle/NN !/. '/''\n",
            "And/CC she/PRP began/VBD thinking/VBG over/IN all/PDT the/DT children/NNS she/PRP knew/VBD that/IN were/VBD of/IN the/DT same/JJ age/NN as/IN herself/NN ,/, to/TO see/VB if/IN she/PRP could/MD have/VB been/VBN changed/VBN for/IN any/DT of/IN them/PRP ./.\n",
            "'/POS I/PRP 'm/VBP sure/JJ I/PRP 'm/VBP not/RB Ada/NNP ,/, '/'' she/PRP said/VBD ,/, 'for/VBD her/PRP$ hair/NN goes/VBZ in/IN such/JJ long/JJ ringlets/NNS ,/, and/CC mine/NN does/VBZ n't/RB go/VB in/IN ringlets/NNS at/IN all/DT ;/: and/CC I/PRP 'm/VBP sure/JJ I/PRP can't/VBP be/VB Mabel/NNP ,/, for/IN I/PRP know/VBP all/DT sorts/NNS of/IN things/NNS ,/, and/CC she/PRP ,/, oh/UH !/.\n",
            "she/PRP knows/VBZ such/PDT a/DT very/RB little/JJ !/.\n",
            "Besides/IN ,/, SHE/NNP 'S/POS she/PRP ,/, and/CC I/PRP 'm/VBP I/PRP ,/, and/CC --/: oh/JJ dear/NN ,/, how/WRB puzzling/VBG it/PRP all/DT is/VBZ !/.\n",
            "I/PRP 'll/MD try/VB if/IN I/PRP know/VBP all/PDT the/DT things/NNS I/PRP used/VBD to/TO know/VB ./.\n",
            "Let/VB me/PRP see/VB :/: four/CD times/NNS five/CD is/VBZ twelve/VBN ,/, and/CC four/CD times/NNS six/CD is/VBZ thirteen/JJ ,/, and/CC four/CD times/NNS seven/CD is/VBZ --/: oh/JJ dear/NN !/.\n",
            "I/PRP shall/MD never/RB get/VB to/TO twenty/VB at/IN that/DT rate/NN !/.\n",
            "However/RB ,/, the/DT Multiplication/NNP Table/NNP does/VBZ n't/RB signify/VB :/: let/NN 's/POS try/VB Geography/NNP ./.\n",
            "London/NNP is/VBZ the/DT capital/NN of/IN Paris/NNP ,/, and/CC Paris/NNP is/VBZ the/DT capital/NN of/IN Rome/NNP ,/, and/CC Rome/NNP --/: no/DT ,/, THAT/NNP 'S/VBZ all/DT wrong/JJ ,/, I/PRP 'm/VBP certain/JJ !/.\n",
            "I/PRP must/MD have/VB been/VBN changed/VBN for/IN Mabel/NN !/.\n",
            "I/PRP 'll/MD try/VB and/CC say/VB ``/`` How/WRB doth/VB the/DT little/JJ --/: ''/'' '/POS and/CC she/PRP crossed/VBD her/PRP hands/NNS on/IN her/PRP$ lap/NN as/IN if/IN she/PRP were/VBD saying/VBG lessons/NNS ,/, and/CC began/VBD to/TO repeat/VB it/PRP ,/, but/CC her/PRP$ voice/NN sounded/VBD hoarse/NN and/CC strange/NN ,/, and/CC the/DT words/NNS did/VBD not/RB come/VB the/DT same/JJ as/IN they/PRP used/VBD to/TO do/VB :/: --/: 'How/WRB doth/VBZ the/DT little/JJ crocodile/JJ Improve/VB his/PRP$ shining/VBG tail/NN ,/, And/CC pour/VBP the/DT waters/NNS of/IN the/DT Nile/NNP On/IN every/DT golden/JJ scale/NN !/.\n",
            "'How/WRB cheerfully/RB he/PRP seems/VBZ to/TO grin/VB ,/, How/NNP neatly/RB spread/VBD his/PRP$ claws/NN ,/, And/CC welcome/JJ little/JJ fishes/NNS in/IN With/IN gently/RB smiling/VBG jaws/NN !/. '/''\n",
            "'/POS I/PRP 'm/VBP sure/JJ those/DT are/VBP not/RB the/DT right/NN words/NNS ,/, '/'' said/VBD poor/JJ Alice/NNP ,/, and/CC her/PRP$ eyes/NNS filled/VBN with/IN tears/NNS again/RB as/IN she/PRP went/VBD on/IN ,/, '/'' I/PRP must/MD be/VB Mabel/NNP after/IN all/DT ,/, and/CC I/PRP shall/MD have/VB to/TO go/VB and/CC live/VB in/IN that/DT poky/JJ little/JJ house/NN ,/, and/CC have/VBP next/VBN to/TO no/DT toys/NN to/TO play/VB with/IN ,/, and/CC oh/UH !/.\n",
            "ever/RB so/RB many/JJ lessons/NNS to/TO learn/VB !/.\n",
            "No/DT ,/, I've/NNP made/VBD up/RP my/PRP$ mind/NN about/IN it/PRP ;/: if/IN I/PRP 'm/VBP Mabel/NNP ,/, I/PRP 'll/MD stay/VB down/RB here/RB !/.\n",
            "It/PRP 'll/MD be/VB no/DT use/VB their/PRP$ putting/VBG their/PRP$ heads/NNS down/RB and/CC saying/VBG ``/`` Come/NNP up/RB again/RB ,/, dear/NN !/. ''/''\n",
            "I/PRP shall/MD only/RB look/VB up/RP and/CC say/VB ``/`` Who/WP am/VBP I/PRP then/RB ?/.\n",
            "Tell/VB me/PRP that/IN first/JJ ,/, and/CC then/RB ,/, if/IN I/PRP like/VBP being/VBG that/IN person/NN ,/, I/PRP 'll/MD come/VB up/RP :/: if/IN not/RB ,/, I/PRP 'll/MD stay/VB down/RB here/RB till/VB I/PRP 'm/VBP somebody/NN else/JJ ''/'' --/: but/CC ,/, oh/JJ dear/NN !/. '/''\n",
            "cried/JJ Alice/NNP ,/, with/IN a/DT sudden/JJ burst/NN of/IN tears/NNS ,/, '/'' I/PRP do/VBP wish/JJ they/PRP WOULD/VBP put/VB their/PRP$ heads/NNS down/RP !/.\n",
            "I/PRP am/VBP so/RB VERY/RB tired/JJ of/IN being/VBG all/DT alone/RB here/RB !/. '/''\n",
            "As/IN she/PRP said/VBD this/DT she/PRP looked/VBD down/RB at/IN her/PRP$ hands/NNS ,/, and/CC was/VBD surprised/VBN to/TO see/VB that/IN she/PRP had/VBD put/VBN on/IN one/CD of/IN the/DT Rabbit/NNP 's/POS little/JJ white/JJ kid/NN gloves/NNS while/IN she/PRP was/VBD talking/VBG ./.\n",
            "'How/CD CAN/NNP I/PRP have/VBP done/VBN that/IN ?/. '/''\n",
            "she/PRP thought/VBD ./.\n",
            "'/POS I/PRP must/MD be/VB growing/VBG small/JJ again/RB ./. '/''\n",
            "She/PRP got/VBD up/RB and/CC went/VBD to/TO the/DT table/NN to/TO measure/VB herself/PRP by/IN it/PRP ,/, and/CC found/VBD that/RB ,/, as/RB nearly/RB as/IN she/PRP could/MD guess/VB ,/, she/PRP was/VBD now/RB about/IN two/CD feet/NNS high/JJ ,/, and/CC was/VBD going/VBG on/IN shrinking/VBG rapidly/RB :/: she/PRP soon/RB found/VBD out/RP that/IN the/DT cause/NN of/IN this/DT was/VBD the/DT fan/NN she/PRP was/VBD holding/VBG ,/, and/CC she/PRP dropped/VBD it/PRP hastily/RB ,/, just/RB in/IN time/NN to/TO avoid/VB shrinking/VBG away/RB altogether/RB ./.\n",
            "'That/DT WAS/VBD a/DT narrow/JJ escape/NN !/. '/''\n",
            "said/VBD Alice/NNP ,/, a/DT good/JJ deal/NN frightened/VBN at/IN the/DT sudden/JJ change/NN ,/, but/CC very/RB glad/JJ to/TO find/VB herself/PRP still/RB in/IN existence/NN ;/: 'and/CC now/RB for/IN the/DT garden/NN !/. '/''\n",
            "and/CC she/PRP ran/VBD with/IN all/DT speed/NN back/RB to/TO the/DT little/JJ door/NN :/: but/CC ,/, alas/UH !/.\n",
            "the/DT little/JJ door/NN was/VBD shut/VBN again/RB ,/, and/CC the/DT little/JJ golden/JJ key/NN was/VBD lying/VBG on/IN the/DT glass/NN table/NN as/IN before/RB ,/, 'and/'' things/NNS are/VBP worse/JJR than/IN ever/RB ,/, '/'' thought/VBD the/DT poor/JJ child/NN ,/, 'for/'' I/PRP never/RB was/VBD so/RB small/JJ as/IN this/DT before/IN ,/, never/RB !/.\n",
            "And/CC I/PRP declare/VBP it/PRP 's/VBZ too/RB bad/JJ ,/, that/IN it/PRP is/VBZ !/. '/''\n",
            "As/IN she/PRP said/VBD these/DT words/NNS her/PRP$ foot/NN slipped/VBD ,/, and/CC in/IN another/DT moment/NN ,/, splash/NN !/.\n",
            "she/PRP was/VBD up/RB to/TO her/PRP$ chin/NN in/IN salt/JJ water/NN ./.\n",
            "Her/PRP$ first/JJ idea/NN was/VBD that/IN she/PRP had/VBD somehow/RB fallen/VBN into/IN the/DT sea/NN ,/, 'and/'' in/IN that/DT case/NN I/PRP can/MD go/VB back/RB by/IN railway/NN ,/, '/'' she/PRP said/VBD to/TO herself/PRP ./.\n",
            "(/( Alice/NNP had/VBD been/VBN to/TO the/DT seaside/NN once/RB in/IN her/PRP$ life/NN ,/, and/CC had/VBD come/VBN to/TO the/DT general/JJ conclusion/NN ,/, that/IN wherever/NN you/PRP go/VBP to/TO on/IN the/DT English/NNP coast/NN you/PRP find/VBP a/DT number/NN of/IN bathing/VBG machines/NNS in/IN the/DT sea/NN ,/, some/DT children/NNS digging/VBG in/IN the/DT sand/NN with/IN wooden/JJ spades/NNS ,/, then/RB a/DT row/NN of/IN lodging/VBG houses/NNS ,/, and/CC behind/IN them/PRP a/DT railway/NN station/NN ./. )/)\n",
            "However/RB ,/, she/PRP soon/RB made/VBD out/RP that/IN she/PRP was/VBD in/IN the/DT pool/NN of/IN tears/NNS which/WDT she/PRP had/VBD wept/NN when/WRB she/PRP was/VBD nine/CD feet/NNS high/JJ ./.\n",
            "'/POS I/PRP wish/VBP I/PRP had/VBD n't/RB cried/VBN so/RB much/JJ !/. '/''\n",
            "said/VBD Alice/NNP ,/, as/IN she/PRP swam/VBZ about/RB ,/, trying/VBG to/TO find/VB her/PRP$ way/NN out/IN ./.\n",
            "'/POS I/PRP shall/MD be/VB punished/VBN for/IN it/PRP now/RB ,/, I/PRP suppose/VBP ,/, by/IN being/VBG drowned/VBN in/IN my/PRP$ own/JJ tears/NNS !/.\n",
            "That/DT WILL/MD be/VB a/DT queer/JJ thing/NN ,/, to/TO be/VB sure/JJ !/.\n",
            "However/RB ,/, everything/NN is/VBZ queer/JJ to-day/JJ ./. '/''\n",
            "Just/RB then/RB she/PRP heard/VBD something/NN splashing/VBG about/IN in/IN the/DT pool/NN a/DT little/JJ way/NN off/IN ,/, and/CC she/PRP swam/VBD nearer/NN to/TO make/VB out/RP what/WP it/PRP was/VBD :/: at/IN first/JJ she/PRP thought/VBD it/PRP must/MD be/VB a/DT walrus/NN or/CC hippopotamus/NN ,/, but/CC then/RB she/PRP remembered/VBD how/WRB small/JJ she/PRP was/VBD now/RB ,/, and/CC she/PRP soon/RB made/VBD out/RP that/IN it/PRP was/VBD only/RB a/DT mouse/NN that/WDT had/VBD slipped/VBN in/IN like/IN herself/NN ./.\n",
            "'Would/MD it/PRP be/VB of/IN any/DT use/NN ,/, now/RB ,/, '/'' thought/JJ Alice/NNP ,/, 'to/'' speak/NN to/TO this/DT mouse/NN ?/.\n",
            "Everything/NN is/VBZ so/RB out-of-the-way/JJ down/IN here/RB ,/, that/IN I/PRP should/MD think/VB very/RB likely/JJ it/PRP can/MD talk/VB :/: at/IN any/DT rate/NN ,/, there/EX 's/VBZ no/DT harm/NN in/IN trying/VBG ./. '/''\n",
            "So/RB she/PRP began/VBD :/: '/'' O/NNP Mouse/NNP ,/, do/VBP you/PRP know/VB the/DT way/NN out/IN of/IN this/DT pool/NN ?/.\n",
            "I/PRP am/VBP very/RB tired/JJ of/IN swimming/VBG about/IN here/RB ,/, O/NNP Mouse/NNP !/. '/''\n",
            "(/( Alice/NNP thought/VBD this/DT must/MD be/VB the/DT right/JJ way/NN of/IN speaking/VBG to/TO a/DT mouse/NN :/: she/PRP had/VBD never/RB done/VBN such/PDT a/DT thing/NN before/IN ,/, but/CC she/PRP remembered/VBD having/VBG seen/VBN in/IN her/PRP$ brother/NN 's/POS Latin/NNP Grammar/NNP ,/, '/'' A/NNP mouse/NN --/: of/IN a/DT mouse/NN --/: to/TO a/DT mouse/NN --/: a/DT mouse/NN --/: O/NNP mouse/NN !/. '/'' )/)\n",
            "The/DT Mouse/NNP looked/VBD at/IN her/PRP$ rather/RB inquisitively/RB ,/, and/CC seemed/VBD to/TO her/PRP$ to/TO wink/VB with/IN one/CD of/IN its/PRP$ little/JJ eyes/NNS ,/, but/CC it/PRP said/VBD nothing/NN ./.\n",
            "'Perhaps/NNS it/PRP does/VBZ n't/RB understand/VB English/NNP ,/, '/'' thought/JJ Alice/NNP ;/: '/POS I/PRP daresay/VBP it's/VB a/DT French/JJ mouse/NN ,/, come/VB over/IN with/IN William/NNP the/DT Conqueror/NNP ./. '/''\n",
            "(/( For/IN ,/, with/IN all/DT her/PRP$ knowledge/NN of/IN history/NN ,/, Alice/NNP had/VBD no/DT very/RB clear/JJ notion/NN how/WRB long/JJ ago/RB anything/NN had/VBD happened/VBN ./. )/)\n",
            "So/RB she/PRP began/VBD again/RB :/: 'Ou/CD est/JJS ma/NN chatte/NN ?/. '/''\n",
            "which/WDT was/VBD the/DT first/JJ sentence/NN in/IN her/PRP$ French/JJ lesson-book/NN ./.\n",
            "The/DT Mouse/NNP gave/VBD a/DT sudden/JJ leap/NN out/IN of/IN the/DT water/NN ,/, and/CC seemed/VBD to/TO quiver/VB all/DT over/IN with/IN fright/NN ./.\n",
            "'Oh/CD ,/, I/PRP beg/VBP your/PRP$ pardon/NN !/. '/''\n",
            "cried/JJ Alice/NNP hastily/RB ,/, afraid/VBD that/IN she/PRP had/VBD hurt/VBN the/DT poor/JJ animal/NN 's/POS feelings/NNS ./.\n",
            "'/POS I/PRP quite/VBP forgot/JJ you/PRP did/VBD n't/RB like/IN cats/NNS ./. '/''\n",
            "'Not/NNS like/IN cats/NNS !/. '/''\n",
            "cried/VBD the/DT Mouse/NNP ,/, in/IN a/DT shrill/NN ,/, passionate/JJ voice/NN ./.\n",
            "'Would/MD YOU/VB like/IN cats/NNS if/IN you/PRP were/VBD me/PRP ?/. '/''\n",
            "'Well/UH ,/, perhaps/RB not/RB ,/, '/'' said/VBD Alice/NNP in/IN a/DT soothing/JJ tone/NN :/: 'do/CD n't/RB be/VB angry/JJ about/IN it/PRP ./.\n",
            "And/CC yet/RB I/PRP wish/VBP I/PRP could/MD show/VB you/PRP our/PRP$ cat/JJ Dinah/NNP :/: I/PRP think/VBP you'd/NNS take/VBP a/DT fancy/NN to/TO cats/VB if/IN you/PRP could/MD only/RB see/VB her/PRP ./.\n",
            "She/PRP is/VBZ such/JJ a/DT dear/JJ quiet/JJ thing/NN ,/, '/'' Alice/NNP went/VBD on/IN ,/, half/NN to/TO herself/VB ,/, as/IN she/PRP swam/VBD lazily/RB about/IN in/IN the/DT pool/NN ,/, 'and/CD she/PRP sits/VBZ purring/VBG so/RB nicely/RB by/IN the/DT fire/NN ,/, licking/VBG her/PRP$ paws/NN and/CC washing/VBG her/PRP$ face/NN --/: and/CC she/PRP is/VBZ such/JJ a/DT nice/JJ soft/JJ thing/NN to/TO nurse/VB --/: and/CC she's/VB such/JJ a/DT capital/NN one/CD for/IN catching/VBG mice/NN --/: oh/UH ,/, I/PRP beg/VBP your/PRP$ pardon/NN !/. '/''\n",
            "cried/VBN Alice/NNP again/RB ,/, for/IN this/DT time/NN the/DT Mouse/NNP was/VBD bristling/VBG all/DT over/IN ,/, and/CC she/PRP felt/VBD certain/JJ it/PRP must/MD be/VB really/RB offended/VBN ./.\n",
            "'We/NNS wo/MD n't/RB talk/VB about/IN her/PRP$ any/DT more/JJR if/IN you/PRP 'd/MD rather/RB not/RB ./. '/''\n",
            "'We/NNS indeed/RB !/. '/''\n",
            "cried/VBD the/DT Mouse/NNP ,/, who/WP was/VBD trembling/VBG down/RB to/TO the/DT end/NN of/IN his/PRP$ tail/NN ./.\n",
            "'As/IN if/IN I/PRP would/MD talk/VB on/IN such/PDT a/DT subject/NN !/.\n",
            "Our/PRP$ family/NN always/RB HATED/NNP cats/NNS :/: nasty/JJ ,/, low/JJ ,/, vulgar/JJ things/NNS !/.\n",
            "Do/VBP n't/RB let/VB me/PRP hear/VB the/DT name/NN again/RB !/. '/''\n",
            "'/POS I/PRP wo/MD n't/RB indeed/RB !/. '/''\n",
            "said/VBD Alice/NNP ,/, in/IN a/DT great/JJ hurry/NN to/TO change/VB the/DT subject/NN of/IN conversation/NN ./.\n",
            "'Are/POS you/PRP --/: are/VBP you/PRP fond/VBP --/: of/IN --/: of/IN dogs/NNS ?/. '/''\n",
            "The/DT Mouse/NNP did/VBD not/RB answer/VB ,/, so/IN Alice/NNP went/VBD on/IN eagerly/NN :/: 'There/EX is/VBZ such/JJ a/DT nice/JJ little/JJ dog/NN near/IN our/PRP$ house/NN I/PRP should/MD like/VB to/TO show/VB you/PRP !/.\n",
            "A/DT little/JJ bright-eyed/JJ terrier/NN ,/, you/PRP know/VBP ,/, with/IN oh/UH ,/, such/JJ long/JJ curly/RB brown/JJ hair/NN !/.\n",
            "And/CC it/PRP 'll/MD fetch/VB things/NNS when/WRB you/PRP throw/VBP them/PRP ,/, and/CC it/PRP 'll/MD sit/VB up/RP and/CC beg/VB for/IN its/PRP$ dinner/NN ,/, and/CC all/DT sorts/NNS of/IN things/NNS --/: I/PRP ca/MD n't/RB remember/VB half/NN of/IN them/PRP --/: and/CC it/PRP belongs/VBZ to/TO a/DT farmer/NN ,/, you/PRP know/VBP ,/, and/CC he/PRP says/VBZ it/PRP 's/VBZ so/RB useful/JJ ,/, it/PRP 's/VBZ worth/IN a/DT hundred/JJ pounds/NNS !/.\n",
            "He/PRP says/VBZ it/PRP kills/VBZ all/PDT the/DT rats/NNS and/CC --/: oh/JJ dear/NN !/. '/''\n",
            "cried/JJ Alice/NNP in/IN a/DT sorrowful/JJ tone/NN ,/, '/'' I/PRP 'm/VBP afraid/JJ I/PRP 've/VBP offended/VBN it/PRP again/RB !/. '/''\n",
            "For/IN the/DT Mouse/NNP was/VBD swimming/VBG away/RB from/IN her/PRP$ as/RB hard/JJ as/IN it/PRP could/MD go/VB ,/, and/CC making/VBG quite/RB a/DT commotion/NN in/IN the/DT pool/NN as/IN it/PRP went/VBD ./.\n",
            "So/IN she/PRP called/VBD softly/RB after/IN it/PRP ,/, 'Mouse/'' dear/NN !/.\n",
            "Do/VBP come/VB back/RB again/RB ,/, and/CC we/PRP wo/MD n't/RB talk/VB about/IN cats/NNS or/CC dogs/NNS either/CC ,/, if/IN you/PRP do/VBP n't/RB like/VB them/PRP !/. '/''\n",
            "When/WRB the/DT Mouse/NNP heard/NN this/DT ,/, it/PRP turned/VBD round/NN and/CC swam/NN slowly/RB back/RB to/TO her/PRP$ :/: its/PRP$ face/NN was/VBD quite/RB pale/JJ (/( with/IN passion/NN ,/, Alice/NNP thought/VBD )/) ,/, and/CC it/PRP said/VBD in/IN a/DT low/JJ trembling/NN voice/NN ,/, 'Let/'' us/PRP get/VB to/TO the/DT shore/NN ,/, and/CC then/RB I/PRP 'll/MD tell/VB you/PRP my/PRP$ history/NN ,/, and/CC you/PRP 'll/MD understand/VB why/WRB it/PRP is/VBZ I/PRP hate/VBP cats/NNS and/CC dogs/NNS ./. '/''\n",
            "It/PRP was/VBD high/JJ time/NN to/TO go/VB ,/, for/IN the/DT pool/NN was/VBD getting/VBG quite/RB crowded/VBN with/IN the/DT birds/NNS and/CC animals/NNS that/WDT had/VBD fallen/VBN into/IN it/PRP :/: there/EX were/VBD a/DT Duck/NNP and/CC a/DT Dodo/NNP ,/, a/DT Lory/NNP and/CC an/DT Eaglet/NNP ,/, and/CC several/JJ other/JJ curious/JJ creatures/NNS ./.\n",
            "Alice/NNP led/VBD the/DT way/NN ,/, and/CC the/DT whole/JJ party/NN swam/NN to/TO the/DT shore/NN ./.\n",
            "CHAPTER/NN III/NNP ./.\n",
            "A/DT Caucus-Race/NNP and/CC a/DT Long/JJ Tale/NN They/PRP were/VBD indeed/RB a/DT queer-looking/JJ party/NN that/WDT assembled/VBD on/IN the/DT bank/NN --/: the/DT birds/NNS with/IN draggled/JJ feathers/NNS ,/, the/DT animals/NNS with/IN their/PRP$ fur/NN clinging/VBG close/JJ to/TO them/PRP ,/, and/CC all/DT dripping/VBG wet/NN ,/, cross/NN ,/, and/CC uncomfortable/JJ ./.\n",
            "The/DT first/JJ question/NN of/IN course/NN was/VBD ,/, how/WRB to/TO get/VB dry/JJ again/RB :/: they/PRP had/VBD a/DT consultation/NN about/IN this/DT ,/, and/CC after/IN a/DT few/JJ minutes/NNS it/PRP seemed/VBD quite/RB natural/JJ to/TO Alice/NNP to/TO find/VB herself/PRP talking/VBG familiarly/RB with/IN them/PRP ,/, as/IN if/IN she/PRP had/VBD known/VBN them/PRP all/DT her/PRP$ life/NN ./.\n",
            "Indeed/RB ,/, she/PRP had/VBD quite/RB a/DT long/JJ argument/NN with/IN the/DT Lory/NNP ,/, who/WP at/IN last/JJ turned/JJ sulky/NN ,/, and/CC would/MD only/RB say/VB ,/, '/'' I/PRP am/VBP older/JJR than/IN you/PRP ,/, and/CC must/MD know/VB better/JJR '/POS ;/: and/CC this/DT Alice/NNP would/MD not/RB allow/VB without/IN knowing/VBG how/WRB old/JJ it/PRP was/VBD ,/, and/CC ,/, as/IN the/DT Lory/NNP positively/RB refused/VBD to/TO tell/VB its/PRP$ age/NN ,/, there/EX was/VBD no/DT more/JJR to/TO be/VB said/VBD ./.\n",
            "At/IN last/JJ the/DT Mouse/NNP ,/, who/WP seemed/VBD to/TO be/VB a/DT person/NN of/IN authority/NN among/IN them/PRP ,/, called/VBN out/RP ,/, 'Sit/'' down/RP ,/, all/DT of/IN you/PRP ,/, and/CC listen/VB to/TO me/PRP !/.\n",
            "I/PRP 'LL/VBP soon/RB make/VBP you/PRP dry/JJ enough/RB !/. '/''\n",
            "They/PRP all/DT sat/VBD down/RP at/IN once/RB ,/, in/IN a/DT large/JJ ring/NN ,/, with/IN the/DT Mouse/NNP in/IN the/DT middle/NN ./.\n",
            "Alice/NNP kept/VBD her/PRP$ eyes/NNS anxiously/RB fixed/VBN on/IN it/PRP ,/, for/IN she/PRP felt/VBD sure/JJ she/PRP would/MD catch/VB a/DT bad/JJ cold/NN if/IN she/PRP did/VBD not/RB get/VB dry/JJ very/RB soon/RB ./.\n",
            "'Ahem/RB !/. '/''\n",
            "said/VBD the/DT Mouse/NNP with/IN an/DT important/JJ air/NN ,/, 'are/'' you/PRP all/DT ready/JJ ?/.\n",
            "This/DT is/VBZ the/DT driest/JJ thing/NN I/PRP know/VBP ./.\n",
            "Silence/NNP all/DT round/NN ,/, if/IN you/PRP please/VBP !/.\n",
            "``/`` William/NNP the/DT Conqueror/NNP ,/, whose/WP$ cause/NN was/VBD favoured/VBN by/IN the/DT pope/NN ,/, was/VBD soon/RB submitted/VBN to/TO by/IN the/DT English/NNP ,/, who/WP wanted/VBD leaders/NNS ,/, and/CC had/VBD been/VBN of/IN late/JJ much/JJ accustomed/VBN to/TO usurpation/NN and/CC conquest/NN ./.\n",
            "Edwin/NNP and/CC Morcar/NNP ,/, the/DT earls/NN of/IN Mercia/NNP and/CC Northumbria/NNP --/: ''/'' '/POS 'Ugh/POS !/. '/''\n",
            "said/VBD the/DT Lory/NNP ,/, with/IN a/DT shiver/NN ./.\n",
            "'/POS I/PRP beg/VBP your/PRP$ pardon/NN !/. '/''\n",
            "said/VBD the/DT Mouse/NNP ,/, frowning/NN ,/, but/CC very/RB politely/RB :/: 'Did/CD you/PRP speak/VB ?/. '/''\n",
            "'Not/CD I/PRP !/. '/''\n",
            "said/VBD the/DT Lory/NNP hastily/RB ./.\n",
            "'/POS I/PRP thought/VBD you/PRP did/VBD ,/, '/'' said/VBD the/DT Mouse/NNP ./. '/''\n",
            "--/: I/PRP proceed/VBP ./.\n",
            "``/`` Edwin/NNP and/CC Morcar/NNP ,/, the/DT earls/NN of/IN Mercia/NNP and/CC Northumbria/NNP ,/, declared/VBD for/IN him/PRP :/: and/CC even/RB Stigand/NNP ,/, the/DT patriotic/JJ archbishop/NN of/IN Canterbury/NNP ,/, found/VBD it/PRP advisable/JJ --/: ''/'' '/POS 'Found/IN WHAT/NNP ?/. '/''\n",
            "said/VBD the/DT Duck/NNP ./.\n",
            "'Found/IN IT/NNP ,/, '/'' the/DT Mouse/NNP replied/VBD rather/RB crossly/RB :/: 'of/JJ course/NN you/PRP know/VBP what/WP ''/'' it/PRP ''/'' means/VBZ ./. '/''\n",
            "'/POS I/PRP know/VBP what/WP ``/`` it/PRP ''/'' means/VBZ well/RB enough/RB ,/, when/WRB I/PRP find/VBP a/DT thing/NN ,/, '/'' said/VBD the/DT Duck/NNP :/: 'it/NN 's/POS generally/RB a/DT frog/NN or/CC a/DT worm/NN ./.\n",
            "The/DT question/NN is/VBZ ,/, what/WP did/VBD the/DT archbishop/NN find/VB ?/. '/''\n",
            "The/DT Mouse/NNP did/VBD not/RB notice/VB this/DT question/NN ,/, but/CC hurriedly/RB went/VBD on/IN ,/, '/'' ''/'' --/: found/VBD it/PRP advisable/JJ to/TO go/VB with/IN Edgar/NNP Atheling/NNP to/TO meet/VB William/NNP and/CC offer/VBP him/PRP the/DT crown/NN ./.\n",
            "William/NNP 's/POS conduct/NN at/IN first/JJ was/VBD moderate/JJ ./.\n",
            "But/CC the/DT insolence/NN of/IN his/PRP$ Normans/NNPS --/: ''/'' How/WRB are/VBP you/PRP getting/VBG on/IN now/RB ,/, my/PRP$ dear/JJ ?/. '/''\n",
            "it/PRP continued/VBD ,/, turning/VBG to/TO Alice/NNP as/IN it/PRP spoke/VBD ./.\n",
            "'As/RB wet/NN as/IN ever/RB ,/, '/'' said/VBD Alice/NNP in/IN a/DT melancholy/JJ tone/NN :/: 'it/NN does/VBZ n't/RB seem/VB to/TO dry/VB me/PRP at/IN all/DT ./. '/''\n",
            "'In/NNS that/WDT case/NN ,/, '/'' said/VBD the/DT Dodo/NNP solemnly/RB ,/, rising/VBG to/TO its/PRP$ feet/NNS ,/, '/'' I/PRP move/VBP that/IN the/DT meeting/NN adjourn/NN ,/, for/IN the/DT immediate/JJ adoption/NN of/IN more/RBR energetic/JJ remedies/NNS --/: '/POS 'Speak/JJ English/JJ !/. '/''\n",
            "said/VBD the/DT Eaglet/NNP ./.\n",
            "'/POS I/PRP do/VBP n't/RB know/VB the/DT meaning/NN of/IN half/PDT those/DT long/JJ words/NNS ,/, and/CC ,/, what/WP 's/VBZ more/JJR ,/, I/PRP do/VBP n't/RB believe/VB you/PRP do/VBP either/DT !/. '/''\n",
            "And/CC the/DT Eaglet/NNP bent/VBD down/RP its/PRP$ head/NN to/TO hide/VB a/DT smile/NN :/: some/DT of/IN the/DT other/JJ birds/NNS tittered/VBN audibly/RB ./.\n",
            "'What/IN I/PRP was/VBD going/VBG to/TO say/VB ,/, '/'' said/VBD the/DT Dodo/NNP in/IN an/DT offended/JJ tone/NN ,/, 'was/UH ,/, that/IN the/DT best/JJS thing/NN to/TO get/VB us/PRP dry/VB would/MD be/VB a/DT Caucus-race/NNP ./. '/''\n",
            "'What/DT IS/VBZ a/DT Caucus-race/JJ ?/. '/''\n",
            "said/VBD Alice/NNP ;/: not/RB that/IN she/PRP wanted/VBD much/RB to/TO know/VB ,/, but/CC the/DT Dodo/NNP had/VBD paused/VBN as/IN if/IN it/PRP thought/VBD that/IN SOMEBODY/NNP ought/MD to/TO speak/VB ,/, and/CC no/DT one/NN else/RB seemed/VBD inclined/JJ to/TO say/VB anything/NN ./.\n",
            "'Why/CD ,/, '/'' said/VBD the/DT Dodo/NNP ,/, 'the/'' best/JJS way/NN to/TO explain/VB it/PRP is/VBZ to/TO do/VB it/PRP ./. '/''\n",
            "(/( And/CC ,/, as/IN you/PRP might/MD like/VB to/TO try/VB the/DT thing/NN yourself/PRP ,/, some/DT winter/NN day/NN ,/, I/PRP will/MD tell/VB you/PRP how/WRB the/DT Dodo/NNP managed/VBD it/PRP ./. )/)\n",
            "First/LS it/PRP marked/VBD out/RP a/DT race-course/NN ,/, in/IN a/DT sort/NN of/IN circle/NN ,/, (/( 'the/POS exact/JJ shape/NN does/VBZ n't/RB matter/VB ,/, '/'' it/PRP said/VBD ,/, )/) and/CC then/RB all/PDT the/DT party/NN were/VBD placed/VBN along/IN the/DT course/NN ,/, here/RB and/CC there/RB ./.\n",
            "There/EX was/VBD no/DT 'One/NN ,/, two/CD ,/, three/CD ,/, and/CC away/RB ,/, '/'' but/CC they/PRP began/VBD running/VBG when/WRB they/PRP liked/VBD ,/, and/CC left/VBD off/RP when/WRB they/PRP liked/VBD ,/, so/IN that/IN it/PRP was/VBD not/RB easy/JJ to/TO know/VB when/WRB the/DT race/NN was/VBD over/RB ./.\n",
            "However/RB ,/, when/WRB they/PRP had/VBD been/VBN running/VBG half/PDT an/DT hour/NN or/CC so/RB ,/, and/CC were/VBD quite/RB dry/JJ again/RB ,/, the/DT Dodo/NNP suddenly/RB called/VBD out/RP 'The/JJ race/NN is/VBZ over/IN !/. '/''\n",
            "and/CC they/PRP all/DT crowded/VBD round/NN it/PRP ,/, panting/VBG ,/, and/CC asking/VBG ,/, 'But/'' who/WP has/VBZ won/VBN ?/. '/''\n",
            "This/DT question/NN the/DT Dodo/NNP could/MD not/RB answer/VB without/IN a/DT great/JJ deal/NN of/IN thought/NN ,/, and/CC it/PRP sat/VBD for/IN a/DT long/JJ time/NN with/IN one/CD finger/NN pressed/VBN upon/IN its/PRP$ forehead/NN (/( the/DT position/NN in/IN which/WDT you/PRP usually/RB see/VBP Shakespeare/NNP ,/, in/IN the/DT pictures/NNS of/IN him/PRP )/) ,/, while/IN the/DT rest/NN waited/VBD in/IN silence/NN ./.\n",
            "At/IN last/JJ the/DT Dodo/NNP said/VBD ,/, 'EVERYBODY/PRP has/VBZ won/VBN ,/, and/CC all/DT must/MD have/VB prizes/NNS ./. '/''\n",
            "'But/NNS who/WP is/VBZ to/TO give/VB the/DT prizes/NNS ?/. '/''\n",
            "quite/RB a/DT chorus/NN of/IN voices/NNS asked/VBN ./.\n",
            "'Why/NN ,/, SHE/NNP ,/, of/IN course/NN ,/, '/'' said/VBD the/DT Dodo/NNP ,/, pointing/VBG to/TO Alice/NNP with/IN one/CD finger/NN ;/: and/CC the/DT whole/JJ party/NN at/IN once/RB crowded/VBN round/NN her/PRP ,/, calling/VBG out/RP in/IN a/DT confused/JJ way/NN ,/, 'Prizes/VBZ !/.\n",
            "Prizes/NNS !/. '/''\n",
            "Alice/NNP had/VBD no/DT idea/NN what/WP to/TO do/VB ,/, and/CC in/IN despair/NN she/PRP put/VBD her/PRP hand/NN in/IN her/PRP$ pocket/NN ,/, and/CC pulled/VBD out/RP a/DT box/NN of/IN comfits/NNS ,/, (/( luckily/RB the/DT salt/NN water/NN had/VBD not/RB got/VBN into/IN it/PRP )/) ,/, and/CC handed/VBD them/PRP round/RP as/IN prizes/NNS ./.\n",
            "There/EX was/VBD exactly/RB one/CD a-piece/NN all/DT round/NN ./.\n",
            "'But/POS she/PRP must/MD have/VB a/DT prize/NN herself/PRP ,/, you/PRP know/VBP ,/, '/'' said/VBD the/DT Mouse/NNP ./.\n",
            "'Of/JJ course/NN ,/, '/'' the/DT Dodo/NNP replied/VBD very/RB gravely/RB ./.\n",
            "'What/WP else/RB have/VBP you/PRP got/VBN in/IN your/PRP$ pocket/NN ?/. '/''\n",
            "he/PRP went/VBD on/IN ,/, turning/VBG to/TO Alice/NNP ./.\n",
            "'Only/RB a/DT thimble/JJ ,/, '/'' said/VBD Alice/NNP sadly/RB ./.\n",
            "'Hand/VB it/PRP over/IN here/RB ,/, '/'' said/VBD the/DT Dodo/NNP ./.\n",
            "Then/RB they/PRP all/DT crowded/VBD round/RP her/PRP$ once/RB more/RBR ,/, while/IN the/DT Dodo/NNP solemnly/RB presented/VBD the/DT thimble/JJ ,/, saying/VBG 'We/CD beg/IN your/PRP$ acceptance/NN of/IN this/DT elegant/JJ thimble/JJ '/POS ;/: and/CC ,/, when/WRB it/PRP had/VBD finished/VBN this/DT short/JJ speech/NN ,/, they/PRP all/DT cheered/VBD ./.\n",
            "Alice/NNP thought/VBD the/DT whole/JJ thing/NN very/RB absurd/JJ ,/, but/CC they/PRP all/DT looked/VBD so/RB grave/JJ that/IN she/PRP did/VBD not/RB dare/VB to/TO laugh/NN ;/: and/CC ,/, as/IN she/PRP could/MD not/RB think/VB of/IN anything/NN to/TO say/VB ,/, she/PRP simply/RB bowed/VBD ,/, and/CC took/VBD the/DT thimble/JJ ,/, looking/VBG as/RB solemn/NN as/IN she/PRP could/MD ./.\n",
            "The/DT next/JJ thing/NN was/VBD to/TO eat/VB the/DT comfits/NNS :/: this/DT caused/VBD some/DT noise/NN and/CC confusion/NN ,/, as/IN the/DT large/JJ birds/NNS complained/VBD that/IN they/PRP could/MD not/RB taste/VB theirs/NNS ,/, and/CC the/DT small/JJ ones/NNS choked/VBN and/CC had/VBD to/TO be/VB patted/VBN on/IN the/DT back/NN ./.\n",
            "However/RB ,/, it/PRP was/VBD over/RB at/IN last/JJ ,/, and/CC they/PRP sat/VBD down/RB again/RB in/IN a/DT ring/NN ,/, and/CC begged/VBD the/DT Mouse/NNP to/TO tell/VB them/PRP something/NN more/RBR ./.\n",
            "'You/NNS promised/VBN to/TO tell/VB me/PRP your/PRP$ history/NN ,/, you/PRP know/VBP ,/, '/'' said/VBD Alice/NNP ,/, 'and/CD why/WRB it/PRP is/VBZ you/PRP hate/VBP --/: C/NNP and/CC D/NNP ,/, '/'' she/PRP added/VBD in/IN a/DT whisper/NN ,/, half/NN afraid/VBD that/IN it/PRP would/MD be/VB offended/VBN again/RB ./.\n",
            "'Mine/NN is/VBZ a/DT long/JJ and/CC a/DT sad/JJ tale/NN !/. '/''\n",
            "said/VBD the/DT Mouse/NNP ,/, turning/VBG to/TO Alice/NNP ,/, and/CC sighing/NN ./.\n",
            "'It/NN IS/VBZ a/DT long/JJ tail/NN ,/, certainly/RB ,/, '/'' said/VBD Alice/NNP ,/, looking/VBG down/RP with/IN wonder/NN at/IN the/DT Mouse/NNP 's/POS tail/NN ;/: 'but/CC why/WRB do/VBP you/PRP call/VB it/PRP sad/JJ ?/. '/''\n",
            "And/CC she/PRP kept/VBD on/IN puzzling/VBG about/IN it/PRP while/IN the/DT Mouse/NNP was/VBD speaking/VBG ,/, so/IN that/IN her/PRP$ idea/NN of/IN the/DT tale/NN was/VBD something/NN like/IN this/DT :/: --/: 'Fury/NN said/VBD to/TO a/DT mouse/NN ,/, That/IN he/PRP met/VBD in/IN the/DT house/NN ,/, ``/`` Let/VB us/PRP both/DT go/VBP to/TO law/NN :/: I/PRP will/MD prosecute/VB YOU./NNP --/: Come/NNP ,/, I/PRP 'll/MD take/VB no/DT denial/NN ;/: We/PRP must/MD have/VB a/DT trial/NN :/: For/IN really/RB this/DT morning/NN I've/NNP nothing/NN to/TO do/VB ./. ''/''\n",
            "Said/VBD the/DT mouse/NN to/TO the/DT cur/NN ,/, ``/`` Such/PDT a/DT trial/NN ,/, dear/JJ Sir/NNP ,/, With/IN no/DT jury/NN or/CC judge/NN ,/, would/MD be/VB wasting/VBG our/PRP$ breath/NN ./. ''/''\n",
            "``/`` I/PRP 'll/MD be/VB judge/NN ,/, I'll/NNP be/VB jury/NN ,/, ''/'' Said/NNP cunning/VBG old/JJ Fury/NN :/: ``/`` I'll/NNP try/VB the/DT whole/JJ cause/NN ,/, and/CC condemn/NN you/PRP to/TO death/NN ./. ''/'' '/''\n",
            "'You/NNS are/VBP not/RB attending/VBG !/. '/''\n",
            "said/VBD the/DT Mouse/NNP to/TO Alice/NNP severely/RB ./.\n",
            "'What/WDT are/VBP you/PRP thinking/VBG of/IN ?/. '/''\n",
            "'/POS I/PRP beg/VBP your/PRP$ pardon/NN ,/, '/'' said/VBD Alice/NNP very/RB humbly/RB :/: 'you/NN had/VBD got/VBN to/TO the/DT fifth/JJ bend/NN ,/, I/PRP think/VBP ?/. '/''\n",
            "'/POS I/PRP had/VBD NOT/NNP !/. '/''\n",
            "cried/VBD the/DT Mouse/NNP ,/, sharply/RB and/CC very/RB angrily/RB ./.\n",
            "'/'' A/DT knot/NN !/. '/''\n",
            "said/VBD Alice/NNP ,/, always/RB ready/JJ to/TO make/VB herself/PRP useful/JJ ,/, and/CC looking/VBG anxiously/RB about/IN her/PRP ./.\n",
            "'Oh/NNS ,/, do/VBP let/VB me/PRP help/VB to/TO undo/VB it/PRP !/. '/''\n",
            "'/POS I/PRP shall/MD do/VB nothing/NN of/IN the/DT sort/NN ,/, '/'' said/VBD the/DT Mouse/NNP ,/, getting/VBG up/RP and/CC walking/VBG away/RB ./.\n",
            "'You/POS insult/NN me/PRP by/IN talking/VBG such/JJ nonsense/NN !/. '/''\n",
            "'/POS I/PRP did/VBD n't/RB mean/VB it/PRP !/. '/''\n",
            "pleaded/VBN poor/JJ Alice/NNP ./.\n",
            "'But/IN you/PRP 're/VBP so/RB easily/RB offended/VBN ,/, you/PRP know/VBP !/. '/''\n",
            "The/DT Mouse/NNP only/RB growled/VBD in/IN reply/NN ./.\n",
            "'Please/POS come/VB back/RB and/CC finish/VB your/PRP$ story/NN !/. '/''\n",
            "Alice/NNP called/VBD after/IN it/PRP ;/: and/CC the/DT others/NNS all/DT joined/VBN in/IN chorus/NN ,/, 'Yes/UH ,/, please/VB do/VB !/. '/''\n",
            "but/CC the/DT Mouse/NNP only/RB shook/VBD its/PRP$ head/NN impatiently/RB ,/, and/CC walked/VBD a/DT little/JJ quicker/NN ./.\n",
            "'What/IN a/DT pity/NN it/PRP would/MD n't/RB stay/VB !/. '/''\n",
            "sighed/VBD the/DT Lory/NNP ,/, as/RB soon/RB as/IN it/PRP was/VBD quite/RB out/IN of/IN sight/NN ;/: and/CC an/DT old/JJ Crab/NN took/VBD the/DT opportunity/NN of/IN saying/VBG to/TO her/PRP$ daughter/NN 'Ah/NN ,/, my/PRP$ dear/NN !/.\n",
            "Let/VB this/DT be/VB a/DT lesson/NN to/TO you/PRP never/RB to/TO lose/VB YOUR/NNP temper/NN !/. '/''\n",
            "'Hold/VB your/PRP$ tongue/NN ,/, Ma/NNP !/. '/''\n",
            "said/VBD the/DT young/JJ Crab/NNP ,/, a/DT little/JJ snappishly/NN ./.\n",
            "'You/POS 're/VBP enough/JJ to/TO try/VB the/DT patience/NN of/IN an/DT oyster/NN !/. '/''\n",
            "'/POS I/PRP wish/VBP I/PRP had/VBD our/PRP$ Dinah/NNP here/RB ,/, I/PRP know/VBP I/PRP do/VBP !/. '/''\n",
            "said/VBD Alice/NNP aloud/NN ,/, addressing/VBG nobody/NN in/IN particular/JJ ./.\n",
            "'She/POS 'd/MD soon/RB fetch/VB it/PRP back/RB !/. '/''\n",
            "'And/NNS who/WP is/VBZ Dinah/NNP ,/, if/IN I/PRP might/MD venture/NN to/TO ask/VB the/DT question/NN ?/. '/''\n",
            "said/VBD the/DT Lory/NNP ./.\n",
            "Alice/NNP replied/VBD eagerly/RB ,/, for/IN she/PRP was/VBD always/RB ready/JJ to/TO talk/VB about/IN her/PRP$ pet/NN :/: 'Dinah/NN 's/POS our/PRP$ cat/NN ./.\n",
            "And/CC she/PRP 's/VBZ such/JJ a/DT capital/NN one/CD for/IN catching/VBG mice/NN you/PRP ca/MD n't/RB think/VB !/.\n",
            "And/CC oh/UH ,/, I/PRP wish/VBP you/PRP could/MD see/VB her/PRP$ after/IN the/DT birds/NNS !/.\n",
            "Why/WRB ,/, she/PRP 'll/MD eat/VB a/DT little/JJ bird/NN as/RB soon/RB as/IN look/NN at/IN it/PRP !/. '/''\n",
            "This/DT speech/NN caused/VBD a/DT remarkable/JJ sensation/NN among/IN the/DT party/NN ./.\n",
            "Some/DT of/IN the/DT birds/NNS hurried/VBD off/RP at/IN once/RB :/: one/CD old/JJ Magpie/NNP began/VBD wrapping/VBG itself/PRP up/RP very/RB carefully/RB ,/, remarking/VBG ,/, '/'' I/PRP really/RB must/MD be/VB getting/VBG home/RB ;/: the/DT night-air/NN does/VBZ n't/RB suit/VB my/PRP$ throat/NN !/. '/''\n",
            "and/CC a/DT Canary/NNP called/VBD out/RP in/IN a/DT trembling/JJ voice/NN to/TO its/PRP$ children/NNS ,/, 'Come/'' away/RB ,/, my/PRP$ dears/NNS !/.\n",
            "It/PRP 's/VBZ high/JJ time/NN you/PRP were/VBD all/DT in/IN bed/NN !/. '/''\n",
            "On/IN various/JJ pretexts/NNS they/PRP all/DT moved/VBD off/RP ,/, and/CC Alice/NNP was/VBD soon/RB left/JJ alone/RB ./.\n",
            "'/POS I/PRP wish/VBP I/PRP had/VBD n't/RB mentioned/VBN Dinah/NNP !/. '/''\n",
            "she/PRP said/VBD to/TO herself/VB in/IN a/DT melancholy/JJ tone/NN ./.\n",
            "'Nobody/NN seems/VBZ to/TO like/VB her/PRP ,/, down/RB here/RB ,/, and/CC I/PRP 'm/VBP sure/JJ she/PRP 's/VBZ the/DT best/JJS cat/NN in/IN the/DT world/NN !/.\n",
            "Oh/UH ,/, my/PRP$ dear/JJ Dinah/NNP !/.\n",
            "I/PRP wonder/VBP if/IN I/PRP shall/MD ever/RB see/VB you/PRP any/DT more/JJR !/. '/''\n",
            "And/CC here/RB poor/JJ Alice/NNP began/VBD to/TO cry/VB again/RB ,/, for/IN she/PRP felt/VBD very/RB lonely/RB and/CC low-spirited/JJ ./.\n",
            "In/IN a/DT little/JJ while/NN ,/, however/RB ,/, she/PRP again/RB heard/VBD a/DT little/JJ pattering/NN of/IN footsteps/NNS in/IN the/DT distance/NN ,/, and/CC she/PRP looked/VBD up/RB eagerly/RB ,/, half/NN hoping/VBG that/IN the/DT Mouse/NNP had/VBD changed/VBN his/PRP$ mind/NN ,/, and/CC was/VBD coming/VBG back/RB to/TO finish/VB his/PRP$ story/NN ./.\n",
            "CHAPTER/NN IV/NNP ./.\n",
            "The/DT Rabbit/NNP Sends/NNPS in/IN a/DT Little/JJ Bill/NNP It/PRP was/VBD the/DT White/NNP Rabbit/NNP ,/, trotting/VBG slowly/RB back/RB again/RB ,/, and/CC looking/VBG anxiously/RB about/IN as/IN it/PRP went/VBD ,/, as/IN if/IN it/PRP had/VBD lost/VBN something/NN ;/: and/CC she/PRP heard/VBD it/PRP muttering/VBG to/TO itself/PRP 'The/JJ Duchess/NN !/.\n",
            "The/DT Duchess/NN !/.\n",
            "Oh/UH my/PRP$ dear/JJ paws/NN !/.\n",
            "Oh/UH my/PRP$ fur/NN and/CC whiskers/NNS !/.\n",
            "She/PRP 'll/MD get/VB me/PRP executed/VBN ,/, as/RB sure/JJ as/IN ferrets/NNS are/VBP ferrets/NNS !/.\n",
            "Where/WRB CAN/NNP I/PRP have/VBP dropped/VBN them/PRP ,/, I/PRP wonder/VBP ?/. '/''\n",
            "Alice/NNP guessed/VBD in/IN a/DT moment/NN that/IN it/PRP was/VBD looking/VBG for/IN the/DT fan/NN and/CC the/DT pair/NN of/IN white/JJ kid/NN gloves/NNS ,/, and/CC she/PRP very/RB good-naturedly/RB began/VBD hunting/VBG about/IN for/IN them/PRP ,/, but/CC they/PRP were/VBD nowhere/RB to/TO be/VB seen/VBN --/: everything/NN seemed/VBD to/TO have/VB changed/VBN since/IN her/PRP$ swim/NN in/IN the/DT pool/NN ,/, and/CC the/DT great/JJ hall/NN ,/, with/IN the/DT glass/NN table/NN and/CC the/DT little/JJ door/NN ,/, had/VBD vanished/VBN completely/RB ./.\n",
            "Very/RB soon/RB the/DT Rabbit/NNP noticed/JJ Alice/NNP ,/, as/IN she/PRP went/VBD hunting/VBG about/RB ,/, and/CC called/VBD out/RP to/TO her/PRP$ in/IN an/DT angry/JJ tone/NN ,/, 'Why/'' ,/, Mary/NNP Ann/NNP ,/, what/WP ARE/NNP you/PRP doing/VBG out/RP here/RB ?/.\n",
            "Run/NNP home/NN this/DT moment/NN ,/, and/CC fetch/VB me/PRP a/DT pair/NN of/IN gloves/NNS and/CC a/DT fan/NN !/.\n",
            "Quick/NNP ,/, now/RB !/. '/''\n",
            "And/CC Alice/NNP was/VBD so/RB much/JJ frightened/VBD that/IN she/PRP ran/VBD off/RP at/IN once/RB in/IN the/DT direction/NN it/PRP pointed/VBD to/TO ,/, without/IN trying/VBG to/TO explain/VB the/DT mistake/NN it/PRP had/VBD made/VBN ./.\n",
            "'He/POS took/VBD me/PRP for/IN his/PRP$ housemaid/NN ,/, '/'' she/PRP said/VBD to/TO herself/VB as/IN she/PRP ran/VBD ./.\n",
            "'How/NNS surprised/VBD he/PRP 'll/MD be/VB when/WRB he/PRP finds/VBZ out/RP who/WP I/PRP am/VBP !/.\n",
            "But/CC I/PRP 'd/MD better/VB take/VB him/PRP his/PRP$ fan/NN and/CC gloves/NNS --/: that/DT is/VBZ ,/, if/IN I/PRP can/MD find/VB them/PRP ./. '/''\n",
            "As/IN she/PRP said/VBD this/DT ,/, she/PRP came/VBD upon/IN a/DT neat/JJ little/JJ house/NN ,/, on/IN the/DT door/NN of/IN which/WDT was/VBD a/DT bright/JJ brass/NN plate/NN with/IN the/DT name/NN '/POS W/NNP ./.\n",
            "RABBIT/NNP '/POS engraved/VBN upon/IN it/PRP ./.\n",
            "She/PRP went/VBD in/IN without/IN knocking/NN ,/, and/CC hurried/VBD upstairs/NNS ,/, in/IN great/JJ fear/NN lest/JJS she/PRP should/MD meet/VB the/DT real/JJ Mary/NNP Ann/NNP ,/, and/CC be/VB turned/VBN out/IN of/IN the/DT house/NN before/IN she/PRP had/VBD found/VBN the/DT fan/NN and/CC gloves/NNS ./.\n",
            "'How/CD queer/NN it/PRP seems/VBZ ,/, '/'' Alice/NNP said/VBD to/TO herself/VB ,/, 'to/FW be/VB going/VBG messages/NNS for/IN a/DT rabbit/NN !/.\n",
            "I/PRP suppose/VBP Dinah/NNP 'll/MD be/VB sending/VBG me/PRP on/IN messages/NNS next/IN !/. '/''\n",
            "And/CC she/PRP began/VBD fancying/VBG the/DT sort/NN of/IN thing/NN that/WDT would/MD happen/VB :/: '/'' ''/'' Miss/NNP Alice/NNP !/.\n",
            "Come/NNP here/RB directly/RB ,/, and/CC get/VB ready/JJ for/IN your/PRP$ walk/NN !/. ''/''\n",
            "``/`` Coming/VBG in/IN a/DT minute/NN ,/, nurse/NN !/.\n",
            "But/CC I/PRP 've/VBP got/VBN to/TO see/VB that/IN the/DT mouse/NN does/VBZ n't/RB get/VB out/RP ./. ''/''\n",
            "Only/RB I/PRP don't/VBP think/VB ,/, '/'' Alice/NNP went/VBD on/IN ,/, 'that/IN they/PRP 'd/MD let/VB Dinah/NNP stop/VB in/IN the/DT house/NN if/IN it/PRP began/VBD ordering/VBG people/NNS about/IN like/IN that/DT !/. '/''\n",
            "By/IN this/DT time/NN she/PRP had/VBD found/VBN her/PRP$ way/NN into/IN a/DT tidy/JJ little/JJ room/NN with/IN a/DT table/NN in/IN the/DT window/NN ,/, and/CC on/IN it/PRP (/( as/IN she/PRP had/VBD hoped/VBN )/) a/DT fan/NN and/CC two/CD or/CC three/CD pairs/NNS of/IN tiny/JJ white/JJ kid/NN gloves/NNS :/: she/PRP took/VBD up/RP the/DT fan/NN and/CC a/DT pair/NN of/IN the/DT gloves/NNS ,/, and/CC was/VBD just/RB going/VBG to/TO leave/VB the/DT room/NN ,/, when/WRB her/PRP$ eye/NN fell/VBD upon/IN a/DT little/JJ bottle/NN that/WDT stood/VBD near/IN the/DT looking-glass/NN ./.\n",
            "There/EX was/VBD no/DT label/NN this/DT time/NN with/IN the/DT words/NNS 'DRINK/POS ME/NNP ,/, '/'' but/CC nevertheless/IN she/PRP uncorked/VBD it/PRP and/CC put/VB it/PRP to/TO her/PRP$ lips/NNS ./.\n",
            "'/POS I/PRP know/VBP SOMETHING/VBG interesting/JJ is/VBZ sure/JJ to/TO happen/VB ,/, '/'' she/PRP said/VBD to/TO herself/VB ,/, 'whenever/'' I/PRP eat/VBP or/CC drink/VBP anything/NN ;/: so/CC I/PRP 'll/MD just/RB see/VB what/WP this/DT bottle/NN does/VBZ ./.\n",
            "I/PRP do/VBP hope/VB it/PRP 'll/MD make/VB me/PRP grow/VB large/JJ again/RB ,/, for/IN really/RB I/PRP 'm/VBP quite/RB tired/VBN of/IN being/VBG such/JJ a/DT tiny/JJ little/JJ thing/NN !/. '/''\n",
            "It/PRP did/VBD so/RB indeed/RB ,/, and/CC much/RB sooner/JJR than/IN she/PRP had/VBD expected/VBN :/: before/IN she/PRP had/VBD drunk/VBN half/PDT the/DT bottle/NN ,/, she/PRP found/VBD her/PRP head/NN pressing/VBG against/IN the/DT ceiling/NN ,/, and/CC had/VBD to/TO stoop/VB to/TO save/VB her/PRP$ neck/NN from/IN being/VBG broken/VBN ./.\n",
            "She/PRP hastily/RB put/VBD down/RP the/DT bottle/NN ,/, saying/VBG to/TO herself/VB 'That/WP 's/VBZ quite/RB enough/JJ --/: I/PRP hope/VBP I/PRP shan't/VBP grow/VB any/DT more/JJR --/: As/IN it/PRP is/VBZ ,/, I/PRP ca/MD n't/RB get/VB out/RP at/IN the/DT door/NN --/: I/PRP do/VBP wish/JJ I/PRP hadn't/VBP drunk/JJ quite/RB so/RB much/JJ !/. '/''\n",
            "Alas/UH !/.\n",
            "it/PRP was/VBD too/RB late/JJ to/TO wish/VB that/DT !/.\n",
            "She/PRP went/VBD on/IN growing/NN ,/, and/CC growing/VBG ,/, and/CC very/RB soon/RB had/VBD to/TO kneel/VB down/RP on/IN the/DT floor/NN :/: in/IN another/DT minute/NN there/RB was/VBD not/RB even/RB room/NN for/IN this/DT ,/, and/CC she/PRP tried/VBD the/DT effect/NN of/IN lying/VBG down/RP with/IN one/CD elbow/NN against/IN the/DT door/NN ,/, and/CC the/DT other/JJ arm/NN curled/VBD round/NN her/PRP$ head/NN ./.\n",
            "Still/RB she/PRP went/VBD on/IN growing/NN ,/, and/CC ,/, as/IN a/DT last/JJ resource/NN ,/, she/PRP put/VBD one/CD arm/NN out/IN of/IN the/DT window/NN ,/, and/CC one/CD foot/NN up/IN the/DT chimney/NN ,/, and/CC said/VBD to/TO herself/VB 'Now/CD I/PRP can/MD do/VB no/DT more/RBR ,/, whatever/WDT happens/VBZ ./.\n",
            "What/WP WILL/VBD become/NN of/IN me/PRP ?/. '/''\n",
            "Luckily/RB for/IN Alice/NNP ,/, the/DT little/JJ magic/JJ bottle/NN had/VBD now/RB had/VBN its/PRP$ full/JJ effect/NN ,/, and/CC she/PRP grew/VBD no/DT larger/JJR :/: still/RB it/PRP was/VBD very/RB uncomfortable/JJ ,/, and/CC ,/, as/IN there/RB seemed/VBN to/TO be/VB no/DT sort/NN of/IN chance/NN of/IN her/PRP$ ever/RB getting/VBG out/IN of/IN the/DT room/NN again/RB ,/, no/DT wonder/NN she/PRP felt/VBD unhappy/JJ ./.\n",
            "'It/NN was/VBD much/JJ pleasanter/NN at/IN home/NN ,/, '/'' thought/VBD poor/JJ Alice/NNP ,/, 'when/'' one/CD wasn't/NN always/RB growing/VBG larger/JJR and/CC smaller/JJR ,/, and/CC being/VBG ordered/VBN about/IN by/IN mice/NNS and/CC rabbits/NNS ./.\n",
            "I/PRP almost/RB wish/JJ I/PRP had/VBD n't/RB gone/VBN down/RP that/DT rabbit-hole/JJ --/: and/CC yet/RB --/: and/CC yet/RB --/: it/PRP 's/VBZ rather/RB curious/JJ ,/, you/PRP know/VBP ,/, this/DT sort/NN of/IN life/NN !/.\n",
            "I/PRP do/VBP wonder/VB what/WP CAN/NNP have/VBP happened/VBN to/TO me/PRP !/.\n",
            "When/WRB I/PRP used/VBD to/TO read/VB fairy-tales/NNS ,/, I/PRP fancied/VBD that/IN kind/NN of/IN thing/NN never/RB happened/VBD ,/, and/CC now/RB here/RB I/PRP am/VBP in/IN the/DT middle/NN of/IN one/CD !/.\n",
            "There/EX ought/MD to/TO be/VB a/DT book/NN written/VBN about/IN me/PRP ,/, that/IN there/EX ought/MD !/.\n",
            "And/CC when/WRB I/PRP grow/VBP up/RB ,/, I/PRP 'll/MD write/VB one/CD --/: but/CC I/PRP 'm/VBP grown/JJ up/RB now/RB ,/, '/'' she/PRP added/VBD in/IN a/DT sorrowful/JJ tone/NN ;/: 'at/CC least/JJS there/EX 's/VBZ no/DT room/NN to/TO grow/VB up/RP any/DT more/JJR HERE/NNP ./. '/''\n",
            "'But/CD then/RB ,/, '/'' thought/JJ Alice/NNP ,/, 'shall/'' I/PRP NEVER/NNP get/VBP any/DT older/JJR than/IN I/PRP am/VBP now/RB ?/.\n",
            "That/DT 'll/MD be/VB a/DT comfort/NN ,/, one/CD way/NN --/: never/RB to/TO be/VB an/DT old/JJ woman/NN --/: but/CC then/RB --/: always/RB to/TO have/VB lessons/NNS to/TO learn/VB !/.\n",
            "Oh/UH ,/, I/PRP should/MD n't/RB like/VB THAT/DT !/. '/''\n",
            "'Oh/CD ,/, you/PRP foolish/JJ Alice/NNP !/. '/''\n",
            "she/PRP answered/VBD herself/PRP ./.\n",
            "'How/NNS can/MD you/PRP learn/VB lessons/NNS in/IN here/RB ?/.\n",
            "Why/WRB ,/, there/EX 's/VBZ hardly/RB room/NN for/IN YOU/NNP ,/, and/CC no/DT room/NN at/IN all/DT for/IN any/DT lesson-books/JJ !/. '/''\n",
            "And/CC so/RB she/PRP went/VBD on/IN ,/, taking/VBG first/JJ one/CD side/NN and/CC then/RB the/DT other/JJ ,/, and/CC making/VBG quite/RB a/DT conversation/NN of/IN it/PRP altogether/RB ;/: but/CC after/IN a/DT few/JJ minutes/NNS she/PRP heard/VBD a/DT voice/NN outside/IN ,/, and/CC stopped/VBD to/TO listen/VB ./.\n",
            "'Mary/JJ Ann/NNP !/.\n",
            "Mary/NNP Ann/NNP !/. '/''\n",
            "said/VBD the/DT voice/NN ./.\n",
            "'Fetch/VB me/PRP my/PRP$ gloves/NNS this/DT moment/NN !/. '/''\n",
            "Then/RB came/VBD a/DT little/JJ pattering/NN of/IN feet/NNS on/IN the/DT stairs/NNS ./.\n",
            "Alice/NNP knew/VBD it/PRP was/VBD the/DT Rabbit/NNP coming/VBG to/TO look/VB for/IN her/PRP ,/, and/CC she/PRP trembled/VBD till/NN she/PRP shook/VBD the/DT house/NN ,/, quite/RB forgetting/VBG that/IN she/PRP was/VBD now/RB about/IN a/DT thousand/JJ times/NNS as/RB large/JJ as/IN the/DT Rabbit/NNP ,/, and/CC had/VBD no/DT reason/NN to/TO be/VB afraid/VBN of/IN it/PRP ./.\n",
            "Presently/RB the/DT Rabbit/NN came/VBD up/RB to/TO the/DT door/NN ,/, and/CC tried/VBD to/TO open/VB it/PRP ;/: but/CC ,/, as/IN the/DT door/NN opened/VBD inwards/NNS ,/, and/CC Alice/NNP 's/POS elbow/NN was/VBD pressed/VBN hard/RB against/IN it/PRP ,/, that/IN attempt/NN proved/VBD a/DT failure/NN ./.\n",
            "Alice/NNP heard/VBD it/PRP say/VB to/TO itself/PRP 'Then/VB I'll/NNP go/VB round/NN and/CC get/VB in/IN at/IN the/DT window/NN ./. '/''\n",
            "'THAT/IN you/PRP wo/MD n't/RB '/VB thought/JJ Alice/NNP ,/, and/CC ,/, after/IN waiting/VBG till/NN she/PRP fancied/VBD she/PRP heard/VBD the/DT Rabbit/NNP just/RB under/IN the/DT window/NN ,/, she/PRP suddenly/RB spread/VBD out/RP her/PRP$ hand/NN ,/, and/CC made/VBD a/DT snatch/NN in/IN the/DT air/NN ./.\n",
            "She/PRP did/VBD not/RB get/VB hold/NN of/IN anything/NN ,/, but/CC she/PRP heard/VBD a/DT little/JJ shriek/NN and/CC a/DT fall/NN ,/, and/CC a/DT crash/NN of/IN broken/JJ glass/NN ,/, from/IN which/WDT she/PRP concluded/VBD that/IN it/PRP was/VBD just/RB possible/JJ it/PRP had/VBD fallen/VBN into/IN a/DT cucumber-frame/JJ ,/, or/CC something/NN of/IN the/DT sort/NN ./.\n",
            "Next/JJ came/VBD an/DT angry/JJ voice/NN --/: the/DT Rabbit/NNP 's/POS --/: 'Pat/CD !/.\n",
            "Pat/NN !/.\n",
            "Where/WRB are/VBP you/PRP ?/. '/''\n",
            "And/CC then/RB a/DT voice/NN she/PRP had/VBD never/RB heard/VBN before/IN ,/, 'Sure/NN then/RB I/PRP 'm/VBP here/RB !/.\n",
            "Digging/VBG for/IN apples/NNS ,/, yer/RB honour/NN !/. '/''\n",
            "'Digging/VBG for/IN apples/NNS ,/, indeed/RB !/. '/''\n",
            "said/VBD the/DT Rabbit/NNP angrily/RB ./.\n",
            "'Here/RB !/.\n",
            "Come/NNP and/CC help/VB me/PRP out/IN of/IN THIS/NNP !/. '/''\n",
            "(/( Sounds/NNPS of/IN more/JJR broken/JJ glass/NN ./. )/)\n",
            "'Now/POS tell/VB me/PRP ,/, Pat/NNP ,/, what/WP 's/VBZ that/DT in/IN the/DT window/NN ?/. '/''\n",
            "'Sure/NN ,/, it/PRP 's/VBZ an/DT arm/NN ,/, yer/VB honour/NN !/. '/''\n",
            "(/( He/PRP pronounced/VBD it/PRP 'arrum/NNP ./. '/'' )/)\n",
            "'An/CD arm/NN ,/, you/PRP goose/VBP !/.\n",
            "Who/WP ever/RB saw/VBD one/CD that/WDT size/NN ?/.\n",
            "Why/WRB ,/, it/PRP fills/VBZ the/DT whole/JJ window/NN !/. '/''\n",
            "'Sure/NN ,/, it/PRP does/VBZ ,/, yer/VB honour/NN :/: but/CC it/PRP 's/VBZ an/DT arm/NN for/IN all/DT that/DT ./. '/''\n",
            "'Well/UH ,/, it/PRP 's/VBZ got/VBD no/DT business/NN there/RB ,/, at/IN any/DT rate/NN :/: go/NN and/CC take/VB it/PRP away/RB !/. '/''\n",
            "There/EX was/VBD a/DT long/JJ silence/NN after/IN this/DT ,/, and/CC Alice/NNP could/MD only/RB hear/VB whispers/NNS now/RB and/CC then/RB ;/: such/JJ as/IN ,/, 'Sure/NN ,/, I/PRP do/VBP n't/RB like/VB it/PRP ,/, yer/RB honour/NN ,/, at/IN all/DT ,/, at/IN all/DT !/. '/''\n",
            "'Do/POS as/IN I/PRP tell/VBP you/PRP ,/, you/PRP coward/VBP !/. '/''\n",
            "and/CC at/IN last/JJ she/PRP spread/VBD out/RP her/PRP$ hand/NN again/RB ,/, and/CC made/VBD another/DT snatch/NN in/IN the/DT air/NN ./.\n",
            "This/DT time/NN there/EX were/VBD TWO/NNP little/JJ shrieks/NN ,/, and/CC more/JJR sounds/NNS of/IN broken/JJ glass/NN ./.\n",
            "'What/IN a/DT number/NN of/IN cucumber-frames/NNS there/EX must/MD be/VB !/. '/''\n",
            "thought/JJ Alice/NNP ./.\n",
            "'/POS I/PRP wonder/VBP what/WP they/PRP 'll/MD do/VB next/RB !/.\n",
            "As/IN for/IN pulling/VBG me/PRP out/IN of/IN the/DT window/NN ,/, I/PRP only/RB wish/VBP they/PRP COULD/VBP !/.\n",
            "I'm/NNP sure/NN I/PRP do/VBP n't/RB want/VB to/TO stay/VB in/IN here/RB any/DT longer/RB !/. '/''\n",
            "She/PRP waited/VBD for/IN some/DT time/NN without/IN hearing/VBG anything/NN more/JJR :/: at/IN last/JJ came/VBD a/DT rumbling/NN of/IN little/JJ cartwheels/NNS ,/, and/CC the/DT sound/NN of/IN a/DT good/JJ many/JJ voices/NNS all/DT talking/VBG together/RB :/: she/PRP made/VBD out/RP the/DT words/NNS :/: 'Where/EX 's/VBZ the/DT other/JJ ladder/NN ?/. --/: Why/WRB ,/, I/PRP had/VBD n't/RB to/TO bring/VB but/CC one/CD ;/: Bill/NNP 's/POS got/VBD the/DT other/JJ --/: Bill/IN !/.\n",
            "fetch/NN it/PRP here/RB ,/, lad/JJ !/. --/: Here/RB ,/, put/VBD 'em/PRP up/RP at/IN this/DT corner/NN --/: No/UH ,/, tie/JJ 'em/POS together/RB first/JJ --/: they/PRP do/VBP n't/RB reach/VB half/JJ high/JJ enough/RB yet/RB --/: Oh/UH !/.\n",
            "they'll/NN do/VBP well/RB enough/RB ;/: do/VB n't/RB be/VB particular/JJ --/: Here/RB ,/, Bill/NNP !/.\n",
            "catch/NN hold/NN of/IN this/DT rope/NN --/: Will/MD the/DT roof/NN bear/NN ?/. --/: Mind/IN that/DT loose/JJ slate/NN --/: Oh/UH ,/, it/PRP 's/VBZ coming/VBG down/RP !/.\n",
            "Heads/NNS below/IN !/. '/''\n",
            "(/( a/DT loud/NN crash/NN )/) --/: 'Now/UH ,/, who/WP did/VBD that/IN ?/. --/: It/PRP was/VBD Bill/NNP ,/, I/PRP fancy/VBP --/: Who/WP 's/VBZ to/TO go/VB down/RP the/DT chimney/NN ?/. --/: Nay/NNP ,/, I/PRP sha/VBP n't/RB !/.\n",
            "YOU/RB do/VBP it/PRP !/. --/: That/IN I/PRP wo/MD n't/RB ,/, then/RB !/. --/: Bill/NNP 's/POS to/TO go/VB down/RP --/: Here/RB ,/, Bill/NNP !/.\n",
            "the/DT master/NN says/VBZ you/PRP 're/VBP to/TO go/VB down/RP the/DT chimney/NN !/. '/''\n",
            "'Oh/CD !/.\n",
            "So/RB Bill/NNP 's/POS got/VBD to/TO come/VB down/RP the/DT chimney/NN ,/, has/VBZ he/PRP ?/. '/''\n",
            "said/VBD Alice/NNP to/TO herself/VB ./.\n",
            "'Shy/LS ,/, they/PRP seem/VBP to/TO put/VB everything/NN upon/IN Bill/NNP !/.\n",
            "I/PRP would/MD n't/RB be/VB in/IN Bill/NNP 's/POS place/NN for/IN a/DT good/JJ deal/NN :/: this/DT fireplace/NN is/VBZ narrow/JJ ,/, to/TO be/VB sure/JJ ;/: but/CC I/PRP THINK/VBP I/PRP can/MD kick/VB a/DT little/JJ !/. '/''\n",
            "She/PRP drew/VBD her/PRP foot/NN as/IN far/RB down/IN the/DT chimney/NN as/IN she/PRP could/MD ,/, and/CC waited/VBD till/NN she/PRP heard/VBD a/DT little/JJ animal/NN (/( she/PRP could/MD n't/RB guess/VB of/IN what/WP sort/NN it/PRP was/VBD )/) scratching/NN and/CC scrambling/VBG about/IN in/IN the/DT chimney/NN close/RB above/IN her/PRP$ :/: then/RB ,/, saying/VBG to/TO herself/VB 'This/NNP is/VBZ Bill/NNP ,/, '/'' she/PRP gave/VBD one/CD sharp/JJ kick/NN ,/, and/CC waited/VBD to/TO see/VB what/WP would/MD happen/VB next/RB ./.\n",
            "The/DT first/JJ thing/NN she/PRP heard/VBD was/VBD a/DT general/JJ chorus/NN of/IN 'There/NNP goes/VBZ Bill/NNP !/. '/''\n",
            "then/RB the/DT Rabbit/NNP 's/POS voice/NN along/RB --/: 'Catch/VB him/PRP ,/, you/PRP by/IN the/DT hedge/NN !/. '/''\n",
            "then/RB silence/NN ,/, and/CC then/RB another/DT confusion/NN of/IN voices/NNS --/: 'Hold/VBD up/RP his/PRP$ head/NN --/: Brandy/NNP now/RB --/: Do/VBP n't/RB choke/VB him/PRP --/: How/WRB was/VBD it/PRP ,/, old/JJ fellow/NN ?/.\n",
            "What/WP happened/VBD to/TO you/PRP ?/.\n",
            "Tell/VB us/PRP all/DT about/IN it/PRP !/. '/''\n",
            "Last/JJ came/VBD a/DT little/JJ feeble/JJ ,/, squeaking/JJ voice/NN ,/, (/( 'That/PRP 's/VBZ Bill/NNP ,/, '/'' thought/JJ Alice/NNP ,/, )/) 'Well/UH ,/, I/PRP hardly/RB know/VBP --/: No/DT more/JJR ,/, thank/JJ ye/NN ;/: I/PRP 'm/VBP better/RB now/RB --/: but/CC I'm/NNP a/DT deal/NN too/RB flustered/VBN to/TO tell/VB you/PRP --/: all/DT I/PRP know/VBP is/VBZ ,/, something/NN comes/VBZ at/IN me/PRP like/IN a/DT Jack-in-the-box/NNP ,/, and/CC up/RB I/PRP goes/VBZ like/IN a/DT sky-rocket/NN !/. '/''\n",
            "'So/IN you/PRP did/VBD ,/, old/JJ fellow/NN !/. '/''\n",
            "said/VBD the/DT others/NNS ./.\n",
            "'We/NNS must/MD burn/VB the/DT house/NN down/RP !/. '/''\n",
            "said/VBD the/DT Rabbit/NNP 's/POS voice/NN ;/: and/CC Alice/NNP called/VBD out/RP as/RB loud/JJ as/IN she/PRP could/MD ,/, 'If/VB you/PRP do/VBP ./.\n",
            "I/PRP 'll/MD set/VB Dinah/NNP at/IN you/PRP !/. '/''\n",
            "There/EX was/VBD a/DT dead/JJ silence/NN instantly/RB ,/, and/CC Alice/NNP thought/VBD to/TO herself/VB ,/, '/'' I/PRP wonder/VBP what/WP they/PRP WILL/VBP do/VBP next/RB !/.\n",
            "If/IN they/PRP had/VBD any/DT sense/NN ,/, they/PRP 'd/MD take/VB the/DT roof/NN off/IN ./. '/''\n",
            "After/IN a/DT minute/NN or/CC two/CD ,/, they/PRP began/VBD moving/VBG about/RB again/RB ,/, and/CC Alice/NNP heard/VBD the/DT Rabbit/NNP say/VBP ,/, '/'' A/DT barrowful/NN will/MD do/VB ,/, to/TO begin/VB with/IN ./. '/''\n",
            "'/'' A/DT barrowful/NN of/IN WHAT/NNP ?/. '/''\n",
            "thought/JJ Alice/NNP ;/: but/CC she/PRP had/VBD not/RB long/RB to/TO doubt/VB ,/, for/IN the/DT next/JJ moment/NN a/DT shower/JJR of/IN little/JJ pebbles/NNS came/VBD rattling/VBG in/IN at/IN the/DT window/NN ,/, and/CC some/DT of/IN them/PRP hit/VBD her/PRP in/IN the/DT face/NN ./.\n",
            "'/POS I/PRP 'll/MD put/VB a/DT stop/NN to/TO this/DT ,/, '/'' she/PRP said/VBD to/TO herself/VB ,/, and/CC shouted/VBD out/RP ,/, 'You/'' 'd/MD better/VB not/RB do/VB that/DT again/RB !/. '/''\n",
            "which/WDT produced/VBD another/DT dead/JJ silence/NN ./.\n",
            "Alice/NNP noticed/VBD with/IN some/DT surprise/NN that/IN the/DT pebbles/NNS were/VBD all/DT turning/VBG into/IN little/JJ cakes/NNS as/IN they/PRP lay/VBP on/IN the/DT floor/NN ,/, and/CC a/DT bright/JJ idea/NN came/VBD into/IN her/PRP$ head/NN ./.\n",
            "'If/POS I/PRP eat/VBP one/CD of/IN these/DT cakes/NNS ,/, '/'' she/PRP thought/VBD ,/, 'it/PRP 's/VBZ sure/JJ to/TO make/VB SOME/NNP change/NN in/IN my/PRP$ size/NN ;/: and/CC as/IN it/PRP ca/MD n't/RB possibly/RB make/VB me/PRP larger/JJR ,/, it/PRP must/MD make/VB me/PRP smaller/JJR ,/, I/PRP suppose/VBP ./. '/''\n",
            "So/IN she/PRP swallowed/VBD one/CD of/IN the/DT cakes/NNS ,/, and/CC was/VBD delighted/VBN to/TO find/VB that/IN she/PRP began/VBD shrinking/VBG directly/RB ./.\n",
            "As/RB soon/RB as/IN she/PRP was/VBD small/JJ enough/RB to/TO get/VB through/IN the/DT door/NN ,/, she/PRP ran/VBD out/RB of/IN the/DT house/NN ,/, and/CC found/VBD quite/RB a/DT crowd/NN of/IN little/JJ animals/NNS and/CC birds/NNS waiting/VBG outside/JJ ./.\n",
            "The/DT poor/JJ little/JJ Lizard/NNP ,/, Bill/NNP ,/, was/VBD in/IN the/DT middle/NN ,/, being/VBG held/VBN up/RP by/IN two/CD guinea-pigs/NNS ,/, who/WP were/VBD giving/VBG it/PRP something/NN out/IN of/IN a/DT bottle/NN ./.\n",
            "They/PRP all/DT made/VBD a/DT rush/NN at/IN Alice/NNP the/DT moment/NN she/PRP appeared/VBD ;/: but/CC she/PRP ran/VBD off/RP as/RB hard/RB as/IN she/PRP could/MD ,/, and/CC soon/RB found/VBD herself/PRP safe/JJ in/IN a/DT thick/JJ wood/NN ./.\n",
            "'The/POS first/JJ thing/NN I/PRP 've/VBP got/VBN to/TO do/VB ,/, '/'' said/VBD Alice/NNP to/TO herself/VB ,/, as/IN she/PRP wandered/VBD about/RB in/IN the/DT wood/NN ,/, 'is/'' to/TO grow/VB to/TO my/PRP$ right/JJ size/NN again/RB ;/: and/CC the/DT second/JJ thing/NN is/VBZ to/TO find/VB my/PRP$ way/NN into/IN that/DT lovely/JJ garden/NN ./.\n",
            "I/PRP think/VBP that/DT will/MD be/VB the/DT best/JJS plan/NN ./. '/''\n",
            "It/PRP sounded/VBD an/DT excellent/JJ plan/NN ,/, no/DT doubt/NN ,/, and/CC very/RB neatly/RB and/CC simply/RB arranged/VBD ;/: the/DT only/JJ difficulty/NN was/VBD ,/, that/IN she/PRP had/VBD not/RB the/DT smallest/JJS idea/NN how/WRB to/TO set/VB about/IN it/PRP ;/: and/CC while/IN she/PRP was/VBD peering/VBG about/RB anxiously/RB among/IN the/DT trees/NNS ,/, a/DT little/JJ sharp/JJ bark/NN just/RB over/IN her/PRP$ head/NN made/VBD her/PRP$ look/NN up/RP in/IN a/DT great/JJ hurry/NN ./.\n",
            "An/DT enormous/JJ puppy/NN was/VBD looking/VBG down/RP at/IN her/PRP$ with/IN large/JJ round/NN eyes/NNS ,/, and/CC feebly/RB stretching/VBG out/RP one/CD paw/NN ,/, trying/VBG to/TO touch/VB her/PRP ./.\n",
            "'Poor/POS little/JJ thing/NN !/. '/''\n",
            "said/VBD Alice/NNP ,/, in/IN a/DT coaxing/VBG tone/NN ,/, and/CC she/PRP tried/VBD hard/JJ to/TO whistle/VB to/TO it/PRP ;/: but/CC she/PRP was/VBD terribly/RB frightened/VBN all/PDT the/DT time/NN at/IN the/DT thought/NN that/IN it/PRP might/MD be/VB hungry/JJ ,/, in/IN which/WDT case/NN it/PRP would/MD be/VB very/RB likely/JJ to/TO eat/VB her/PRP$ up/RP in/IN spite/NN of/IN all/DT her/PRP$ coaxing/NN ./.\n",
            "Hardly/RB knowing/VBG what/WP she/PRP did/VBD ,/, she/PRP picked/VBD up/RP a/DT little/JJ bit/NN of/IN stick/NN ,/, and/CC held/VBD it/PRP out/RP to/TO the/DT puppy/JJ ;/: whereupon/IN the/DT puppy/JJ jumped/VBD into/IN the/DT air/NN off/IN all/DT its/PRP$ feet/NNS at/IN once/RB ,/, with/IN a/DT yelp/NN of/IN delight/NN ,/, and/CC rushed/VBD at/IN the/DT stick/NN ,/, and/CC made/VBD believe/NNS to/TO worry/VB it/PRP ;/: then/RB Alice/NNP dodged/VBD behind/IN a/DT great/JJ thistle/NN ,/, to/TO keep/VB herself/PRP from/IN being/VBG run/VBN over/IN ;/: and/CC the/DT moment/NN she/PRP appeared/VBD on/IN the/DT other/JJ side/NN ,/, the/DT puppy/JJ made/VBD another/DT rush/NN at/IN the/DT stick/NN ,/, and/CC tumbled/VBD head/NN over/IN heels/NNS in/IN its/PRP$ hurry/NN to/TO get/VB hold/NN of/IN it/PRP ;/: then/RB Alice/NNP ,/, thinking/VBG it/PRP was/VBD very/RB like/JJ having/VBG a/DT game/NN of/IN play/NN with/IN a/DT cart-horse/NN ,/, and/CC expecting/VBG every/DT moment/NN to/TO be/VB trampled/VBN under/IN its/PRP$ feet/NNS ,/, ran/VBD round/IN the/DT thistle/NN again/RB ;/: then/RB the/DT puppy/JJ began/VBD a/DT series/NN of/IN short/JJ charges/NNS at/IN the/DT stick/NN ,/, running/VBG a/DT very/RB little/JJ way/NN forwards/NNS each/DT time/NN and/CC a/DT long/JJ way/NN back/RB ,/, and/CC barking/VBG hoarsely/RB all/PDT the/DT while/NN ,/, till/NN at/IN last/JJ it/PRP sat/VBD down/RP a/DT good/JJ way/NN off/IN ,/, panting/VBG ,/, with/IN its/PRP$ tongue/NN hanging/VBG out/IN of/IN its/PRP$ mouth/NN ,/, and/CC its/PRP$ great/JJ eyes/NNS half/NN shut/NN ./.\n",
            "This/DT seemed/VBD to/TO Alice/VB a/DT good/JJ opportunity/NN for/IN making/VBG her/PRP$ escape/NN ;/: so/CC she/PRP set/VBD off/RP at/IN once/RB ,/, and/CC ran/VBD till/NN she/PRP was/VBD quite/RB tired/JJ and/CC out/IN of/IN breath/NN ,/, and/CC till/VB the/DT puppy/NN 's/POS bark/NN sounded/VBD quite/RB faint/NN in/IN the/DT distance/NN ./.\n",
            "'And/POS yet/RB what/WP a/DT dear/JJ little/JJ puppy/JJ it/PRP was/VBD !/. '/''\n",
            "said/VBD Alice/NNP ,/, as/IN she/PRP leant/VBZ against/IN a/DT buttercup/NN to/TO rest/VB herself/PRP ,/, and/CC fanned/VBD herself/PRP with/IN one/CD of/IN the/DT leaves/NNS :/: '/POS I/PRP should/MD have/VB liked/VBN teaching/VBG it/PRP tricks/VBZ very/RB much/JJ ,/, if/IN --/: if/IN I'd/NNP only/RB been/VBN the/DT right/JJ size/NN to/TO do/VB it/PRP !/.\n",
            "Oh/UH dear/NN !/.\n",
            "I/PRP 'd/MD nearly/RB forgotten/VB that/IN I/PRP 've/VBP got/VBN to/TO grow/VB up/RP again/RB !/.\n",
            "Let/VB me/PRP see/VB --/: how/WRB IS/VBZ it/PRP to/TO be/VB managed/VBN ?/.\n",
            "I/PRP suppose/VBP I/PRP ought/MD to/TO eat/VB or/CC drink/VB something/NN or/CC other/JJ ;/: but/CC the/DT great/JJ question/NN is/VBZ ,/, what/WP ?/. '/''\n",
            "The/DT great/JJ question/NN certainly/RB was/VBD ,/, what/WP ?/.\n",
            "Alice/NNP looked/VBD all/DT round/NN her/PRP at/IN the/DT flowers/NNS and/CC the/DT blades/NNS of/IN grass/NN ,/, but/CC she/PRP did/VBD not/RB see/VB anything/NN that/IN looked/VBD like/IN the/DT right/JJ thing/NN to/TO eat/VB or/CC drink/VB under/IN the/DT circumstances/NNS ./.\n",
            "There/EX was/VBD a/DT large/JJ mushroom/NN growing/VBG near/IN her/PRP ,/, about/IN the/DT same/JJ height/NN as/IN herself/NN ;/: and/CC when/WRB she/PRP had/VBD looked/VBN under/IN it/PRP ,/, and/CC on/IN both/DT sides/NNS of/IN it/PRP ,/, and/CC behind/IN it/PRP ,/, it/PRP occurred/VBD to/TO her/PRP$ that/IN she/PRP might/MD as/RB well/RB look/NN and/CC see/VB what/WP was/VBD on/IN the/DT top/NN of/IN it/PRP ./.\n",
            "She/PRP stretched/VBD herself/PRP up/RP on/IN tiptoe/NN ,/, and/CC peeped/VBD over/IN the/DT edge/NN of/IN the/DT mushroom/NN ,/, and/CC her/PRP$ eyes/NNS immediately/RB met/VBD those/DT of/IN a/DT large/JJ caterpillar/NN ,/, that/WDT was/VBD sitting/VBG on/IN the/DT top/JJ with/IN its/PRP$ arms/NNS folded/VBN ,/, quietly/RB smoking/VBG a/DT long/JJ hookah/NN ,/, and/CC taking/VBG not/RB the/DT smallest/JJS notice/NN of/IN her/PRP$ or/CC of/IN anything/NN else/RB ./.\n",
            "CHAPTER/NN V./NNP Advice/NNP from/IN a/DT Caterpillar/NNP The/DT Caterpillar/NNP and/CC Alice/NNP looked/VBD at/IN each/DT other/JJ for/IN some/DT time/NN in/IN silence/NN :/: at/IN last/JJ the/DT Caterpillar/NNP took/VBD the/DT hookah/NN out/IN of/IN its/PRP$ mouth/NN ,/, and/CC addressed/VBD her/PRP$ in/IN a/DT languid/NN ,/, sleepy/JJ voice/NN ./.\n",
            "'Who/NNS are/VBP YOU/NNP ?/. '/''\n",
            "said/VBD the/DT Caterpillar/NNP ./.\n",
            "This/DT was/VBD not/RB an/DT encouraging/JJ opening/NN for/IN a/DT conversation/NN ./.\n",
            "Alice/NNP replied/VBD ,/, rather/RB shyly/NN ,/, '/'' I/PRP --/: I/PRP hardly/RB know/VBP ,/, sir/JJ ,/, just/RB at/IN present/JJ --/: at/IN least/JJS I/PRP know/VBP who/WP I/PRP WAS/VBP when/WRB I/PRP got/VBD up/RP this/DT morning/NN ,/, but/CC I/PRP think/VBP I/PRP must/MD have/VB been/VBN changed/VBN several/JJ times/NNS since/IN then/RB ./. '/''\n",
            "'What/WDT do/VBP you/PRP mean/VB by/IN that/DT ?/. '/''\n",
            "said/VBD the/DT Caterpillar/NNP sternly/RB ./.\n",
            "'Explain/VB yourself/PRP !/. '/''\n",
            "'/POS I/PRP ca/MD n't/RB explain/VB MYSELF/NNP ,/, I/PRP 'm/VBP afraid/JJ ,/, sir/NN '/'' said/VBD Alice/NNP ,/, 'because/IN I/PRP 'm/VBP not/RB myself/PRP ,/, you/PRP see/VBP ./. '/''\n",
            "'/POS I/PRP do/VBP n't/RB see/VB ,/, '/'' said/VBD the/DT Caterpillar/NNP ./.\n",
            "'/POS I/PRP 'm/VBP afraid/JJ I/PRP ca/MD n't/RB put/VB it/PRP more/RBR clearly/RB ,/, '/'' Alice/NNP replied/VBD very/RB politely/RB ,/, 'for/'' I/PRP ca/MD n't/RB understand/VB it/PRP myself/PRP to/TO begin/VB with/IN ;/: and/CC being/VBG so/RB many/JJ different/JJ sizes/NNS in/IN a/DT day/NN is/VBZ very/RB confusing/JJ ./. '/''\n",
            "'It/NN is/VBZ n't/RB ,/, '/'' said/VBD the/DT Caterpillar/NNP ./.\n",
            "'Well/UH ,/, perhaps/RB you/PRP have/VBP n't/RB found/VBN it/PRP so/RB yet/RB ,/, '/'' said/VBD Alice/NNP ;/: 'but/POS when/WRB you/PRP have/VBP to/TO turn/VB into/IN a/DT chrysalis/NN --/: you/PRP will/MD some/DT day/NN ,/, you/PRP know/VBP --/: and/CC then/RB after/IN that/DT into/IN a/DT butterfly/NN ,/, I/PRP should/MD think/VB you/PRP 'll/MD feel/VB it/PRP a/DT little/JJ queer/NN ,/, wo/MD n't/RB you/PRP ?/. '/''\n",
            "'Not/VB a/DT bit/NN ,/, '/'' said/VBD the/DT Caterpillar/NNP ./.\n",
            "'Well/UH ,/, perhaps/RB your/PRP$ feelings/NNS may/MD be/VB different/JJ ,/, '/'' said/VBD Alice/NNP ;/: 'all/CD I/PRP know/VBP is/VBZ ,/, it/PRP would/MD feel/VB very/RB queer/RB to/TO ME/NNP ./. '/''\n",
            "'You/RB !/. '/''\n",
            "said/VBD the/DT Caterpillar/NNP contemptuously/RB ./.\n",
            "'Who/NNS are/VBP YOU/NNP ?/. '/''\n",
            "Which/WDT brought/VBD them/PRP back/RB again/RB to/TO the/DT beginning/NN of/IN the/DT conversation/NN ./.\n",
            "Alice/NNP felt/VBD a/DT little/JJ irritated/JJ at/IN the/DT Caterpillar/NNP 's/POS making/VBG such/JJ VERY/NNP short/JJ remarks/NNS ,/, and/CC she/PRP drew/VBD herself/PRP up/RP and/CC said/VBD ,/, very/RB gravely/RB ,/, '/'' I/PRP think/VBP ,/, you/PRP ought/MD to/TO tell/VB me/PRP who/WP YOU/PRP are/VBP ,/, first/RB ./. '/''\n",
            "'Why/RB ?/. '/''\n",
            "said/VBD the/DT Caterpillar/NNP ./.\n",
            "Here/RB was/VBD another/DT puzzling/JJ question/NN ;/: and/CC as/IN Alice/NNP could/MD not/RB think/VB of/IN any/DT good/JJ reason/NN ,/, and/CC as/IN the/DT Caterpillar/NNP seemed/VBD to/TO be/VB in/IN a/DT VERY/NNP unpleasant/JJ state/NN of/IN mind/NN ,/, she/PRP turned/VBD away/RB ./.\n",
            "'Come/POS back/RB !/. '/''\n",
            "the/DT Caterpillar/NNP called/VBD after/IN her/PRP ./.\n",
            "'/POS I/PRP 've/VBP something/NN important/JJ to/TO say/VB !/. '/''\n",
            "This/DT sounded/VBD promising/NN ,/, certainly/RB :/: Alice/NNP turned/VBD and/CC came/VBD back/RB again/RB ./.\n",
            "'Keep/VB your/PRP$ temper/NN ,/, '/'' said/VBD the/DT Caterpillar/NNP ./.\n",
            "'Is/NNS that/IN all/DT ?/. '/''\n",
            "said/VBD Alice/NNP ,/, swallowing/VBG down/RP her/PRP$ anger/NN as/RB well/RB as/IN she/PRP could/MD ./.\n",
            "'No/CD ,/, '/'' said/VBD the/DT Caterpillar/NNP ./.\n",
            "Alice/NNP thought/VBD she/PRP might/MD as/RB well/RB wait/RB ,/, as/IN she/PRP had/VBD nothing/NN else/RB to/TO do/VB ,/, and/CC perhaps/RB after/IN all/DT it/PRP might/MD tell/VB her/PRP$ something/NN worth/JJ hearing/NN ./.\n",
            "For/IN some/DT minutes/NNS it/PRP puffed/VBD away/RB without/IN speaking/NN ,/, but/CC at/IN last/JJ it/PRP unfolded/VBD its/PRP$ arms/NNS ,/, took/VBD the/DT hookah/NN out/IN of/IN its/PRP$ mouth/NN again/RB ,/, and/CC said/VBD ,/, 'So/'' you/PRP think/VBP you/PRP 're/VBP changed/VBN ,/, do/VB you/PRP ?/. '/''\n",
            "'/POS I/PRP 'm/VBP afraid/JJ I/PRP am/VBP ,/, sir/NN ,/, '/'' said/VBD Alice/NNP ;/: '/POS I/PRP ca/MD n't/RB remember/VB things/NNS as/IN I/PRP used/VBD --/: and/CC I/PRP do/VBP n't/RB keep/VB the/DT same/JJ size/NN for/IN ten/NN minutes/NNS together/RB !/. '/''\n",
            "'Ca/CD n't/RB remember/VB WHAT/NNP things/NNS ?/. '/''\n",
            "said/VBD the/DT Caterpillar/NNP ./.\n",
            "'Well/UH ,/, I/PRP 've/VBP tried/VBN to/TO say/VB ``/`` HOW/NNP DOTH/NNP THE/NNP LITTLE/NNP BUSY/NNP BEE/NNP ,/, ''/'' but/CC it/PRP all/DT came/VBD different/JJ !/. '/''\n",
            "Alice/NNP replied/VBD in/IN a/DT very/RB melancholy/JJ voice/NN ./.\n",
            "'Repeat/NN ,/, ``/`` YOU/NN ARE/VBP OLD/NNP ,/, FATHER/NNP WILLIAM/NNP ,/, ''/'' '/'' said/VBD the/DT Caterpillar/NNP ./.\n",
            "Alice/NNP folded/VBD her/PRP$ hands/NNS ,/, and/CC began/VBD :/: --/: 'You/NNS are/VBP old/JJ ,/, Father/NNP William/NNP ,/, '/'' the/DT young/JJ man/NN said/VBD ,/, 'And/'' your/PRP$ hair/NN has/VBZ become/VBN very/RB white/JJ ;/: And/CC yet/RB you/PRP incessantly/RB stand/VBP on/IN your/PRP$ head/NN --/: Do/VBP you/PRP think/VB ,/, at/IN your/PRP$ age/NN ,/, it/PRP is/VBZ right/JJ ?/. '/''\n",
            "'In/POS my/PRP$ youth/NN ,/, '/'' Father/NNP William/NNP replied/VBD to/TO his/PRP$ son/NN ,/, '/'' I/PRP feared/VBD it/PRP might/MD injure/VB the/DT brain/NN ;/: But/CC ,/, now/RB that/IN I/PRP 'm/VBP perfectly/RB sure/JJ I/PRP have/VBP none/NN ,/, Why/WRB ,/, I/PRP do/VBP it/PRP again/RB and/CC again/RB ./. '/''\n",
            "'You/NNS are/VBP old/JJ ,/, '/'' said/VBD the/DT youth/NN ,/, 'as/'' I/PRP mentioned/VBD before/IN ,/, And/CC have/VBP grown/VBN most/JJS uncommonly/JJ fat/NN ;/: Yet/CC you/PRP turned/VBD a/DT back-somersault/NN in/IN at/IN the/DT door/NN --/: Pray/NNP ,/, what/WP is/VBZ the/DT reason/NN of/IN that/DT ?/. '/''\n",
            "'In/POS my/PRP$ youth/NN ,/, '/'' said/VBD the/DT sage/NN ,/, as/IN he/PRP shook/VBD his/PRP$ grey/NN locks/NNS ,/, '/'' I/PRP kept/VBD all/DT my/PRP$ limbs/NNS very/RB supple/JJ By/IN the/DT use/NN of/IN this/DT ointment/NN --/: one/CD shilling/VBG the/DT box/NN --/: Allow/VB me/PRP to/TO sell/VB you/PRP a/DT couple/NN ?/. '/''\n",
            "'You/NNS are/VBP old/JJ ,/, '/'' said/VBD the/DT youth/NN ,/, 'and/VB your/PRP$ jaws/NNS are/VBP too/RB weak/JJ For/IN anything/NN tougher/JJR than/IN suet/NN ;/: Yet/CC you/PRP finished/VBD the/DT goose/NN ,/, with/IN the/DT bones/NNS and/CC the/DT beak/NN --/: Pray/NNP how/WRB did/VBD you/PRP manage/VB to/TO do/VB it/PRP ?/. '/''\n",
            "'In/POS my/PRP$ youth/NN ,/, '/'' said/VBD his/PRP$ father/NN ,/, '/'' I/PRP took/VBD to/TO the/DT law/NN ,/, And/CC argued/VBD each/DT case/NN with/IN my/PRP$ wife/NN ;/: And/CC the/DT muscular/JJ strength/NN ,/, which/WDT it/PRP gave/VBD to/TO my/PRP$ jaw/NN ,/, Has/NNP lasted/VBN the/DT rest/NN of/IN my/PRP$ life/NN ./. '/''\n",
            "'You/NNS are/VBP old/JJ ,/, '/'' said/VBD the/DT youth/NN ,/, 'one/CD would/MD hardly/RB suppose/VB That/IN your/PRP$ eye/NN was/VBD as/RB steady/JJ as/IN ever/RB ;/: Yet/CC you/PRP balanced/VBD an/DT eel/NN on/IN the/DT end/NN of/IN your/PRP$ nose/NN --/: What/WP made/VBD you/PRP so/RB awfully/RB clever/VB ?/. '/''\n",
            "'/POS I/PRP have/VBP answered/VBN three/CD questions/NNS ,/, and/CC that/DT is/VBZ enough/JJ ,/, '/'' Said/NNP his/PRP$ father/NN ;/: 'do/CC n't/RB give/VB yourself/PRP airs/RB !/.\n",
            "Do/VBP you/PRP think/VB I/PRP can/MD listen/VB all/DT day/NN to/TO such/JJ stuff/NN ?/.\n",
            "Be/VB off/RP ,/, or/CC I/PRP 'll/MD kick/VB you/PRP down/RP stairs/RB !/. '/''\n",
            "'That/DT is/VBZ not/RB said/VBD right/JJ ,/, '/'' said/VBD the/DT Caterpillar/NNP ./.\n",
            "'Not/CD QUITE/NNP right/NN ,/, I/PRP 'm/VBP afraid/JJ ,/, '/'' said/VBD Alice/NNP ,/, timidly/RB ;/: 'some/CD of/IN the/DT words/NNS have/VBP got/VBN altered/VBN ./. '/''\n",
            "'It/NN is/VBZ wrong/JJ from/IN beginning/VBG to/TO end/VB ,/, '/'' said/VBD the/DT Caterpillar/NNP decidedly/RB ,/, and/CC there/RB was/VBD silence/NN for/IN some/DT minutes/NNS ./.\n",
            "The/DT Caterpillar/NNP was/VBD the/DT first/JJ to/TO speak/VB ./.\n",
            "'What/DT size/NN do/VBP you/PRP want/VB to/TO be/VB ?/. '/''\n",
            "it/PRP asked/VBD ./.\n",
            "'Oh/CD ,/, I/PRP 'm/VBP not/RB particular/JJ as/IN to/TO size/NN ,/, '/'' Alice/NNP hastily/RB replied/VBD ;/: 'only/RB one/NN does/VBZ n't/RB like/VB changing/VBG so/RB often/RB ,/, you/PRP know/VBP ./. '/''\n",
            "'/POS I/PRP DO/VBP N'T/RB know/VB ,/, '/'' said/VBD the/DT Caterpillar/NNP ./.\n",
            "Alice/NNP said/VBD nothing/NN :/: she/PRP had/VBD never/RB been/VBN so/RB much/JJ contradicted/VBN in/IN her/PRP$ life/NN before/IN ,/, and/CC she/PRP felt/VBD that/IN she/PRP was/VBD losing/VBG her/PRP$ temper/NN ./.\n",
            "'Are/IN you/PRP content/VBP now/RB ?/. '/''\n",
            "said/VBD the/DT Caterpillar/NNP ./.\n",
            "'Well/UH ,/, I/PRP should/MD like/VB to/TO be/VB a/DT LITTLE/NNP larger/JJR ,/, sir/NN ,/, if/IN you/PRP would/MD n't/RB mind/VB ,/, '/'' said/VBD Alice/NNP :/: 'three/CD inches/NNS is/VBZ such/JJ a/DT wretched/JJ height/NN to/TO be/VB ./. '/''\n",
            "'It/NN is/VBZ a/DT very/RB good/JJ height/NN indeed/RB !/. '/''\n",
            "said/VBD the/DT Caterpillar/NNP angrily/RB ,/, rearing/VBG itself/PRP upright/JJ as/IN it/PRP spoke/VBD (/( it/PRP was/VBD exactly/RB three/CD inches/NNS high/JJ )/) ./.\n",
            "'But/POS I/PRP 'm/VBP not/RB used/VBN to/TO it/PRP !/. '/''\n",
            "pleaded/VBN poor/JJ Alice/NNP in/IN a/DT piteous/JJ tone/NN ./.\n",
            "And/CC she/PRP thought/VBD of/IN herself/PRP ,/, '/'' I/PRP wish/VBP the/DT creatures/NNS would/MD n't/RB be/VB so/RB easily/RB offended/JJ !/. '/''\n",
            "'You/POS 'll/MD get/VB used/VBN to/TO it/PRP in/IN time/NN ,/, '/'' said/VBD the/DT Caterpillar/NNP ;/: and/CC it/PRP put/VBD the/DT hookah/NN into/IN its/PRP$ mouth/NN and/CC began/VBD smoking/VBG again/RB ./.\n",
            "This/DT time/NN Alice/NNP waited/VBD patiently/RB until/IN it/PRP chose/VBD to/TO speak/VB again/RB ./.\n",
            "In/IN a/DT minute/NN or/CC two/CD the/DT Caterpillar/NNP took/VBD the/DT hookah/NN out/IN of/IN its/PRP$ mouth/NN and/CC yawned/VBN once/RB or/CC twice/RB ,/, and/CC shook/VBD itself/PRP ./.\n",
            "Then/RB it/PRP got/VBD down/RB off/IN the/DT mushroom/NN ,/, and/CC crawled/VBD away/RB in/IN the/DT grass/NN ,/, merely/RB remarking/VBG as/IN it/PRP went/VBD ,/, 'One/'' side/NN will/MD make/VB you/PRP grow/VB taller/NN ,/, and/CC the/DT other/JJ side/NN will/MD make/VB you/PRP grow/VB shorter/JJR ./. '/''\n",
            "'One/JJ side/NN of/IN WHAT/WP ?/.\n",
            "The/DT other/JJ side/NN of/IN WHAT/NNP ?/. '/''\n",
            "thought/VBN Alice/NNP to/TO herself/VB ./.\n",
            "'Of/'' the/DT mushroom/NN ,/, '/'' said/VBD the/DT Caterpillar/NNP ,/, just/RB as/IN if/IN she/PRP had/VBD asked/VBN it/PRP aloud/RB ;/: and/CC in/IN another/DT moment/NN it/PRP was/VBD out/IN of/IN sight/NN ./.\n",
            "Alice/NNP remained/VBD looking/VBG thoughtfully/RB at/IN the/DT mushroom/NN for/IN a/DT minute/NN ,/, trying/VBG to/TO make/VB out/RP which/WDT were/VBD the/DT two/CD sides/NNS of/IN it/PRP ;/: and/CC as/IN it/PRP was/VBD perfectly/RB round/VBN ,/, she/PRP found/VBD this/DT a/DT very/RB difficult/JJ question/NN ./.\n",
            "However/RB ,/, at/IN last/JJ she/PRP stretched/VBD her/PRP arms/NNS round/VBP it/PRP as/RB far/RB as/IN they/PRP would/MD go/VB ,/, and/CC broke/VBD off/RP a/DT bit/NN of/IN the/DT edge/NN with/IN each/DT hand/NN ./.\n",
            "'And/NNS now/RB which/WDT is/VBZ which/WDT ?/. '/''\n",
            "she/PRP said/VBD to/TO herself/VB ,/, and/CC nibbled/VBD a/DT little/JJ of/IN the/DT right-hand/JJ bit/NN to/TO try/VB the/DT effect/NN :/: the/DT next/JJ moment/NN she/PRP felt/VBD a/DT violent/JJ blow/NN underneath/IN her/PRP$ chin/NN :/: it/PRP had/VBD struck/VBN her/PRP$ foot/NN !/.\n",
            "She/PRP was/VBD a/DT good/JJ deal/NN frightened/VBN by/IN this/DT very/RB sudden/JJ change/NN ,/, but/CC she/PRP felt/VBD that/IN there/EX was/VBD no/DT time/NN to/TO be/VB lost/VBN ,/, as/IN she/PRP was/VBD shrinking/VBG rapidly/RB ;/: so/RB she/PRP set/VBD to/TO work/VB at/IN once/RB to/TO eat/VB some/DT of/IN the/DT other/JJ bit/NN ./.\n",
            "Her/PRP$ chin/NN was/VBD pressed/VBN so/RB closely/RB against/IN her/PRP$ foot/NN ,/, that/IN there/EX was/VBD hardly/RB room/NN to/TO open/VB her/PRP$ mouth/NN ;/: but/CC she/PRP did/VBD it/PRP at/IN last/JJ ,/, and/CC managed/VBD to/TO swallow/VB a/DT morsel/NN of/IN the/DT lefthand/NN bit/NN ./.\n",
            "*/JJ */NNP */NNP */NNP */NNP */NNP */NNP */NNP */NNP */NNP */NNP */NNP */NNP */NNP */NNP */NNP */NNP */NNP */NNP */NNP 'Come/NNP ,/, my/PRP$ head/NN 's/POS free/JJ at/IN last/JJ !/. '/''\n",
            "said/VBD Alice/NNP in/IN a/DT tone/NN of/IN delight/NN ,/, which/WDT changed/VBD into/IN alarm/NN in/IN another/DT moment/NN ,/, when/WRB she/PRP found/VBD that/IN her/PRP$ shoulders/NNS were/VBD nowhere/RB to/TO be/VB found/VBN :/: all/DT she/PRP could/MD see/VB ,/, when/WRB she/PRP looked/VBD down/RB ,/, was/VBD an/DT immense/JJ length/NN of/IN neck/NN ,/, which/WDT seemed/VBD to/TO rise/VB like/IN a/DT stalk/NN out/IN of/IN a/DT sea/NN of/IN green/JJ leaves/NNS that/WDT lay/VBD far/RB below/IN her/PRP ./.\n",
            "'What/WDT CAN/NNP all/PDT that/DT green/JJ stuff/NN be/VB ?/. '/''\n",
            "said/VBD Alice/NNP ./.\n",
            "'And/CD where/WRB HAVE/NNP my/PRP$ shoulders/NNS got/VBD to/TO ?/.\n",
            "And/CC oh/UH ,/, my/PRP$ poor/JJ hands/NNS ,/, how/WRB is/VBZ it/PRP I/PRP ca/MD n't/RB see/VB you/PRP ?/. '/''\n",
            "She/PRP was/VBD moving/VBG them/PRP about/IN as/IN she/PRP spoke/VBD ,/, but/CC no/DT result/NN seemed/VBD to/TO follow/VB ,/, except/IN a/DT little/JJ shaking/NN among/IN the/DT distant/JJ green/JJ leaves/NNS ./.\n",
            "As/IN there/RB seemed/VBN to/TO be/VB no/DT chance/NN of/IN getting/VBG her/PRP$ hands/NNS up/RB to/TO her/PRP$ head/NN ,/, she/PRP tried/VBD to/TO get/VB her/PRP$ head/NN down/IN to/TO them/PRP ,/, and/CC was/VBD delighted/VBN to/TO find/VB that/IN her/PRP$ neck/NN would/MD bend/VB about/IN easily/RB in/IN any/DT direction/NN ,/, like/IN a/DT serpent/NN ./.\n",
            "She/PRP had/VBD just/RB succeeded/VBN in/IN curving/VBG it/PRP down/RP into/IN a/DT graceful/JJ zigzag/NN ,/, and/CC was/VBD going/VBG to/TO dive/VB in/IN among/IN the/DT leaves/NNS ,/, which/WDT she/PRP found/VBD to/TO be/VB nothing/NN but/CC the/DT tops/NNS of/IN the/DT trees/NNS under/IN which/WDT she/PRP had/VBD been/VBN wandering/VBG ,/, when/WRB a/DT sharp/JJ hiss/NN made/VBD her/PRP$ draw/JJ back/RB in/IN a/DT hurry/NN :/: a/DT large/JJ pigeon/NN had/VBD flown/VBN into/IN her/PRP$ face/NN ,/, and/CC was/VBD beating/VBG her/PRP$ violently/RB with/IN its/PRP$ wings/NNS ./.\n",
            "'Serpent/NN !/. '/''\n",
            "screamed/VBD the/DT Pigeon/NNP ./.\n",
            "'/POS I/PRP 'm/VBP NOT/PDT a/DT serpent/NN !/. '/''\n",
            "said/VBD Alice/NNP indignantly/RB ./.\n",
            "'Let/VB me/PRP alone/RB !/. '/''\n",
            "'Serpent/NN ,/, I/PRP say/VBP again/RB !/. '/''\n",
            "repeated/VBN the/DT Pigeon/NNP ,/, but/CC in/IN a/DT more/RBR subdued/JJ tone/NN ,/, and/CC added/VBD with/IN a/DT kind/NN of/IN sob/NN ,/, '/'' I/PRP 've/VBP tried/VBN every/DT way/NN ,/, and/CC nothing/NN seems/VBZ to/TO suit/VB them/PRP !/. '/''\n",
            "'/POS I/PRP have/VBP n't/RB the/DT least/JJS idea/NN what/WP you/PRP 're/VBP talking/VBG about/IN ,/, '/'' said/VBD Alice/NNP ./.\n",
            "'/POS I/PRP 've/VBP tried/VBN the/DT roots/NNS of/IN trees/NNS ,/, and/CC I/PRP 've/VBP tried/VBN banks/NNS ,/, and/CC I/PRP 've/VBP tried/VBN hedges/NNS ,/, '/'' the/DT Pigeon/NNP went/VBD on/IN ,/, without/IN attending/VBG to/TO her/PRP$ ;/: 'but/CC those/DT serpents/NNS !/.\n",
            "There/EX 's/VBZ no/DT pleasing/VBG them/PRP !/. '/''\n",
            "Alice/NNP was/VBD more/JJR and/CC more/RBR puzzled/JJ ,/, but/CC she/PRP thought/VBD there/EX was/VBD no/DT use/NN in/IN saying/VBG anything/NN more/JJR till/IN the/DT Pigeon/NNP had/VBD finished/VBN ./.\n",
            "'As/CD if/IN it/PRP was/VBD n't/RB trouble/NN enough/JJ hatching/VBG the/DT eggs/NNS ,/, '/'' said/VBD the/DT Pigeon/NNP ;/: 'but/POS I/PRP must/MD be/VB on/IN the/DT look-out/NN for/IN serpents/NNS night/NN and/CC day/NN !/.\n",
            "Why/WRB ,/, I/PRP have/VBP n't/RB had/VBD a/DT wink/NN of/IN sleep/NN these/DT three/CD weeks/NNS !/. '/''\n",
            "'/POS I/PRP 'm/VBP very/RB sorry/JJ you/PRP 've/VBP been/VBN annoyed/VBN ,/, '/'' said/VBD Alice/NNP ,/, who/WP was/VBD beginning/VBG to/TO see/VB its/PRP$ meaning/NN ./.\n",
            "'And/RB just/RB as/IN I/PRP 'd/MD taken/VBN the/DT highest/JJS tree/NN in/IN the/DT wood/NN ,/, '/'' continued/VBD the/DT Pigeon/NNP ,/, raising/VBG its/PRP$ voice/NN to/TO a/DT shriek/NN ,/, 'and/VB just/RB as/IN I/PRP was/VBD thinking/VBG I/PRP should/MD be/VB free/JJ of/IN them/PRP at/IN last/JJ ,/, they/PRP must/MD needs/VB come/VB wriggling/VBG down/IN from/IN the/DT sky/NN !/.\n",
            "Ugh/NNP ,/, Serpent/NNP !/. '/''\n",
            "'But/POS I/PRP 'm/VBP NOT/PDT a/DT serpent/NN ,/, I/PRP tell/VBP you/PRP !/. '/''\n",
            "said/VBD Alice/NNP ./.\n",
            "'/POS I/PRP 'm/VBP a/DT --/: I/PRP 'm/VBP a/DT --/: '/POS 'Well/NN !/.\n",
            "WHAT/WP are/VBP you/PRP ?/. '/''\n",
            "said/VBD the/DT Pigeon/NNP ./.\n",
            "'/POS I/PRP can/MD see/VB you/PRP 're/VBP trying/VBG to/TO invent/VB something/NN !/. '/''\n",
            "'/POS I/PRP --/: I/PRP 'm/VBP a/DT little/JJ girl/NN ,/, '/'' said/VBD Alice/NNP ,/, rather/RB doubtfully/RB ,/, as/IN she/PRP remembered/VBD the/DT number/NN of/IN changes/NNS she/PRP had/VBD gone/VBN through/IN that/DT day/NN ./.\n",
            "'/'' A/DT likely/JJ story/NN indeed/RB !/. '/''\n",
            "said/VBD the/DT Pigeon/NNP in/IN a/DT tone/NN of/IN the/DT deepest/JJS contempt/NN ./.\n",
            "'/POS I/PRP 've/VBP seen/VBN a/DT good/JJ many/JJ little/JJ girls/NNS in/IN my/PRP$ time/NN ,/, but/CC never/RB ONE/NNP with/IN such/PDT a/DT neck/NN as/IN that/DT !/.\n",
            "No/DT ,/, no/DT !/.\n",
            "You/PRP 're/VBP a/DT serpent/NN ;/: and/CC there/EX 's/VBZ no/DT use/NN denying/VBG it/PRP ./.\n",
            "I/PRP suppose/VBP you/PRP 'll/MD be/VB telling/VBG me/PRP next/JJ that/IN you/PRP never/RB tasted/VBD an/DT egg/NN !/. '/''\n",
            "'/POS I/PRP HAVE/VBP tasted/VBN eggs/NNS ,/, certainly/RB ,/, '/'' said/VBD Alice/NNP ,/, who/WP was/VBD a/DT very/RB truthful/JJ child/NN ;/: 'but/CC little/JJ girls/JJ eat/NN eggs/NNS quite/RB as/RB much/JJ as/IN serpents/NNS do/VBP ,/, you/PRP know/VBP ./. '/''\n",
            "'/POS I/PRP do/VBP n't/RB believe/VB it/PRP ,/, '/'' said/VBD the/DT Pigeon/NNP ;/: 'but/POS if/IN they/PRP do/VBP ,/, why/WRB then/RB they're/VBZ a/DT kind/NN of/IN serpent/NN ,/, that/WDT 's/VBZ all/DT I/PRP can/MD say/VB ./. '/''\n",
            "This/DT was/VBD such/JJ a/DT new/JJ idea/NN to/TO Alice/NNP ,/, that/IN she/PRP was/VBD quite/RB silent/JJ for/IN a/DT minute/NN or/CC two/CD ,/, which/WDT gave/VBD the/DT Pigeon/NNP the/DT opportunity/NN of/IN adding/VBG ,/, 'You're/CD looking/VBG for/IN eggs/NNS ,/, I/PRP know/VBP THAT/DT well/RB enough/RB ;/: and/CC what/WP does/VBZ it/PRP matter/VB to/TO me/PRP whether/IN you/PRP 're/VBP a/DT little/JJ girl/NN or/CC a/DT serpent/NN ?/. '/''\n",
            "'It/JJ matters/NNS a/DT good/JJ deal/NN to/TO ME/NNP ,/, '/'' said/VBD Alice/NNP hastily/RB ;/: 'but/CC I/PRP 'm/VBP not/RB looking/VBG for/IN eggs/NNS ,/, as/IN it/PRP happens/VBZ ;/: and/CC if/IN I/PRP was/VBD ,/, I/PRP should/MD n't/RB want/VB YOURS/NN :/: I/PRP don't/VBP like/IN them/PRP raw/VBP ./. '/''\n",
            "'Well/NN ,/, be/VB off/RB ,/, then/RB !/. '/''\n",
            "said/VBD the/DT Pigeon/NNP in/IN a/DT sulky/NN tone/NN ,/, as/IN it/PRP settled/VBD down/RB again/RB into/IN its/PRP$ nest/JJS ./.\n",
            "Alice/NNP crouched/VBD down/RB among/IN the/DT trees/NNS as/RB well/RB as/IN she/PRP could/MD ,/, for/IN her/PRP$ neck/NN kept/VBD getting/VBG entangled/VBN among/IN the/DT branches/NNS ,/, and/CC every/DT now/RB and/CC then/RB she/PRP had/VBD to/TO stop/VB and/CC untwist/VB it/PRP ./.\n",
            "After/IN a/DT while/NN she/PRP remembered/VBD that/IN she/PRP still/RB held/VBD the/DT pieces/NNS of/IN mushroom/NN in/IN her/PRP$ hands/NNS ,/, and/CC she/PRP set/VBD to/TO work/VB very/RB carefully/RB ,/, nibbling/VBG first/RB at/IN one/CD and/CC then/RB at/IN the/DT other/JJ ,/, and/CC growing/VBG sometimes/RB taller/NN and/CC sometimes/RB shorter/JJR ,/, until/IN she/PRP had/VBD succeeded/VBN in/IN bringing/VBG herself/PRP down/RP to/TO her/PRP$ usual/JJ height/NN ./.\n",
            "It/PRP was/VBD so/RB long/JJ since/IN she/PRP had/VBD been/VBN anything/NN near/IN the/DT right/JJ size/NN ,/, that/IN it/PRP felt/VBD quite/RB strange/JJ at/IN first/JJ ;/: but/CC she/PRP got/VBD used/VBN to/TO it/PRP in/IN a/DT few/JJ minutes/NNS ,/, and/CC began/VBD talking/VBG to/TO herself/VB ,/, as/IN usual/JJ ./.\n",
            "'Come/CD ,/, there/EX 's/VBZ half/JJR my/PRP$ plan/NN done/VBN now/RB !/.\n",
            "How/WRB puzzling/VBG all/PDT these/DT changes/NNS are/VBP !/.\n",
            "I/PRP 'm/VBP never/RB sure/JJ what/WP I/PRP 'm/VBP going/VBG to/TO be/VB ,/, from/IN one/CD minute/NN to/TO another/DT !/.\n",
            "However/RB ,/, I/PRP 've/VBP got/VBN back/RB to/TO my/PRP$ right/JJ size/NN :/: the/DT next/JJ thing/NN is/VBZ ,/, to/TO get/VB into/IN that/DT beautiful/JJ garden/NN --/: how/WRB IS/VBZ that/DT to/TO be/VB done/VBN ,/, I/PRP wonder/VBP ?/. '/''\n",
            "As/IN she/PRP said/VBD this/DT ,/, she/PRP came/VBD suddenly/RB upon/IN an/DT open/JJ place/NN ,/, with/IN a/DT little/JJ house/NN in/IN it/PRP about/IN four/CD feet/NNS high/JJ ./.\n",
            "'Whoever/WDT lives/VBZ there/RB ,/, '/'' thought/JJ Alice/NNP ,/, 'it/'' 'll/MD never/RB do/VB to/TO come/VB upon/IN them/PRP THIS/NNP size/NN :/: why/WRB ,/, I/PRP should/MD frighten/VB them/PRP out/IN of/IN their/PRP$ wits/NNS !/. '/''\n",
            "So/RB she/PRP began/VBD nibbling/VBG at/IN the/DT righthand/NN bit/NN again/RB ,/, and/CC did/VBD not/RB venture/NN to/TO go/VB near/IN the/DT house/NN till/NN she/PRP had/VBD brought/VBN herself/PRP down/RP to/TO nine/CD inches/NNS high/JJ ./.\n",
            "CHAPTER/NN VI/NNP ./.\n",
            "Pig/NNP and/CC Pepper/NNP For/IN a/DT minute/NN or/CC two/CD she/PRP stood/VBD looking/VBG at/IN the/DT house/NN ,/, and/CC wondering/VBG what/WP to/TO do/VB next/RB ,/, when/WRB suddenly/RB a/DT footman/NN in/IN livery/NN came/VBD running/VBG out/RB of/IN the/DT wood/NN --/: (/( she/PRP considered/VBD him/PRP to/TO be/VB a/DT footman/NN because/IN he/PRP was/VBD in/IN livery/NN :/: otherwise/RB ,/, judging/VBG by/IN his/PRP$ face/NN only/RB ,/, she/PRP would/MD have/VB called/VBN him/PRP a/DT fish/NN )/) --/: and/CC rapped/VBD loudly/RB at/IN the/DT door/NN with/IN his/PRP$ knuckles/NNS ./.\n",
            "It/PRP was/VBD opened/VBN by/IN another/DT footman/NN in/IN livery/NN ,/, with/IN a/DT round/NN face/NN ,/, and/CC large/JJ eyes/NNS like/IN a/DT frog/NN ;/: and/CC both/DT footmen/NNS ,/, Alice/NNP noticed/VBD ,/, had/VBD powdered/VBN hair/NN that/WDT curled/VBD all/DT over/IN their/PRP$ heads/NNS ./.\n",
            "She/PRP felt/VBD very/RB curious/JJ to/TO know/VB what/WP it/PRP was/VBD all/DT about/IN ,/, and/CC crept/VBD a/DT little/JJ way/NN out/IN of/IN the/DT wood/NN to/TO listen/VB ./.\n",
            "The/DT Fish-Footman/NNP began/VBD by/IN producing/VBG from/IN under/IN his/PRP$ arm/NN a/DT great/JJ letter/NN ,/, nearly/RB as/RB large/JJ as/IN himself/PRP ,/, and/CC this/DT he/PRP handed/VBD over/RP to/TO the/DT other/JJ ,/, saying/VBG ,/, in/IN a/DT solemn/NN tone/NN ,/, 'For/'' the/DT Duchess/NNP ./.\n",
            "An/DT invitation/NN from/IN the/DT Queen/NNP to/TO play/VB croquet/NN ./. '/''\n",
            "The/DT Frog-Footman/NNP repeated/VBD ,/, in/IN the/DT same/JJ solemn/NN tone/NN ,/, only/RB changing/VBG the/DT order/NN of/IN the/DT words/NNS a/DT little/JJ ,/, 'From/IN the/DT Queen/NNP ./.\n",
            "An/DT invitation/NN for/IN the/DT Duchess/NNP to/TO play/VB croquet/NN ./. '/''\n",
            "Then/RB they/PRP both/DT bowed/VBD low/JJ ,/, and/CC their/PRP$ curls/NNS got/VBD entangled/JJ together/RB ./.\n",
            "Alice/NNP laughed/VBD so/RB much/JJ at/IN this/DT ,/, that/IN she/PRP had/VBD to/TO run/VB back/RB into/IN the/DT wood/NN for/IN fear/NN of/IN their/PRP$ hearing/NN her/PRP$ ;/: and/CC when/WRB she/PRP next/RB peeped/VBD out/RP the/DT Fish-Footman/NNP was/VBD gone/VBN ,/, and/CC the/DT other/JJ was/VBD sitting/VBG on/IN the/DT ground/NN near/IN the/DT door/NN ,/, staring/VBG stupidly/RB up/RB into/IN the/DT sky/NN ./.\n",
            "Alice/NNP went/VBD timidly/RB up/IN to/TO the/DT door/NN ,/, and/CC knocked/VBD ./.\n",
            "'There/EX 's/VBZ no/DT sort/NN of/IN use/NN in/IN knocking/NN ,/, '/'' said/VBD the/DT Footman/NNP ,/, 'and/VBZ that/IN for/IN two/CD reasons/NNS ./.\n",
            "First/RB ,/, because/IN I/PRP 'm/VBP on/IN the/DT same/JJ side/NN of/IN the/DT door/NN as/IN you/PRP are/VBP ;/: secondly/RB ,/, because/IN they/PRP 're/VBP making/VBG such/JJ a/DT noise/NN inside/RB ,/, no/DT one/NN could/MD possibly/RB hear/VB you/PRP ./. '/''\n",
            "And/CC certainly/RB there/EX was/VBD a/DT most/RBS extraordinary/JJ noise/NN going/VBG on/IN within/IN --/: a/DT constant/JJ howling/NN and/CC sneezing/NN ,/, and/CC every/DT now/RB and/CC then/RB a/DT great/JJ crash/NN ,/, as/IN if/IN a/DT dish/NN or/CC kettle/VB had/VBD been/VBN broken/VBN to/TO pieces/NNS ./.\n",
            "'Please/NN ,/, then/RB ,/, '/'' said/VBD Alice/NNP ,/, 'how/NNP am/VBP I/PRP to/TO get/VB in/IN ?/. '/''\n",
            "'There/EX might/MD be/VB some/DT sense/NN in/IN your/PRP$ knocking/NN ,/, '/'' the/DT Footman/NNP went/VBD on/IN without/IN attending/VBG to/TO her/PRP$ ,/, 'if/IN we/PRP had/VBD the/DT door/NN between/IN us/PRP ./.\n",
            "For/IN instance/NN ,/, if/IN you/PRP were/VBD INSIDE/NNP ,/, you/PRP might/MD knock/VB ,/, and/CC I/PRP could/MD let/VB you/PRP out/RP ,/, you/PRP know/VBP ./. '/''\n",
            "He/PRP was/VBD looking/VBG up/RP into/IN the/DT sky/NN all/PDT the/DT time/NN he/PRP was/VBD speaking/VBG ,/, and/CC this/DT Alice/NNP thought/VBD decidedly/RB uncivil/JJ ./.\n",
            "'But/POS perhaps/RB he/PRP ca/MD n't/RB help/VB it/PRP ,/, '/'' she/PRP said/VBD to/TO herself/PRP ;/: 'his/CC eyes/NNS are/VBP so/RB VERY/RB nearly/RB at/IN the/DT top/NN of/IN his/PRP$ head/NN ./.\n",
            "But/CC at/IN any/DT rate/NN he/PRP might/MD answer/VB questions./NN --/: How/NNP am/VBP I/PRP to/TO get/VB in/IN ?/. '/''\n",
            "she/PRP repeated/VBD ,/, aloud/NN ./.\n",
            "'/POS I/PRP shall/MD sit/VB here/RB ,/, '/'' the/DT Footman/NNP remarked/VBD ,/, 'till/FW tomorrow/NN --/: '/POS At/IN this/DT moment/NN the/DT door/NN of/IN the/DT house/NN opened/VBD ,/, and/CC a/DT large/JJ plate/NN came/VBD skimming/VBG out/RP ,/, straight/RB at/IN the/DT Footman/NNP 's/POS head/NN :/: it/PRP just/RB grazed/VBD his/PRP$ nose/NN ,/, and/CC broke/VBD to/TO pieces/NNS against/IN one/CD of/IN the/DT trees/NNS behind/IN him./NN '/''\n",
            "--/: or/CC next/JJ day/NN ,/, maybe/RB ,/, '/'' the/DT Footman/NNP continued/VBD in/IN the/DT same/JJ tone/NN ,/, exactly/RB as/IN if/IN nothing/NN had/VBD happened/VBN ./.\n",
            "'How/CD am/VBP I/PRP to/TO get/VB in/IN ?/. '/''\n",
            "asked/VBN Alice/NNP again/RB ,/, in/IN a/DT louder/NN tone/NN ./.\n",
            "'ARE/NN you/PRP to/TO get/VB in/IN at/IN all/DT ?/. '/''\n",
            "said/VBD the/DT Footman/NNP ./.\n",
            "'That/WDT 's/VBZ the/DT first/JJ question/NN ,/, you/PRP know/VBP ./. '/''\n",
            "It/PRP was/VBD ,/, no/DT doubt/NN :/: only/RB Alice/NNP did/VBD not/RB like/IN to/TO be/VB told/VBN so/RB ./.\n",
            "'It/NN 's/POS really/RB dreadful/JJ ,/, '/'' she/PRP muttered/VBD to/TO herself/VB ,/, 'the/VB way/NN all/PDT the/DT creatures/NNS argue/VBP ./.\n",
            "It/PRP 's/VBZ enough/JJ to/TO drive/VB one/CD crazy/NN !/. '/''\n",
            "The/DT Footman/NNP seemed/VBD to/TO think/VB this/DT a/DT good/JJ opportunity/NN for/IN repeating/VBG his/PRP$ remark/NN ,/, with/IN variations/NNS ./.\n",
            "'/POS I/PRP shall/MD sit/VB here/RB ,/, '/'' he/PRP said/VBD ,/, 'on/'' and/CC off/IN ,/, for/IN days/NNS and/CC days/NNS ./. '/''\n",
            "'But/VB what/WP am/VBP I/PRP to/TO do/VB ?/. '/''\n",
            "said/VBD Alice/NNP ./.\n",
            "'Anything/VBG you/PRP like/IN ,/, '/'' said/VBD the/DT Footman/NNP ,/, and/CC began/VBD whistling/VBG ./.\n",
            "'Oh/CD ,/, there/EX 's/VBZ no/DT use/NN in/IN talking/VBG to/TO him/PRP ,/, '/'' said/VBD Alice/NNP desperately/RB :/: 'he's/CD perfectly/RB idiotic/JJ !/. '/''\n",
            "And/CC she/PRP opened/VBD the/DT door/NN and/CC went/VBD in/IN ./.\n",
            "The/DT door/NN led/VBD right/RB into/IN a/DT large/JJ kitchen/NN ,/, which/WDT was/VBD full/JJ of/IN smoke/NN from/IN one/CD end/NN to/TO the/DT other/JJ :/: the/DT Duchess/NNP was/VBD sitting/VBG on/IN a/DT three-legged/JJ stool/NN in/IN the/DT middle/NN ,/, nursing/VBG a/DT baby/NN ;/: the/DT cook/NN was/VBD leaning/VBG over/IN the/DT fire/NN ,/, stirring/VBG a/DT large/JJ cauldron/NN which/WDT seemed/VBD to/TO be/VB full/JJ of/IN soup/NN ./.\n",
            "'There/EX 's/VBZ certainly/RB too/RB much/JJ pepper/NN in/IN that/DT soup/NN !/. '/''\n",
            "Alice/NNP said/VBD to/TO herself/VB ,/, as/RB well/RB as/IN she/PRP could/MD for/IN sneezing/VBG ./.\n",
            "There/EX was/VBD certainly/RB too/RB much/JJ of/IN it/PRP in/IN the/DT air/NN ./.\n",
            "Even/RB the/DT Duchess/NNP sneezed/VBD occasionally/RB ;/: and/CC as/IN for/IN the/DT baby/NN ,/, it/PRP was/VBD sneezing/VBG and/CC howling/VBG alternately/RB without/IN a/DT moment/NN 's/POS pause/NN ./.\n",
            "The/DT only/JJ things/NNS in/IN the/DT kitchen/NN that/WDT did/VBD not/RB sneeze/VB ,/, were/VBD the/DT cook/NN ,/, and/CC a/DT large/JJ cat/NN which/WDT was/VBD sitting/VBG on/IN the/DT hearth/NN and/CC grinning/VBG from/IN ear/NN to/TO ear/VB ./.\n",
            "'Please/NN would/MD you/PRP tell/VB me/PRP ,/, '/'' said/VBD Alice/NNP ,/, a/DT little/JJ timidly/RB ,/, for/IN she/PRP was/VBD not/RB quite/RB sure/JJ whether/IN it/PRP was/VBD good/JJ manners/NNS for/IN her/PRP$ to/TO speak/VB first/JJ ,/, 'why/VB your/PRP$ cat/NN grins/NNS like/IN that/DT ?/. '/''\n",
            "'It/NN 's/POS a/DT Cheshire/NNP cat/NN ,/, '/'' said/VBD the/DT Duchess/NNP ,/, 'and/VBZ that/DT 's/VBZ why/WRB ./.\n",
            "Pig/NN !/. '/''\n",
            "She/PRP said/VBD the/DT last/JJ word/NN with/IN such/JJ sudden/JJ violence/NN that/WDT Alice/NNP quite/RB jumped/VBD ;/: but/CC she/PRP saw/VBD in/IN another/DT moment/NN that/IN it/PRP was/VBD addressed/VBN to/TO the/DT baby/NN ,/, and/CC not/RB to/TO her/PRP$ ,/, so/IN she/PRP took/VBD courage/NN ,/, and/CC went/VBD on/IN again/RB :/: --/: '/POS I/PRP did/VBD n't/RB know/VB that/DT Cheshire/NNP cats/NNS always/RB grinned/VBD ;/: in/IN fact/NN ,/, I/PRP did/VBD n't/RB know/VB that/DT cats/NNS COULD/NNP grin/NN ./. '/''\n",
            "'They/IN all/DT can/MD ,/, '/'' said/VBD the/DT Duchess/NNP ;/: 'and/CD most/JJS of/IN 'em/NNS do/VBP ./. '/''\n",
            "'/POS I/PRP do/VBP n't/RB know/VB of/IN any/DT that/WDT do/VBP ,/, '/'' Alice/NNP said/VBD very/RB politely/RB ,/, feeling/VBG quite/RB pleased/VBN to/TO have/VB got/VBN into/IN a/DT conversation/NN ./.\n",
            "'You/NNS do/VBP n't/RB know/VB much/RB ,/, '/'' said/VBD the/DT Duchess/NNP ;/: 'and/VBZ that/DT 's/VBZ a/DT fact/NN ./. '/''\n",
            "Alice/NNP did/VBD not/RB at/IN all/DT like/IN the/DT tone/NN of/IN this/DT remark/NN ,/, and/CC thought/VBD it/PRP would/MD be/VB as/RB well/RB to/TO introduce/VB some/DT other/JJ subject/NN of/IN conversation/NN ./.\n",
            "While/IN she/PRP was/VBD trying/VBG to/TO fix/VB on/IN one/CD ,/, the/DT cook/NN took/VBD the/DT cauldron/NN of/IN soup/NN off/IN the/DT fire/NN ,/, and/CC at/IN once/RB set/VBN to/TO work/VB throwing/VBG everything/NN within/IN her/PRP$ reach/NN at/IN the/DT Duchess/NNP and/CC the/DT baby/NN --/: the/DT fire-irons/NNS came/VBD first/RB ;/: then/RB followed/VBD a/DT shower/NN of/IN saucepans/NNS ,/, plates/NNS ,/, and/CC dishes/NNS ./.\n",
            "The/DT Duchess/NNP took/VBD no/DT notice/NN of/IN them/PRP even/RB when/WRB they/PRP hit/VBD her/PRP ;/: and/CC the/DT baby/NN was/VBD howling/VBG so/RB much/JJ already/RB ,/, that/IN it/PRP was/VBD quite/RB impossible/JJ to/TO say/VB whether/IN the/DT blows/NNS hurt/VBP it/PRP or/CC not/RB ./.\n",
            "'Oh/CD ,/, PLEASE/NNP mind/VB what/WP you/PRP 're/VBP doing/VBG !/. '/''\n",
            "cried/JJ Alice/NNP ,/, jumping/VBG up/RP and/CC down/RB in/IN an/DT agony/NN of/IN terror/NN ./.\n",
            "'Oh/CD ,/, there/EX goes/VBZ his/PRP$ PRECIOUS/NNP nose/NN '/'' ;/: as/IN an/DT unusually/RB large/JJ saucepan/NN flew/VBD close/JJ by/IN it/PRP ,/, and/CC very/RB nearly/RB carried/VBD it/PRP off/RP ./.\n",
            "'If/POS everybody/NN minded/VBD their/PRP$ own/JJ business/NN ,/, '/'' the/DT Duchess/NNP said/VBD in/IN a/DT hoarse/NN growl/NN ,/, 'the/'' world/NN would/MD go/VB round/VB a/DT deal/NN faster/RBR than/IN it/PRP does/VBZ ./. '/''\n",
            "'Which/NNS would/MD NOT/RB be/VB an/DT advantage/NN ,/, '/'' said/VBD Alice/NNP ,/, who/WP felt/VBD very/RB glad/JJ to/TO get/VB an/DT opportunity/NN of/IN showing/VBG off/RP a/DT little/JJ of/IN her/PRP$ knowledge/NN ./.\n",
            "'Just/JJ think/NN of/IN what/WP work/NN it/PRP would/MD make/VB with/IN the/DT day/NN and/CC night/NN !/.\n",
            "You/PRP see/VBP the/DT earth/NN takes/VBZ twenty-four/JJ hours/NNS to/TO turn/VB round/RP on/IN its/PRP$ axis/NN --/: '/POS 'Talking/NN of/IN axes/NNS ,/, '/'' said/VBD the/DT Duchess/NNP ,/, 'chop/'' off/RP her/PRP$ head/NN !/. '/''\n",
            "Alice/NNP glanced/VBD rather/RB anxiously/RB at/IN the/DT cook/NN ,/, to/TO see/VB if/IN she/PRP meant/VBD to/TO take/VB the/DT hint/NN ;/: but/CC the/DT cook/NN was/VBD busily/RB stirring/VBG the/DT soup/NN ,/, and/CC seemed/VBD not/RB to/TO be/VB listening/JJ ,/, so/IN she/PRP went/VBD on/IN again/RB :/: 'Twenty-four/JJ hours/NNS ,/, I/PRP THINK/VBP ;/: or/CC is/VBZ it/PRP twelve/VB ?/.\n",
            "I/PRP --/: '/'' 'Oh/NNS ,/, do/VBP n't/RB bother/VB ME/NNP ,/, '/'' said/VBD the/DT Duchess/NNP ;/: '/POS I/PRP never/RB could/MD abide/VB figures/NNS !/. '/''\n",
            "And/CC with/IN that/DT she/PRP began/VBD nursing/VBG her/PRP$ child/NN again/RB ,/, singing/VBG a/DT sort/NN of/IN lullaby/NN to/TO it/PRP as/IN she/PRP did/VBD so/RB ,/, and/CC giving/VBG it/PRP a/DT violent/JJ shake/NN at/IN the/DT end/NN of/IN every/DT line/NN :/: 'Speak/VB roughly/RB to/TO your/PRP$ little/JJ boy/NN ,/, And/CC beat/VBD him/PRP when/WRB he/PRP sneezes/VBZ :/: He/PRP only/RB does/VBZ it/PRP to/TO annoy/VB ,/, Because/IN he/PRP knows/VBZ it/PRP teases/VBZ ./. '/''\n",
            "CHORUS/NNP ./.\n",
            "(/( In/IN which/WDT the/DT cook/NN and/CC the/DT baby/NN joined/VBD )/) :/: --/: 'Wow/UH !/.\n",
            "wow/NN !/.\n",
            "wow/NN !/. '/''\n",
            "While/IN the/DT Duchess/NNP sang/VBD the/DT second/JJ verse/NN of/IN the/DT song/NN ,/, she/PRP kept/VBD tossing/VBG the/DT baby/NN violently/RB up/IN and/CC down/RB ,/, and/CC the/DT poor/JJ little/JJ thing/NN howled/VBD so/RB ,/, that/IN Alice/NNP could/MD hardly/RB hear/VB the/DT words/NNS :/: --/: '/POS I/PRP speak/VBP severely/RB to/TO my/PRP$ boy/NN ,/, I/PRP beat/VBP him/PRP when/WRB he/PRP sneezes/VBZ ;/: For/IN he/PRP can/MD thoroughly/VB enjoy/VB The/DT pepper/NN when/WRB he/PRP pleases/VBZ !/. '/''\n",
            "CHORUS/NNP ./.\n",
            "'Wow/CD !/.\n",
            "wow/NN !/.\n",
            "wow/NN !/. '/''\n",
            "'Here/RB !/.\n",
            "you/PRP may/MD nurse/VB it/PRP a/DT bit/NN ,/, if/IN you/PRP like/VBP !/. '/''\n",
            "the/DT Duchess/NNP said/VBD to/TO Alice/NNP ,/, flinging/VBG the/DT baby/NN at/IN her/PRP as/IN she/PRP spoke/VBD ./.\n",
            "'/POS I/PRP must/MD go/VB and/CC get/VB ready/JJ to/TO play/VB croquet/NN with/IN the/DT Queen/NNP ,/, '/'' and/CC she/PRP hurried/VBD out/IN of/IN the/DT room/NN ./.\n",
            "The/DT cook/NN threw/VBD a/DT frying-pan/JJ after/IN her/PRP$ as/IN she/PRP went/VBD out/RB ,/, but/CC it/PRP just/RB missed/VBD her/PRP ./.\n",
            "Alice/NNP caught/VBD the/DT baby/NN with/IN some/DT difficulty/NN ,/, as/IN it/PRP was/VBD a/DT queer-shaped/JJ little/JJ creature/NN ,/, and/CC held/VBD out/RP its/PRP$ arms/NNS and/CC legs/NNS in/IN all/DT directions/NNS ,/, 'just/VBP like/IN a/DT star-fish/JJ ,/, '/'' thought/JJ Alice/NNP ./.\n",
            "The/DT poor/JJ little/JJ thing/NN was/VBD snorting/VBG like/IN a/DT steam-engine/NN when/WRB she/PRP caught/VBD it/PRP ,/, and/CC kept/VBD doubling/VBG itself/PRP up/IN and/CC straightening/VBG itself/PRP out/RB again/RB ,/, so/IN that/IN altogether/NN ,/, for/IN the/DT first/JJ minute/NN or/CC two/CD ,/, it/PRP was/VBD as/RB much/JJ as/IN she/PRP could/MD do/VB to/TO hold/VB it/PRP ./.\n",
            "As/RB soon/RB as/IN she/PRP had/VBD made/VBN out/RP the/DT proper/JJ way/NN of/IN nursing/VBG it/PRP ,/, (/( which/WDT was/VBD to/TO twist/VB it/PRP up/RP into/IN a/DT sort/NN of/IN knot/NN ,/, and/CC then/RB keep/VB tight/JJ hold/NN of/IN its/PRP$ right/JJ ear/NN and/CC left/JJ foot/NN ,/, so/RB as/IN to/TO prevent/VB its/PRP$ undoing/VBG itself/PRP ,/, )/) she/PRP carried/VBD it/PRP out/RP into/IN the/DT open/JJ air/NN ./.\n",
            "'IF/NN I/PRP do/VBP n't/RB take/VB this/DT child/NN away/RB with/IN me/PRP ,/, '/'' thought/JJ Alice/NNP ,/, 'they/NNP 're/VBP sure/JJ to/TO kill/VB it/PRP in/IN a/DT day/NN or/CC two/CD :/: would/MD n't/RB it/PRP be/VB murder/VBN to/TO leave/VB it/PRP behind/IN ?/. '/''\n",
            "She/PRP said/VBD the/DT last/JJ words/NNS out/RP loud/JJ ,/, and/CC the/DT little/JJ thing/NN grunted/VBN in/IN reply/NN (/( it/PRP had/VBD left/VBN off/RP sneezing/VBG by/IN this/DT time/NN )/) ./.\n",
            "'Do/MD n't/RB grunt/VB ,/, '/'' said/VBD Alice/NNP ;/: 'that/WP 's/VBZ not/RB at/IN all/PDT a/DT proper/JJ way/NN of/IN expressing/VBG yourself/PRP ./. '/''\n",
            "The/DT baby/NN grunted/VBD again/RB ,/, and/CC Alice/NNP looked/VBD very/RB anxiously/RB into/IN its/PRP$ face/NN to/TO see/VB what/WP was/VBD the/DT matter/NN with/IN it/PRP ./.\n",
            "There/EX could/MD be/VB no/DT doubt/NN that/IN it/PRP had/VBD a/DT VERY/NNP turn-up/JJ nose/NN ,/, much/RB more/RBR like/IN a/DT snout/NN than/IN a/DT real/JJ nose/NN ;/: also/RB its/PRP$ eyes/NNS were/VBD getting/VBG extremely/RB small/JJ for/IN a/DT baby/NN :/: altogether/RB Alice/NNP did/VBD not/RB like/IN the/DT look/NN of/IN the/DT thing/NN at/IN all/DT ./.\n",
            "'But/CD perhaps/RB it/PRP was/VBD only/RB sobbing/VBG ,/, '/'' she/PRP thought/VBD ,/, and/CC looked/VBD into/IN its/PRP$ eyes/NNS again/RB ,/, to/TO see/VB if/IN there/EX were/VBD any/DT tears/NNS ./.\n",
            "No/DT ,/, there/EX were/VBD no/DT tears/NNS ./.\n",
            "'If/IN you/PRP 're/VBP going/VBG to/TO turn/VB into/IN a/DT pig/NN ,/, my/PRP$ dear/JJ ,/, '/'' said/VBD Alice/NNP ,/, seriously/RB ,/, '/'' I/PRP 'll/MD have/VB nothing/NN more/JJR to/TO do/VB with/IN you/PRP ./.\n",
            "Mind/NN now/RB !/. '/''\n",
            "The/DT poor/JJ little/JJ thing/NN sobbed/VBD again/RB (/( or/CC grunted/VBN ,/, it/PRP was/VBD impossible/JJ to/TO say/VB which/WDT )/) ,/, and/CC they/PRP went/VBD on/IN for/IN some/DT while/NN in/IN silence/NN ./.\n",
            "Alice/NNP was/VBD just/RB beginning/VBG to/TO think/VB to/TO herself/PRP ,/, 'Now/'' ,/, what/WP am/VBP I/PRP to/TO do/VB with/IN this/DT creature/NN when/WRB I/PRP get/VBP it/PRP home/NN ?/. '/''\n",
            "when/WRB it/PRP grunted/VBD again/RB ,/, so/RB violently/RB ,/, that/IN she/PRP looked/VBD down/RB into/IN its/PRP$ face/NN in/IN some/DT alarm/NN ./.\n",
            "This/DT time/NN there/EX could/MD be/VB NO/NNP mistake/VB about/IN it/PRP :/: it/PRP was/VBD neither/RB more/JJR nor/CC less/JJR than/IN a/DT pig/NN ,/, and/CC she/PRP felt/VBD that/IN it/PRP would/MD be/VB quite/RB absurd/JJ for/IN her/PRP$ to/TO carry/VB it/PRP further/RBR ./.\n",
            "So/RB she/PRP set/VBD the/DT little/JJ creature/NN down/RP ,/, and/CC felt/VBD quite/RB relieved/VBN to/TO see/VB it/PRP trot/VB away/RB quietly/RB into/IN the/DT wood/NN ./.\n",
            "'If/VB it/PRP had/VBD grown/VBN up/RP ,/, '/'' she/PRP said/VBD to/TO herself/VB ,/, 'it/PRP would/MD have/VB made/VBN a/DT dreadfully/RB ugly/JJ child/NN :/: but/CC it/PRP makes/VBZ rather/RB a/DT handsome/JJ pig/NN ,/, I/PRP think/VBP ./. '/''\n",
            "And/CC she/PRP began/VBD thinking/VBG over/IN other/JJ children/NNS she/PRP knew/VBD ,/, who/WP might/MD do/VB very/RB well/RB as/IN pigs/NNS ,/, and/CC was/VBD just/RB saying/VBG to/TO herself/VB ,/, 'if/VB one/CD only/RB knew/VBD the/DT right/JJ way/NN to/TO change/VB them/PRP --/: '/'' when/WRB she/PRP was/VBD a/DT little/JJ startled/VBN by/IN seeing/VBG the/DT Cheshire/NNP Cat/NNP sitting/VBG on/IN a/DT bough/NN of/IN a/DT tree/NN a/DT few/JJ yards/NNS off/RP ./.\n",
            "The/DT Cat/NNP only/RB grinned/VBD when/WRB it/PRP saw/VBD Alice/NNP ./.\n",
            "It/PRP looked/VBD good-natured/JJ ,/, she/PRP thought/VBD :/: still/RB it/PRP had/VBD VERY/NNP long/JJ claws/NN and/CC a/DT great/JJ many/JJ teeth/NNS ,/, so/IN she/PRP felt/VBD that/IN it/PRP ought/MD to/TO be/VB treated/VBN with/IN respect/NN ./.\n",
            "'Cheshire/NN Puss/NNP ,/, '/'' she/PRP began/VBD ,/, rather/RB timidly/RB ,/, as/IN she/PRP did/VBD not/RB at/IN all/DT know/VBP whether/IN it/PRP would/MD like/VB the/DT name/NN :/: however/RB ,/, it/PRP only/RB grinned/VBD a/DT little/JJ wider/NN ./.\n",
            "'Come/CD ,/, it/PRP 's/VBZ pleased/VBN so/RB far/RB ,/, '/'' thought/JJ Alice/NNP ,/, and/CC she/PRP went/VBD on/IN ./.\n",
            "'Would/MD you/PRP tell/VB me/PRP ,/, please/NN ,/, which/WDT way/NN I/PRP ought/MD to/TO go/VB from/IN here/RB ?/. '/''\n",
            "'That/DT depends/VBZ a/DT good/JJ deal/NN on/IN where/WRB you/PRP want/VBP to/TO get/VB to/TO ,/, '/'' said/VBD the/DT Cat/NNP ./.\n",
            "'/POS I/PRP do/VBP n't/RB much/RB care/VB where/WRB --/: '/'' said/VBD Alice/NNP ./.\n",
            "'Then/IN it/PRP does/VBZ n't/RB matter/VB which/WDT way/NN you/PRP go/VBP ,/, '/'' said/VBD the/DT Cat./NNP '/POS\n",
            "--/: so/RB long/RB as/IN I/PRP get/VBP SOMEWHERE/RB ,/, '/'' Alice/NNP added/VBD as/IN an/DT explanation/NN ./.\n",
            "'Oh/CD ,/, you/PRP 're/VBP sure/JJ to/TO do/VB that/DT ,/, '/'' said/VBD the/DT Cat/NNP ,/, 'if/'' you/PRP only/RB walk/VBP long/RB enough/RB ./. '/''\n",
            "Alice/NNP felt/VBD that/IN this/DT could/MD not/RB be/VB denied/VBN ,/, so/IN she/PRP tried/VBD another/DT question/NN ./.\n",
            "'What/DT sort/NN of/IN people/NNS live/VBP about/IN here/RB ?/. '/''\n",
            "'In/NNS THAT/DT direction/NN ,/, '/'' the/DT Cat/NNP said/VBD ,/, waving/VBG its/PRP$ right/NN paw/NN round/NN ,/, 'lives/VBZ a/DT Hatter/NN :/: and/CC in/IN THAT/DT direction/NN ,/, '/'' waving/VBG the/DT other/JJ paw/NN ,/, 'lives/VBZ a/DT March/NNP Hare/NNP ./.\n",
            "Visit/NNP either/CC you/PRP like/VBP :/: they/PRP 're/VBP both/DT mad/JJ ./. '/''\n",
            "'But/NN I/PRP do/VBP n't/RB want/VB to/TO go/VB among/IN mad/JJ people/NNS ,/, '/'' Alice/NNP remarked/VBD ./.\n",
            "'Oh/CD ,/, you/PRP ca/MD n't/RB help/VB that/DT ,/, '/'' said/VBD the/DT Cat/NNP :/: 'we/POS 're/VBP all/DT mad/NN here/RB ./.\n",
            "I/PRP 'm/VBP mad/JJ ./.\n",
            "You/PRP 're/VBP mad/JJ ./. '/''\n",
            "'How/WRB do/VBP you/PRP know/VB I/PRP 'm/VBP mad/JJ ?/. '/''\n",
            "said/VBD Alice/NNP ./.\n",
            "'You/NNS must/MD be/VB ,/, '/'' said/VBD the/DT Cat/NNP ,/, 'or/'' you/PRP would/MD n't/RB have/VB come/VBN here/RB ./. '/''\n",
            "Alice/NNP did/VBD n't/RB think/VB that/DT proved/VBD it/PRP at/IN all/DT ;/: however/RB ,/, she/PRP went/VBD on/IN 'And/NNP how/WRB do/VBP you/PRP know/VB that/IN you/PRP 're/VBP mad/JJ ?/. '/''\n",
            "'To/POS begin/NN with/IN ,/, '/'' said/VBD the/DT Cat/NNP ,/, '/'' a/DT dog/NN 's/POS not/RB mad/JJ ./.\n",
            "You/PRP grant/VBP that/IN ?/. '/''\n",
            "'/POS I/PRP suppose/VBP so/RB ,/, '/'' said/VBD Alice/NNP ./.\n",
            "'Well/RB ,/, then/RB ,/, '/'' the/DT Cat/NNP went/VBD on/IN ,/, 'you/'' see/VBP ,/, a/DT dog/NN growls/NN when/WRB it/PRP 's/VBZ angry/JJ ,/, and/CC wags/VBZ its/PRP$ tail/NN when/WRB it/PRP 's/VBZ pleased/JJ ./.\n",
            "Now/RB I/PRP growl/VBP when/WRB I/PRP 'm/VBP pleased/JJ ,/, and/CC wag/VB my/PRP$ tail/NN when/WRB I/PRP 'm/VBP angry/JJ ./.\n",
            "Therefore/RB I/PRP 'm/VBP mad/JJ ./. '/''\n",
            "'/POS I/PRP call/VBP it/PRP purring/VBG ,/, not/RB growling/VBG ,/, '/'' said/VBD Alice/NNP ./.\n",
            "'Call/VB it/PRP what/WP you/PRP like/VBP ,/, '/'' said/VBD the/DT Cat/NNP ./.\n",
            "'Do/NN you/PRP play/VBP croquet/NNS with/IN the/DT Queen/NNP to-day/JJ ?/. '/''\n",
            "'/POS I/PRP should/MD like/VB it/PRP very/RB much/RB ,/, '/'' said/VBD Alice/NNP ,/, 'but/'' I/PRP have/VBP n't/RB been/VBN invited/VBN yet/RB ./. '/''\n",
            "'You/POS 'll/MD see/VB me/PRP there/RB ,/, '/'' said/VBD the/DT Cat/NNP ,/, and/CC vanished/VBD ./.\n",
            "Alice/NNP was/VBD not/RB much/JJ surprised/VBN at/IN this/DT ,/, she/PRP was/VBD getting/VBG so/RB used/VBN to/TO queer/VB things/NNS happening/VBG ./.\n",
            "While/IN she/PRP was/VBD looking/VBG at/IN the/DT place/NN where/WRB it/PRP had/VBD been/VBN ,/, it/PRP suddenly/RB appeared/VBD again/RB ./.\n",
            "'By-the-bye/CD ,/, what/WP became/VBD of/IN the/DT baby/NN ?/. '/''\n",
            "said/VBD the/DT Cat/NNP ./.\n",
            "'/POS I/PRP 'd/MD nearly/RB forgotten/VB to/TO ask/VB ./. '/''\n",
            "'It/NNS turned/VBD into/IN a/DT pig/NN ,/, '/'' Alice/NNP quietly/RB said/VBD ,/, just/RB as/IN if/IN it/PRP had/VBD come/VBN back/RB in/IN a/DT natural/JJ way/NN ./.\n",
            "'/POS I/PRP thought/VBD it/PRP would/MD ,/, '/'' said/VBD the/DT Cat/NNP ,/, and/CC vanished/VBD again/RB ./.\n",
            "Alice/NNP waited/VBD a/DT little/JJ ,/, half/JJ expecting/VBG to/TO see/VB it/PRP again/RB ,/, but/CC it/PRP did/VBD not/RB appear/VB ,/, and/CC after/IN a/DT minute/NN or/CC two/CD she/PRP walked/VBD on/IN in/IN the/DT direction/NN in/IN which/WDT the/DT March/NNP Hare/NNP was/VBD said/VBD to/TO live/VB ./.\n",
            "'/POS I/PRP 've/VBP seen/VBN hatters/NNS before/IN ,/, '/'' she/PRP said/VBD to/TO herself/PRP ;/: 'the/CC March/NNP Hare/NNP will/MD be/VB much/RB the/DT most/RBS interesting/JJ ,/, and/CC perhaps/RB as/IN this/DT is/VBZ May/NNP it/PRP wo/MD n't/RB be/VB raving/VBG mad/JJ --/: at/IN least/JJS not/RB so/RB mad/JJ as/IN it/PRP was/VBD in/IN March/NNP ./. '/''\n",
            "As/IN she/PRP said/VBD this/DT ,/, she/PRP looked/VBD up/RB ,/, and/CC there/EX was/VBD the/DT Cat/NNP again/RB ,/, sitting/VBG on/IN a/DT branch/NN of/IN a/DT tree/NN ./.\n",
            "'Did/IN you/PRP say/VBP pig/JJ ,/, or/CC fig/VB ?/. '/''\n",
            "said/VBD the/DT Cat/NNP ./.\n",
            "'/POS I/PRP said/VBD pig/NN ,/, '/'' replied/JJ Alice/NNP ;/: 'and/CD I/PRP wish/VBP you/PRP would/MD n't/RB keep/VB appearing/VBG and/CC vanishing/VBG so/RB suddenly/RB :/: you/PRP make/VBP one/CD quite/NN giddy/NN ./. '/''\n",
            "'All/RB right/RB ,/, '/'' said/VBD the/DT Cat/NNP ;/: and/CC this/DT time/NN it/PRP vanished/VBD quite/RB slowly/RB ,/, beginning/VBG with/IN the/DT end/NN of/IN the/DT tail/NN ,/, and/CC ending/VBG with/IN the/DT grin/NN ,/, which/WDT remained/VBD some/DT time/NN after/IN the/DT rest/NN of/IN it/PRP had/VBD gone/VBN ./.\n",
            "'Well/NN !/.\n",
            "I/PRP 've/VBP often/RB seen/VBN a/DT cat/NN without/IN a/DT grin/NN ,/, '/'' thought/JJ Alice/NNP ;/: 'but/VBZ a/DT grin/NN without/IN a/DT cat/NN !/.\n",
            "It/PRP 's/VBZ the/DT most/RBS curious/JJ thing/NN I/PRP ever/RB saw/VBD in/IN my/PRP$ life/NN !/. '/''\n",
            "She/PRP had/VBD not/RB gone/VBN much/RB farther/RBR before/IN she/PRP came/VBD in/IN sight/NN of/IN the/DT house/NN of/IN the/DT March/NNP Hare/NNP :/: she/PRP thought/VBD it/PRP must/MD be/VB the/DT right/JJ house/NN ,/, because/IN the/DT chimneys/NNS were/VBD shaped/VBN like/IN ears/NNS and/CC the/DT roof/NN was/VBD thatched/VBN with/IN fur/NN ./.\n",
            "It/PRP was/VBD so/RB large/JJ a/DT house/NN ,/, that/IN she/PRP did/VBD not/RB like/IN to/TO go/VB nearer/NN till/IN she/PRP had/VBD nibbled/VBN some/DT more/JJR of/IN the/DT lefthand/NN bit/NN of/IN mushroom/NN ,/, and/CC raised/VBD herself/PRP to/TO about/IN two/CD feet/NNS high/JJ :/: even/RB then/RB she/PRP walked/VBD up/RP towards/NNS it/PRP rather/RB timidly/RB ,/, saying/VBG to/TO herself/PRP 'Suppose/VB it/PRP should/MD be/VB raving/VBG mad/JJ after/IN all/DT !/.\n",
            "I/PRP almost/RB wish/JJ I/PRP 'd/MD gone/VBN to/TO see/VB the/DT Hatter/NNP instead/RB !/. '/''\n",
            "CHAPTER/NN VII/NNP ./.\n",
            "A/DT Mad/NNP Tea-Party/NNP There/EX was/VBD a/DT table/NN set/VBN out/RP under/IN a/DT tree/NN in/IN front/NN of/IN the/DT house/NN ,/, and/CC the/DT March/NNP Hare/NNP and/CC the/DT Hatter/NNP were/VBD having/VBG tea/NN at/IN it/PRP :/: a/DT Dormouse/NNP was/VBD sitting/VBG between/IN them/PRP ,/, fast/RB asleep/JJ ,/, and/CC the/DT other/JJ two/CD were/VBD using/VBG it/PRP as/IN a/DT cushion/NN ,/, resting/VBG their/PRP$ elbows/NNS on/IN it/PRP ,/, and/CC talking/VBG over/IN its/PRP$ head/NN ./.\n",
            "'Very/POS uncomfortable/JJ for/IN the/DT Dormouse/NNP ,/, '/'' thought/JJ Alice/NNP ;/: 'only/RB ,/, as/IN it/PRP 's/VBZ asleep/JJ ,/, I/PRP suppose/VBP it/PRP does/VBZ n't/RB mind/VB ./. '/''\n",
            "The/DT table/NN was/VBD a/DT large/JJ one/CD ,/, but/CC the/DT three/CD were/VBD all/DT crowded/VBN together/RB at/IN one/CD corner/NN of/IN it/PRP :/: 'No/JJ room/NN !/.\n",
            "No/DT room/NN !/. '/''\n",
            "they/PRP cried/VBD out/RP when/WRB they/PRP saw/VBD Alice/NNP coming/VBG ./.\n",
            "'There/EX 's/VBZ PLENTY/NNP of/IN room/NN !/. '/''\n",
            "said/VBD Alice/NNP indignantly/RB ,/, and/CC she/PRP sat/VBD down/RB in/IN a/DT large/JJ arm-chair/NN at/IN one/CD end/NN of/IN the/DT table/NN ./.\n",
            "'Have/VB some/DT wine/NN ,/, '/'' the/DT March/NNP Hare/NNP said/VBD in/IN an/DT encouraging/JJ tone/NN ./.\n",
            "Alice/NNP looked/VBD all/DT round/VBP the/DT table/NN ,/, but/CC there/EX was/VBD nothing/NN on/IN it/PRP but/CC tea/NN ./.\n",
            "'/POS I/PRP do/VBP n't/RB see/VB any/DT wine/NN ,/, '/'' she/PRP remarked/VBD ./.\n",
            "'There/EX is/VBZ n't/RB any/DT ,/, '/'' said/VBD the/DT March/NNP Hare/NNP ./.\n",
            "'Then/IN it/PRP was/VBD n't/RB very/RB civil/JJ of/IN you/PRP to/TO offer/VB it/PRP ,/, '/'' said/VBD Alice/NNP angrily/RB ./.\n",
            "'It/NN was/VBD n't/RB very/RB civil/JJ of/IN you/PRP to/TO sit/VB down/RP without/IN being/VBG invited/VBN ,/, '/'' said/VBD the/DT March/NNP Hare/NNP ./.\n",
            "'/POS I/PRP did/VBD n't/RB know/VB it/PRP was/VBD YOUR/NNP table/NN ,/, '/'' said/VBD Alice/NNP ;/: 'it/PRP 's/VBZ laid/VBN for/IN a/DT great/JJ many/JJ more/JJR than/IN three/CD ./. '/''\n",
            "'Your/CD hair/NN wants/VBZ cutting/VBG ,/, '/'' said/VBD the/DT Hatter/NNP ./.\n",
            "He/PRP had/VBD been/VBN looking/VBG at/IN Alice/NNP for/IN some/DT time/NN with/IN great/JJ curiosity/NN ,/, and/CC this/DT was/VBD his/PRP$ first/JJ speech/NN ./.\n",
            "'You/NNS should/MD learn/VB not/RB to/TO make/VB personal/JJ remarks/NNS ,/, '/'' Alice/NNP said/VBD with/IN some/DT severity/NN ;/: 'it/CC 's/POS very/RB rude/JJ ./. '/''\n",
            "The/DT Hatter/NNP opened/VBD his/PRP$ eyes/NNS very/RB wide/JJ on/IN hearing/VBG this/DT ;/: but/CC all/DT he/PRP SAID/NNP was/VBD ,/, 'Why/'' is/VBZ a/DT raven/NN like/IN a/DT writing-desk/NN ?/. '/''\n",
            "'Come/CD ,/, we/PRP shall/MD have/VB some/DT fun/NN now/RB !/. '/''\n",
            "thought/JJ Alice/NNP ./.\n",
            "'/POS I/PRP 'm/VBP glad/JJ they've/NN begun/VBN asking/VBG riddles./NN --/: I/PRP believe/VBP I/PRP can/MD guess/VB that/IN ,/, '/'' she/PRP added/VBD aloud/NN ./.\n",
            "'Do/POS you/PRP mean/VBP that/IN you/PRP think/VBP you/PRP can/MD find/VB out/RP the/DT answer/NN to/TO it/PRP ?/. '/''\n",
            "said/VBD the/DT March/NNP Hare/NNP ./.\n",
            "'Exactly/RB so/RB ,/, '/'' said/VBD Alice/NNP ./.\n",
            "'Then/IN you/PRP should/MD say/VB what/WP you/PRP mean/VBP ,/, '/'' the/DT March/NNP Hare/NNP went/VBD on/IN ./.\n",
            "'/POS I/PRP do/VBP ,/, '/'' Alice/NNP hastily/RB replied/VBD ;/: 'at/CC least/JJS --/: at/IN least/JJS I/PRP mean/VBP what/WP I/PRP say/VBP --/: that/WDT 's/VBZ the/DT same/JJ thing/NN ,/, you/PRP know/VBP ./. '/''\n",
            "'Not/IN the/DT same/JJ thing/NN a/DT bit/NN !/. '/''\n",
            "said/VBD the/DT Hatter/NNP ./.\n",
            "'You/POS might/MD just/RB as/RB well/RB say/VB that/IN ``/`` I/PRP see/VBP what/WP I/PRP eat/VBP ''/'' is/VBZ the/DT same/JJ thing/NN as/IN ``/`` I/PRP eat/VBP what/WP I/PRP see/VBP ''/'' !/. '/''\n",
            "'You/POS might/MD just/RB as/RB well/RB say/VB ,/, '/'' added/VBD the/DT March/NNP Hare/NNP ,/, 'that/IN ``/`` I/PRP like/VBP what/WP I/PRP get/VBP ''/'' is/VBZ the/DT same/JJ thing/NN as/IN ``/`` I/PRP get/VBP what/WP I/PRP like/VBP ''/'' !/. '/''\n",
            "'You/POS might/MD just/RB as/RB well/RB say/VB ,/, '/'' added/VBD the/DT Dormouse/NNP ,/, who/WP seemed/VBD to/TO be/VB talking/VBG in/IN his/PRP$ sleep/NN ,/, 'that/IN ``/`` I/PRP breathe/VBP when/WRB I/PRP sleep/VBP ''/'' is/VBZ the/DT same/JJ thing/NN as/IN ``/`` I/PRP sleep/VBP when/WRB I/PRP breathe/VBP ''/'' !/. '/''\n",
            "'It/NN IS/VBZ the/DT same/JJ thing/NN with/IN you/PRP ,/, '/'' said/VBD the/DT Hatter/NNP ,/, and/CC here/RB the/DT conversation/NN dropped/VBD ,/, and/CC the/DT party/NN sat/VBD silent/NN for/IN a/DT minute/NN ,/, while/IN Alice/NNP thought/VBD over/IN all/DT she/PRP could/MD remember/VB about/IN ravens/NNS and/CC writing-desks/NNS ,/, which/WDT was/VBD n't/RB much/JJ ./.\n",
            "The/DT Hatter/NNP was/VBD the/DT first/JJ to/TO break/VB the/DT silence/NN ./.\n",
            "'What/DT day/NN of/IN the/DT month/NN is/VBZ it/PRP ?/. '/''\n",
            "he/PRP said/VBD ,/, turning/VBG to/TO Alice/NNP :/: he/PRP had/VBD taken/VBN his/PRP$ watch/NN out/IN of/IN his/PRP$ pocket/NN ,/, and/CC was/VBD looking/VBG at/IN it/PRP uneasily/RB ,/, shaking/VBG it/PRP every/DT now/RB and/CC then/RB ,/, and/CC holding/VBG it/PRP to/TO his/PRP$ ear/NN ./.\n",
            "Alice/NNP considered/VBD a/DT little/JJ ,/, and/CC then/RB said/VBD 'The/CD fourth/JJ ./. '/''\n",
            "'Two/CD days/NNS wrong/RB !/. '/''\n",
            "sighed/VBD the/DT Hatter/NNP ./.\n",
            "'/POS I/PRP told/VBD you/PRP butter/NN would/MD n't/RB suit/VB the/DT works/NN !/. '/''\n",
            "he/PRP added/VBD looking/VBG angrily/RB at/IN the/DT March/NNP Hare/NNP ./.\n",
            "'It/NN was/VBD the/DT BEST/NNP butter/NN ,/, '/'' the/DT March/NNP Hare/NNP meekly/RB replied/VBD ./.\n",
            "'Yes/CD ,/, but/CC some/DT crumbs/NNS must/MD have/VB got/VBN in/IN as/RB well/RB ,/, '/'' the/DT Hatter/NNP grumbled/VBD :/: 'you/NN should/MD n't/RB have/VB put/VBN it/PRP in/IN with/IN the/DT bread-knife/NN ./. '/''\n",
            "The/DT March/NNP Hare/NNP took/VBD the/DT watch/NN and/CC looked/VBD at/IN it/PRP gloomily/RB :/: then/RB he/PRP dipped/VBD it/PRP into/IN his/PRP$ cup/NN of/IN tea/NN ,/, and/CC looked/VBD at/IN it/PRP again/RB :/: but/CC he/PRP could/MD think/VB of/IN nothing/NN better/NN to/TO say/VB than/IN his/PRP$ first/JJ remark/NN ,/, 'It/'' was/VBD the/DT BEST/NNP butter/NN ,/, you/PRP know/VBP ./. '/''\n",
            "Alice/NNP had/VBD been/VBN looking/VBG over/IN his/PRP$ shoulder/NN with/IN some/DT curiosity/NN ./.\n",
            "'What/IN a/DT funny/JJ watch/NN !/. '/''\n",
            "she/PRP remarked/VBD ./.\n",
            "'It/CD tells/VBZ the/DT day/NN of/IN the/DT month/NN ,/, and/CC doesn't/VB tell/VB what/WP o'clock/IN it/PRP is/VBZ !/. '/''\n",
            "'Why/NNS should/MD it/PRP ?/. '/''\n",
            "muttered/VBD the/DT Hatter/NNP ./.\n",
            "'Does/NNS YOUR/NNP watch/NN tell/NN you/PRP what/WP year/NN it/PRP is/VBZ ?/. '/''\n",
            "'Of/'' course/NN not/RB ,/, '/'' Alice/NNP replied/VBD very/RB readily/RB :/: 'but/NN that/DT 's/VBZ because/IN it/PRP stays/VBZ the/DT same/JJ year/NN for/IN such/PDT a/DT long/JJ time/NN together/RB ./. '/''\n",
            "'Which/'' is/VBZ just/RB the/DT case/NN with/IN MINE/NNP ,/, '/'' said/VBD the/DT Hatter/NNP ./.\n",
            "Alice/NNP felt/VBD dreadfully/RB puzzled/VBN ./.\n",
            "The/DT Hatter/NNP 's/POS remark/NN seemed/VBD to/TO have/VB no/DT sort/NN of/IN meaning/NN in/IN it/PRP ,/, and/CC yet/RB it/PRP was/VBD certainly/RB English/NNP ./.\n",
            "'/POS I/PRP do/VBP n't/RB quite/RB understand/VB you/PRP ,/, '/'' she/PRP said/VBD ,/, as/RB politely/RB as/IN she/PRP could/MD ./.\n",
            "'The/POS Dormouse/NNP is/VBZ asleep/RB again/RB ,/, '/'' said/VBD the/DT Hatter/NNP ,/, and/CC he/PRP poured/VBD a/DT little/JJ hot/JJ tea/NN upon/IN its/PRP$ nose/NN ./.\n",
            "The/DT Dormouse/NNP shook/VBD its/PRP$ head/NN impatiently/RB ,/, and/CC said/VBD ,/, without/IN opening/VBG its/PRP$ eyes/NNS ,/, 'Of/'' course/NN ,/, of/IN course/NN ;/: just/RB what/WP I/PRP was/VBD going/VBG to/TO remark/VB myself/PRP ./. '/''\n",
            "'Have/VB you/PRP guessed/VBN the/DT riddle/NN yet/RB ?/. '/''\n",
            "the/DT Hatter/NNP said/VBD ,/, turning/VBG to/TO Alice/NNP again/RB ./.\n",
            "'No/CD ,/, I/PRP give/VBP it/PRP up/RP ,/, '/'' Alice/NNP replied/VBD :/: 'what/WP 's/VBZ the/DT answer/NN ?/. '/''\n",
            "'/POS I/PRP have/VBP n't/RB the/DT slightest/JJS idea/NN ,/, '/'' said/VBD the/DT Hatter/NNP ./.\n",
            "'Nor/CC I/PRP ,/, '/'' said/VBD the/DT March/NNP Hare/NNP ./.\n",
            "Alice/NNP sighed/VBD wearily/RB ./.\n",
            "'/POS I/PRP think/VBP you/PRP might/MD do/VB something/NN better/RBR with/IN the/DT time/NN ,/, '/'' she/PRP said/VBD ,/, 'than/'' waste/NN it/PRP in/IN asking/VBG riddles/NNS that/WDT have/VBP no/DT answers/NNS ./. '/''\n",
            "'If/IN you/PRP knew/VBD Time/NNP as/RB well/RB as/IN I/PRP do/VBP ,/, '/'' said/VBD the/DT Hatter/NNP ,/, 'you/NNP would/MD n't/RB talk/VB about/IN wasting/VBG IT/NNP ./.\n",
            "It/PRP 's/VBZ HIM/NNP ./. '/''\n",
            "'/POS I/PRP do/VBP n't/RB know/VB what/WP you/PRP mean/VBP ,/, '/'' said/VBD Alice/NNP ./.\n",
            "'Of/POS course/NN you/PRP do/VBP n't/RB !/. '/''\n",
            "the/DT Hatter/NNP said/VBD ,/, tossing/VBG his/PRP$ head/NN contemptuously/RB ./.\n",
            "'/POS I/PRP dare/VBP say/VB you/PRP never/RB even/RB spoke/VBD to/TO Time/NNP !/. '/''\n",
            "'Perhaps/NNS not/RB ,/, '/'' Alice/NNP cautiously/RB replied/VBD :/: 'but/NN I/PRP know/VBP I/PRP have/VBP to/TO beat/VB time/NN when/WRB I/PRP learn/VBP music/NN ./. '/''\n",
            "'Ah/CD !/.\n",
            "that/DT accounts/VBZ for/IN it/PRP ,/, '/'' said/VBD the/DT Hatter/NNP ./.\n",
            "'He/NNS wo/MD n't/RB stand/VB beating/NN ./.\n",
            "Now/RB ,/, if/IN you/PRP only/RB kept/VBD on/IN good/JJ terms/NNS with/IN him/PRP ,/, he/PRP 'd/MD do/VB almost/RB anything/NN you/PRP liked/VBD with/IN the/DT clock/NN ./.\n",
            "For/IN instance/NN ,/, suppose/VB it/PRP were/VBD nine/CD o'clock/NN in/IN the/DT morning/NN ,/, just/RB time/NN to/TO begin/VB lessons/NNS :/: you/PRP 'd/MD only/RB have/VB to/TO whisper/VB a/DT hint/NN to/TO Time/NNP ,/, and/CC round/NN goes/VBZ the/DT clock/NN in/IN a/DT twinkling/NN !/.\n",
            "Half-past/NNP one/CD ,/, time/NN for/IN dinner/NN !/. '/''\n",
            "(/( '/'' I/PRP only/RB wish/VBD it/PRP was/VBD ,/, '/'' the/DT March/NNP Hare/NNP said/VBD to/TO itself/PRP in/IN a/DT whisper/NN ./. )/)\n",
            "'That/WDT would/MD be/VB grand/JJ ,/, certainly/RB ,/, '/'' said/VBD Alice/NNP thoughtfully/RB :/: 'but/NN then/RB --/: I/PRP should/MD n't/RB be/VB hungry/JJ for/IN it/PRP ,/, you/PRP know/VBP ./. '/''\n",
            "'Not/NNS at/IN first/JJ ,/, perhaps/RB ,/, '/'' said/VBD the/DT Hatter/NNP :/: 'but/NN you/PRP could/MD keep/VB it/PRP to/TO half-past/JJ one/CD as/RB long/RB as/IN you/PRP liked/VBD ./. '/''\n",
            "'Is/NNS that/IN the/DT way/NN YOU/NNP manage/NN ?/. '/''\n",
            "Alice/NNP asked/VBD ./.\n",
            "The/DT Hatter/NNP shook/VBD his/PRP$ head/NN mournfully/RB ./.\n",
            "'Not/CD I/PRP !/. '/''\n",
            "he/PRP replied/VBD ./.\n",
            "'We/POS quarrelled/VBN last/JJ March/NNP --/: just/RB before/IN HE/NNP went/VBD mad/JJ ,/, you/PRP know/VBP --/: '/'' (/( pointing/VBG with/IN his/PRP$ tea/NN spoon/NN at/IN the/DT March/NNP Hare/NNP ,/, )/) '/'' --/: it/PRP was/VBD at/IN the/DT great/JJ concert/NN given/VBN by/IN the/DT Queen/NNP of/IN Hearts/NNP ,/, and/CC I/PRP had/VBD to/TO sing/VBG ``/`` Twinkle/NNP ,/, twinkle/NN ,/, little/JJ bat/NN !/.\n",
            "How/WRB I/PRP wonder/VBP what/WP you/PRP 're/VBP at/IN !/. ''/''\n",
            "You/PRP know/VBP the/DT song/NN ,/, perhaps/RB ?/. '/''\n",
            "'/POS I/PRP 've/VBP heard/VBN something/NN like/IN it/PRP ,/, '/'' said/VBD Alice/NNP ./.\n",
            "'It/NN goes/VBZ on/IN ,/, you/PRP know/VBP ,/, '/'' the/DT Hatter/NNP continued/VBD ,/, 'in/'' this/DT way/NN :/: --/: ``/`` Up/IN above/IN the/DT world/NN you/PRP fly/VBP ,/, Like/IN a/DT tea-tray/NN in/IN the/DT sky/NN ./.\n",
            "Twinkle/NNP ,/, twinkle/NN --/: ''/'' '/POS Here/RB the/DT Dormouse/NNP shook/VBD itself/PRP ,/, and/CC began/VBD singing/VBG in/IN its/PRP$ sleep/NN 'Twinkle/NN ,/, twinkle/NN ,/, twinkle/NN ,/, twinkle/NN --/: '/POS and/CC went/VBD on/IN so/IN long/JJ that/IN they/PRP had/VBD to/TO pinch/VB it/PRP to/TO make/VB it/PRP stop/VB ./.\n",
            "'Well/UH ,/, I/PRP 'd/MD hardly/RB finished/VB the/DT first/JJ verse/NN ,/, '/'' said/VBD the/DT Hatter/NNP ,/, 'when/VBZ the/DT Queen/NNP jumped/VBD up/RP and/CC bawled/VBN out/RP ,/, ``/`` He/PRP 's/VBZ murdering/VBG the/DT time/NN !/.\n",
            "Off/IN with/IN his/PRP$ head/NN !/. ''/'' '/''\n",
            "'How/POS dreadfully/RB savage/JJ !/. '/''\n",
            "exclaimed/VBN Alice/NNP ./.\n",
            "'And/CD ever/RB since/IN that/DT ,/, '/'' the/DT Hatter/NNP went/VBD on/IN in/IN a/DT mournful/JJ tone/NN ,/, 'he/'' won't/WRB do/VB a/DT thing/NN I/PRP ask/VBP !/.\n",
            "It/PRP 's/VBZ always/RB six/CD o'clock/NN now/RB ./. '/''\n",
            "A/DT bright/JJ idea/NN came/VBD into/IN Alice/NNP 's/POS head/NN ./.\n",
            "'Is/NNS that/IN the/DT reason/NN so/RB many/JJ tea-things/NNS are/VBP put/VBN out/RP here/RB ?/. '/''\n",
            "she/PRP asked/VBD ./.\n",
            "'Yes/UH ,/, that/DT 's/VBZ it/PRP ,/, '/'' said/VBD the/DT Hatter/NNP with/IN a/DT sigh/NN :/: 'it/NN 's/POS always/RB tea-time/NN ,/, and/CC we/PRP 've/VBP no/DT time/NN to/TO wash/VB the/DT things/NNS between/IN whiles/NNS ./. '/''\n",
            "'Then/IN you/PRP keep/VBP moving/VBG round/NN ,/, I/PRP suppose/VBP ?/. '/''\n",
            "said/VBD Alice/NNP ./.\n",
            "'Exactly/RB so/RB ,/, '/'' said/VBD the/DT Hatter/NNP :/: 'as/CD the/DT things/NNS get/VBP used/VBN up/RP ./. '/''\n",
            "'But/VB what/WP happens/VBZ when/WRB you/PRP come/VBP to/TO the/DT beginning/NN again/RB ?/. '/''\n",
            "Alice/RB ventured/VBN to/TO ask/VB ./.\n",
            "'Suppose/IN we/PRP change/VBP the/DT subject/NN ,/, '/'' the/DT March/NNP Hare/NNP interrupted/VBD ,/, yawning/VBG ./.\n",
            "'/POS I/PRP 'm/VBP getting/VBG tired/VBN of/IN this/DT ./.\n",
            "I/PRP vote/VBP the/DT young/JJ lady/NN tells/VBZ us/PRP a/DT story/NN ./. '/''\n",
            "'/POS I/PRP 'm/VBP afraid/JJ I/PRP do/VBP n't/RB know/VB one/CD ,/, '/'' said/VBD Alice/NNP ,/, rather/RB alarmed/VBD at/IN the/DT proposal/NN ./.\n",
            "'Then/'' the/DT Dormouse/NNP shall/MD !/. '/''\n",
            "they/PRP both/DT cried/VBD ./.\n",
            "'Wake/VB up/RP ,/, Dormouse/NNP !/. '/''\n",
            "And/CC they/PRP pinched/VBD it/PRP on/IN both/DT sides/NNS at/IN once/RB ./.\n",
            "The/DT Dormouse/NNP slowly/NN opened/VBD his/PRP$ eyes/NNS ./.\n",
            "'/'' I/PRP was/VBD n't/RB asleep/RB ,/, '/'' he/PRP said/VBD in/IN a/DT hoarse/NN ,/, feeble/JJ voice/NN :/: '/POS I/PRP heard/VBP every/DT word/NN you/PRP fellows/VBP were/VBD saying/VBG ./. '/''\n",
            "'Tell/VB us/PRP a/DT story/NN !/. '/''\n",
            "said/VBD the/DT March/NNP Hare/NNP ./.\n",
            "'Yes/CD ,/, please/VB do/VB !/. '/''\n",
            "pleaded/JJ Alice/NNP ./.\n",
            "'And/RB be/VB quick/JJ about/IN it/PRP ,/, '/'' added/VBD the/DT Hatter/NNP ,/, 'or/'' you/PRP 'll/MD be/VB asleep/RB again/RB before/IN it/PRP 's/VBZ done/VBN ./. '/''\n",
            "'Once/NN upon/IN a/DT time/NN there/EX were/VBD three/CD little/JJ sisters/NNS ,/, '/'' the/DT Dormouse/NNP began/VBD in/IN a/DT great/JJ hurry/NN ;/: 'and/CC their/PRP$ names/NNS were/VBD Elsie/NNP ,/, Lacie/NNP ,/, and/CC Tillie/NNP ;/: and/CC they/PRP lived/VBD at/IN the/DT bottom/NN of/IN a/DT well/NN --/: '/POS 'What/WP did/VBD they/PRP live/VB on/IN ?/. '/''\n",
            "said/VBD Alice/NNP ,/, who/WP always/RB took/VBD a/DT great/JJ interest/NN in/IN questions/NNS of/IN eating/NN and/CC drinking/NN ./.\n",
            "'They/CD lived/VBD on/IN treacle/NN ,/, '/'' said/VBD the/DT Dormouse/NNP ,/, after/IN thinking/VBG a/DT minute/NN or/CC two/CD ./.\n",
            "'They/NNS could/MD n't/RB have/VB done/VBN that/DT ,/, you/PRP know/VBP ,/, '/'' Alice/NNP gently/RB remarked/VBD ;/: 'they'd/NNS have/VBP been/VBN ill.'/VBN 'So/IN they/PRP were/VBD ,/, '/'' said/VBD the/DT Dormouse/NNP ;/: 'VERY/CD ill.'/NN Alice/NNP tried/VBD to/TO fancy/VB to/TO herself/VB what/WP such/PDT an/DT extraordinary/JJ ways/NNS of/IN living/NN would/MD be/VB like/IN ,/, but/CC it/PRP puzzled/VBD her/PRP too/RB much/JJ ,/, so/IN she/PRP went/VBD on/IN :/: 'But/CD why/WRB did/VBD they/PRP live/VBP at/IN the/DT bottom/NN of/IN a/DT well/NN ?/. '/''\n",
            "'Take/VB some/DT more/RBR tea/JJ ,/, '/'' the/DT March/NNP Hare/NNP said/VBD to/TO Alice/NNP ,/, very/RB earnestly/RB ./.\n",
            "'/POS I/PRP 've/VBP had/VBD nothing/NN yet/RB ,/, '/'' Alice/NNP replied/VBD in/IN an/DT offended/JJ tone/NN ,/, 'so/'' I/PRP can't/VBP take/VB more/JJR ./. '/''\n",
            "'You/POS mean/NN you/PRP ca/MD n't/RB take/VB LESS/JJR ,/, '/'' said/VBD the/DT Hatter/NNP :/: 'it/NN 's/POS very/RB easy/JJ to/TO take/VB MORE/JJR than/IN nothing/NN ./. '/''\n",
            "'Nobody/NN asked/VBD YOUR/JJ opinion/NN ,/, '/'' said/VBD Alice/NNP ./.\n",
            "'Who/NN 's/POS making/VBG personal/JJ remarks/NNS now/RB ?/. '/''\n",
            "the/DT Hatter/NNP asked/VBD triumphantly/RB ./.\n",
            "Alice/NNP did/VBD not/RB quite/RB know/VB what/WP to/TO say/VB to/TO this/DT :/: so/RB she/PRP helped/VBD herself/PRP to/TO some/DT tea/NN and/CC bread-and-butter/NN ,/, and/CC then/RB turned/VBD to/TO the/DT Dormouse/NNP ,/, and/CC repeated/VBD her/PRP$ question/NN ./.\n",
            "'Why/NNS did/VBD they/PRP live/VBP at/IN the/DT bottom/NN of/IN a/DT well/NN ?/. '/''\n",
            "The/DT Dormouse/NNP again/RB took/VBD a/DT minute/NN or/CC two/CD to/TO think/VB about/IN it/PRP ,/, and/CC then/RB said/VBD ,/, 'It/NNP was/VBD a/DT treacle-well/NN ./. '/''\n",
            "'There/EX 's/VBZ no/DT such/JJ thing/NN !/. '/''\n",
            "Alice/NNP was/VBD beginning/VBG very/RB angrily/RB ,/, but/CC the/DT Hatter/NNP and/CC the/DT March/NNP Hare/NNP went/VBD 'Sh/CD !/.\n",
            "sh/NN !/. '/''\n",
            "and/CC the/DT Dormouse/NNP sulkily/RB remarked/VBD ,/, 'If/'' you/PRP ca/MD n't/RB be/VB civil/JJ ,/, you/PRP 'd/MD better/VB finish/VB the/DT story/NN for/IN yourself/PRP ./. '/''\n",
            "'No/CD ,/, please/NN go/VB on/IN !/. '/''\n",
            "Alice/NNP said/VBD very/RB humbly/RB ;/: '/'' I/PRP wo/MD n't/RB interrupt/VB again/RB ./.\n",
            "I/PRP dare/VBP say/VB there/EX may/MD be/VB ONE/CD ./. '/''\n",
            "'One/CD ,/, indeed/RB !/. '/''\n",
            "said/VBD the/DT Dormouse/NNP indignantly/RB ./.\n",
            "However/RB ,/, he/PRP consented/VBD to/TO go/VB on/IN ./.\n",
            "'And/NNS so/RB these/DT three/CD little/JJ sisters/NNS --/: they/PRP were/VBD learning/VBG to/TO draw/VB ,/, you/PRP know/VBP --/: '/'' 'What/WDT did/VBD they/PRP draw/VB ?/. '/''\n",
            "said/VBD Alice/NNP ,/, quite/RB forgetting/VBG her/PRP$ promise/NN ./.\n",
            "'Treacle/NN ,/, '/'' said/VBD the/DT Dormouse/NNP ,/, without/IN considering/VBG at/IN all/PDT this/DT time/NN ./.\n",
            "'/POS I/PRP want/VBP a/DT clean/JJ cup/NN ,/, '/'' interrupted/VBD the/DT Hatter/NN :/: 'let/NN 's/POS all/DT move/VBP one/CD place/NN on/IN ./. '/''\n",
            "He/PRP moved/VBD on/IN as/IN he/PRP spoke/VBD ,/, and/CC the/DT Dormouse/NNP followed/VBD him/PRP :/: the/DT March/NNP Hare/NNP moved/VBD into/IN the/DT Dormouse/NNP 's/POS place/NN ,/, and/CC Alice/NNP rather/RB unwillingly/RB took/VBD the/DT place/NN of/IN the/DT March/NNP Hare/NNP ./.\n",
            "The/DT Hatter/NNP was/VBD the/DT only/JJ one/NN who/WP got/VBD any/DT advantage/NN from/IN the/DT change/NN :/: and/CC Alice/NNP was/VBD a/DT good/JJ deal/NN worse/JJR off/RP than/IN before/RB ,/, as/IN the/DT March/NNP Hare/NNP had/VBD just/RB upset/VBN the/DT milk-jug/NN into/IN his/PRP$ plate/NN ./.\n",
            "Alice/NNP did/VBD not/RB wish/VB to/TO offend/VB the/DT Dormouse/NNP again/RB ,/, so/IN she/PRP began/VBD very/RB cautiously/RB :/: 'But/NN I/PRP do/VBP n't/RB understand/VB ./.\n",
            "Where/WRB did/VBD they/PRP draw/VB the/DT treacle/NN from/IN ?/. '/''\n",
            "'You/NNS can/MD draw/VB water/NN out/IN of/IN a/DT water-well/NN ,/, '/'' said/VBD the/DT Hatter/NNP ;/: 'so/CD I/PRP should/MD think/VB you/PRP could/MD draw/VB treacle/VB out/IN of/IN a/DT treacle-well/NN --/: eh/NN ,/, stupid/JJ ?/. '/''\n",
            "'But/IN they/PRP were/VBD IN/NNP the/DT well/RB ,/, '/'' Alice/NNP said/VBD to/TO the/DT Dormouse/NNP ,/, not/RB choosing/VBG to/TO notice/VB this/DT last/JJ remark/NN ./.\n",
            "'Of/POS course/NN they/PRP were/VBD '/'' ,/, said/VBD the/DT Dormouse/NNP ;/: '/POS --/: well/RB in/IN ./. '/''\n",
            "This/DT answer/NN so/RB confused/JJ poor/JJ Alice/NNP ,/, that/IN she/PRP let/VBD the/DT Dormouse/NNP go/VBP on/IN for/IN some/DT time/NN without/IN interrupting/VBG it/PRP ./.\n",
            "'They/NNS were/VBD learning/VBG to/TO draw/VB ,/, '/'' the/DT Dormouse/NNP went/VBD on/IN ,/, yawning/VBG and/CC rubbing/VBG its/PRP$ eyes/NNS ,/, for/IN it/PRP was/VBD getting/VBG very/RB sleepy/RB ;/: 'and/CC they/PRP drew/VBD all/DT manner/NN of/IN things/NNS --/: everything/NN that/IN begins/VBZ with/IN an/DT M/NNP --/: '/POS 'Why/POS with/IN an/DT M/NNP ?/. '/''\n",
            "said/VBD Alice/NNP ./.\n",
            "'Why/MD not/RB ?/. '/''\n",
            "said/VBD the/DT March/NNP Hare/NNP ./.\n",
            "Alice/NNP was/VBD silent/JJ ./.\n",
            "The/DT Dormouse/NNP had/VBD closed/VBN its/PRP$ eyes/NNS by/IN this/DT time/NN ,/, and/CC was/VBD going/VBG off/RP into/IN a/DT doze/NN ;/: but/CC ,/, on/IN being/VBG pinched/VBN by/IN the/DT Hatter/NNP ,/, it/PRP woke/VBD up/RP again/RB with/IN a/DT little/JJ shriek/NN ,/, and/CC went/VBD on/IN :/: '/POS --/: that/IN begins/VBZ with/IN an/DT M/NNP ,/, such/JJ as/IN mouse-traps/NNS ,/, and/CC the/DT moon/NN ,/, and/CC memory/NN ,/, and/CC muchness/NN --/: you/PRP know/VBP you/PRP say/VBP things/NNS are/VBP ``/`` much/JJ of/IN a/DT muchness/NN ''/'' --/: did/VBD you/PRP ever/RB see/VB such/JJ a/DT thing/NN as/IN a/DT drawing/NN of/IN a/DT muchness/NN ?/. '/''\n",
            "'Really/RB ,/, now/RB you/PRP ask/VBP me/PRP ,/, '/'' said/VBD Alice/NNP ,/, very/RB much/RB confused/VBN ,/, '/'' I/PRP don't/VBP think/VB --/: '/POS 'Then/IN you/PRP should/MD n't/RB talk/VB ,/, '/'' said/VBD the/DT Hatter/NNP ./.\n",
            "This/DT piece/NN of/IN rudeness/NN was/VBD more/JJR than/IN Alice/NNP could/MD bear/VB :/: she/PRP got/VBD up/RB in/IN great/JJ disgust/NN ,/, and/CC walked/VBD off/RP ;/: the/DT Dormouse/NNP fell/VBD asleep/RB instantly/RB ,/, and/CC neither/DT of/IN the/DT others/NNS took/VBD the/DT least/JJS notice/NN of/IN her/PRP$ going/VBG ,/, though/IN she/PRP looked/VBD back/RB once/RB or/CC twice/RB ,/, half/NN hoping/VBG that/IN they/PRP would/MD call/VB after/IN her/PRP :/: the/DT last/JJ time/NN she/PRP saw/VBD them/PRP ,/, they/PRP were/VBD trying/VBG to/TO put/VB the/DT Dormouse/NNP into/IN the/DT teapot/NN ./.\n",
            "'At/CD any/DT rate/NN I/PRP 'll/MD never/RB go/VB THERE/NNP again/RB !/. '/''\n",
            "said/VBD Alice/NNP as/IN she/PRP picked/VBD her/PRP way/NN through/IN the/DT wood/NN ./.\n",
            "'It/NN 's/POS the/DT stupidest/JJS tea-party/NN I/PRP ever/RB was/VBD at/IN in/IN all/DT my/PRP$ life/NN !/. '/''\n",
            "Just/RB as/IN she/PRP said/VBD this/DT ,/, she/PRP noticed/VBD that/IN one/CD of/IN the/DT trees/NNS had/VBD a/DT door/NN leading/VBG right/RB into/IN it/PRP ./.\n",
            "'That/WP 's/VBZ very/RB curious/JJ !/. '/''\n",
            "she/PRP thought/VBD ./.\n",
            "'But/CD everything/NN 's/POS curious/JJ today/NN ./.\n",
            "I/PRP think/VBP I/PRP may/MD as/RB well/RB go/VB in/IN at/IN once/RB ./. '/''\n",
            "And/CC in/IN she/PRP went/VBD ./.\n",
            "Once/RB more/JJR she/PRP found/VBD herself/PRP in/IN the/DT long/JJ hall/NN ,/, and/CC close/RB to/TO the/DT little/JJ glass/NN table/NN ./.\n",
            "'Now/CD ,/, I/PRP 'll/MD manage/VB better/RBR this/DT time/NN ,/, '/'' she/PRP said/VBD to/TO herself/VB ,/, and/CC began/VBD by/IN taking/VBG the/DT little/JJ golden/JJ key/NN ,/, and/CC unlocking/VBG the/DT door/NN that/WDT led/VBD into/IN the/DT garden/NN ./.\n",
            "Then/RB she/PRP went/VBD to/TO work/VB nibbling/VBG at/IN the/DT mushroom/NN (/( she/PRP had/VBD kept/VBN a/DT piece/NN of/IN it/PRP in/IN her/PRP$ pocket/NN )/) till/NN she/PRP was/VBD about/IN a/DT foot/NN high/JJ :/: then/RB she/PRP walked/VBD down/RP the/DT little/JJ passage/NN :/: and/CC THEN/NNP --/: she/PRP found/VBD herself/PRP at/IN last/JJ in/IN the/DT beautiful/JJ garden/NN ,/, among/IN the/DT bright/JJ flower-beds/NNS and/CC the/DT cool/NN fountains/NNS ./.\n",
            "CHAPTER/NN VIII/NNP ./.\n",
            "The/DT Queen/NNP 's/POS Croquet-Ground/NN A/NNP large/JJ rose-tree/JJ stood/NN near/IN the/DT entrance/NN of/IN the/DT garden/NN :/: the/DT roses/NNS growing/VBG on/IN it/PRP were/VBD white/JJ ,/, but/CC there/EX were/VBD three/CD gardeners/NNS at/IN it/PRP ,/, busily/RB painting/VBG them/PRP red/JJ ./.\n",
            "Alice/NNP thought/VBD this/DT a/DT very/RB curious/JJ thing/NN ,/, and/CC she/PRP went/VBD nearer/RB to/TO watch/VB them/PRP ,/, and/CC just/RB as/IN she/PRP came/VBD up/RB to/TO them/PRP she/PRP heard/VBD one/CD of/IN them/PRP say/VBP ,/, 'Look/PRP out/RB now/RB ,/, Five/CD !/.\n",
            "Do/VBP n't/RB go/VB splashing/VBG paint/NN over/IN me/PRP like/IN that/DT !/. '/''\n",
            "'/POS I/PRP could/MD n't/RB help/VB it/PRP ,/, '/'' said/VBD Five/CD ,/, in/IN a/DT sulky/JJ tone/NN ;/: 'Seven/CC jogged/VBD my/PRP$ elbow/NN ./. '/''\n",
            "On/IN which/WDT Seven/NNP looked/VBD up/RP and/CC said/VBD ,/, 'That/WP 's/VBZ right/JJ ,/, Five/CD !/.\n",
            "Always/NNS lay/VBD the/DT blame/NN on/IN others/NNS !/. '/''\n",
            "'YOU/POS 'D/MD better/RBR not/RB talk/VB !/. '/''\n",
            "said/VBD Five/CD ./.\n",
            "'/POS I/PRP heard/VBD the/DT Queen/NNP say/VBP only/RB yesterday/NN you/PRP deserved/VBD to/TO be/VB beheaded/VBN !/. '/''\n",
            "'What/DT for/IN ?/. '/''\n",
            "said/VBD the/DT one/NN who/WP had/VBD spoken/VBN first/RB ./.\n",
            "'That/DT 's/VBZ none/NN of/IN YOUR/NNP business/NN ,/, Two/CD !/. '/''\n",
            "said/VBD Seven/NNP ./.\n",
            "'Yes/UH ,/, it/PRP IS/VBZ his/PRP$ business/NN !/. '/''\n",
            "said/VBD Five/CD ,/, 'and/VBP I/PRP 'll/MD tell/VB him/PRP --/: it/PRP was/VBD for/IN bringing/VBG the/DT cook/NN tulip-roots/JJ instead/RB of/IN onions/NNS ./. '/''\n",
            "Seven/NNP flung/VBD down/RP his/PRP$ brush/NN ,/, and/CC had/VBD just/RB begun/VBN 'Well/UH ,/, of/IN all/PDT the/DT unjust/JJ things/NNS --/: '/'' when/WRB his/PRP$ eye/NN chanced/VBD to/TO fall/VB upon/JJ Alice/NNP ,/, as/IN she/PRP stood/VBD watching/VBG them/PRP ,/, and/CC he/PRP checked/VBD himself/PRP suddenly/RB :/: the/DT others/NNS looked/VBD round/NN also/RB ,/, and/CC all/DT of/IN them/PRP bowed/VBD low/JJ ./.\n",
            "'Would/MD you/PRP tell/VB me/PRP ,/, '/'' said/VBD Alice/NNP ,/, a/DT little/JJ timidly/RB ,/, 'why/IN you/PRP are/VBP painting/VBG those/DT roses/NNS ?/. '/''\n",
            "Five/CD and/CC Seven/NNP said/VBD nothing/NN ,/, but/CC looked/VBD at/IN Two/CD ./.\n",
            "Two/CD began/VBD in/IN a/DT low/JJ voice/NN ,/, 'Why/'' the/DT fact/NN is/VBZ ,/, you/PRP see/VBP ,/, Miss/NNP ,/, this/DT here/RB ought/MD to/TO have/VB been/VBN a/DT RED/JJ rose-tree/NN ,/, and/CC we/PRP put/VBD a/DT white/JJ one/CD in/IN by/IN mistake/NN ;/: and/CC if/IN the/DT Queen/NNP was/VBD to/TO find/VB it/PRP out/RP ,/, we/PRP should/MD all/DT have/VB our/PRP$ heads/NNS cut/VBD off/RP ,/, you/PRP know/VBP ./.\n",
            "So/RB you/PRP see/VBP ,/, Miss/NNP ,/, we/PRP 're/VBP doing/VBG our/PRP$ best/JJS ,/, afore/IN she/PRP comes/VBZ ,/, to/TO --/: '/'' At/IN this/DT moment/NN Five/CD ,/, who/WP had/VBD been/VBN anxiously/RB looking/VBG across/IN the/DT garden/NN ,/, called/VBN out/RP 'The/CD Queen/JJ !/.\n",
            "The/DT Queen/NNP !/. '/''\n",
            "and/CC the/DT three/CD gardeners/NNS instantly/RB threw/VBD themselves/PRP flat/JJ upon/IN their/PRP$ faces/VBZ ./.\n",
            "There/EX was/VBD a/DT sound/NN of/IN many/JJ footsteps/NNS ,/, and/CC Alice/NNP looked/VBD round/NN ,/, eager/JJ to/TO see/VB the/DT Queen/NNP ./.\n",
            "First/RB came/VBD ten/JJ soldiers/NNS carrying/VBG clubs/NNS ;/: these/DT were/VBD all/DT shaped/VBN like/IN the/DT three/CD gardeners/NNS ,/, oblong/RB and/CC flat/JJ ,/, with/IN their/PRP$ hands/NNS and/CC feet/NNS at/IN the/DT corners/NNS :/: next/IN the/DT ten/JJ courtiers/NNS ;/: these/DT were/VBD ornamented/VBN all/DT over/IN with/IN diamonds/NNS ,/, and/CC walked/VBD two/CD and/CC two/CD ,/, as/IN the/DT soldiers/NNS did/VBD ./.\n",
            "After/IN these/DT came/VBD the/DT royal/JJ children/NNS ;/: there/EX were/VBD ten/NNS of/IN them/PRP ,/, and/CC the/DT little/JJ dears/NNS came/VBD jumping/VBG merrily/RB along/RB hand/NN in/IN hand/NN ,/, in/IN couples/NNS :/: they/PRP were/VBD all/DT ornamented/VBN with/IN hearts/NNS ./.\n",
            "Next/JJ came/VBD the/DT guests/NNS ,/, mostly/RB Kings/NNP and/CC Queens/NNP ,/, and/CC among/IN them/PRP Alice/NNP recognised/VBD the/DT White/NNP Rabbit/NN :/: it/PRP was/VBD talking/VBG in/IN a/DT hurried/JJ nervous/JJ manner/NN ,/, smiling/VBG at/IN everything/NN that/WDT was/VBD said/VBD ,/, and/CC went/VBD by/IN without/IN noticing/VBG her/PRP$ ./.\n",
            "Then/RB followed/VBD the/DT Knave/NNP of/IN Hearts/NNP ,/, carrying/VBG the/DT King's/NNP crown/NN on/IN a/DT crimson/NN velvet/NN cushion/NN ;/: and/CC ,/, last/JJ of/IN all/PDT this/DT grand/JJ procession/NN ,/, came/VBD THE/NNP KING/NNP AND/NNP QUEEN/NNP OF/NNP HEARTS/NNP ./.\n",
            "Alice/NNP was/VBD rather/RB doubtful/JJ whether/IN she/PRP ought/MD not/RB to/TO lie/VB down/RP on/IN her/PRP$ face/NN like/IN the/DT three/CD gardeners/NNS ,/, but/CC she/PRP could/MD not/RB remember/VB ever/RB having/VBG heard/VBN of/IN such/JJ a/DT rule/NN at/IN processions/NNS ;/: 'and/CD besides/NNS ,/, what/WP would/MD be/VB the/DT use/NN of/IN a/DT procession/NN ,/, '/'' thought/VBD she/PRP ,/, 'if/'' people/NNS had/VBD all/DT to/TO lie/VB down/RP upon/IN their/PRP$ faces/VBZ ,/, so/IN that/IN they/PRP could/MD n't/RB see/VB it/PRP ?/. '/''\n",
            "So/IN she/PRP stood/VBD still/RB where/WRB she/PRP was/VBD ,/, and/CC waited/VBD ./.\n",
            "When/WRB the/DT procession/NN came/VBD opposite/RB to/TO Alice/NNP ,/, they/PRP all/DT stopped/VBD and/CC looked/VBD at/IN her/PRP ,/, and/CC the/DT Queen/NNP said/VBD severely/RB 'Who/VBN is/VBZ this/DT ?/. '/''\n",
            "She/PRP said/VBD it/PRP to/TO the/DT Knave/NNP of/IN Hearts/NNP ,/, who/WP only/RB bowed/VBD and/CC smiled/VBD in/IN reply/NN ./.\n",
            "'Idiot/NN !/. '/''\n",
            "said/VBD the/DT Queen/NNP ,/, tossing/VBG her/PRP$ head/NN impatiently/RB ;/: and/CC ,/, turning/VBG to/TO Alice/NNP ,/, she/PRP went/VBD on/IN ,/, 'What/WP 's/VBZ your/PRP$ name/NN ,/, child/NN ?/. '/''\n",
            "'My/POS name/NN is/VBZ Alice/NNP ,/, so/IN please/VB your/PRP$ Majesty/NNP ,/, '/'' said/VBD Alice/NNP very/RB politely/RB ;/: but/CC she/PRP added/VBD ,/, to/TO herself/VB ,/, 'Why/FW ,/, they/PRP 're/VBP only/RB a/DT pack/NN of/IN cards/NNS ,/, after/IN all/DT ./.\n",
            "I/PRP need/VBP n't/RB be/VB afraid/VBN of/IN them/PRP !/. '/''\n",
            "'And/NNS who/WP are/VBP THESE/NNP ?/. '/''\n",
            "said/VBD the/DT Queen/NNP ,/, pointing/VBG to/TO the/DT three/CD gardeners/NNS who/WP were/VBD lying/VBG round/NN the/DT rosetree/NN ;/: for/IN ,/, you/PRP see/VBP ,/, as/IN they/PRP were/VBD lying/VBG on/IN their/PRP$ faces/VBZ ,/, and/CC the/DT pattern/NN on/IN their/PRP$ backs/NNS was/VBD the/DT same/JJ as/IN the/DT rest/NN of/IN the/DT pack/NN ,/, she/PRP could/MD not/RB tell/VB whether/IN they/PRP were/VBD gardeners/NNS ,/, or/CC soldiers/NNS ,/, or/CC courtiers/NNS ,/, or/CC three/CD of/IN her/PRP$ own/JJ children/NNS ./.\n",
            "'How/WRB should/MD I/PRP know/VB ?/. '/''\n",
            "said/VBD Alice/NNP ,/, surprised/VBD at/IN her/PRP$ own/JJ courage/NN ./.\n",
            "'It/EX 's/VBZ no/DT business/NN of/IN MINE/NNP ./. '/''\n",
            "The/DT Queen/NNP turned/VBD crimson/JJ with/IN fury/NN ,/, and/CC ,/, after/IN glaring/VBG at/IN her/PRP$ for/IN a/DT moment/NN like/IN a/DT wild/JJ beast/NN ,/, screamed/VBD 'Off/POS with/IN her/PRP$ head/NN !/.\n",
            "Off/NNP --/: '/POS 'Nonsense/NN !/. '/''\n",
            "said/VBD Alice/NNP ,/, very/RB loudly/RB and/CC decidedly/RB ,/, and/CC the/DT Queen/NNP was/VBD silent/JJ ./.\n",
            "The/DT King/NNP laid/VBD his/PRP$ hand/NN upon/IN her/PRP$ arm/NN ,/, and/CC timidly/RB said/VBD 'Consider/UH ,/, my/PRP$ dear/NN :/: she/PRP is/VBZ only/RB a/DT child/NN !/. '/''\n",
            "The/DT Queen/NNP turned/VBD angrily/RB away/RB from/IN him/PRP ,/, and/CC said/VBD to/TO the/DT Knave/NNP 'Turn/NNP them/PRP over/RP !/. '/''\n",
            "The/DT Knave/NNP did/VBD so/RB ,/, very/RB carefully/RB ,/, with/IN one/CD foot/NN ./.\n",
            "'Get/VB up/RP !/. '/''\n",
            "said/VBD the/DT Queen/NNP ,/, in/IN a/DT shrill/NN ,/, loud/JJ voice/NN ,/, and/CC the/DT three/CD gardeners/NNS instantly/RB jumped/VBD up/RP ,/, and/CC began/VBD bowing/VBG to/TO the/DT King/NNP ,/, the/DT Queen/NNP ,/, the/DT royal/NN children/NNS ,/, and/CC everybody/NN else/RB ./.\n",
            "'Leave/VB off/RP that/DT !/. '/''\n",
            "screamed/VBD the/DT Queen/NNP ./.\n",
            "'You/NNS make/VBP me/PRP giddy/JJ ./. '/''\n",
            "And/CC then/RB ,/, turning/VBG to/TO the/DT rose-tree/JJ ,/, she/PRP went/VBD on/IN ,/, 'What/WP HAVE/NNP you/PRP been/VBN doing/VBG here/RB ?/. '/''\n",
            "'May/IN it/PRP please/VB your/PRP$ Majesty/NNP ,/, '/'' said/VBD Two/CD ,/, in/IN a/DT very/RB humble/JJ tone/NN ,/, going/VBG down/RP on/IN one/CD knee/NN as/IN he/PRP spoke/VBD ,/, 'we/'' were/VBD trying/VBG --/: '/'' '/POS I/PRP see/VBP !/. '/''\n",
            "said/VBD the/DT Queen/NNP ,/, who/WP had/VBD meanwhile/RB been/VBN examining/VBG the/DT roses/NNS ./.\n",
            "'Off/NNS with/IN their/PRP$ heads/NNS !/. '/''\n",
            "and/CC the/DT procession/NN moved/VBD on/IN ,/, three/CD of/IN the/DT soldiers/NNS remaining/VBG behind/IN to/TO execute/VB the/DT unfortunate/JJ gardeners/NNS ,/, who/WP ran/VBD to/TO Alice/NNP for/IN protection/NN ./.\n",
            "'You/NNS sha/VBP n't/RB be/VB beheaded/VBN !/. '/''\n",
            "said/VBD Alice/NNP ,/, and/CC she/PRP put/VBD them/PRP into/IN a/DT large/JJ flower-pot/NN that/WDT stood/VBD near/IN ./.\n",
            "The/DT three/CD soldiers/NNS wandered/VBD about/IN for/IN a/DT minute/NN or/CC two/CD ,/, looking/VBG for/IN them/PRP ,/, and/CC then/RB quietly/RB marched/VBN off/RP after/IN the/DT others/NNS ./.\n",
            "'Are/POS their/PRP$ heads/NNS off/IN ?/. '/''\n",
            "shouted/VBD the/DT Queen/NNP ./.\n",
            "'Their/PRP$ heads/NNS are/VBP gone/VBN ,/, if/IN it/PRP please/VB your/PRP$ Majesty/NNP !/. '/''\n",
            "the/DT soldiers/NNS shouted/VBD in/IN reply/NN ./.\n",
            "'That/DT 's/VBZ right/JJ !/. '/''\n",
            "shouted/VBD the/DT Queen/NNP ./.\n",
            "'Can/MD you/PRP play/VB croquet/VB ?/. '/''\n",
            "The/DT soldiers/NNS were/VBD silent/JJ ,/, and/CC looked/VBD at/IN Alice/NNP ,/, as/IN the/DT question/NN was/VBD evidently/RB meant/VBN for/IN her/PRP ./.\n",
            "'Yes/UH !/. '/''\n",
            "shouted/VBN Alice/NNP ./.\n",
            "'Come/VBN on/IN ,/, then/RB !/. '/''\n",
            "roared/VBD the/DT Queen/NNP ,/, and/CC Alice/NNP joined/VBD the/DT procession/NN ,/, wondering/VBG very/RB much/JJ what/WP would/MD happen/VB next/RB ./.\n",
            "'It/NN 's/POS --/: it/PRP 's/VBZ a/DT very/RB fine/JJ day/NN !/. '/''\n",
            "said/VBD a/DT timid/JJ voice/NN at/IN her/PRP$ side/NN ./.\n",
            "She/PRP was/VBD walking/VBG by/IN the/DT White/NNP Rabbit/NNP ,/, who/WP was/VBD peeping/VBG anxiously/RB into/IN her/PRP$ face/NN ./.\n",
            "'Very/RB ,/, '/'' said/VBD Alice/NNP :/: '/POS --/: where/WRB 's/VBZ the/DT Duchess/NNP ?/. '/''\n",
            "'Hush/NN !/.\n",
            "Hush/NN !/. '/''\n",
            "said/VBD the/DT Rabbit/NNP in/IN a/DT low/JJ ,/, hurried/VBD tone/NN ./.\n",
            "He/PRP looked/VBD anxiously/RB over/IN his/PRP$ shoulder/NN as/IN he/PRP spoke/VBD ,/, and/CC then/RB raised/VBD himself/PRP upon/IN tiptoe/NN ,/, put/VBD his/PRP$ mouth/NN close/RB to/TO her/PRP$ ear/NN ,/, and/CC whispered/VBD 'She/PRP 's/VBZ under/IN sentence/NN of/IN execution/NN ./. '/''\n",
            "'What/DT for/IN ?/. '/''\n",
            "said/VBD Alice/NNP ./.\n",
            "'Did/IN you/PRP say/VBP ``/`` What/WP a/DT pity/NN !/. ''/'' ?/. '/''\n",
            "the/DT Rabbit/NNP asked/VBD ./.\n",
            "'No/CD ,/, I/PRP did/VBD n't/RB ,/, '/'' said/VBD Alice/NNP :/: '/POS I/PRP do/VBP n't/RB think/VB it/PRP 's/VBZ at/IN all/PDT a/DT pity/NN ./.\n",
            "I/PRP said/VBD ''/'' What/WP for/IN ?/. ''/'' '/''\n",
            "'She/CD boxed/VBD the/DT Queen/NNP 's/POS ears/NNS --/: '/'' the/DT Rabbit/NNP began/VBD ./.\n",
            "Alice/NNP gave/VBD a/DT little/JJ scream/NN of/IN laughter/NN ./.\n",
            "'Oh/CD ,/, hush/NN !/. '/''\n",
            "the/DT Rabbit/NNP whispered/VBD in/IN a/DT frightened/JJ tone/NN ./.\n",
            "'The/POS Queen/NNP will/MD hear/VB you/PRP !/.\n",
            "You/PRP see/VBP ,/, she/PRP came/VBD rather/RB late/JJ ,/, and/CC the/DT Queen/NNP said/VBD --/: '/'' 'Get/MD to/TO your/PRP$ places/NNS !/. '/''\n",
            "shouted/VBD the/DT Queen/NNP in/IN a/DT voice/NN of/IN thunder/NN ,/, and/CC people/NNS began/VBD running/VBG about/RB in/IN all/DT directions/NNS ,/, tumbling/VBG up/RP against/IN each/DT other/JJ ;/: however/RB ,/, they/PRP got/VBD settled/VBN down/RB in/IN a/DT minute/NN or/CC two/CD ,/, and/CC the/DT game/NN began/VBD ./.\n",
            "Alice/NNP thought/VBD she/PRP had/VBD never/RB seen/VBN such/PDT a/DT curious/JJ croquet-ground/NN in/IN her/PRP$ life/NN ;/: it/PRP was/VBD all/DT ridges/NNS and/CC furrows/NNS ;/: the/DT balls/NNS were/VBD live/JJ hedgehogs/NNS ,/, the/DT mallets/NNS live/VBP flamingoes/NNS ,/, and/CC the/DT soldiers/NNS had/VBD to/TO double/VB themselves/PRP up/RB and/CC to/TO stand/VB on/IN their/PRP$ hands/NNS and/CC feet/NNS ,/, to/TO make/VB the/DT arches/NNS ./.\n",
            "The/DT chief/NN difficulty/NN Alice/NNP found/VBD at/IN first/JJ was/VBD in/IN managing/VBG her/PRP$ flamingo/NN :/: she/PRP succeeded/VBD in/IN getting/VBG its/PRP$ body/NN tucked/VBD away/RB ,/, comfortably/RB enough/RB ,/, under/IN her/PRP$ arm/NN ,/, with/IN its/PRP$ legs/NNS hanging/VBG down/RP ,/, but/CC generally/RB ,/, just/RB as/IN she/PRP had/VBD got/VBN its/PRP$ neck/NN nicely/RB straightened/VBD out/RP ,/, and/CC was/VBD going/VBG to/TO give/VB the/DT hedgehog/NN a/DT blow/NN with/IN its/PRP$ head/NN ,/, it/PRP WOULD/NNP twist/VB itself/PRP round/JJ and/CC look/VB up/RP in/IN her/PRP$ face/NN ,/, with/IN such/PDT a/DT puzzled/JJ expression/NN that/IN she/PRP could/MD not/RB help/VB bursting/VBG out/RP laughing/VBG :/: and/CC when/WRB she/PRP had/VBD got/VBN its/PRP$ head/NN down/RB ,/, and/CC was/VBD going/VBG to/TO begin/VB again/RB ,/, it/PRP was/VBD very/RB provoking/VBG to/TO find/VB that/IN the/DT hedgehog/NN had/VBD unrolled/VBN itself/PRP ,/, and/CC was/VBD in/IN the/DT act/NN of/IN crawling/VBG away/RB :/: besides/IN all/PDT this/DT ,/, there/EX was/VBD generally/RB a/DT ridge/NN or/CC furrow/NN in/IN the/DT way/NN wherever/IN she/PRP wanted/VBD to/TO send/VB the/DT hedgehog/NN to/TO ,/, and/CC ,/, as/IN the/DT doubled-up/JJ soldiers/NNS were/VBD always/RB getting/VBG up/RP and/CC walking/VBG off/RP to/TO other/JJ parts/NNS of/IN the/DT ground/NN ,/, Alice/NNP soon/RB came/VBD to/TO the/DT conclusion/NN that/IN it/PRP was/VBD a/DT very/RB difficult/JJ game/NN indeed/RB ./.\n",
            "The/DT players/NNS all/DT played/VBN at/IN once/RB without/IN waiting/VBG for/IN turns/NNS ,/, quarrelling/VBG all/PDT the/DT while/NN ,/, and/CC fighting/VBG for/IN the/DT hedgehogs/NNS ;/: and/CC in/IN a/DT very/RB short/JJ time/NN the/DT Queen/NNP was/VBD in/IN a/DT furious/JJ passion/NN ,/, and/CC went/VBD stamping/VBG about/RB ,/, and/CC shouting/VBG 'Off/PRP with/IN his/PRP$ head/NN !/. '/''\n",
            "or/CC 'Off/POS with/IN her/PRP$ head/NN !/. '/''\n",
            "about/RB once/RB in/IN a/DT minute/NN ./.\n",
            "Alice/NNP began/VBD to/TO feel/VB very/RB uneasy/JJ :/: to/TO be/VB sure/JJ ,/, she/PRP had/VBD not/RB as/IN yet/RB had/VBD any/DT dispute/NN with/IN the/DT Queen/NNP ,/, but/CC she/PRP knew/VBD that/IN it/PRP might/MD happen/VB any/DT minute/NN ,/, 'and/'' then/RB ,/, '/'' thought/VBD she/PRP ,/, 'what/WP would/MD become/VB of/IN me/PRP ?/.\n",
            "They/PRP 're/VBP dreadfully/RB fond/NN of/IN beheading/VBG people/NNS here/RB ;/: the/DT great/JJ wonder/NN is/VBZ ,/, that/IN there/EX 's/VBZ any/DT one/CD left/VBD alive/JJ !/. '/''\n",
            "She/PRP was/VBD looking/VBG about/IN for/IN some/DT way/NN of/IN escape/NN ,/, and/CC wondering/VBG whether/IN she/PRP could/MD get/VB away/RB without/IN being/VBG seen/VBN ,/, when/WRB she/PRP noticed/VBD a/DT curious/JJ appearance/NN in/IN the/DT air/NN :/: it/PRP puzzled/VBD her/PRP very/RB much/RB at/IN first/JJ ,/, but/CC ,/, after/IN watching/VBG it/PRP a/DT minute/NN or/CC two/CD ,/, she/PRP made/VBD it/PRP out/RP to/TO be/VB a/DT grin/NN ,/, and/CC she/PRP said/VBD to/TO herself/VB 'It/PRP 's/VBZ the/DT Cheshire/NNP Cat/NNP :/: now/RB I/PRP shall/MD have/VB somebody/NN to/TO talk/VB to/TO ./. '/''\n",
            "'How/NNS are/VBP you/PRP getting/VBG on/IN ?/. '/''\n",
            "said/VBD the/DT Cat/NNP ,/, as/RB soon/RB as/IN there/EX was/VBD mouth/NN enough/RB for/IN it/PRP to/TO speak/VB with/IN ./.\n",
            "Alice/NNP waited/VBD till/IN the/DT eyes/NNS appeared/VBD ,/, and/CC then/RB nodded/VBD ./.\n",
            "'It/EX 's/VBZ no/DT use/NN speaking/VBG to/TO it/PRP ,/, '/'' she/PRP thought/VBD ,/, 'till/VB its/PRP$ ears/NNS have/VBP come/VBN ,/, or/CC at/IN least/JJS one/CD of/IN them/PRP ./. '/''\n",
            "In/IN another/DT minute/NN the/DT whole/JJ head/NN appeared/VBD ,/, and/CC then/RB Alice/NNP put/VBD down/RP her/PRP$ flamingo/NN ,/, and/CC began/VBD an/DT account/NN of/IN the/DT game/NN ,/, feeling/VBG very/RB glad/JJ she/PRP had/VBD someone/NN to/TO listen/VB to/TO her/PRP$ ./.\n",
            "The/DT Cat/NNP seemed/VBD to/TO think/VB that/IN there/EX was/VBD enough/RB of/IN it/PRP now/RB in/IN sight/NN ,/, and/CC no/DT more/JJR of/IN it/PRP appeared/VBD ./.\n",
            "'/POS I/PRP do/VBP n't/RB think/VB they/PRP play/VBP at/IN all/DT fairly/RB ,/, '/'' Alice/NNP began/VBD ,/, in/IN rather/RB a/DT complaining/VBG tone/NN ,/, 'and/'' they/PRP all/DT quarrel/VBP so/RB dreadfully/RB one/CD ca/MD n't/RB hear/VB oneself/PRP speak/VB --/: and/CC they/PRP do/VBP n't/RB seem/VB to/TO have/VB any/DT rules/NNS in/IN particular/JJ ;/: at/IN least/JJS ,/, if/IN there/EX are/VBP ,/, nobody/JJ attends/NNS to/TO them/PRP --/: and/CC you/PRP 've/VBP no/DT idea/NN how/WRB confusing/JJ it/PRP is/VBZ all/PDT the/DT things/NNS being/VBG alive/JJ ;/: for/IN instance/NN ,/, there/EX 's/VBZ the/DT arch/NN I/PRP 've/VBP got/VBN to/TO go/VB through/IN next/JJ walking/NN about/RB at/IN the/DT other/JJ end/NN of/IN the/DT ground/NN --/: and/CC I/PRP should/MD have/VB croqueted/VBN the/DT Queen/NNP 's/POS hedgehog/NN just/RB now/RB ,/, only/RB it/PRP ran/VBD away/RB when/WRB it/PRP saw/VBD mine/JJ coming/VBG !/. '/''\n",
            "'How/WRB do/VBP you/PRP like/IN the/DT Queen/NNP ?/. '/''\n",
            "said/VBD the/DT Cat/NNP in/IN a/DT low/JJ voice/NN ./.\n",
            "'Not/NNS at/IN all/DT ,/, '/'' said/VBD Alice/NNP :/: 'she/NN 's/POS so/RB extremely/RB --/: '/'' Just/RB then/RB she/PRP noticed/VBD that/IN the/DT Queen/NNP was/VBD close/JJ behind/IN her/PRP ,/, listening/VBG :/: so/RB she/PRP went/VBD on/IN ,/, '/'' --/: likely/JJ to/TO win/VB ,/, that/IN it/PRP 's/VBZ hardly/RB worth/JJ while/IN finishing/VBG the/DT game/NN ./. '/''\n",
            "The/DT Queen/NNP smiled/VBD and/CC passed/VBD on/IN ./.\n",
            "'Who/NNS ARE/VBP you/PRP talking/VBG to/TO ?/. '/''\n",
            "said/VBD the/DT King/NNP ,/, going/VBG up/RP to/TO Alice/NNP ,/, and/CC looking/VBG at/IN the/DT Cat/NNP 's/POS head/NN with/IN great/JJ curiosity/NN ./.\n",
            "'It/NN 's/POS a/DT friend/NN of/IN mine/NN --/: a/DT Cheshire/NNP Cat/NNP ,/, '/'' said/VBD Alice/NNP :/: 'allow/VB me/PRP to/TO introduce/VB it/PRP ./. '/''\n",
            "'/POS I/PRP do/VBP n't/RB like/VB the/DT look/NN of/IN it/PRP at/IN all/DT ,/, '/'' said/VBD the/DT King/NNP :/: 'however/CD ,/, it/PRP may/MD kiss/VB my/PRP$ hand/NN if/IN it/PRP likes/VBZ ./. '/''\n",
            "'/POS I/PRP 'd/MD rather/RB not/RB ,/, '/'' the/DT Cat/NNP remarked/VBD ./.\n",
            "'Do/MD n't/RB be/VB impertinent/JJ ,/, '/'' said/VBD the/DT King/NNP ,/, 'and/NNP do/VBP n't/RB look/VB at/IN me/PRP like/IN that/DT !/. '/''\n",
            "He/PRP got/VBD behind/RB Alice/NNP as/IN he/PRP spoke/VBD ./.\n",
            "'/'' A/DT cat/NN may/MD look/VB at/IN a/DT king/NN ,/, '/'' said/VBD Alice/NNP ./.\n",
            "'/POS I/PRP 've/VBP read/VBN that/IN in/IN some/DT book/NN ,/, but/CC I/PRP do/VBP n't/RB remember/VB where/WRB ./. '/''\n",
            "'Well/UH ,/, it/PRP must/MD be/VB removed/VBN ,/, '/'' said/VBD the/DT King/NNP very/RB decidedly/RB ,/, and/CC he/PRP called/VBD the/DT Queen/NNP ,/, who/WP was/VBD passing/VBG at/IN the/DT moment/NN ,/, 'My/'' dear/NN !/.\n",
            "I/PRP wish/VBP you/PRP would/MD have/VB this/DT cat/NN removed/VBD !/. '/''\n",
            "The/DT Queen/NNP had/VBD only/RB one/CD way/NN of/IN settling/VBG all/DT difficulties/NNS ,/, great/JJ or/CC small/JJ ./.\n",
            "'Off/NN with/IN his/PRP$ head/NN !/. '/''\n",
            "she/PRP said/VBD ,/, without/IN even/RB looking/VBG round/NN ./.\n",
            "'/POS I/PRP 'll/MD fetch/VB the/DT executioner/NN myself/PRP ,/, '/'' said/VBD the/DT King/NNP eagerly/RB ,/, and/CC he/PRP hurried/VBD off/RP ./.\n",
            "Alice/NNP thought/VBD she/PRP might/MD as/RB well/RB go/VB back/RB ,/, and/CC see/VB how/WRB the/DT game/NN was/VBD going/VBG on/IN ,/, as/IN she/PRP heard/VBD the/DT Queen/NNP 's/POS voice/NN in/IN the/DT distance/NN ,/, screaming/VBG with/IN passion/NN ./.\n",
            "She/PRP had/VBD already/RB heard/VBN her/PRP$ sentence/NN three/CD of/IN the/DT players/NNS to/TO be/VB executed/VBN for/IN having/VBG missed/VBN their/PRP$ turns/NNS ,/, and/CC she/PRP did/VBD not/RB like/IN the/DT look/NN of/IN things/NNS at/IN all/DT ,/, as/IN the/DT game/NN was/VBD in/IN such/JJ confusion/NN that/IN she/PRP never/RB knew/VBD whether/IN it/PRP was/VBD her/PRP turn/NN or/CC not/RB ./.\n",
            "So/IN she/PRP went/VBD in/IN search/NN of/IN her/PRP$ hedgehog/NN ./.\n",
            "The/DT hedgehog/NN was/VBD engaged/VBN in/IN a/DT fight/NN with/IN another/DT hedgehog/NN ,/, which/WDT seemed/VBD to/TO Alice/NNP an/DT excellent/JJ opportunity/NN for/IN croqueting/VBG one/CD of/IN them/PRP with/IN the/DT other/JJ :/: the/DT only/JJ difficulty/NN was/VBD ,/, that/IN her/PRP$ flamingo/NN was/VBD gone/VBN across/IN to/TO the/DT other/JJ side/NN of/IN the/DT garden/NN ,/, where/WRB Alice/NNP could/MD see/VB it/PRP trying/VBG in/IN a/DT helpless/JJ sort/NN of/IN way/NN to/TO fly/VB up/RP into/IN a/DT tree/NN ./.\n",
            "By/IN the/DT time/NN she/PRP had/VBD caught/VBN the/DT flamingo/NN and/CC brought/VBD it/PRP back/RB ,/, the/DT fight/NN was/VBD over/IN ,/, and/CC both/DT the/DT hedgehogs/NNS were/VBD out/IN of/IN sight/NN :/: 'but/VB it/PRP doesn't/VB matter/RB much/RB ,/, '/'' thought/JJ Alice/NNP ,/, 'as/'' all/PDT the/DT arches/NNS are/VBP gone/VBN from/IN this/DT side/NN of/IN the/DT ground/NN ./. '/''\n",
            "So/IN she/PRP tucked/VBD it/PRP away/RP under/IN her/PRP$ arm/NN ,/, that/IN it/PRP might/MD not/RB escape/VB again/RB ,/, and/CC went/VBD back/RB for/IN a/DT little/RB more/JJR conversation/NN with/IN her/PRP$ friend/NN ./.\n",
            "When/WRB she/PRP got/VBD back/RB to/TO the/DT Cheshire/NNP Cat/NNP ,/, she/PRP was/VBD surprised/VBN to/TO find/VB quite/PDT a/DT large/JJ crowd/NN collected/VBD round/NN it/PRP :/: there/EX was/VBD a/DT dispute/NN going/VBG on/IN between/IN the/DT executioner/NN ,/, the/DT King/NNP ,/, and/CC the/DT Queen/NNP ,/, who/WP were/VBD all/DT talking/VBG at/IN once/RB ,/, while/IN all/PDT the/DT rest/NN were/VBD quite/RB silent/JJ ,/, and/CC looked/VBD very/RB uncomfortable/JJ ./.\n",
            "The/DT moment/NN Alice/NNP appeared/VBD ,/, she/PRP was/VBD appealed/VBN to/TO by/IN all/DT three/CD to/TO settle/VB the/DT question/NN ,/, and/CC they/PRP repeated/VBD their/PRP$ arguments/NNS to/TO her/PRP$ ,/, though/RB ,/, as/IN they/PRP all/DT spoke/VBD at/IN once/RB ,/, she/PRP found/VBD it/PRP very/RB hard/RB indeed/RB to/TO make/VB out/RP exactly/RB what/WP they/PRP said/VBD ./.\n",
            "The/DT executioner/NN 's/POS argument/NN was/VBD ,/, that/IN you/PRP could/MD n't/RB cut/VB off/RP a/DT head/NN unless/IN there/EX was/VBD a/DT body/NN to/TO cut/VB it/PRP off/RP from/IN :/: that/IN he/PRP had/VBD never/RB had/VBN to/TO do/VB such/PDT a/DT thing/NN before/IN ,/, and/CC he/PRP was/VBD n't/RB going/VBG to/TO begin/VB at/IN HIS/NNP time/NN of/IN life/NN ./.\n",
            "The/DT King/NNP 's/POS argument/NN was/VBD ,/, that/IN anything/NN that/WDT had/VBD a/DT head/NN could/MD be/VB beheaded/VBN ,/, and/CC that/IN you/PRP were/VBD n't/RB to/TO talk/VB nonsense/NN ./.\n",
            "The/DT Queen/NNP 's/POS argument/NN was/VBD ,/, that/IN if/IN something/NN was/VBD n't/RB done/VBN about/IN it/PRP in/IN less/JJR than/IN no/DT time/NN she/PRP 'd/MD have/VB everybody/NN executed/VBN ,/, all/DT round/NN ./.\n",
            "(/( It/PRP was/VBD this/DT last/JJ remark/NN that/WDT had/VBD made/VBN the/DT whole/JJ party/NN look/NN so/RB grave/JJ and/CC anxious/JJ ./. )/)\n",
            "Alice/NNP could/MD think/VB of/IN nothing/NN else/RB to/TO say/VB but/CC 'It/NNP belongs/VBZ to/TO the/DT Duchess/NN :/: you/PRP 'd/MD better/VB ask/VB HER/PRP about/IN it/PRP ./. '/''\n",
            "'She/NN 's/POS in/IN prison/NN ,/, '/'' the/DT Queen/NNP said/VBD to/TO the/DT executioner/NN :/: 'fetch/VB her/PRP$ here/RB ./. '/''\n",
            "And/CC the/DT executioner/NN went/VBD off/IN like/IN an/DT arrow/NN ./.\n",
            "The/DT Cat/NNP 's/POS head/NN began/VBD fading/VBG away/RB the/DT moment/NN he/PRP was/VBD gone/VBN ,/, and/CC ,/, by/IN the/DT time/NN he/PRP had/VBD come/VBN back/RB with/IN the/DT Duchess/NNP ,/, it/PRP had/VBD entirely/RB disappeared/VBN ;/: so/IN the/DT King/NNP and/CC the/DT executioner/NN ran/VBD wildly/RB up/IN and/CC down/IN looking/VBG for/IN it/PRP ,/, while/IN the/DT rest/NN of/IN the/DT party/NN went/VBD back/RB to/TO the/DT game/NN ./.\n",
            "CHAPTER/NN IX/NNP ./.\n",
            "The/DT Mock/NNP Turtle/NNP 's/POS Story/NNP 'You/NNP ca/MD n't/RB think/VB how/WRB glad/JJ I/PRP am/VBP to/TO see/VB you/PRP again/RB ,/, you/PRP dear/VBP old/JJ thing/NN !/. '/''\n",
            "said/VBD the/DT Duchess/NNP ,/, as/IN she/PRP tucked/VBD her/PRP arm/NN affectionately/RB into/IN Alice/NNP 's/POS ,/, and/CC they/PRP walked/VBD off/RP together/RB ./.\n",
            "Alice/NNP was/VBD very/RB glad/JJ to/TO find/VB her/PRP$ in/IN such/JJ a/DT pleasant/JJ temper/NN ,/, and/CC thought/VBD to/TO herself/VB that/IN perhaps/RB it/PRP was/VBD only/RB the/DT pepper/NN that/WDT had/VBD made/VBN her/PRP$ so/RB savage/JJ when/WRB they/PRP met/VBD in/IN the/DT kitchen/NN ./.\n",
            "'When/POS I/PRP 'M/VBP a/DT Duchess/NNP ,/, '/'' she/PRP said/VBD to/TO herself/VB ,/, (/( not/RB in/IN a/DT very/RB hopeful/JJ tone/NN though/IN )/) ,/, '/'' I/PRP wo/MD n't/RB have/VB any/DT pepper/NN in/IN my/PRP$ kitchen/NN AT/NNP ALL/NNP ./.\n",
            "Soup/NN does/VBZ very/RB well/RB without/IN --/: Maybe/VBP it/PRP 's/VBZ always/RB pepper/JJ that/IN makes/VBZ people/NNS hot-tempered/JJ ,/, '/'' she/PRP went/VBD on/IN ,/, very/RB much/RB pleased/VBN at/IN having/VBG found/VBN out/RP a/DT new/JJ kind/NN of/IN rule/NN ,/, 'and/CD vinegar/NN that/WDT makes/VBZ them/PRP sour/VB --/: and/CC camomile/JJ that/WDT makes/VBZ them/PRP bitter/JJ --/: and/CC --/: and/CC barley-sugar/JJ and/CC such/JJ things/NNS that/WDT make/VBP children/NNS sweet-tempered/JJ ./.\n",
            "I/PRP only/RB wish/JJ people/NNS knew/VBD that/IN :/: then/RB they/PRP would/MD n't/RB be/VB so/RB stingy/JJ about/IN it/PRP ,/, you/PRP know/VBP --/: '/POS She/PRP had/VBD quite/RB forgotten/VBN the/DT Duchess/NNP by/IN this/DT time/NN ,/, and/CC was/VBD a/DT little/JJ startled/JJ when/WRB she/PRP heard/VBD her/PRP voice/NN close/RB to/TO her/PRP$ ear/NN ./.\n",
            "'You/POS 're/VBP thinking/VBG about/IN something/NN ,/, my/PRP$ dear/NN ,/, and/CC that/IN makes/VBZ you/PRP forget/VB to/TO talk/VB ./.\n",
            "I/PRP can't/VBP tell/VB you/PRP just/RB now/RB what/WP the/DT moral/NN of/IN that/DT is/VBZ ,/, but/CC I/PRP shall/MD remember/VB it/PRP in/IN a/DT bit/NN ./. '/''\n",
            "'Perhaps/NNS it/PRP has/VBZ n't/RB one/CD ,/, '/'' Alice/NNP ventured/VBD to/TO remark/VB ./.\n",
            "'Tut/CD ,/, tut/NN ,/, child/NN !/. '/''\n",
            "said/VBD the/DT Duchess/NNP ./.\n",
            "'Everything/VBG 's/POS got/VBD a/DT moral/JJ ,/, if/IN only/RB you/PRP can/MD find/VB it/PRP ./. '/''\n",
            "And/CC she/PRP squeezed/VBD herself/PRP up/RP closer/RBR to/TO Alice/NNP 's/POS side/NN as/IN she/PRP spoke/VBD ./.\n",
            "Alice/NNP did/VBD not/RB much/JJ like/IN keeping/VBG so/RB close/RB to/TO her/PRP$ :/: first/RB ,/, because/IN the/DT Duchess/NNP was/VBD VERY/NNP ugly/RB ;/: and/CC secondly/RB ,/, because/IN she/PRP was/VBD exactly/RB the/DT right/JJ height/NN to/TO rest/VB her/PRP$ chin/JJ upon/IN Alice/NNP 's/POS shoulder/NN ,/, and/CC it/PRP was/VBD an/DT uncomfortably/JJ sharp/JJ chin/NN ./.\n",
            "However/RB ,/, she/PRP did/VBD not/RB like/IN to/TO be/VB rude/JJ ,/, so/IN she/PRP bore/VBD it/PRP as/RB well/RB as/IN she/PRP could/MD ./.\n",
            "'The/JJ game/NN 's/POS going/VBG on/IN rather/RB better/JJR now/RB ,/, '/'' she/PRP said/VBD ,/, by/IN way/NN of/IN keeping/VBG up/RP the/DT conversation/NN a/DT little/JJ ./.\n",
            "''/'' Tis/NNP so/RB ,/, '/'' said/VBD the/DT Duchess/NN :/: 'and/CD the/DT moral/NN of/IN that/DT is/VBZ --/: ''/'' Oh/UH ,/, 't/'' is/VBZ love/NN ,/, 'tis/'' love/NN ,/, that/WDT makes/VBZ the/DT world/NN go/VBP round/NN !/. ''/'' '/''\n",
            "'Somebody/NN said/VBD ,/, '/'' Alice/NNP whispered/VBD ,/, 'that/IN it/PRP 's/VBZ done/VBN by/IN everybody/NN minding/VBG their/PRP$ own/JJ business/NN !/. '/''\n",
            "'Ah/NN ,/, well/RB !/.\n",
            "It/PRP means/VBZ much/RB the/DT same/JJ thing/NN ,/, '/'' said/VBD the/DT Duchess/NNP ,/, digging/VBG her/PRP$ sharp/JJ little/JJ chin/NN into/IN Alice/NNP 's/POS shoulder/NN as/IN she/PRP added/VBD ,/, 'and/'' the/DT moral/NN of/IN THAT/DT is/VBZ --/: ''/'' Take/NNP care/NN of/IN the/DT sense/NN ,/, and/CC the/DT sounds/NNS will/MD take/VB care/NN of/IN themselves/PRP ./. ''/'' '/''\n",
            "'How/CD fond/NN she/PRP is/VBZ of/IN finding/VBG morals/NNS in/IN things/NNS !/. '/''\n",
            "Alice/NNP thought/VBD to/TO herself/VB ./.\n",
            "'/POS I/PRP dare/VBP say/VB you/PRP 're/VBP wondering/VBG why/WRB I/PRP do/VBP n't/RB put/VB my/PRP$ arm/NN round/VB your/PRP$ waist/NN ,/, '/'' the/DT Duchess/NNP said/VBD after/IN a/DT pause/NN :/: 'the/CD reason/NN is/VBZ ,/, that/IN I/PRP 'm/VBP doubtful/JJ about/IN the/DT temper/NN of/IN your/PRP$ flamingo/NN ./.\n",
            "Shall/NN I/PRP try/VBP the/DT experiment/NN ?/. '/''\n",
            "'HE/NN might/MD bite/VB ,/, '/'' Alice/NNP cautiously/RB replied/VBD ,/, not/RB feeling/VBG at/IN all/DT anxious/JJ to/TO have/VB the/DT experiment/NN tried/VBD ./.\n",
            "'Very/DT true/JJ ,/, '/'' said/VBD the/DT Duchess/NN :/: 'flamingoes/NNS and/CC mustard/VB both/DT bite/NN ./.\n",
            "And/CC the/DT moral/NN of/IN that/DT is/VBZ --/: ''/'' Birds/NNS of/IN a/DT feather/NN flock/NN together/RB ./. ''/'' '/''\n",
            "'Only/RB mustard/NN is/VBZ n't/RB a/DT bird/NN ,/, '/'' Alice/NNP remarked/VBD ./.\n",
            "'Right/RB ,/, as/IN usual/JJ ,/, '/'' said/VBD the/DT Duchess/NN :/: 'what/WP a/DT clear/JJ way/NN you/PRP have/VBP of/IN putting/VBG things/NNS !/. '/''\n",
            "'It/NN 's/POS a/DT mineral/NN ,/, I/PRP THINK/VBP ,/, '/'' said/VBD Alice/NNP ./.\n",
            "'Of/CD course/NN it/PRP is/VBZ ,/, '/'' said/VBD the/DT Duchess/NNP ,/, who/WP seemed/VBD ready/JJ to/TO agree/VB to/TO everything/NN that/WDT Alice/NNP said/VBD ;/: 'there/EX 's/VBZ a/DT large/JJ mustard-mine/NN near/IN here/RB ./.\n",
            "And/CC the/DT moral/NN of/IN that/DT is/VBZ --/: ''/'' The/DT more/RBR there/EX is/VBZ of/IN mine/NN ,/, the/DT less/JJR there/EX is/VBZ of/IN yours/NNS ./. ''/'' '/''\n",
            "'Oh/CD ,/, I/PRP know/VBP !/. '/''\n",
            "exclaimed/JJ Alice/NNP ,/, who/WP had/VBD not/RB attended/VBN to/TO this/DT last/JJ remark/NN ,/, 'it/EX 's/VBZ a/DT vegetable/JJ ./.\n",
            "It/PRP does/VBZ n't/RB look/VB like/IN one/CD ,/, but/CC it/PRP is/VBZ ./. '/''\n",
            "'/POS I/PRP quite/VBP agree/JJ with/IN you/PRP ,/, '/'' said/VBD the/DT Duchess/NNP ;/: 'and/CD the/DT moral/NN of/IN that/DT is/VBZ --/: ''/'' Be/VB what/WP you/PRP would/MD seem/VB to/TO be/VB ''/'' --/: or/CC if/IN you/PRP 'd/MD like/VB it/PRP put/VB more/RBR simply/RB --/: ''/'' Never/RB imagine/VB yourself/PRP not/RB to/TO be/VB otherwise/RB than/IN what/WP it/PRP might/MD appear/VB to/TO others/NNS that/IN what/WP you/PRP were/VBD or/CC might/MD have/VB been/VBN was/VBD not/RB otherwise/RB than/IN what/WP you/PRP had/VBD been/VBN would/MD have/VB appeared/VBN to/TO them/PRP to/TO be/VB otherwise/RB ./. ''/'' '/''\n",
            "'/POS I/PRP think/VBP I/PRP should/MD understand/VB that/IN better/JJR ,/, '/'' Alice/NNP said/VBD very/RB politely/RB ,/, 'if/'' I/PRP had/VBD it/PRP written/VBN down/RP :/: but/CC I/PRP ca/MD n't/RB quite/RB follow/VB it/PRP as/IN you/PRP say/VBP it/PRP ./. '/''\n",
            "'That/DT 's/VBZ nothing/NN to/TO what/WP I/PRP could/MD say/VB if/IN I/PRP chose/VBD ,/, '/'' the/DT Duchess/NNP replied/VBD ,/, in/IN a/DT pleased/JJ tone/NN ./.\n",
            "'Pray/NNS do/VBP n't/RB trouble/NN yourself/PRP to/TO say/VB it/PRP any/DT longer/JJR than/IN that/DT ,/, '/'' said/VBD Alice/NNP ./.\n",
            "'Oh/NNS ,/, do/VBP n't/RB talk/VB about/IN trouble/NN !/. '/''\n",
            "said/VBD the/DT Duchess/NNP ./.\n",
            "'/POS I/PRP make/VBP you/PRP a/DT present/JJ of/IN everything/NN I/PRP 've/VBP said/VBD as/IN yet/RB ./. '/''\n",
            "'/'' A/DT cheap/JJ sort/NN of/IN present/JJ !/. '/''\n",
            "thought/JJ Alice/NNP ./.\n",
            "'/POS I/PRP 'm/VBP glad/JJ they/PRP do/VBP n't/RB give/VB birthday/JJ presents/NNS like/IN that/DT !/. '/''\n",
            "But/CC she/PRP did/VBD not/RB venture/NN to/TO say/VB it/PRP out/RP loud/JJ ./.\n",
            "'Thinking/VBG again/RB ?/. '/''\n",
            "the/DT Duchess/NNP asked/VBD ,/, with/IN another/DT dig/NN of/IN her/PRP$ sharp/JJ little/JJ chin/NN ./.\n",
            "'/POS I/PRP 've/VBP a/DT right/NN to/TO think/VB ,/, '/'' said/VBD Alice/NNP sharply/RB ,/, for/IN she/PRP was/VBD beginning/VBG to/TO feel/VB a/DT little/JJ worried/JJ ./.\n",
            "'Just/RB about/RB as/RB much/JJ right/NN ,/, '/'' said/VBD the/DT Duchess/NNP ,/, 'as/'' pigs/NNS have/VBP to/TO fly/VB ;/: and/CC the/DT m/NN --/: '/'' But/CC here/RB ,/, to/TO Alice/NNP 's/POS great/JJ surprise/NN ,/, the/DT Duchess/NNP 's/POS voice/NN died/VBD away/RB ,/, even/RB in/IN the/DT middle/NN of/IN her/PRP$ favourite/JJ word/NN 'moral/NNP ,/, '/'' and/CC the/DT arm/NN that/WDT was/VBD linked/VBN into/IN hers/NNS began/VBD to/TO tremble/VB ./.\n",
            "Alice/NN looked/VBD up/RB ,/, and/CC there/RB stood/VBD the/DT Queen/NNP in/IN front/NN of/IN them/PRP ,/, with/IN her/PRP$ arms/NNS folded/VBN ,/, frowning/VBG like/IN a/DT thunderstorm/NN ./.\n",
            "'/'' A/DT fine/JJ day/NN ,/, your/PRP$ Majesty/JJ !/. '/''\n",
            "the/DT Duchess/NNP began/VBD in/IN a/DT low/JJ ,/, weak/JJ voice/NN ./.\n",
            "'Now/CD ,/, I/PRP give/VBP you/PRP fair/JJ warning/VBG ,/, '/'' shouted/VBD the/DT Queen/NNP ,/, stamping/VBG on/IN the/DT ground/NN as/IN she/PRP spoke/VBD ;/: 'either/CC you/PRP or/CC your/PRP$ head/NN must/MD be/VB off/RP ,/, and/CC that/IN in/IN about/IN half/NN no/DT time/NN !/.\n",
            "Take/VB your/PRP$ choice/NN !/. '/''\n",
            "The/DT Duchess/NNP took/VBD her/PRP$ choice/NN ,/, and/CC was/VBD gone/VBN in/IN a/DT moment/NN ./.\n",
            "'Let/NN 's/POS go/VB on/IN with/IN the/DT game/NN ,/, '/'' the/DT Queen/NNP said/VBD to/TO Alice/NNP ;/: and/CC Alice/NNP was/VBD too/RB much/JJ frightened/VBN to/TO say/VB a/DT word/NN ,/, but/CC slowly/RB followed/VBD her/PRP back/RB to/TO the/DT croquet-ground/NN ./.\n",
            "The/DT other/JJ guests/NNS had/VBD taken/VBN advantage/NN of/IN the/DT Queen/NNP 's/POS absence/NN ,/, and/CC were/VBD resting/VBG in/IN the/DT shade/NN :/: however/RB ,/, the/DT moment/NN they/PRP saw/VBD her/PRP ,/, they/PRP hurried/VBD back/RB to/TO the/DT game/NN ,/, the/DT Queen/NNP merely/RB remarking/VBG that/IN a/DT moment/NN 's/POS delay/NN would/MD cost/VB them/PRP their/PRP$ lives/NNS ./.\n",
            "All/PDT the/DT time/NN they/PRP were/VBD playing/VBG the/DT Queen/NNP never/RB left/VBD off/RP quarrelling/VBG with/IN the/DT other/JJ players/NNS ,/, and/CC shouting/VBG 'Off/PRP with/IN his/PRP$ head/NN !/. '/''\n",
            "or/CC 'Off/POS with/IN her/PRP$ head/NN !/. '/''\n",
            "Those/DT whom/WP she/PRP sentenced/VBD were/VBD taken/VBN into/IN custody/NN by/IN the/DT soldiers/NNS ,/, who/WP of/IN course/NN had/VBD to/TO leave/VB off/RP being/VBG arches/NNS to/TO do/VB this/DT ,/, so/IN that/IN by/IN the/DT end/NN of/IN half/PDT an/DT hour/NN or/CC so/RB there/EX were/VBD no/DT arches/NNS left/VBD ,/, and/CC all/PDT the/DT players/NNS ,/, except/IN the/DT King/NNP ,/, the/DT Queen/NNP ,/, and/CC Alice/NNP ,/, were/VBD in/IN custody/NN and/CC under/IN sentence/NN of/IN execution/NN ./.\n",
            "Then/RB the/DT Queen/NNP left/VBD off/RP ,/, quite/RB out/IN of/IN breath/NN ,/, and/CC said/VBD to/TO Alice/NNP ,/, 'Have/VBP you/PRP seen/VBN the/DT Mock/NNP Turtle/NNP yet/RB ?/. '/''\n",
            "'No/CD ,/, '/'' said/VBD Alice/NNP ./.\n",
            "'/POS I/PRP do/VBP n't/RB even/RB know/VB what/WP a/DT Mock/NNP Turtle/NNP is/VBZ ./. '/''\n",
            "'It/NN 's/POS the/DT thing/NN Mock/NNP Turtle/NNP Soup/NNP is/VBZ made/VBN from/IN ,/, '/'' said/VBD the/DT Queen/NNP ./.\n",
            "'/POS I/PRP never/RB saw/VBD one/CD ,/, or/CC heard/NN of/IN one/CD ,/, '/'' said/VBD Alice/NNP ./.\n",
            "'Come/VBN on/IN ,/, then/RB ,/, '/'' said/VBD the/DT Queen/NNP ,/, 'and/NN he/PRP shall/MD tell/VB you/PRP his/PRP$ history/NN ,/, '/'' As/IN they/PRP walked/VBD off/RP together/RB ,/, Alice/NNP heard/VBD the/DT King/NNP say/VBP in/IN a/DT low/JJ voice/NN ,/, to/TO the/DT company/NN generally/RB ,/, 'You/EX are/VBP all/DT pardoned/VBN ./. '/''\n",
            "'Come/CD ,/, THAT/NNP 'S/VBZ a/DT good/JJ thing/NN !/. '/''\n",
            "she/PRP said/VBD to/TO herself/VB ,/, for/IN she/PRP had/VBD felt/VBN quite/RB unhappy/JJ at/IN the/DT number/NN of/IN executions/NNS the/DT Queen/NNP had/VBD ordered/VBN ./.\n",
            "They/PRP very/RB soon/RB came/VBD upon/IN a/DT Gryphon/NNP ,/, lying/VBG fast/RB asleep/RB in/IN the/DT sun/NN ./.\n",
            "(/( IF/NNP you/PRP do/VBP n't/RB know/VB what/WP a/DT Gryphon/NNP is/VBZ ,/, look/NN at/IN the/DT picture/NN ./. )/)\n",
            "'Up/CD ,/, lazy/JJ thing/NN !/. '/''\n",
            "said/VBD the/DT Queen/NNP ,/, 'and/NNP take/VB this/DT young/JJ lady/NN to/TO see/VB the/DT Mock/NNP Turtle/NNP ,/, and/CC to/TO hear/VB his/PRP$ history/NN ./.\n",
            "I/PRP must/MD go/VB back/RB and/CC see/VB after/IN some/DT executions/NNS I/PRP have/VBP ordered/VBN '/POS ;/: and/CC she/PRP walked/VBD off/RP ,/, leaving/VBG Alice/NNP alone/RB with/IN the/DT Gryphon/NNP ./.\n",
            "Alice/NNP did/VBD not/RB quite/RB like/IN the/DT look/NN of/IN the/DT creature/NN ,/, but/CC on/IN the/DT whole/JJ she/PRP thought/VBD it/PRP would/MD be/VB quite/RB as/IN safe/JJ to/TO stay/VB with/IN it/PRP as/IN to/TO go/VB after/IN that/DT savage/NN Queen/VBZ :/: so/RB she/PRP waited/VBD ./.\n",
            "The/DT Gryphon/NNP sat/VBD up/RP and/CC rubbed/VB its/PRP$ eyes/NNS :/: then/RB it/PRP watched/VBD the/DT Queen/NNP till/NN she/PRP was/VBD out/IN of/IN sight/NN :/: then/RB it/PRP chuckled/VBD ./.\n",
            "'What/DT fun/NN !/. '/''\n",
            "said/VBD the/DT Gryphon/NNP ,/, half/NN to/TO itself/PRP ,/, half/NN to/TO Alice/NNP ./.\n",
            "'What/WDT IS/VBZ the/DT fun/NN ?/. '/''\n",
            "said/VBD Alice/NNP ./.\n",
            "'Why/NN ,/, SHE/NNP ,/, '/'' said/VBD the/DT Gryphon/NNP ./.\n",
            "'It/NN 's/POS all/DT her/PRP$ fancy/NN ,/, that/IN :/: they/PRP never/RB executes/VBZ nobody/NN ,/, you/PRP know/VBP ./.\n",
            "Come/VBN on/IN !/. '/''\n",
            "'Everybody/NN says/VBZ ``/`` come/VB on/IN !/. ''/''\n",
            "here/RB ,/, '/'' thought/JJ Alice/NNP ,/, as/IN she/PRP went/VBD slowly/RB after/IN it/PRP :/: '/'' I/PRP never/RB was/VBD so/RB ordered/JJ about/IN in/IN all/DT my/PRP$ life/NN ,/, never/RB !/. '/''\n",
            "They/PRP had/VBD not/RB gone/VBN far/RB before/IN they/PRP saw/VBD the/DT Mock/NNP Turtle/NNP in/IN the/DT distance/NN ,/, sitting/VBG sad/JJ and/CC lonely/RB on/IN a/DT little/JJ ledge/NN of/IN rock/NN ,/, and/CC ,/, as/IN they/PRP came/VBD nearer/RB ,/, Alice/NNP could/MD hear/VB him/PRP sighing/VBG as/IN if/IN his/PRP$ heart/NN would/MD break/VB ./.\n",
            "She/PRP pitied/VBD him/PRP deeply/RB ./.\n",
            "'What/DT is/VBZ his/PRP$ sorrow/NN ?/. '/''\n",
            "she/PRP asked/VBD the/DT Gryphon/NNP ,/, and/CC the/DT Gryphon/NNP answered/VBD ,/, very/RB nearly/RB in/IN the/DT same/JJ words/NNS as/IN before/RB ,/, 'It/PRP 's/VBZ all/DT his/PRP$ fancy/NN ,/, that/IN :/: he/PRP has/VBZ n't/RB got/VBD no/DT sorrow/NN ,/, you/PRP know/VBP ./.\n",
            "Come/VBN on/IN !/. '/''\n",
            "So/IN they/PRP went/VBD up/RB to/TO the/DT Mock/NNP Turtle/NNP ,/, who/WP looked/VBD at/IN them/PRP with/IN large/JJ eyes/NNS full/JJ of/IN tears/NNS ,/, but/CC said/VBD nothing/NN ./.\n",
            "'This/CD here/RB young/JJ lady/NN ,/, '/'' said/VBD the/DT Gryphon/NNP ,/, 'she/'' wants/VBZ for/IN to/TO know/VB your/PRP$ history/NN ,/, she/PRP do/VBP ./. '/''\n",
            "'/POS I/PRP 'll/MD tell/VB it/PRP her/PRP ,/, '/'' said/VBD the/DT Mock/NNP Turtle/NNP in/IN a/DT deep/JJ ,/, hollow/JJ tone/NN :/: 'sit/POS down/RP ,/, both/DT of/IN you/PRP ,/, and/CC do/VBP n't/RB speak/VB a/DT word/NN till/NN I/PRP 've/VBP finished/VBN ./. '/''\n",
            "So/IN they/PRP sat/VBD down/RB ,/, and/CC nobody/NN spoke/VBD for/IN some/DT minutes/NNS ./.\n",
            "Alice/NNP thought/VBD to/TO herself/VB ,/, '/'' I/PRP do/VBP n't/RB see/VB how/WRB he/PRP can/MD EVEN/RB finish/VB ,/, if/IN he/PRP does/VBZ n't/RB begin/VB ./. '/''\n",
            "But/CC she/PRP waited/VBD patiently/RB ./.\n",
            "'Once/NN ,/, '/'' said/VBD the/DT Mock/NNP Turtle/NNP at/IN last/JJ ,/, with/IN a/DT deep/JJ sigh/NN ,/, '/'' I/PRP was/VBD a/DT real/JJ Turtle/NNP ./. '/''\n",
            "These/DT words/NNS were/VBD followed/VBN by/IN a/DT very/RB long/JJ silence/NN ,/, broken/VBN only/RB by/IN an/DT occasional/JJ exclamation/NN of/IN 'Hjckrrh/NN !/. '/''\n",
            "from/IN the/DT Gryphon/NNP ,/, and/CC the/DT constant/JJ heavy/JJ sobbing/NN of/IN the/DT Mock/NNP Turtle/NNP ./.\n",
            "Alice/NNP was/VBD very/RB nearly/RB getting/VBG up/RP and/CC saying/VBG ,/, 'Thank/'' you/PRP ,/, sir/VB ,/, for/IN your/PRP$ interesting/JJ story/NN ,/, '/'' but/CC she/PRP could/MD not/RB help/VB thinking/VBG there/EX MUST/NNP be/VB more/JJR to/TO come/VB ,/, so/IN she/PRP sat/VBD still/RB and/CC said/VBD nothing/NN ./.\n",
            "'When/IN we/PRP were/VBD little/JJ ,/, '/'' the/DT Mock/NNP Turtle/NNP went/VBD on/IN at/IN last/JJ ,/, more/RBR calmly/JJ ,/, though/IN still/RB sobbing/VBG a/DT little/JJ now/RB and/CC then/RB ,/, 'we/PRP went/VBD to/TO school/NN in/IN the/DT sea/NN ./.\n",
            "The/DT master/NN was/VBD an/DT old/JJ Turtle/NNP --/: we/PRP used/VBD to/TO call/VB him/PRP Tortoise/NNP --/: '/POS 'Why/POS did/VBD you/PRP call/VB him/PRP Tortoise/NNP ,/, if/IN he/PRP was/VBD n't/RB one/CD ?/. '/''\n",
            "Alice/NNP asked/VBD ./.\n",
            "'We/NNS called/VBD him/PRP Tortoise/NNP because/IN he/PRP taught/VBD us/PRP ,/, '/'' said/VBD the/DT Mock/NNP Turtle/NNP angrily/RB :/: 'really/RB you/PRP are/VBP very/RB dull/JJ !/. '/''\n",
            "'You/NNS ought/MD to/TO be/VB ashamed/VBN of/IN yourself/PRP for/IN asking/VBG such/PDT a/DT simple/JJ question/NN ,/, '/'' added/VBD the/DT Gryphon/NNP ;/: and/CC then/RB they/PRP both/DT sat/VBD silent/NN and/CC looked/VBD at/IN poor/JJ Alice/NNP ,/, who/WP felt/VBD ready/JJ to/TO sink/VB into/IN the/DT earth/NN ./.\n",
            "At/IN last/JJ the/DT Gryphon/NNP said/VBD to/TO the/DT Mock/NNP Turtle/NNP ,/, 'Drive/'' on/IN ,/, old/JJ fellow/NN !/.\n",
            "Do/VBP n't/RB be/VB all/DT day/NN about/IN it/PRP !/. '/''\n",
            "and/CC he/PRP went/VBD on/IN in/IN these/DT words/NNS :/: 'Yes/CD ,/, we/PRP went/VBD to/TO school/NN in/IN the/DT sea/NN ,/, though/IN you/PRP may/MD n't/RB believe/VB it/PRP --/: '/'' '/POS I/PRP never/RB said/VBD I/PRP did/VBD n't/RB !/. '/''\n",
            "interrupted/JJ Alice/NNP ./.\n",
            "'You/NN did/VBD ,/, '/'' said/VBD the/DT Mock/NNP Turtle/NNP ./.\n",
            "'Hold/VB your/PRP$ tongue/NN !/. '/''\n",
            "added/VBD the/DT Gryphon/NNP ,/, before/IN Alice/NNP could/MD speak/VB again/RB ./.\n",
            "The/DT Mock/NNP Turtle/NNP went/VBD on/IN ./.\n",
            "'We/NNS had/VBD the/DT best/JJS of/IN educations/NNS --/: in/IN fact/NN ,/, we/PRP went/VBD to/TO school/NN every/DT day/NN --/: '/POS '/POS I/PRP 'VE/VBP been/VBN to/TO a/DT day-school/NN ,/, too/RB ,/, '/'' said/VBD Alice/NNP ;/: 'you/CC need/VBP n't/RB be/VB so/RB proud/JJ as/IN all/DT that/IN ./. '/''\n",
            "'With/CD extras/NNS ?/. '/''\n",
            "asked/VBN the/DT Mock/NNP Turtle/NNP a/DT little/JJ anxiously/RB ./.\n",
            "'Yes/CD ,/, '/'' said/VBD Alice/NNP ,/, 'we/'' learned/VBD French/NNP and/CC music/NN ./. '/''\n",
            "'And/CD washing/VBG ?/. '/''\n",
            "said/VBD the/DT Mock/NNP Turtle/NNP ./.\n",
            "'Certainly/RB not/RB !/. '/''\n",
            "said/VBD Alice/NNP indignantly/RB ./.\n",
            "'Ah/CD !/.\n",
            "then/RB yours/NN was/VBD n't/RB a/DT really/RB good/JJ school/NN ,/, '/'' said/VBD the/DT Mock/NNP Turtle/NNP in/IN a/DT tone/NN of/IN great/JJ relief/NN ./.\n",
            "'Now/NNS at/IN OURS/NNP they/PRP had/VBD at/IN the/DT end/NN of/IN the/DT bill/NN ,/, ''/'' French/NNP ,/, music/NN ,/, AND/CC WASHING/NNP --/: extra/JJ ./. ''/'' '/''\n",
            "'You/NNS could/MD n't/RB have/VB wanted/VBN it/PRP much/RB ,/, '/'' said/VBD Alice/NNP ;/: 'living/VBG at/IN the/DT bottom/NN of/IN the/DT sea/NN ./. '/''\n",
            "'/POS I/PRP could/MD n't/RB afford/VB to/TO learn/VB it/PRP ./. '/''\n",
            "said/VBD the/DT Mock/NNP Turtle/NNP with/IN a/DT sigh/NN ./.\n",
            "'/POS I/PRP only/RB took/VBD the/DT regular/JJ course/NN ./. '/''\n",
            "'What/DT was/VBD that/IN ?/. '/''\n",
            "inquired/JJ Alice/NNP ./.\n",
            "'Reeling/VBG and/CC Writhing/NNP ,/, of/IN course/NN ,/, to/TO begin/VB with/IN ,/, '/'' the/DT Mock/NNP Turtle/NNP replied/VBD ;/: 'and/CD then/RB the/DT different/JJ branches/NNS of/IN Arithmetic/NNP --/: Ambition/NNP ,/, Distraction/NNP ,/, Uglification/NNP ,/, and/CC Derision/NNP ./. '/''\n",
            "'/POS I/PRP never/RB heard/NN of/IN ``/`` Uglification/NNP ,/, ''/'' '/POS Alice/NNP ventured/VBD to/TO say/VB ./.\n",
            "'What/DT is/VBZ it/PRP ?/. '/''\n",
            "The/DT Gryphon/NNP lifted/VBD up/RP both/DT its/PRP$ paws/NN in/IN surprise/NN ./.\n",
            "'What/CD !/.\n",
            "Never/RB heard/NN of/IN uglifying/VBG !/. '/''\n",
            "it/PRP exclaimed/VBD ./.\n",
            "'You/NNS know/VBP what/WP to/TO beautify/VB is/VBZ ,/, I/PRP suppose/VBP ?/. '/''\n",
            "'Yes/CD ,/, '/'' said/VBD Alice/NNP doubtfully/RB :/: 'it/NN means/VBZ --/: to/TO --/: make/VB --/: anything/NN --/: prettier/NN ./. '/''\n",
            "'Well/RB ,/, then/RB ,/, '/'' the/DT Gryphon/NNP went/VBD on/IN ,/, 'if/'' you/PRP do/VBP n't/RB know/VB what/WP to/TO uglify/VB is/VBZ ,/, you/PRP ARE/VBP a/DT simpleton/NN ./. '/''\n",
            "Alice/NNP did/VBD not/RB feel/VB encouraged/VBN to/TO ask/VB any/DT more/JJR questions/NNS about/IN it/PRP ,/, so/IN she/PRP turned/VBD to/TO the/DT Mock/NNP Turtle/NNP ,/, and/CC said/VBD 'What/WP else/RB had/VBD you/PRP to/TO learn/VB ?/. '/''\n",
            "'Well/RB ,/, there/EX was/VBD Mystery/NNP ,/, '/'' the/DT Mock/NNP Turtle/NNP replied/VBD ,/, counting/VBG off/RP the/DT subjects/NNS on/IN his/PRP$ flappers/NNS ,/, '/'' --/: Mystery/NNP ,/, ancient/NN and/CC modern/JJ ,/, with/IN Seaography/NNP :/: then/RB Drawling/NNP --/: the/DT Drawling-master/NNP was/VBD an/DT old/JJ conger-eel/NN ,/, that/WDT used/VBD to/TO come/VB once/RB a/DT week/NN :/: HE/NNP taught/VBD us/PRP Drawling/NNP ,/, Stretching/NNP ,/, and/CC Fainting/NNP in/IN Coils/NNP ./. '/''\n",
            "'What/DT was/VBD THAT/IN like/IN ?/. '/''\n",
            "said/VBD Alice/NNP ./.\n",
            "'Well/UH ,/, I/PRP ca/MD n't/RB show/VB it/PRP you/PRP myself/PRP ,/, '/'' the/DT Mock/NNP Turtle/NNP said/VBD :/: '/'' I/PRP 'm/VBP too/RB stiff/JJ ./.\n",
            "And/CC the/DT Gryphon/NNP never/RB learnt/VBD it/PRP ./. '/''\n",
            "'Had/MD n't/RB time/NN ,/, '/'' said/VBD the/DT Gryphon/NNP :/: '/POS I/PRP went/VBD to/TO the/DT Classics/NNPS master/NN ,/, though/RB ./.\n",
            "He/PRP was/VBD an/DT old/JJ crab/NN ,/, HE/NNP was/VBD ./. '/''\n",
            "'/POS I/PRP never/RB went/VBD to/TO him/PRP ,/, '/'' the/DT Mock/NNP Turtle/NNP said/VBD with/IN a/DT sigh/NN :/: 'he/POS taught/NN Laughing/NNP and/CC Grief/NNP ,/, they/PRP used/VBD to/TO say/VB ./. '/''\n",
            "'So/IN he/PRP did/VBD ,/, so/IN he/PRP did/VBD ,/, '/'' said/VBD the/DT Gryphon/NNP ,/, sighing/VBG in/IN his/PRP$ turn/NN ;/: and/CC both/DT creatures/NNS hid/VBP their/PRP$ faces/VBZ in/IN their/PRP$ paws/NN ./.\n",
            "'And/POS how/WRB many/JJ hours/NNS a/DT day/NN did/VBD you/PRP do/VB lessons/NNS ?/. '/''\n",
            "said/VBD Alice/NNP ,/, in/IN a/DT hurry/NN to/TO change/VB the/DT subject/NN ./.\n",
            "'Ten/CD hours/NNS the/DT first/JJ day/NN ,/, '/'' said/VBD the/DT Mock/NNP Turtle/NNP :/: 'nine/CD the/DT next/JJ ,/, and/CC so/RB on/IN ./. '/''\n",
            "'What/IN a/DT curious/JJ plan/NN !/. '/''\n",
            "exclaimed/VBN Alice/NNP ./.\n",
            "'That/WDT 's/VBZ the/DT reason/NN they/PRP 're/VBP called/VBN lessons/NNS ,/, '/'' the/DT Gryphon/NNP remarked/VBD :/: 'because/IN they/PRP lessen/VBP from/IN day/NN to/TO day/NN ./. '/''\n",
            "This/DT was/VBD quite/RB a/DT new/JJ idea/NN to/TO Alice/NNP ,/, and/CC she/PRP thought/VBD it/PRP over/RP a/DT little/JJ before/IN she/PRP made/VBD her/PRP next/JJ remark/NN ./.\n",
            "'Then/'' the/DT eleventh/JJ day/NN must/MD have/VB been/VBN a/DT holiday/NN ?/. '/''\n",
            "'Of/CD course/NN it/PRP was/VBD ,/, '/'' said/VBD the/DT Mock/NNP Turtle/NNP ./.\n",
            "'And/POS how/WRB did/VBD you/PRP manage/VB on/IN the/DT twelfth/NN ?/. '/''\n",
            "Alice/NNP went/VBD on/IN eagerly/RB ./.\n",
            "'That/DT 's/VBZ enough/JJ about/IN lessons/NNS ,/, '/'' the/DT Gryphon/NNP interrupted/VBN in/IN a/DT very/RB decided/JJ tone/NN :/: 'tell/VB her/PRP$ something/NN about/IN the/DT games/NNS now/RB ./. '/''\n",
            "CHAPTER/NN X/NN ./.\n",
            "The/DT Lobster/NNP Quadrille/NNP The/DT Mock/NNP Turtle/NNP sighed/VBD deeply/RB ,/, and/CC drew/VBD the/DT back/NN of/IN one/CD flapper/NN across/IN his/PRP$ eyes/NNS ./.\n",
            "He/PRP looked/VBD at/IN Alice/NNP ,/, and/CC tried/VBD to/TO speak/VB ,/, but/CC for/IN a/DT minute/NN or/CC two/CD sobs/NN choked/VBD his/PRP$ voice/NN ./.\n",
            "'Same/POS as/IN if/IN he/PRP had/VBD a/DT bone/NN in/IN his/PRP$ throat/NN ,/, '/'' said/VBD the/DT Gryphon/NNP :/: and/CC it/PRP set/VBD to/TO work/VB shaking/VBG him/PRP and/CC punching/VBG him/PRP in/IN the/DT back/NN ./.\n",
            "At/IN last/JJ the/DT Mock/NNP Turtle/NNP recovered/VBD his/PRP$ voice/NN ,/, and/CC ,/, with/IN tears/NNS running/VBG down/RP his/PRP$ cheeks/NN ,/, he/PRP went/VBD on/IN again/RB :/: --/: 'You/NNS may/MD not/RB have/VB lived/VBN much/JJ under/IN the/DT sea/NN --/: '/POS (/( '/POS I/PRP have/VBP n't/RB ,/, '/'' said/VBD Alice/NNP )/) --/: 'and/POS perhaps/RB you/PRP were/VBD never/RB even/RB introduced/VBD to/TO a/DT lobster/NN --/: '/POS (/( Alice/NNP began/VBD to/TO say/VB '/'' I/PRP once/RB tasted/VBD --/: '/'' but/CC checked/VBD herself/PRP hastily/RB ,/, and/CC said/VBD 'No/NNS ,/, never/RB '/POS )/) '/POS --/: so/IN you/PRP can/MD have/VB no/DT idea/NN what/WP a/DT delightful/JJ thing/NN a/DT Lobster/NNP Quadrille/NNP is/VBZ !/. '/''\n",
            "'No/CD ,/, indeed/RB ,/, '/'' said/VBD Alice/NNP ./.\n",
            "'What/DT sort/NN of/IN a/DT dance/NN is/VBZ it/PRP ?/. '/''\n",
            "'Why/CD ,/, '/'' said/VBD the/DT Gryphon/NNP ,/, 'you/NNP first/RB form/VBZ into/IN a/DT line/NN along/IN the/DT sea-shore/NN --/: '/POS 'Two/JJ lines/NNS !/. '/''\n",
            "cried/VBD the/DT Mock/NNP Turtle/NNP ./.\n",
            "'Seals/NNS ,/, turtles/NNS ,/, salmon/NN ,/, and/CC so/RB on/IN ;/: then/RB ,/, when/WRB you/PRP 've/VBP cleared/VBN all/PDT the/DT jelly-fish/JJ out/IN of/IN the/DT way/NN --/: '/POS 'THAT/POS generally/RB takes/VBZ some/DT time/NN ,/, '/'' interrupted/VBD the/DT Gryphon./NNP '/POS\n",
            "--/: you/PRP advance/VBP twice/RB --/: '/'' 'Each/MD with/IN a/DT lobster/NN as/IN a/DT partner/NN !/. '/''\n",
            "cried/VBD the/DT Gryphon/NNP ./.\n",
            "'Of/JJ course/NN ,/, '/'' the/DT Mock/NNP Turtle/NNP said/VBD :/: 'advance/NN twice/RB ,/, set/VBN to/TO partners/NNS --/: '/POS '/POS --/: change/NN lobsters/NNS ,/, and/CC retire/NN in/IN same/JJ order/NN ,/, '/'' continued/VBD the/DT Gryphon/NNP ./.\n",
            "'Then/CD ,/, you/PRP know/VBP ,/, '/'' the/DT Mock/NNP Turtle/NNP went/VBD on/IN ,/, 'you/'' throw/VBP the/DT --/: '/POS 'The/JJ lobsters/NNS !/. '/''\n",
            "shouted/VBD the/DT Gryphon/NNP ,/, with/IN a/DT bound/NN into/IN the/DT air./NN '/POS\n",
            "--/: as/IN far/RB out/IN to/TO sea/VB as/IN you/PRP can/MD --/: '/POS 'Swim/NNS after/IN them/PRP !/. '/''\n",
            "screamed/VBD the/DT Gryphon/NNP ./.\n",
            "'Turn/VB a/DT somersault/NN in/IN the/DT sea/NN !/. '/''\n",
            "cried/VBD the/DT Mock/NNP Turtle/NNP ,/, capering/VBG wildly/RB about/IN ./.\n",
            "'Change/NN lobsters/NNS again/RB !/. '/''\n",
            "yelled/VBN the/DT Gryphon/NNP at/IN the/DT top/NN of/IN its/PRP$ voice/NN ./.\n",
            "'Back/NN to/TO land/VB again/RB ,/, and/CC that/DT 's/VBZ all/PDT the/DT first/JJ figure/NN ,/, '/'' said/VBD the/DT Mock/NNP Turtle/NNP ,/, suddenly/RB dropping/VBG his/PRP$ voice/NN ;/: and/CC the/DT two/CD creatures/NNS ,/, who/WP had/VBD been/VBN jumping/VBG about/IN like/IN mad/JJ things/NNS all/PDT this/DT time/NN ,/, sat/VBD down/RB again/RB very/RB sadly/RB and/CC quietly/RB ,/, and/CC looked/VBD at/IN Alice/NNP ./.\n",
            "'It/NNS must/MD be/VB a/DT very/RB pretty/JJ dance/NN ,/, '/'' said/VBD Alice/NNP timidly/RB ./.\n",
            "'Would/MD you/PRP like/VB to/TO see/VB a/DT little/JJ of/IN it/PRP ?/. '/''\n",
            "said/VBD the/DT Mock/NNP Turtle/NNP ./.\n",
            "'Very/RB much/JJ indeed/RB ,/, '/'' said/VBD Alice/NNP ./.\n",
            "'Come/CD ,/, let/NN 's/POS try/VB the/DT first/JJ figure/NN !/. '/''\n",
            "said/VBD the/DT Mock/NNP Turtle/NNP to/TO the/DT Gryphon/NNP ./.\n",
            "'We/NNS can/MD do/VB without/IN lobsters/NNS ,/, you/PRP know/VBP ./.\n",
            "Which/WDT shall/MD sing/VB ?/. '/''\n",
            "'Oh/CD ,/, YOU/NNP sing/NN ,/, '/'' said/VBD the/DT Gryphon/NNP ./.\n",
            "'/POS I/PRP 've/VBP forgotten/VBN the/DT words/NNS ./. '/''\n",
            "So/IN they/PRP began/VBD solemnly/RB dancing/VBG round/NN and/CC round/NN Alice/NNP ,/, every/DT now/RB and/CC then/RB treading/VBG on/IN her/PRP$ toes/NNS when/WRB they/PRP passed/VBD too/RB close/JJ ,/, and/CC waving/VBG their/PRP$ forepaws/NN to/TO mark/VB the/DT time/NN ,/, while/IN the/DT Mock/NNP Turtle/NNP sang/VBD this/DT ,/, very/RB slowly/RB and/CC sadly/RB :/: --/: '/'' ''/'' Will/NNP you/PRP walk/VBP a/DT little/JJ faster/NN ?/. ''/''\n",
            "said/VBD a/DT whiting/NN to/TO a/DT snail/NN ./.\n",
            "``/`` There/EX 's/VBZ a/DT porpoise/NN close/RB behind/IN us/PRP ,/, and/CC he/PRP 's/VBZ treading/VBG on/IN my/PRP$ tail/NN ./.\n",
            "See/VB how/WRB eagerly/RB the/DT lobsters/NNS and/CC the/DT turtles/NNS all/DT advance/NN !/.\n",
            "They/PRP are/VBP waiting/VBG on/IN the/DT shingle/NN --/: will/MD you/PRP come/VB and/CC join/VB the/DT dance/NN ?/.\n",
            "Will/MD you/PRP ,/, wo/MD n't/RB you/PRP ,/, will/MD you/PRP ,/, wo/MD n't/RB you/PRP ,/, will/MD you/PRP join/VB the/DT dance/NN ?/.\n",
            "Will/MD you/PRP ,/, wo/MD n't/RB you/PRP ,/, will/MD you/PRP ,/, wo/MD n't/RB you/PRP ,/, wo/MD n't/RB you/PRP join/VB the/DT dance/NN ?/.\n",
            "``/`` You/PRP can/MD really/RB have/VB no/DT notion/NN how/WRB delightful/JJ it/PRP will/MD be/VB When/WRB they/PRP take/VBP us/PRP up/RP and/CC throw/VB us/PRP ,/, with/IN the/DT lobsters/NNS ,/, out/IN to/TO sea/VB !/. ''/''\n",
            "But/CC the/DT snail/NN replied/VBD ``/`` Too/NNP far/RB ,/, too/RB far/RB !/. ''/''\n",
            "and/CC gave/VBD a/DT look/NN askance/NN --/: Said/VBD he/PRP thanked/VBD the/DT whiting/NN kindly/RB ,/, but/CC he/PRP would/MD not/RB join/VB the/DT dance/NN ./.\n",
            "Would/MD not/RB ,/, could/MD not/RB ,/, would/MD not/RB ,/, could/MD not/RB ,/, would/MD not/RB join/VB the/DT dance/NN ./.\n",
            "Would/MD not/RB ,/, could/MD not/RB ,/, would/MD not/RB ,/, could/MD not/RB ,/, could/MD not/RB join/VB the/DT dance/NN ./.\n",
            "'/'' ''/'' What/WP matters/VBZ it/PRP how/WRB far/RB we/PRP go/VBP ?/. ''/''\n",
            "his/PRP$ scaly/NN friend/NN replied/VBD ./.\n",
            "``/`` There/EX is/VBZ another/DT shore/NN ,/, you/PRP know/VBP ,/, upon/IN the/DT other/JJ side/NN ./.\n",
            "The/DT further/JJR off/RP from/IN England/NNP the/DT nearer/NN is/VBZ to/TO France/NNP --/: Then/RB turn/IN not/RB pale/JJ ,/, beloved/JJ snail/NN ,/, but/CC come/VBP and/CC join/VBP the/DT dance/NN ./.\n",
            "Will/MD you/PRP ,/, wo/MD n't/RB you/PRP ,/, will/MD you/PRP ,/, wo/MD n't/RB you/PRP ,/, will/MD you/PRP join/VB the/DT dance/NN ?/.\n",
            "Will/MD you/PRP ,/, wo/MD n't/RB you/PRP ,/, will/MD you/PRP ,/, wo/MD n't/RB you/PRP ,/, wo/MD n't/RB you/PRP join/VB the/DT dance/NN ?/. ''/'' '/''\n",
            "'Thank/NN you/PRP ,/, it/PRP 's/VBZ a/DT very/RB interesting/JJ dance/NN to/TO watch/VB ,/, '/'' said/VBD Alice/NNP ,/, feeling/VBG very/RB glad/JJ that/IN it/PRP was/VBD over/RB at/IN last/JJ :/: 'and/NN I/PRP do/VBP so/RB like/IN that/DT curious/JJ song/NN about/IN the/DT whiting/NN !/. '/''\n",
            "'Oh/RB ,/, as/IN to/TO the/DT whiting/NN ,/, '/'' said/VBD the/DT Mock/NNP Turtle/NNP ,/, 'they/NNP --/: you/PRP 've/VBP seen/VBN them/PRP ,/, of/IN course/NN ?/. '/''\n",
            "'Yes/CD ,/, '/'' said/VBD Alice/NNP ,/, '/'' I/PRP 've/VBP often/RB seen/VBN them/PRP at/IN dinn/NN --/: '/POS she/PRP checked/VBD herself/PRP hastily/RB ./.\n",
            "'/POS I/PRP do/VBP n't/RB know/VB where/WRB Dinn/NNP may/MD be/VB ,/, '/'' said/VBD the/DT Mock/NNP Turtle/NNP ,/, 'but/'' if/IN you've/NNS seen/VBN them/PRP so/RB often/RB ,/, of/IN course/NN you/PRP know/VBP what/WP they/PRP 're/VBP like/IN ./. '/''\n",
            "'/POS I/PRP believe/VBP so/RB ,/, '/'' Alice/NNP replied/VBD thoughtfully/RB ./.\n",
            "'They/NNS have/VBP their/PRP$ tails/NNS in/IN their/PRP$ mouths/NNS --/: and/CC they/PRP 're/VBP all/DT over/IN crumbs/NNS ./. '/''\n",
            "'You/CD 're/VBP wrong/JJ about/IN the/DT crumbs/NN ,/, '/'' said/VBD the/DT Mock/NNP Turtle/NNP :/: 'crumbs/NNS would/MD all/DT wash/VB off/RP in/IN the/DT sea/NN ./.\n",
            "But/CC they/PRP HAVE/VBP their/PRP$ tails/NNS in/IN their/PRP$ mouths/NNS ;/: and/CC the/DT reason/NN is/VBZ --/: '/'' here/RB the/DT Mock/NNP Turtle/NNP yawned/VBD and/CC shut/VBD his/PRP$ eyes./NN --/: 'Tell/VB her/PRP about/IN the/DT reason/NN and/CC all/DT that/IN ,/, '/'' he/PRP said/VBD to/TO the/DT Gryphon/NNP ./.\n",
            "'The/CD reason/NN is/VBZ ,/, '/'' said/VBD the/DT Gryphon/NNP ,/, 'that/IN they/PRP WOULD/VBP go/VB with/IN the/DT lobsters/NNS to/TO the/DT dance/NN ./.\n",
            "So/IN they/PRP got/VBD thrown/VBN out/RP to/TO sea/NN ./.\n",
            "So/IN they/PRP had/VBD to/TO fall/VB a/DT long/JJ way/NN ./.\n",
            "So/IN they/PRP got/VBD their/PRP$ tails/NNS fast/RB in/IN their/PRP$ mouths/NNS ./.\n",
            "So/IN they/PRP could/MD n't/RB get/VB them/PRP out/RP again/RB ./.\n",
            "That/DT 's/VBZ all/DT ./. '/''\n",
            "'Thank/NN you/PRP ,/, '/'' said/VBD Alice/NNP ,/, 'it/NNP 's/POS very/RB interesting/JJ ./.\n",
            "I/PRP never/RB knew/VBD so/RB much/JJ about/IN a/DT whiting/NN before/IN ./. '/''\n",
            "'/POS I/PRP can/MD tell/VB you/PRP more/JJR than/IN that/DT ,/, if/IN you/PRP like/VBP ,/, '/'' said/VBD the/DT Gryphon/NNP ./.\n",
            "'Do/IN you/PRP know/VBP why/WRB it/PRP 's/VBZ called/VBN a/DT whiting/NN ?/. '/''\n",
            "'/POS I/PRP never/RB thought/VBD about/IN it/PRP ,/, '/'' said/VBD Alice/NNP ./.\n",
            "'Why/RB ?/. '/''\n",
            "'IT/NN DOES/VBZ THE/NNP BOOTS/NNP AND/NNP SHOES/NNP ./. '/''\n",
            "the/DT Gryphon/NNP replied/VBD very/RB solemnly/RB ./.\n",
            "Alice/NNP was/VBD thoroughly/RB puzzled/VBN ./.\n",
            "'Does/VBZ the/DT boots/NNS and/CC shoes/NNS !/. '/''\n",
            "she/PRP repeated/VBD in/IN a/DT wondering/VBG tone/NN ./.\n",
            "'Why/NN ,/, what/WP are/VBP YOUR/JJ shoes/NNS done/VBN with/IN ?/. '/''\n",
            "said/VBD the/DT Gryphon/NNP ./.\n",
            "'/POS I/PRP mean/VBP ,/, what/WP makes/VBZ them/PRP so/RB shiny/RB ?/. '/''\n",
            "Alice/NNP looked/VBD down/RB at/IN them/PRP ,/, and/CC considered/VBD a/DT little/JJ before/IN she/PRP gave/VBD her/PRP answer/NN ./.\n",
            "'They/POS 're/VBP done/VBN with/IN blacking/NN ,/, I/PRP believe/VBP ./. '/''\n",
            "'Boots/NNS and/CC shoes/NNS under/IN the/DT sea/NN ,/, '/'' the/DT Gryphon/NNP went/VBD on/IN in/IN a/DT deep/JJ voice/NN ,/, 'are/'' done/VBN with/IN a/DT whiting/NN ./.\n",
            "Now/RB you/PRP know/VBP ./. '/''\n",
            "'And/VB what/WP are/VBP they/PRP made/VBD of/IN ?/. '/''\n",
            "Alice/NNP asked/VBD in/IN a/DT tone/NN of/IN great/JJ curiosity/NN ./.\n",
            "'Soles/NNS and/CC eels/NNS ,/, of/IN course/NN ,/, '/'' the/DT Gryphon/NNP replied/VBD rather/RB impatiently/RB :/: 'any/JJ shrimp/NN could/MD have/VB told/VBN you/PRP that/IN ./. '/''\n",
            "'If/NN I/PRP 'd/MD been/VBN the/DT whiting/NN ,/, '/'' said/VBD Alice/NNP ,/, whose/WP$ thoughts/NNS were/VBD still/RB running/VBG on/IN the/DT song/NN ,/, '/'' I/PRP 'd/MD have/VB said/VBD to/TO the/DT porpoise/NN ,/, ``/`` Keep/NNP back/NN ,/, please/NN :/: we/PRP do/VBP n't/RB want/VB YOU/NN with/IN us/PRP !/. ''/'' '/''\n",
            "'They/NNS were/VBD obliged/VBN to/TO have/VB him/PRP with/IN them/PRP ,/, '/'' the/DT Mock/NNP Turtle/NNP said/VBD :/: 'no/CD wise/NN fish/NN would/MD go/VB anywhere/RB without/IN a/DT porpoise/NN ./. '/''\n",
            "'Would/MD n't/RB it/PRP really/RB ?/. '/''\n",
            "said/VBD Alice/NNP in/IN a/DT tone/NN of/IN great/JJ surprise/NN ./.\n",
            "'Of/'' course/NN not/RB ,/, '/'' said/VBD the/DT Mock/NNP Turtle/NNP :/: 'why/CD ,/, if/IN a/DT fish/NN came/VBD to/TO ME/NNP ,/, and/CC told/VBD me/PRP he/PRP was/VBD going/VBG a/DT journey/NN ,/, I/PRP should/MD say/VB ``/`` With/IN what/WP porpoise/NN ?/. ''/'' '/''\n",
            "'Do/MD n't/RB you/PRP mean/VB ``/`` purpose/VB ''/'' ?/. '/''\n",
            "said/VBD Alice/NNP ./.\n",
            "'/POS I/PRP mean/VBP what/WP I/PRP say/VBP ,/, '/'' the/DT Mock/NNP Turtle/NNP replied/VBD in/IN an/DT offended/JJ tone/NN ./.\n",
            "And/CC the/DT Gryphon/NNP added/VBD 'Come/CD ,/, let/NN 's/POS hear/VB some/DT of/IN YOUR/JJ adventures/NNS ./. '/''\n",
            "'/POS I/PRP could/MD tell/VB you/PRP my/PRP$ adventures/NNS --/: beginning/VBG from/IN this/DT morning/NN ,/, '/'' said/VBD Alice/NNP a/DT little/JJ timidly/RB :/: 'but/VB it/PRP 's/VBZ no/DT use/NN going/VBG back/RB to/TO yesterday/NN ,/, because/IN I/PRP was/VBD a/DT different/JJ person/NN then/RB ./. '/''\n",
            "'Explain/VB all/DT that/IN ,/, '/'' said/VBD the/DT Mock/NNP Turtle/NNP ./.\n",
            "'No/CD ,/, no/DT !/.\n",
            "The/DT adventures/NNS first/RB ,/, '/'' said/VBD the/DT Gryphon/NNP in/IN an/DT impatient/JJ tone/NN :/: 'explanations/NNS take/VBP such/PDT a/DT dreadful/JJ time/NN ./. '/''\n",
            "So/RB Alice/NNP began/VBD telling/VBG them/PRP her/PRP$ adventures/NNS from/IN the/DT time/NN when/WRB she/PRP first/RB saw/VBD the/DT White/NNP Rabbit/NNP ./.\n",
            "She/PRP was/VBD a/DT little/JJ nervous/JJ about/IN it/PRP just/RB at/IN first/JJ ,/, the/DT two/CD creatures/NNS got/VBD so/RB close/JJ to/TO her/PRP$ ,/, one/CD on/IN each/DT side/NN ,/, and/CC opened/VBD their/PRP$ eyes/NNS and/CC mouths/NNS so/RB VERY/NNP wide/JJ ,/, but/CC she/PRP gained/VBD courage/NN as/IN she/PRP went/VBD on/IN ./.\n",
            "Her/PRP$ listeners/NNS were/VBD perfectly/RB quiet/JJ till/NN she/PRP got/VBD to/TO the/DT part/NN about/IN her/PRP$ repeating/NN 'YOU/NN ARE/NNP OLD/NNP ,/, FATHER/NNP WILLIAM/NNP ,/, '/'' to/TO the/DT Caterpillar/NNP ,/, and/CC the/DT words/NNS all/DT coming/VBG different/JJ ,/, and/CC then/RB the/DT Mock/NNP Turtle/NNP drew/VBD a/DT long/JJ breath/NN ,/, and/CC said/VBD 'That/WP 's/VBZ very/RB curious/JJ ./. '/''\n",
            "'It/NN 's/POS all/DT about/IN as/RB curious/JJ as/IN it/PRP can/MD be/VB ,/, '/'' said/VBD the/DT Gryphon/NNP ./.\n",
            "'It/CD all/DT came/VBD different/JJ !/. '/''\n",
            "the/DT Mock/NNP Turtle/NNP repeated/VBD thoughtfully/RB ./.\n",
            "'/POS I/PRP should/MD like/VB to/TO hear/VB her/PRP$ try/NN and/CC repeat/VB something/NN now/RB ./.\n",
            "Tell/VB her/PRP$ to/TO begin/VB ./. '/''\n",
            "He/PRP looked/VBD at/IN the/DT Gryphon/NNP as/IN if/IN he/PRP thought/VBD it/PRP had/VBD some/DT kind/NN of/IN authority/NN over/IN Alice/NNP ./.\n",
            "'Stand/VB up/RP and/CC repeat/VB ``/`` 'T/CD IS/VBZ THE/DT VOICE/NNP OF/IN THE/NNP SLUGGARD/NNP ,/, ''/'' '/'' said/VBD the/DT Gryphon/NNP ./.\n",
            "'How/'' the/DT creatures/NNS order/NN one/CD about/NN ,/, and/CC make/VB one/CD repeat/NN lessons/NNS !/. '/''\n",
            "thought/JJ Alice/NNP ;/: '/POS I/PRP might/MD as/RB well/RB be/VB at/IN school/NN at/IN once/RB ./. '/''\n",
            "However/RB ,/, she/PRP got/VBD up/RB ,/, and/CC began/VBD to/TO repeat/VB it/PRP ,/, but/CC her/PRP$ head/NN was/VBD so/RB full/JJ of/IN the/DT Lobster/NNP Quadrille/NNP ,/, that/IN she/PRP hardly/RB knew/VBD what/WP she/PRP was/VBD saying/VBG ,/, and/CC the/DT words/NNS came/VBD very/RB queer/JJ indeed/RB :/: --/: ``/`` Tis/IN the/DT voice/NN of/IN the/DT Lobster/NNP ;/: I/PRP heard/VBD him/PRP declare/VB ,/, ``/`` You/PRP have/VBP baked/VBN me/PRP too/RB brown/JJ ,/, I/PRP must/MD sugar/VB my/PRP$ hair/NN ./. ''/''\n",
            "As/IN a/DT duck/NN with/IN its/PRP$ eyelids/NNS ,/, so/IN he/PRP with/IN his/PRP$ nose/NN Trims/NNP his/PRP$ belt/NN and/CC his/PRP$ buttons/NNS ,/, and/CC turns/VBZ out/RP his/PRP$ toes/NNS ./. '/''\n",
            "[/NN later/RBR editions/NNS continued/VBD as/IN follows/VBZ When/WRB the/DT sands/NNS are/VBP all/DT dry/JJ ,/, he/PRP is/VBZ gay/JJ as/IN a/DT lark/NN ,/, And/CC will/MD talk/VB in/IN contemptuous/JJ tones/NNS of/IN the/DT Shark/NNP ,/, But/CC ,/, when/WRB the/DT tide/NN rises/VBZ and/CC sharks/NNS are/VBP around/RB ,/, His/PRP$ voice/NN has/VBZ a/DT timid/NN and/CC tremulous/JJ sound/NN ./. ]/NN\n",
            "'That/DT 's/POS different/JJ from/IN what/WP I/PRP used/VBD to/TO say/VB when/WRB I/PRP was/VBD a/DT child/NN ,/, '/'' said/VBD the/DT Gryphon/NNP ./.\n",
            "'Well/UH ,/, I/PRP never/RB heard/VBD it/PRP before/IN ,/, '/'' said/VBD the/DT Mock/NNP Turtle/NNP ;/: 'but/VBZ it/PRP sounds/VBZ uncommon/JJ nonsense/NN ./. '/''\n",
            "Alice/NNP said/VBD nothing/NN ;/: she/PRP had/VBD sat/VBN down/RP with/IN her/PRP$ face/NN in/IN her/PRP$ hands/NNS ,/, wondering/VBG if/IN anything/NN would/MD EVER/VB happen/VB in/IN a/DT natural/JJ way/NN again/RB ./.\n",
            "'/POS I/PRP should/MD like/VB to/TO have/VB it/PRP explained/VBN ,/, '/'' said/VBD the/DT Mock/NNP Turtle/NNP ./.\n",
            "'She/NNS ca/MD n't/RB explain/VB it/PRP ,/, '/'' said/VBD the/DT Gryphon/NNP hastily/RB ./.\n",
            "'Go/NNS on/IN with/IN the/DT next/JJ verse/NN ./. '/''\n",
            "'But/NNS about/IN his/PRP$ toes/NNS ?/. '/''\n",
            "the/DT Mock/NNP Turtle/NNP persisted/VBD ./.\n",
            "'How/NNS COULD/NNP he/PRP turn/VB them/PRP out/RP with/IN his/PRP$ nose/NN ,/, you/PRP know/VBP ?/. '/''\n",
            "'It/NN 's/POS the/DT first/JJ position/NN in/IN dancing/VBG ./. '/''\n",
            "Alice/NNP said/VBD ;/: but/CC was/VBD dreadfully/RB puzzled/VBN by/IN the/DT whole/JJ thing/NN ,/, and/CC longed/VBD to/TO change/VB the/DT subject/NN ./.\n",
            "'Go/NNS on/IN with/IN the/DT next/JJ verse/NN ,/, '/'' the/DT Gryphon/NNP repeated/VBD impatiently/RB :/: 'it/CD begins/VBZ ``/`` I/PRP passed/VBN by/IN his/PRP$ garden/NN ./. ''/'' '/''\n",
            "Alice/NNP did/VBD not/RB dare/VB to/TO disobey/VB ,/, though/IN she/PRP felt/VBD sure/JJ it/PRP would/MD all/DT come/VB wrong/JJ ,/, and/CC she/PRP went/VBD on/IN in/IN a/DT trembling/JJ voice/NN :/: --/: '/POS I/PRP passed/VBN by/IN his/PRP$ garden/NN ,/, and/CC marked/VBD ,/, with/IN one/CD eye/NN ,/, How/WRB the/DT Owl/NNP and/CC the/DT Panther/NNP were/VBD sharing/VBG a/DT pie/NN --/: '/POS [/NN later/RBR editions/NNS continued/VBD as/IN follows/VBZ The/DT Panther/NNP took/VBD pie-crust/NN ,/, and/CC gravy/NN ,/, and/CC meat/NN ,/, While/IN the/DT Owl/NNP had/VBD the/DT dish/NN as/IN its/PRP$ share/NN of/IN the/DT treat/NN ./.\n",
            "When/WRB the/DT pie/NN was/VBD all/DT finished/VBN ,/, the/DT Owl/NNP ,/, as/IN a/DT boon/NN ,/, Was/NNP kindly/RB permitted/VBD to/TO pocket/VB the/DT spoon/NN :/: While/IN the/DT Panther/NNP received/VBD knife/NN and/CC fork/NN with/IN a/DT growl/NN ,/, And/CC concluded/VBD the/DT banquet/NN --/: ]/VB 'What/WP IS/VBZ the/DT use/NN of/IN repeating/VBG all/PDT that/DT stuff/NN ,/, '/'' the/DT Mock/NNP Turtle/NNP interrupted/VBD ,/, 'if/'' you/PRP do/VBP n't/RB explain/VB it/PRP as/IN you/PRP go/VBP on/IN ?/.\n",
            "It/PRP 's/VBZ by/IN far/RB the/DT most/RBS confusing/JJ thing/NN I/PRP ever/RB heard/VBD !/. '/''\n",
            "'Yes/CD ,/, I/PRP think/VBP you/PRP 'd/MD better/VB leave/VB off/RP ,/, '/'' said/VBD the/DT Gryphon/NNP :/: and/CC Alice/NNP was/VBD only/RB too/RB glad/JJ to/TO do/VB so/RB ./.\n",
            "'Shall/DT we/PRP try/VBP another/DT figure/NN of/IN the/DT Lobster/NNP Quadrille/NNP ?/. '/''\n",
            "the/DT Gryphon/NNP went/VBD on/IN ./.\n",
            "'Or/NNS would/MD you/PRP like/IN the/DT Mock/NNP Turtle/NNP to/TO sing/VB you/PRP a/DT song/NN ?/. '/''\n",
            "'Oh/NNS ,/, a/DT song/NN ,/, please/NN ,/, if/IN the/DT Mock/NNP Turtle/NNP would/MD be/VB so/RB kind/NN ,/, '/'' Alice/NNP replied/VBD ,/, so/RB eagerly/RB that/IN the/DT Gryphon/NNP said/VBD ,/, in/IN a/DT rather/RB offended/JJ tone/NN ,/, 'Hm/'' !/.\n",
            "No/DT accounting/NN for/IN tastes/NNS !/.\n",
            "Sing/VBG her/PRP$ ``/`` Turtle/NNP Soup/NNP ,/, ''/'' will/MD you/PRP ,/, old/JJ fellow/NN ?/. '/''\n",
            "The/DT Mock/NNP Turtle/NNP sighed/VBD deeply/RB ,/, and/CC began/VBD ,/, in/IN a/DT voice/NN sometimes/RB choked/VBD with/IN sobs/NN ,/, to/TO sing/VBG this/DT :/: --/: 'Beautiful/JJ Soup/NNP ,/, so/IN rich/JJ and/CC green/JJ ,/, Waiting/VBG in/IN a/DT hot/JJ tureen/NN !/.\n",
            "Who/WP for/IN such/JJ dainties/NNS would/MD not/RB stoop/VB ?/.\n",
            "Soup/NNP of/IN the/DT evening/NN ,/, beautiful/JJ Soup/NN !/.\n",
            "Soup/NNP of/IN the/DT evening/NN ,/, beautiful/JJ Soup/NN !/.\n",
            "Beau/NNP --/: ootiful/JJ Soo/NNP --/: oop/NN !/.\n",
            "Beau/NNP --/: ootiful/JJ Soo/NNP --/: oop/NN !/.\n",
            "Soo/NNP --/: oop/NN of/IN the/DT e/NN --/: e/NN --/: evening/NN ,/, Beautiful/NNP ,/, beautiful/JJ Soup/NN !/.\n",
            "'Beautiful/JJ Soup/NN !/.\n",
            "Who/WP cares/VBZ for/IN fish/NN ,/, Game/NNP ,/, or/CC any/DT other/JJ dish/NN ?/.\n",
            "Who/WP would/MD not/RB give/VB all/DT else/RB for/IN two/CD Pennyworth/NNP only/RB of/IN beautiful/JJ Soup/NNP ?/.\n",
            "Pennyworth/NNP only/RB of/IN beautiful/JJ Soup/NNP ?/.\n",
            "Beau/NNP --/: ootiful/JJ Soo/NNP --/: oop/NN !/.\n",
            "Beau/NNP --/: ootiful/JJ Soo/NNP --/: oop/NN !/.\n",
            "Soo/NNP --/: oop/NN of/IN the/DT e/NN --/: e/NN --/: evening/NN ,/, Beautiful/NNP ,/, beauti/NN --/: FUL/NNP SOUP/NNP !/. '/''\n",
            "'Chorus/NN again/RB !/. '/''\n",
            "cried/VBD the/DT Gryphon/NNP ,/, and/CC the/DT Mock/NNP Turtle/NNP had/VBD just/RB begun/VBN to/TO repeat/VB it/PRP ,/, when/WRB a/DT cry/NN of/IN 'The/NNP trial/NN 's/POS beginning/NN !/. '/''\n",
            "was/VBD heard/VBN in/IN the/DT distance/NN ./.\n",
            "'Come/VBN on/IN !/. '/''\n",
            "cried/VBD the/DT Gryphon/NNP ,/, and/CC ,/, taking/VBG Alice/NNP by/IN the/DT hand/NN ,/, it/PRP hurried/VBD off/RP ,/, without/IN waiting/VBG for/IN the/DT end/NN of/IN the/DT song/NN ./.\n",
            "'What/DT trial/NN is/VBZ it/PRP ?/. '/''\n",
            "Alice/RB panted/VBN as/IN she/PRP ran/VBD ;/: but/CC the/DT Gryphon/NNP only/RB answered/VBD 'Come/VBN on/IN !/. '/''\n",
            "and/CC ran/VBD the/DT faster/NN ,/, while/IN more/JJR and/CC more/RBR faintly/RB came/VBD ,/, carried/VBD on/IN the/DT breeze/NN that/WDT followed/VBD them/PRP ,/, the/DT melancholy/JJ words/NNS :/: --/: 'Soo/CD --/: oop/NN of/IN the/DT e/NN --/: e/NN --/: evening/NN ,/, Beautiful/NNP ,/, beautiful/JJ Soup/NNP !/. '/''\n",
            "CHAPTER/NN XI/NN ./.\n",
            "Who/WP Stole/VBD the/DT Tarts/NNS ?/.\n",
            "The/DT King/NNP and/CC Queen/NNP of/IN Hearts/NNP were/VBD seated/VBN on/IN their/PRP$ throne/NN when/WRB they/PRP arrived/VBD ,/, with/IN a/DT great/JJ crowd/NN assembled/VBD about/IN them/PRP --/: all/DT sorts/NNS of/IN little/JJ birds/NNS and/CC beasts/NNS ,/, as/RB well/RB as/IN the/DT whole/JJ pack/NN of/IN cards/NNS :/: the/DT Knave/NNP was/VBD standing/VBG before/IN them/PRP ,/, in/IN chains/NNS ,/, with/IN a/DT soldier/NN on/IN each/DT side/NN to/TO guard/VB him/PRP ;/: and/CC near/IN the/DT King/NNP was/VBD the/DT White/NNP Rabbit/NNP ,/, with/IN a/DT trumpet/NN in/IN one/CD hand/NN ,/, and/CC a/DT scroll/NN of/IN parchment/NN in/IN the/DT other/JJ ./.\n",
            "In/IN the/DT very/RB middle/JJ of/IN the/DT court/NN was/VBD a/DT table/NN ,/, with/IN a/DT large/JJ dish/NN of/IN tarts/NNS upon/IN it/PRP :/: they/PRP looked/VBD so/RB good/JJ ,/, that/IN it/PRP made/VBD Alice/NNP quite/RB hungry/JJ to/TO look/VB at/IN them/PRP --/: '/'' I/PRP wish/VBP they/PRP 'd/MD get/VB the/DT trial/NN done/VBN ,/, '/'' she/PRP thought/VBD ,/, 'and/CD hand/NN round/VBD the/DT refreshments/NNS !/. '/''\n",
            "But/CC there/EX seemed/VBD to/TO be/VB no/DT chance/NN of/IN this/DT ,/, so/IN she/PRP began/VBD looking/VBG at/IN everything/NN about/IN her/PRP$ ,/, to/TO pass/VB away/RP the/DT time/NN ./.\n",
            "Alice/NNP had/VBD never/RB been/VBN in/IN a/DT court/NN of/IN justice/NN before/IN ,/, but/CC she/PRP had/VBD read/VBN about/IN them/PRP in/IN books/NNS ,/, and/CC she/PRP was/VBD quite/RB pleased/JJ to/TO find/VB that/IN she/PRP knew/VBD the/DT name/NN of/IN nearly/RB everything/NN there/RB ./.\n",
            "'That/WDT 's/VBZ the/DT judge/NN ,/, '/'' she/PRP said/VBD to/TO herself/VB ,/, 'because/CD of/IN his/PRP$ great/JJ wig/NN ./. '/''\n",
            "The/DT judge/NN ,/, by/IN the/DT way/NN ,/, was/VBD the/DT King/NNP ;/: and/CC as/IN he/PRP wore/VBD his/PRP$ crown/NN over/IN the/DT wig/NN ,/, (/( look/NN at/IN the/DT frontispiece/NN if/IN you/PRP want/VBP to/TO see/VB how/WRB he/PRP did/VBD it/PRP ,/, )/) he/PRP did/VBD not/RB look/VB at/IN all/DT comfortable/JJ ,/, and/CC it/PRP was/VBD certainly/RB not/RB becoming/VBG ./.\n",
            "'And/MD that/WDT 's/VBZ the/DT jury-box/NN ,/, '/'' thought/JJ Alice/NNP ,/, 'and/NNP those/DT twelve/JJ creatures/NNS ,/, '/'' (/( she/PRP was/VBD obliged/VBN to/TO say/VB 'creatures/NNS ,/, '/'' you/PRP see/VBP ,/, because/IN some/DT of/IN them/PRP were/VBD animals/NNS ,/, and/CC some/DT were/VBD birds/NNS ,/, )/) '/POS I/PRP suppose/VBP they/PRP are/VBP the/DT jurors/NNS ./. '/''\n",
            "She/PRP said/VBD this/DT last/JJ word/NN two/CD or/CC three/CD times/NNS over/IN to/TO herself/VB ,/, being/VBG rather/RB proud/NN of/IN it/PRP :/: for/IN she/PRP thought/VBD ,/, and/CC rightly/RB too/RB ,/, that/DT very/RB few/JJ little/JJ girls/NNS of/IN her/PRP$ age/NN knew/VBD the/DT meaning/NN of/IN it/PRP at/IN all/DT ./.\n",
            "However/RB ,/, 'jury-men/NNS '/POS would/MD have/VB done/VBN just/RB as/RB well/RB ./.\n",
            "The/DT twelve/NN jurors/NNS were/VBD all/DT writing/VBG very/RB busily/RB on/IN slates/NNS ./.\n",
            "'What/WDT are/VBP they/PRP doing/VBG ?/. '/''\n",
            "Alice/RB whispered/VBN to/TO the/DT Gryphon/NNP ./.\n",
            "'They/NNS ca/MD n't/RB have/VB anything/NN to/TO put/VB down/RP yet/RB ,/, before/IN the/DT trial/NN 's/POS begun/VBN ./. '/''\n",
            "'They/CD 're/VBP putting/VBG down/RP their/PRP$ names/NNS ,/, '/'' the/DT Gryphon/NNP whispered/VBD in/IN reply/NN ,/, 'for/'' fear/VBP they/PRP should/MD forget/VB them/PRP before/IN the/DT end/NN of/IN the/DT trial/NN ./. '/''\n",
            "'Stupid/JJ things/NNS !/. '/''\n",
            "Alice/NNP began/VBD in/IN a/DT loud/NN ,/, indignant/JJ voice/NN ,/, but/CC she/PRP stopped/VBD hastily/RB ,/, for/IN the/DT White/NNP Rabbit/NNP cried/VBD out/RP ,/, 'Silence/NN in/IN the/DT court/NN !/. '/''\n",
            "and/CC the/DT King/NNP put/NN on/IN his/PRP$ spectacles/NNS and/CC looked/VBD anxiously/RB round/VBN ,/, to/TO make/VB out/RP who/WP was/VBD talking/VBG ./.\n",
            "Alice/NNP could/MD see/VB ,/, as/RB well/RB as/IN if/IN she/PRP were/VBD looking/VBG over/IN their/PRP$ shoulders/NNS ,/, that/IN all/PDT the/DT jurors/NNS were/VBD writing/VBG down/RP 'stupid/JJ things/NNS !/. '/''\n",
            "on/IN their/PRP$ slates/NNS ,/, and/CC she/PRP could/MD even/RB make/VB out/RP that/IN one/CD of/IN them/PRP did/VBD n't/RB know/VB how/WRB to/TO spell/VB 'stupid/CD ,/, '/'' and/CC that/IN he/PRP had/VBD to/TO ask/VB his/PRP$ neighbour/NN to/TO tell/VB him/PRP ./.\n",
            "'/'' A/DT nice/JJ muddle/FW their/PRP$ slates/NNS 'll/MD be/VB in/IN before/IN the/DT trial/NN 's/POS over/IN !/. '/''\n",
            "thought/JJ Alice/NNP ./.\n",
            "One/CD of/IN the/DT jurors/NNS had/VBD a/DT pencil/NN that/IN squeaked/VBD ./.\n",
            "This/DT of/IN course/NN ,/, Alice/NNP could/MD not/RB stand/VB ,/, and/CC she/PRP went/VBD round/IN the/DT court/NN and/CC got/VBD behind/IN him/PRP ,/, and/CC very/RB soon/RB found/VBD an/DT opportunity/NN of/IN taking/VBG it/PRP away/RB ./.\n",
            "She/PRP did/VBD it/PRP so/RB quickly/RB that/IN the/DT poor/JJ little/JJ juror/NN (/( it/PRP was/VBD Bill/NNP ,/, the/DT Lizard/NNP )/) could/MD not/RB make/VB out/RP at/IN all/DT what/WP had/VBD become/VBN of/IN it/PRP ;/: so/RB ,/, after/IN hunting/VBG all/DT about/IN for/IN it/PRP ,/, he/PRP was/VBD obliged/VBN to/TO write/VB with/IN one/CD finger/NN for/IN the/DT rest/NN of/IN the/DT day/NN ;/: and/CC this/DT was/VBD of/IN very/RB little/JJ use/NN ,/, as/IN it/PRP left/VBD no/DT mark/NN on/IN the/DT slate/NN ./.\n",
            "'Herald/CD ,/, read/VBD the/DT accusation/NN !/. '/''\n",
            "said/VBD the/DT King/NNP ./.\n",
            "On/IN this/DT the/DT White/NNP Rabbit/NNP blew/VBD three/CD blasts/NNS on/IN the/DT trumpet/NN ,/, and/CC then/RB unrolled/VBD the/DT parchment/NN scroll/NN ,/, and/CC read/VBD as/IN follows/VBZ :/: --/: 'The/POS Queen/NNP of/IN Hearts/NNP ,/, she/PRP made/VBD some/DT tarts/NNS ,/, All/DT on/IN a/DT summer/NN day/NN :/: The/DT Knave/NNP of/IN Hearts/NNP ,/, he/PRP stole/VBD those/DT tarts/NNS ,/, And/CC took/VBD them/PRP quite/VB away/RB !/. '/''\n",
            "'Consider/VB your/PRP$ verdict/NN ,/, '/'' the/DT King/NNP said/VBD to/TO the/DT jury/NN ./.\n",
            "'Not/CD yet/RB ,/, not/RB yet/RB !/. '/''\n",
            "the/DT Rabbit/NNP hastily/RB interrupted/VBD ./.\n",
            "'There/EX 's/VBZ a/DT great/JJ deal/NN to/TO come/VB before/IN that/DT !/. '/''\n",
            "'Call/VB the/DT first/JJ witness/NN ,/, '/'' said/VBD the/DT King/NNP ;/: and/CC the/DT White/NNP Rabbit/NNP blew/VBD three/CD blasts/NNS on/IN the/DT trumpet/NN ,/, and/CC called/VBD out/RP ,/, 'First/'' witness/NN !/. '/''\n",
            "The/DT first/JJ witness/NN was/VBD the/DT Hatter/NNP ./.\n",
            "He/PRP came/VBD in/IN with/IN a/DT teacup/NN in/IN one/CD hand/NN and/CC a/DT piece/NN of/IN bread-and-butter/NN in/IN the/DT other/JJ ./.\n",
            "'/POS I/PRP beg/VBP pardon/RB ,/, your/PRP$ Majesty/NNP ,/, '/'' he/PRP began/VBD ,/, 'for/CD bringing/VBG these/DT in/IN :/: but/CC I/PRP had/VBD n't/RB quite/RB finished/VBN my/PRP$ tea/NN when/WRB I/PRP was/VBD sent/VBN for/IN ./. '/''\n",
            "'You/NNS ought/MD to/TO have/VB finished/VBN ,/, '/'' said/VBD the/DT King/NNP ./.\n",
            "'When/POS did/VBD you/PRP begin/VB ?/. '/''\n",
            "The/DT Hatter/NNP looked/VBD at/IN the/DT March/NNP Hare/NNP ,/, who/WP had/VBD followed/VBN him/PRP into/IN the/DT court/NN ,/, arm-in-arm/NN with/IN the/DT Dormouse/NNP ./.\n",
            "'Fourteenth/CD of/IN March/NNP ,/, I/PRP think/VBP it/PRP was/VBD ,/, '/'' he/PRP said/VBD ./.\n",
            "'Fifteenth/CD ,/, '/'' said/VBD the/DT March/NNP Hare/NNP ./.\n",
            "'Sixteenth/CD ,/, '/'' added/VBD the/DT Dormouse/NNP ./.\n",
            "'Write/NN that/WDT down/RB ,/, '/'' the/DT King/NNP said/VBD to/TO the/DT jury/NN ,/, and/CC the/DT jury/NN eagerly/RB wrote/VBD down/IN all/DT three/CD dates/NNS on/IN their/PRP$ slates/NNS ,/, and/CC then/RB added/VBD them/PRP up/RP ,/, and/CC reduced/VBD the/DT answer/NN to/TO shillings/NNS and/CC pence/NN ./.\n",
            "'Take/VB off/RP your/PRP$ hat/NN ,/, '/'' the/DT King/NNP said/VBD to/TO the/DT Hatter/NNP ./.\n",
            "'It/NN is/VBZ n't/RB mine/JJ ,/, '/'' said/VBD the/DT Hatter/NNP ./.\n",
            "'Stolen/CD !/. '/''\n",
            "the/DT King/NNP exclaimed/VBD ,/, turning/VBG to/TO the/DT jury/NN ,/, who/WP instantly/RB made/VBD a/DT memorandum/NN of/IN the/DT fact/NN ./.\n",
            "'/POS I/PRP keep/VBP them/PRP to/TO sell/VB ,/, '/'' the/DT Hatter/NNP added/VBD as/IN an/DT explanation/NN ;/: '/POS I/PRP 've/VBP none/NN of/IN my/PRP$ own/JJ ./.\n",
            "I/PRP 'm/VBP a/DT hatter/NN ./. '/''\n",
            "Here/RB the/DT Queen/NNP put/NN on/IN her/PRP$ spectacles/NNS ,/, and/CC began/VBD staring/VBG at/IN the/DT Hatter/NNP ,/, who/WP turned/VBD pale/JJ and/CC fidgeted/VBN ./.\n",
            "'Give/CD your/PRP$ evidence/NN ,/, '/'' said/VBD the/DT King/NNP ;/: 'and/CD do/VBP n't/RB be/VB nervous/JJ ,/, or/CC I/PRP 'll/MD have/VB you/PRP executed/VBN on/IN the/DT spot/NN ./. '/''\n",
            "This/DT did/VBD not/RB seem/VB to/TO encourage/VB the/DT witness/NN at/IN all/DT :/: he/PRP kept/VBD shifting/VBG from/IN one/CD foot/NN to/TO the/DT other/JJ ,/, looking/VBG uneasily/RB at/IN the/DT Queen/NNP ,/, and/CC in/IN his/PRP$ confusion/NN he/PRP bit/VBZ a/DT large/JJ piece/NN out/IN of/IN his/PRP$ teacup/NN instead/RB of/IN the/DT bread-and-butter/NN ./.\n",
            "Just/RB at/IN this/DT moment/NN Alice/NNP felt/VBD a/DT very/RB curious/JJ sensation/NN ,/, which/WDT puzzled/VBD her/PRP a/DT good/JJ deal/NN until/IN she/PRP made/VBD out/RP what/WP it/PRP was/VBD :/: she/PRP was/VBD beginning/VBG to/TO grow/VB larger/JJR again/RB ,/, and/CC she/PRP thought/VBD at/IN first/JJ she/PRP would/MD get/VB up/RP and/CC leave/VB the/DT court/NN ;/: but/CC on/IN second/JJ thoughts/NNS she/PRP decided/VBD to/TO remain/VB where/WRB she/PRP was/VBD as/RB long/RB as/IN there/EX was/VBD room/NN for/IN her/PRP$ ./.\n",
            "'/POS I/PRP wish/VBP you/PRP would/MD n't/RB squeeze/VB so/RB ./. '/''\n",
            "said/VBD the/DT Dormouse/NNP ,/, who/WP was/VBD sitting/VBG next/JJ to/TO her/PRP$ ./.\n",
            "'/POS I/PRP can/MD hardly/RB breathe/VB ./. '/''\n",
            "'/POS I/PRP ca/MD n't/RB help/VB it/PRP ,/, '/'' said/VBD Alice/NNP very/RB meekly/RB :/: '/'' I/PRP 'm/VBP growing/VBG ./. '/''\n",
            "'You/POS 've/VBP no/DT right/NN to/TO grow/VB here/RB ,/, '/'' said/VBD the/DT Dormouse/NNP ./.\n",
            "'Do/MD n't/RB talk/VB nonsense/NN ,/, '/'' said/VBD Alice/NNP more/RBR boldly/RB :/: 'you/CD know/VBP you/PRP 're/VBP growing/VBG too/RB ./. '/''\n",
            "'Yes/CD ,/, but/CC I/PRP grow/VBP at/IN a/DT reasonable/JJ pace/NN ,/, '/'' said/VBD the/DT Dormouse/NNP :/: 'not/NN in/IN that/DT ridiculous/JJ fashion/NN ./. '/''\n",
            "And/CC he/PRP got/VBD up/RB very/RB sulkily/RB and/CC crossed/VBD over/IN to/TO the/DT other/JJ side/NN of/IN the/DT court/NN ./.\n",
            "All/PDT this/DT time/NN the/DT Queen/NNP had/VBD never/RB left/VBN off/RP staring/VBG at/IN the/DT Hatter/NNP ,/, and/CC ,/, just/RB as/IN the/DT Dormouse/NNP crossed/VBD the/DT court/NN ,/, she/PRP said/VBD to/TO one/CD of/IN the/DT officers/NNS of/IN the/DT court/NN ,/, 'Bring/VBG me/PRP the/DT list/NN of/IN the/DT singers/NNS in/IN the/DT last/JJ concert/NN !/. '/''\n",
            "on/IN which/WDT the/DT wretched/NN Hatter/NNP trembled/VBD so/RB ,/, that/IN he/PRP shook/VBD both/DT his/PRP$ shoes/NNS off/RP ./.\n",
            "'Give/CD your/PRP$ evidence/NN ,/, '/'' the/DT King/NNP repeated/VBD angrily/RB ,/, 'or/'' I/PRP 'll/MD have/VB you/PRP executed/VBN ,/, whether/IN you/PRP 're/VBP nervous/JJ or/CC not/RB ./. '/''\n",
            "'/POS I/PRP 'm/VBP a/DT poor/JJ man/NN ,/, your/PRP$ Majesty/NNP ,/, '/'' the/DT Hatter/NNP began/VBD ,/, in/IN a/DT trembling/JJ voice/NN ,/, '/'' --/: and/CC I/PRP had/VBD n't/RB begun/VBN my/PRP$ tea/NN --/: not/RB above/IN a/DT week/NN or/CC so/RB --/: and/CC what/WP with/IN the/DT bread-and-butter/NN getting/VBG so/RB thin/JJ --/: and/CC the/DT twinkling/NN of/IN the/DT tea/NN --/: '/'' 'The/JJ twinkling/NN of/IN the/DT what/WP ?/. '/''\n",
            "said/VBD the/DT King/NNP ./.\n",
            "'It/NNS began/VBD with/IN the/DT tea/NN ,/, '/'' the/DT Hatter/NNP replied/VBD ./.\n",
            "'Of/JJ course/NN twinkling/VBG begins/NNS with/IN a/DT T/NN !/. '/''\n",
            "said/VBD the/DT King/NNP sharply/RB ./.\n",
            "'Do/IN you/PRP take/VBP me/PRP for/IN a/DT dunce/NN ?/.\n",
            "Go/VB on/IN !/. '/''\n",
            "'/POS I/PRP 'm/VBP a/DT poor/JJ man/NN ,/, '/'' the/DT Hatter/NNP went/VBD on/IN ,/, 'and/PRP most/JJS things/NNS twinkled/VBD after/IN that/DT --/: only/RB the/DT March/NNP Hare/NNP said/VBD --/: '/'' '/POS I/PRP did/VBD n't/RB !/. '/''\n",
            "the/DT March/NNP Hare/NNP interrupted/VBN in/IN a/DT great/JJ hurry/NN ./.\n",
            "'You/NNS did/VBD !/. '/''\n",
            "said/VBD the/DT Hatter/NNP ./.\n",
            "'/POS I/PRP deny/VBP it/PRP !/. '/''\n",
            "said/VBD the/DT March/NNP Hare/NNP ./.\n",
            "'He/MD denies/VBZ it/PRP ,/, '/'' said/VBD the/DT King/NNP :/: 'leave/VB out/RP that/IN part/NN ./. '/''\n",
            "'Well/RB ,/, at/IN any/DT rate/NN ,/, the/DT Dormouse/NNP said/VBD --/: '/'' the/DT Hatter/NNP went/VBD on/IN ,/, looking/VBG anxiously/RB round/VBN to/TO see/VB if/IN he/PRP would/MD deny/VB it/PRP too/RB :/: but/CC the/DT Dormouse/NNP denied/VBD nothing/NN ,/, being/VBG fast/JJ asleep/NN ./.\n",
            "'After/NN that/IN ,/, '/'' continued/VBD the/DT Hatter/NNP ,/, '/'' I/PRP cut/VBD some/DT more/RBR bread-and-butter/JJ --/: '/POS 'But/MD what/WP did/VBD the/DT Dormouse/NNP say/VB ?/. '/''\n",
            "one/CD of/IN the/DT jury/NN asked/VBD ./.\n",
            "'That/IN I/PRP ca/MD n't/RB remember/VB ,/, '/'' said/VBD the/DT Hatter/NNP ./.\n",
            "'You/NNS MUST/NNP remember/VB ,/, '/'' remarked/VBD the/DT King/NNP ,/, 'or/'' I/PRP 'll/MD have/VB you/PRP executed/VBN ./. '/''\n",
            "The/DT miserable/JJ Hatter/NNP dropped/VBD his/PRP$ teacup/NN and/CC bread-and-butter/NN ,/, and/CC went/VBD down/RB on/IN one/CD knee/NN ./.\n",
            "'/POS I/PRP 'm/VBP a/DT poor/JJ man/NN ,/, your/PRP$ Majesty/NNP ,/, '/'' he/PRP began/VBD ./.\n",
            "'You/MD 're/VBP a/DT very/RB poor/JJ speaker/NN ,/, '/'' said/VBD the/DT King/NNP ./.\n",
            "Here/RB one/CD of/IN the/DT guinea-pigs/NNS cheered/VBN ,/, and/CC was/VBD immediately/RB suppressed/VBN by/IN the/DT officers/NNS of/IN the/DT court/NN ./.\n",
            "(/( As/IN that/DT is/VBZ rather/RB a/DT hard/JJ word/NN ,/, I/PRP will/MD just/RB explain/VB to/TO you/PRP how/WRB it/PRP was/VBD done/VBN ./.\n",
            "They/PRP had/VBD a/DT large/JJ canvas/NN bag/NN ,/, which/WDT tied/VBD up/RP at/IN the/DT mouth/NN with/IN strings/NNS :/: into/IN this/DT they/PRP slipped/VBD the/DT guinea-pig/NN ,/, head/NN first/RB ,/, and/CC then/RB sat/VBD upon/IN it/PRP ./. )/)\n",
            "'/POS I/PRP 'm/VBP glad/JJ I/PRP 've/VBP seen/VBN that/IN done/VBN ,/, '/'' thought/JJ Alice/NNP ./.\n",
            "'/POS I/PRP 've/VBP so/RB often/RB read/VBN in/IN the/DT newspapers/NNS ,/, at/IN the/DT end/NN of/IN trials/NNS ,/, ``/`` There/EX was/VBD some/DT attempts/NNS at/IN applause/NN ,/, which/WDT was/VBD immediately/RB suppressed/VBN by/IN the/DT officers/NNS of/IN the/DT court/NN ,/, ''/'' and/CC I/PRP never/RB understood/VBD what/WP it/PRP meant/VBD till/NN now/RB ./. '/''\n",
            "'If/MD that/DT 's/VBZ all/DT you/PRP know/VBP about/IN it/PRP ,/, you/PRP may/MD stand/VB down/RP ,/, '/'' continued/VBD the/DT King/NNP ./.\n",
            "'/POS I/PRP ca/MD n't/RB go/VB no/DT lower/JJR ,/, '/'' said/VBD the/DT Hatter/NNP :/: '/POS I/PRP 'm/VBP on/IN the/DT floor/NN ,/, as/IN it/PRP is/VBZ ./. '/''\n",
            "'Then/IN you/PRP may/MD SIT/VB down/RP ,/, '/'' the/DT King/NNP replied/VBD ./.\n",
            "Here/RB the/DT other/JJ guinea-pig/NN cheered/VBN ,/, and/CC was/VBD suppressed/VBN ./.\n",
            "'Come/CD ,/, that/WDT finished/VBD the/DT guinea-pigs/JJ !/. '/''\n",
            "thought/JJ Alice/NNP ./.\n",
            "'Now/IN we/PRP shall/MD get/VB on/IN better/JJR ./. '/''\n",
            "'/POS I/PRP 'd/MD rather/RB finish/VB my/PRP$ tea/NN ,/, '/'' said/VBD the/DT Hatter/NNP ,/, with/IN an/DT anxious/JJ look/NN at/IN the/DT Queen/NNP ,/, who/WP was/VBD reading/VBG the/DT list/NN of/IN singers/NNS ./.\n",
            "'You/NN may/MD go/VB ,/, '/'' said/VBD the/DT King/NNP ,/, and/CC the/DT Hatter/NNP hurriedly/RB left/VBD the/DT court/NN ,/, without/IN even/RB waiting/VBG to/TO put/VB his/PRP$ shoes/NNS on./VBP '/''\n",
            "--/: and/CC just/RB take/VB his/PRP$ head/NN off/IN outside/JJ ,/, '/'' the/DT Queen/NNP added/VBD to/TO one/CD of/IN the/DT officers/NNS :/: but/CC the/DT Hatter/NNP was/VBD out/IN of/IN sight/NN before/IN the/DT officer/NN could/MD get/VB to/TO the/DT door/NN ./.\n",
            "'Call/PDT the/DT next/JJ witness/NN !/. '/''\n",
            "said/VBD the/DT King/NNP ./.\n",
            "The/DT next/JJ witness/NN was/VBD the/DT Duchess/NNP 's/POS cook/NN ./.\n",
            "She/PRP carried/VBD the/DT pepper-box/NN in/IN her/PRP$ hand/NN ,/, and/CC Alice/NNP guessed/VBD who/WP it/PRP was/VBD ,/, even/RB before/IN she/PRP got/VBD into/IN the/DT court/NN ,/, by/IN the/DT way/NN the/DT people/NNS near/IN the/DT door/NN began/VBD sneezing/VBG all/DT at/IN once/RB ./.\n",
            "'Give/CD your/PRP$ evidence/NN ,/, '/'' said/VBD the/DT King/NNP ./.\n",
            "'Sha/MD n't/RB ,/, '/'' said/VBD the/DT cook/NN ./.\n",
            "The/DT King/NNP looked/VBD anxiously/RB at/IN the/DT White/NNP Rabbit/NNP ,/, who/WP said/VBD in/IN a/DT low/JJ voice/NN ,/, 'Your/CD Majesty/NNP must/MD cross-examine/VB THIS/NNP witness/NN ./. '/''\n",
            "'Well/RB ,/, if/IN I/PRP must/MD ,/, I/PRP must/MD ,/, '/'' the/DT King/NNP said/VBD ,/, with/IN a/DT melancholy/JJ air/NN ,/, and/CC ,/, after/IN folding/VBG his/PRP$ arms/NNS and/CC frowning/VBG at/IN the/DT cook/NN till/VB his/PRP$ eyes/NNS were/VBD nearly/RB out/RB of/IN sight/NN ,/, he/PRP said/VBD in/IN a/DT deep/JJ voice/NN ,/, 'What/WDT are/VBP tarts/NNS made/VBN of/IN ?/. '/''\n",
            "'Pepper/CD ,/, mostly/RB ,/, '/'' said/VBD the/DT cook/NN ./.\n",
            "'Treacle/NN ,/, '/'' said/VBD a/DT sleepy/JJ voice/NN behind/IN her/PRP ./.\n",
            "'Collar/JJ that/IN Dormouse/NNP ,/, '/'' the/DT Queen/NNP shrieked/VBD out/RP ./.\n",
            "'Behead/POS that/DT Dormouse/NN !/.\n",
            "Turn/NN that/WDT Dormouse/VBZ out/IN of/IN court/NN !/.\n",
            "Suppress/NNP him/PRP !/.\n",
            "Pinch/NN him/PRP !/.\n",
            "Off/IN with/IN his/PRP$ whiskers/NNS !/. '/''\n",
            "For/IN some/DT minutes/NNS the/DT whole/JJ court/NN was/VBD in/IN confusion/NN ,/, getting/VBG the/DT Dormouse/NNP turned/VBD out/RP ,/, and/CC ,/, by/IN the/DT time/NN they/PRP had/VBD settled/VBN down/RB again/RB ,/, the/DT cook/NN had/VBD disappeared/VBN ./.\n",
            "'Never/RB mind/NN !/. '/''\n",
            "said/VBD the/DT King/NNP ,/, with/IN an/DT air/NN of/IN great/JJ relief/NN ./.\n",
            "'Call/PDT the/DT next/JJ witness/NN ./. '/''\n",
            "And/CC he/PRP added/VBD in/IN an/DT undertone/NN to/TO the/DT Queen/NNP ,/, 'Really/RB ,/, my/PRP$ dear/NN ,/, YOU/PRP must/MD cross-examine/VB the/DT next/JJ witness/NN ./.\n",
            "It/PRP quite/RB makes/VBZ my/PRP$ forehead/JJ ache/NN !/. '/''\n",
            "Alice/NNP watched/VBD the/DT White/NNP Rabbit/NNPS as/IN he/PRP fumbled/VBD over/RP the/DT list/NN ,/, feeling/VBG very/RB curious/JJ to/TO see/VB what/WP the/DT next/JJ witness/NN would/MD be/VB like/IN ,/, '/'' --/: for/IN they/PRP haven't/VBP got/VBD much/JJ evidence/NN YET/RB ,/, '/'' she/PRP said/VBD to/TO herself/PRP ./.\n",
            "Imagine/NNP her/PRP surprise/NN ,/, when/WRB the/DT White/NNP Rabbit/NNP read/VBD out/RP ,/, at/IN the/DT top/NN of/IN his/PRP$ shrill/NN little/JJ voice/NN ,/, the/DT name/NN 'Alice/POS !/. '/''\n",
            "CHAPTER/NN XII/NN ./.\n",
            "Alice/NNP 's/POS Evidence/NNP 'Here/RB !/. '/''\n",
            "cried/JJ Alice/NNP ,/, quite/RB forgetting/VBG in/IN the/DT flurry/NN of/IN the/DT moment/NN how/WRB large/JJ she/PRP had/VBD grown/VBN in/IN the/DT last/JJ few/JJ minutes/NNS ,/, and/CC she/PRP jumped/VBD up/RB in/IN such/JJ a/DT hurry/NN that/IN she/PRP tipped/VBD over/IN the/DT jury-box/NN with/IN the/DT edge/NN of/IN her/PRP$ skirt/NN ,/, upsetting/VBG all/PDT the/DT jurymen/NNS on/IN to/TO the/DT heads/NNS of/IN the/DT crowd/NN below/IN ,/, and/CC there/RB they/PRP lay/VBD sprawling/VBG about/RB ,/, reminding/VBG her/PRP$ very/RB much/JJ of/IN a/DT globe/NN of/IN goldfish/JJ she/PRP had/VBD accidentally/RB upset/VBN the/DT week/NN before/IN ./.\n",
            "'Oh/CD ,/, I/PRP BEG/VBP your/PRP$ pardon/NN !/. '/''\n",
            "she/PRP exclaimed/VBD in/IN a/DT tone/NN of/IN great/JJ dismay/NN ,/, and/CC began/VBD picking/VBG them/PRP up/RP again/RB as/RB quickly/RB as/IN she/PRP could/MD ,/, for/IN the/DT accident/NN of/IN the/DT goldfish/JJ kept/NN running/VBG in/IN her/PRP$ head/NN ,/, and/CC she/PRP had/VBD a/DT vague/JJ sort/NN of/IN idea/NN that/IN they/PRP must/MD be/VB collected/VBN at/IN once/RB and/CC put/VB back/RB into/IN the/DT jury-box/NN ,/, or/CC they/PRP would/MD die/VB ./.\n",
            "'The/POS trial/NN can/MD not/RB proceed/VB ,/, '/'' said/VBD the/DT King/NNP in/IN a/DT very/RB grave/JJ voice/NN ,/, 'until/'' all/PDT the/DT jurymen/NNS are/VBP back/RB in/IN their/PRP$ proper/JJ places/NNS --/: ALL/NNP ,/, '/'' he/PRP repeated/VBD with/IN great/JJ emphasis/NN ,/, looking/VBG hard/RB at/IN Alice/NNP as/IN he/PRP said/VBD do/NN ./.\n",
            "Alice/NNP looked/VBD at/IN the/DT jury-box/NN ,/, and/CC saw/VBD that/IN ,/, in/IN her/PRP$ haste/NN ,/, she/PRP had/VBD put/VBN the/DT Lizard/NNP in/IN head/NN downwards/NNS ,/, and/CC the/DT poor/JJ little/JJ thing/NN was/VBD waving/VBG its/PRP$ tail/NN about/IN in/IN a/DT melancholy/JJ way/NN ,/, being/VBG quite/RB unable/JJ to/TO move/VB ./.\n",
            "She/PRP soon/RB got/VBD it/PRP out/RP again/RB ,/, and/CC put/VBD it/PRP right/RB ;/: 'not/CC that/IN it/PRP signifies/VBZ much/RB ,/, '/'' she/PRP said/VBD to/TO herself/PRP ;/: '/'' I/PRP should/MD think/VB it/PRP would/MD be/VB QUITE/RB as/RB much/JJ use/NN in/IN the/DT trial/NN one/CD way/NN up/RB as/IN the/DT other/JJ ./. '/''\n",
            "As/RB soon/RB as/IN the/DT jury/NN had/VBD a/DT little/JJ recovered/JJ from/IN the/DT shock/NN of/IN being/VBG upset/VBN ,/, and/CC their/PRP$ slates/NNS and/CC pencils/NNS had/VBD been/VBN found/VBN and/CC handed/VBN back/RP to/TO them/PRP ,/, they/PRP set/VBP to/TO work/VB very/RB diligently/RB to/TO write/VB out/RP a/DT history/NN of/IN the/DT accident/NN ,/, all/DT except/IN the/DT Lizard/NNP ,/, who/WP seemed/VBD too/RB much/JJ overcome/NN to/TO do/VB anything/NN but/CC sit/NN with/IN its/PRP$ mouth/NN open/JJ ,/, gazing/VBG up/RP into/IN the/DT roof/NN of/IN the/DT court/NN ./.\n",
            "'What/WDT do/VBP you/PRP know/VB about/IN this/DT business/NN ?/. '/''\n",
            "the/DT King/NNP said/VBD to/TO Alice/NNP ./.\n",
            "'Nothing/VBG ,/, '/'' said/VBD Alice/NNP ./.\n",
            "'Nothing/VBG WHATEVER/NNP ?/. '/''\n",
            "persisted/VBN the/DT King/NNP ./.\n",
            "'Nothing/VBG whatever/NN ,/, '/'' said/VBD Alice/NNP ./.\n",
            "'That/WP 's/VBZ very/RB important/JJ ,/, '/'' the/DT King/NNP said/VBD ,/, turning/VBG to/TO the/DT jury/NN ./.\n",
            "They/PRP were/VBD just/RB beginning/VBG to/TO write/VB this/DT down/RP on/IN their/PRP$ slates/NNS ,/, when/WRB the/DT White/NNP Rabbit/NNP interrupted/VBD :/: 'UNimportant/NN ,/, your/PRP$ Majesty/NNP means/NNPS ,/, of/IN course/NN ,/, '/'' he/PRP said/VBD in/IN a/DT very/RB respectful/JJ tone/NN ,/, but/CC frowning/VBG and/CC making/VBG faces/VBZ at/IN him/PRP as/IN he/PRP spoke/VBD ./.\n",
            "'UNimportant/JJ ,/, of/IN course/NN ,/, I/PRP meant/VBP ,/, '/'' the/DT King/NNP hastily/NN said/VBD ,/, and/CC went/VBD on/IN to/TO himself/PRP in/IN an/DT undertone/NN ,/, 'important/CD --/: unimportant/JJ --/: unimportant/JJ --/: important/JJ --/: '/POS as/IN if/IN he/PRP were/VBD trying/VBG which/WDT word/NN sounded/VBD best/RBS ./.\n",
            "Some/DT of/IN the/DT jury/NN wrote/VBD it/PRP down/RP 'important/JJ ,/, '/'' and/CC some/DT 'unimportant/JJ ./. '/''\n",
            "Alice/NNP could/MD see/VB this/DT ,/, as/IN she/PRP was/VBD near/RB enough/JJ to/TO look/VB over/RP their/PRP$ slates/NNS ;/: 'but/VBZ it/PRP does/VBZ n't/RB matter/VB a/DT bit/NN ,/, '/'' she/PRP thought/VBD to/TO herself/VB ./.\n",
            "At/IN this/DT moment/NN the/DT King/NNP ,/, who/WP had/VBD been/VBN for/IN some/DT time/NN busily/RB writing/VBG in/IN his/PRP$ note-book/NN ,/, cackled/VBD out/RP 'Silence/NN !/. '/''\n",
            "and/CC read/VB out/RP from/IN his/PRP$ book/NN ,/, 'Rule/'' Forty-two/NNP ./.\n",
            "ALL/DT PERSONS/NNP MORE/NNP THAN/NNP A/NNP MILE/NNP HIGH/NNP TO/NNP LEAVE/NNP THE/NNP COURT/NNP ./. '/''\n",
            "Everybody/NN looked/VBD at/IN Alice/NNP ./.\n",
            "'/POS I/PRP 'M/MD not/RB a/DT mile/NN high/JJ ,/, '/'' said/VBD Alice/NNP ./.\n",
            "'You/NNS are/VBP ,/, '/'' said/VBD the/DT King/NNP ./.\n",
            "'Nearly/RB two/CD miles/NNS high/RB ,/, '/'' added/VBD the/DT Queen/NNP ./.\n",
            "'Well/UH ,/, I/PRP sha/VBP n't/RB go/VB ,/, at/IN any/DT rate/NN ,/, '/'' said/VBD Alice/NNP :/: 'besides/NNS ,/, that/DT 's/VBZ not/RB a/DT regular/JJ rule/NN :/: you/PRP invented/VBD it/PRP just/RB now/RB ./. '/''\n",
            "'It/NN 's/POS the/DT oldest/JJS rule/NN in/IN the/DT book/NN ,/, '/'' said/VBD the/DT King/NNP ./.\n",
            "'Then/VB it/PRP ought/MD to/TO be/VB Number/NNP One/NNP ,/, '/'' said/VBD Alice/NNP ./.\n",
            "The/DT King/NNP turned/VBD pale/JJ ,/, and/CC shut/VB his/PRP$ note-book/JJ hastily/NN ./.\n",
            "'Consider/VB your/PRP$ verdict/NN ,/, '/'' he/PRP said/VBD to/TO the/DT jury/NN ,/, in/IN a/DT low/JJ ,/, trembling/JJ voice/NN ./.\n",
            "'There/EX 's/VBZ more/JJR evidence/NN to/TO come/VB yet/RB ,/, please/VB your/PRP$ Majesty/NNP ,/, '/'' said/VBD the/DT White/NNP Rabbit/NNP ,/, jumping/VBG up/RP in/IN a/DT great/JJ hurry/NN ;/: 'this/CC paper/NN has/VBZ just/RB been/VBN picked/VBN up/RP ./. '/''\n",
            "'What/DT 's/VBZ in/IN it/PRP ?/. '/''\n",
            "said/VBD the/DT Queen/NNP ./.\n",
            "'/POS I/PRP have/VBP n't/RB opened/VBN it/PRP yet/RB ,/, '/'' said/VBD the/DT White/NNP Rabbit/NNP ,/, 'but/VBZ it/PRP seems/VBZ to/TO be/VB a/DT letter/NN ,/, written/VBN by/IN the/DT prisoner/NN to/TO --/: to/TO somebody/NN ./. '/''\n",
            "'It/NNS must/MD have/VB been/VBN that/IN ,/, '/'' said/VBD the/DT King/NNP ,/, 'unless/VBD it/PRP was/VBD written/VBN to/TO nobody/NN ,/, which/WDT is/VBZ n't/RB usual/JJ ,/, you/PRP know/VBP ./. '/''\n",
            "'Who/'' is/VBZ it/PRP directed/VBD to/TO ?/. '/''\n",
            "said/VBD one/CD of/IN the/DT jurymen/NNS ./.\n",
            "'It/NN is/VBZ n't/RB directed/VBN at/IN all/DT ,/, '/'' said/VBD the/DT White/NNP Rabbit/NNP ;/: 'in/CD fact/NN ,/, there's/JJ nothing/NN written/VBN on/IN the/DT OUTSIDE/NNP ./. '/''\n",
            "He/PRP unfolded/VBD the/DT paper/NN as/IN he/PRP spoke/VBD ,/, and/CC added/VBD 'It/NNP is/VBZ n't/RB a/DT letter/NN ,/, after/IN all/DT :/: it/PRP 's/VBZ a/DT set/NN of/IN verses/NNS ./. '/''\n",
            "'Are/NNS they/PRP in/IN the/DT prisoner/NN 's/POS handwriting/NN ?/. '/''\n",
            "asked/VBN another/DT of/IN the/DT jurymen/NNS ./.\n",
            "'No/LS ,/, they/PRP 're/VBP not/RB ,/, '/'' said/VBD the/DT White/NNP Rabbit/NNP ,/, 'and/VBZ that/WDT 's/VBZ the/DT queerest/JJS thing/NN about/IN it/PRP ./. '/''\n",
            "(/( The/DT jury/NN all/DT looked/VBD puzzled/VBN ./. )/)\n",
            "'He/NNS must/MD have/VB imitated/VBN somebody/NN else/RB 's/POS hand/NN ,/, '/'' said/VBD the/DT King/NNP ./.\n",
            "(/( The/DT jury/NN all/DT brightened/VBD up/RP again/RB ./. )/)\n",
            "'Please/VB your/PRP$ Majesty/NNP ,/, '/'' said/VBD the/DT Knave/NNP ,/, '/'' I/PRP did/VBD n't/RB write/VB it/PRP ,/, and/CC they/PRP ca/MD n't/RB prove/VB I/PRP did/VBD :/: there/EX 's/VBZ no/DT name/NN signed/VBD at/IN the/DT end/NN ./. '/''\n",
            "'If/IN you/PRP did/VBD n't/RB sign/VB it/PRP ,/, '/'' said/VBD the/DT King/NNP ,/, 'that/IN only/RB makes/VBZ the/DT matter/NN worse/NN ./.\n",
            "You/PRP MUST/VBP have/VB meant/VBN some/DT mischief/NN ,/, or/CC else/RB you/PRP 'd/MD have/VB signed/VBN your/PRP$ name/NN like/IN an/DT honest/NN man/NN ./. '/''\n",
            "There/EX was/VBD a/DT general/JJ clapping/NN of/IN hands/NNS at/IN this/DT :/: it/PRP was/VBD the/DT first/JJ really/RB clever/JJ thing/NN the/DT King/NNP had/VBD said/VBD that/IN day/NN ./.\n",
            "'That/WDT PROVES/NNP his/PRP$ guilt/NN ,/, '/'' said/VBD the/DT Queen/NNP ./.\n",
            "'It/POS proves/NNS nothing/NN of/IN the/DT sort/NN !/. '/''\n",
            "said/VBD Alice/NNP ./.\n",
            "'Why/CD ,/, you/PRP do/VBP n't/RB even/RB know/VB what/WP they/PRP 're/VBP about/IN !/. '/''\n",
            "'Read/VB them/PRP ,/, '/'' said/VBD the/DT King/NNP ./.\n",
            "The/DT White/NNP Rabbit/NNP put/VBD on/IN his/PRP$ spectacles/NNS ./.\n",
            "'Where/RB shall/MD I/PRP begin/VB ,/, please/VB your/PRP$ Majesty/NNP ?/. '/''\n",
            "he/PRP asked/VBD ./.\n",
            "'Begin/NN at/IN the/DT beginning/NN ,/, '/'' the/DT King/NNP said/VBD gravely/RB ,/, 'and/PRP go/VBP on/IN till/NN you/PRP come/VBP to/TO the/DT end/NN :/: then/RB stop/VB ./. '/''\n",
            "These/DT were/VBD the/DT verses/NNS the/DT White/NNP Rabbit/NNP read/NN :/: --/: 'They/MD told/VB me/PRP you/PRP had/VBD been/VBN to/TO her/PRP$ ,/, And/CC mentioned/VBD me/PRP to/TO him/PRP :/: She/PRP gave/VBD me/PRP a/DT good/JJ character/NN ,/, But/CC said/VBD I/PRP could/MD not/RB swim/VB ./.\n",
            "He/PRP sent/VBD them/PRP word/NN I/PRP had/VBD not/RB gone/VBN (/( We/PRP know/VBP it/PRP to/TO be/VB true/JJ )/) :/: If/IN she/PRP should/MD push/VB the/DT matter/NN on/IN ,/, What/WP would/MD become/VB of/IN you/PRP ?/.\n",
            "I/PRP gave/VBD her/PRP one/NN ,/, they/PRP gave/VBD him/PRP two/CD ,/, You/PRP gave/VBD us/PRP three/CD or/CC more/JJR ;/: They/PRP all/DT returned/VBN from/IN him/PRP to/TO you/PRP ,/, Though/IN they/PRP were/VBD mine/JJ before/RB ./.\n",
            "If/IN I/PRP or/CC she/PRP should/MD chance/NN to/TO be/VB Involved/VBN in/IN this/DT affair/NN ,/, He/PRP trusts/VBZ to/TO you/PRP to/TO set/VB them/PRP free/JJ ,/, Exactly/RB as/IN we/PRP were/VBD ./.\n",
            "My/PRP$ notion/NN was/VBD that/IN you/PRP had/VBD been/VBN (/( Before/IN she/PRP had/VBD this/DT fit/NN )/) An/DT obstacle/NN that/WDT came/VBD between/IN Him/NNP ,/, and/CC ourselves/PRP ,/, and/CC it/PRP ./.\n",
            "Do/VBP n't/RB let/VB him/PRP know/VB she/PRP liked/VBD them/PRP best/JJS ,/, For/IN this/DT must/MD ever/RB be/VB A/NNP secret/JJ ,/, kept/VBD from/IN all/PDT the/DT rest/NN ,/, Between/NNP yourself/PRP and/CC me/PRP ./. '/''\n",
            "'That/WDT 's/VBZ the/DT most/RBS important/JJ piece/NN of/IN evidence/NN we/PRP 've/VBP heard/VBN yet/RB ,/, '/'' said/VBD the/DT King/NNP ,/, rubbing/VBG his/PRP$ hands/NNS ;/: 'so/CC now/RB let/VB the/DT jury/NN --/: '/POS 'If/MD any/DT one/CD of/IN them/PRP can/MD explain/VB it/PRP ,/, '/'' said/VBD Alice/NNP ,/, (/( she/PRP had/VBD grown/VBN so/RB large/JJ in/IN the/DT last/JJ few/JJ minutes/NNS that/IN she/PRP was/VBD n't/RB a/DT bit/NN afraid/JJ of/IN interrupting/VBG him/PRP ,/, )/) '/POS I/PRP 'll/MD give/VB him/PRP sixpence/NN ./.\n",
            "_I_/NNS do/VBP n't/RB believe/VB there/EX 's/VBZ an/DT atom/NN of/IN meaning/NN in/IN it/PRP ./. '/''\n",
            "The/DT jury/NN all/DT wrote/VBD down/RB on/IN their/PRP$ slates/NNS ,/, 'SHE/NN does/VBZ n't/RB believe/VB there/EX 's/VBZ an/DT atom/NN of/IN meaning/NN in/IN it/PRP ,/, '/'' but/CC none/NN of/IN them/PRP attempted/VBD to/TO explain/VB the/DT paper/NN ./.\n",
            "'If/IN there/EX 's/VBZ no/DT meaning/NN in/IN it/PRP ,/, '/'' said/VBD the/DT King/NNP ,/, 'that/WDT saves/VBZ a/DT world/NN of/IN trouble/NN ,/, you/PRP know/VBP ,/, as/IN we/PRP need/VBP n't/RB try/VB to/TO find/VB any/DT ./.\n",
            "And/CC yet/RB I/PRP do/VBP n't/RB know/VB ,/, '/'' he/PRP went/VBD on/IN ,/, spreading/VBG out/RP the/DT verses/NNS on/IN his/PRP$ knee/NN ,/, and/CC looking/VBG at/IN them/PRP with/IN one/CD eye/NN ;/: '/POS I/PRP seem/VBP to/TO see/VB some/DT meaning/NN in/IN them/PRP ,/, after/IN all./NN ``/``\n",
            "--/: SAID/NN I/PRP COULD/NNP NOT/NNP SWIM/NNP --/: ''/'' you/PRP ca/MD n't/RB swim/VB ,/, can/MD you/PRP ?/. '/''\n",
            "he/PRP added/VBD ,/, turning/VBG to/TO the/DT Knave/NNP ./.\n",
            "The/DT Knave/NNP shook/VBD his/PRP$ head/NN sadly/RB ./.\n",
            "'Do/POS I/PRP look/VBP like/IN it/PRP ?/. '/''\n",
            "he/PRP said/VBD ./.\n",
            "(/( Which/MD he/PRP certainly/RB did/VBD NOT/NNP ,/, being/VBG made/VBN entirely/RB of/IN cardboard/NN ./. )/)\n",
            "'All/RB right/RB ,/, so/RB far/RB ,/, '/'' said/VBD the/DT King/NNP ,/, and/CC he/PRP went/VBD on/IN muttering/NN over/IN the/DT verses/NNS to/TO himself/PRP :/: '/'' ''/'' WE/NNP KNOW/NNP IT/NNP TO/NNP BE/NNP TRUE/NNP --/: ''/'' that/WDT 's/VBZ the/DT jury/NN ,/, of/IN course/NN --/: ''/'' I/PRP GAVE/VBD HER/NNP ONE/NNP ,/, THEY/NNP GAVE/NNP HIM/NNP TWO/NNP --/: ''/'' why/WRB ,/, that/DT must/MD be/VB what/WP he/PRP did/VBD with/IN the/DT tarts/NNS ,/, you/PRP know/VBP --/: '/'' 'But/CD ,/, it/PRP goes/VBZ on/IN ``/`` THEY/NNP ALL/NNP RETURNED/NNP FROM/NNP HIM/NNP TO/NNP YOU/NNP ,/, ''/'' '/POS said/VBD Alice/NNP ./.\n",
            "'Why/CD ,/, there/EX they/PRP are/VBP !/. '/''\n",
            "said/VBD the/DT King/NNP triumphantly/RB ,/, pointing/VBG to/TO the/DT tarts/NNS on/IN the/DT table/NN ./.\n",
            "'Nothing/VBG can/MD be/VB clearer/JJR than/IN THAT/DT ./.\n",
            "Then/RB again/RB --/: ''/'' BEFORE/IN SHE/NNP HAD/VBD THIS/NNP FIT/NNP --/: ''/'' you/PRP never/RB had/VBD fits/NNS ,/, my/PRP$ dear/JJ ,/, I/PRP think/VBP ?/. '/''\n",
            "he/PRP said/VBD to/TO the/DT Queen/NNP ./.\n",
            "'Never/RB !/. '/''\n",
            "said/VBD the/DT Queen/NNP furiously/RB ,/, throwing/VBG an/DT inkstand/NN at/IN the/DT Lizard/NNP as/IN she/PRP spoke/VBD ./.\n",
            "(/( The/DT unfortunate/NN little/JJ Bill/NNP had/VBD left/VBN off/RP writing/VBG on/IN his/PRP$ slate/NN with/IN one/CD finger/NN ,/, as/IN he/PRP found/VBD it/PRP made/VBD no/DT mark/NN ;/: but/CC he/PRP now/RB hastily/RB began/VBD again/RB ,/, using/VBG the/DT ink/NN ,/, that/WDT was/VBD trickling/VBG down/RP his/PRP$ face/NN ,/, as/RB long/RB as/IN it/PRP lasted/VBD ./. )/)\n",
            "'Then/IN the/DT words/NNS do/VBP n't/RB FIT/NNP you/PRP ,/, '/'' said/VBD the/DT King/NNP ,/, looking/VBG round/RP the/DT court/NN with/IN a/DT smile/NN ./.\n",
            "There/EX was/VBD a/DT dead/JJ silence/NN ./.\n",
            "'It/NN 's/POS a/DT pun/NN !/. '/''\n",
            "the/DT King/NNP added/VBD in/IN an/DT offended/JJ tone/NN ,/, and/CC everybody/NN laughed/VBD ,/, 'Let/'' the/DT jury/NN consider/VB their/PRP$ verdict/NN ,/, '/'' the/DT King/NNP said/VBD ,/, for/IN about/IN the/DT twentieth/JJ time/NN that/DT day/NN ./.\n",
            "'No/CD ,/, no/DT !/. '/''\n",
            "said/VBD the/DT Queen/NNP ./.\n",
            "'Sentence/NN first/RB --/: verdict/NN afterwards/NNS ./. '/''\n",
            "'Stuff/CD and/CC nonsense/JJ !/. '/''\n",
            "said/VBD Alice/NNP loudly/RB ./.\n",
            "'The/POS idea/NN of/IN having/VBG the/DT sentence/NN first/RB !/. '/''\n",
            "'Hold/VB your/PRP$ tongue/NN !/. '/''\n",
            "said/VBD the/DT Queen/NNP ,/, turning/VBG purple/NN ./.\n",
            "'/POS I/PRP wo/MD n't/RB !/. '/''\n",
            "said/VBD Alice/NNP ./.\n",
            "'Off/NN with/IN her/PRP$ head/NN !/. '/''\n",
            "the/DT Queen/NNP shouted/VBD at/IN the/DT top/NN of/IN her/PRP$ voice/NN ./.\n",
            "Nobody/NN moved/VBD ./.\n",
            "'Who/POS cares/NNS for/IN you/PRP ?/. '/''\n",
            "said/VBD Alice/NNP ,/, (/( she/PRP had/VBD grown/VBN to/TO her/PRP$ full/JJ size/NN by/IN this/DT time/NN ./. )/)\n",
            "'You/POS 're/VBP nothing/NN but/CC a/DT pack/NN of/IN cards/NNS !/. '/''\n",
            "At/IN this/DT the/DT whole/JJ pack/NN rose/VBD up/RP into/IN the/DT air/NN ,/, and/CC came/VBD flying/VBG down/RP upon/IN her/PRP$ :/: she/PRP gave/VBD a/DT little/JJ scream/NN ,/, half/NN of/IN fright/NN and/CC half/NN of/IN anger/NN ,/, and/CC tried/VBD to/TO beat/VB them/PRP off/RP ,/, and/CC found/VBD herself/PRP lying/VBG on/IN the/DT bank/NN ,/, with/IN her/PRP$ head/NN in/IN the/DT lap/NN of/IN her/PRP$ sister/NN ,/, who/WP was/VBD gently/RB brushing/VBG away/RB some/DT dead/JJ leaves/NNS that/WDT had/VBD fluttered/VBN down/RP from/IN the/DT trees/NNS upon/IN her/PRP$ face/NN ./.\n",
            "'Wake/VB up/RP ,/, Alice/NNP dear/RB !/. '/''\n",
            "said/VBD her/PRP$ sister/NN ;/: 'Why/CC ,/, what/WP a/DT long/JJ sleep/NN you've/NN had/VBD !/. '/''\n",
            "'Oh/CD ,/, I/PRP 've/VBP had/VBD such/PDT a/DT curious/JJ dream/NN !/. '/''\n",
            "said/VBD Alice/NNP ,/, and/CC she/PRP told/VBD her/PRP sister/NN ,/, as/RB well/RB as/IN she/PRP could/MD remember/VB them/PRP ,/, all/PDT these/DT strange/JJ Adventures/NNS of/IN hers/NNS that/IN you/PRP have/VBP just/RB been/VBN reading/VBG about/IN ;/: and/CC when/WRB she/PRP had/VBD finished/VBN ,/, her/PRP$ sister/NN kissed/VBD her/PRP ,/, and/CC said/VBD ,/, 'It/NNP WAS/NNP a/DT curious/JJ dream/NN ,/, dear/NN ,/, certainly/RB :/: but/CC now/RB run/VBP in/IN to/TO your/PRP$ tea/NN ;/: it/PRP 's/VBZ getting/VBG late/RB ./. '/''\n",
            "So/RB Alice/NNP got/VBD up/RB and/CC ran/VBD off/RP ,/, thinking/VBG while/IN she/PRP ran/VBD ,/, as/IN well/RB she/PRP might/MD ,/, what/WP a/DT wonderful/JJ dream/NN it/PRP had/VBD been/VBN ./.\n",
            "But/CC her/PRP$ sister/NN sat/VBD still/RB just/RB as/IN she/PRP left/VBD her/PRP ,/, leaning/VBG her/PRP$ head/NN on/IN her/PRP$ hand/NN ,/, watching/VBG the/DT setting/NN sun/NN ,/, and/CC thinking/NN of/IN little/JJ Alice/NNP and/CC all/DT her/PRP$ wonderful/JJ Adventures/NNPS ,/, till/VB she/PRP too/RB began/VBD dreaming/VBG after/IN a/DT fashion/NN ,/, and/CC this/DT was/VBD her/PRP$ dream/NN :/: --/: First/NNP ,/, she/PRP dreamed/VBD of/IN little/JJ Alice/NNP herself/PRP ,/, and/CC once/RB again/RB the/DT tiny/JJ hands/NNS were/VBD clasped/VBN upon/IN her/PRP$ knee/NN ,/, and/CC the/DT bright/JJ eager/JJ eyes/NNS were/VBD looking/VBG up/RP into/IN hers/NNS --/: she/PRP could/MD hear/VB the/DT very/RB tones/NNS of/IN her/PRP$ voice/NN ,/, and/CC see/VBP that/IN queer/NN little/JJ toss/NN of/IN her/PRP$ head/NN to/TO keep/VB back/RP the/DT wandering/NN hair/NN that/WDT WOULD/NNP always/RB get/VB into/IN her/PRP$ eyes/NNS --/: and/CC still/RB as/IN she/PRP listened/VBD ,/, or/CC seemed/VBD to/TO listen/VB ,/, the/DT whole/JJ place/NN around/IN her/PRP$ became/VBD alive/JJ with/IN the/DT strange/JJ creatures/NNS of/IN her/PRP$ little/JJ sister/NN 's/POS dream/NN ./.\n",
            "The/DT long/JJ grass/NN rustled/VBD at/IN her/PRP$ feet/NNS as/IN the/DT White/NNP Rabbit/NNP hurried/VBN by/IN --/: the/DT frightened/JJ Mouse/NNP splashed/VBD his/PRP$ way/NN through/IN the/DT neighbouring/JJ pool/NN --/: she/PRP could/MD hear/VB the/DT rattle/NN of/IN the/DT teacups/NNS as/IN the/DT March/NNP Hare/NNP and/CC his/PRP$ friends/NNS shared/VBN their/PRP$ never-ending/JJ meal/NN ,/, and/CC the/DT shrill/JJ voice/NN of/IN the/DT Queen/NNP ordering/VBG off/RP her/PRP$ unfortunate/JJ guests/NNS to/TO execution/NN --/: once/RB more/JJR the/DT pig-baby/NN was/VBD sneezing/VBG on/IN the/DT Duchess/NNP 's/POS knee/NN ,/, while/IN plates/NNS and/CC dishes/NNS crashed/VBN around/IN it/PRP --/: once/RB more/JJR the/DT shriek/NN of/IN the/DT Gryphon/NNP ,/, the/DT squeaking/NN of/IN the/DT Lizard/NNP 's/POS slate-pencil/NN ,/, and/CC the/DT choking/NN of/IN the/DT suppressed/JJ guinea-pigs/NNS ,/, filled/VBD the/DT air/NN ,/, mixed/VBD up/RP with/IN the/DT distant/JJ sobs/NN of/IN the/DT miserable/JJ Mock/NNP Turtle/NNP ./.\n",
            "So/IN she/PRP sat/VBD on/IN ,/, with/IN closed/JJ eyes/NNS ,/, and/CC half/NN believed/VBN herself/PRP in/IN Wonderland/NNP ,/, though/IN she/PRP knew/VBD she/PRP had/VBD but/CC to/TO open/VB them/PRP again/RB ,/, and/CC all/DT would/MD change/VB to/TO dull/VB reality/NN --/: the/DT grass/NN would/MD be/VB only/RB rustling/VBG in/IN the/DT wind/NN ,/, and/CC the/DT pool/NN rippling/VBG to/TO the/DT waving/NN of/IN the/DT reeds/NNS --/: the/DT rattling/NN teacups/NNS would/MD change/VB to/TO tinkling/VBG sheep-bells/NNS ,/, and/CC the/DT Queen/NNP 's/POS shrill/NN cries/NNS to/TO the/DT voice/NN of/IN the/DT shepherd/NN boy/NN --/: and/CC the/DT sneeze/NN of/IN the/DT baby/NN ,/, the/DT shriek/NN of/IN the/DT Gryphon/NNP ,/, and/CC all/PDT the/DT other/JJ queer/NN noises/NNS ,/, would/MD change/VB (/( she/PRP knew/VBD )/) to/TO the/DT confused/JJ clamour/NN of/IN the/DT busy/JJ farm-yard/NN --/: while/IN the/DT lowing/NN of/IN the/DT cattle/NNS in/IN the/DT distance/NN would/MD take/VB the/DT place/NN of/IN the/DT Mock/NNP Turtle's/NNP heavy/JJ sobs/NN ./.\n",
            "Lastly/RB ,/, she/PRP pictured/VBD to/TO herself/VB how/WRB this/DT same/JJ little/JJ sister/NN of/IN hers/NNS would/MD ,/, in/IN the/DT after-time/JJ ,/, be/VB herself/PRP a/DT grown/JJ woman/NN ;/: and/CC how/WRB she/PRP would/MD keep/VB ,/, through/IN all/DT her/PRP$ riper/NN years/NNS ,/, the/DT simple/NN and/CC loving/VBG heart/NN of/IN her/PRP$ childhood/NN :/: and/CC how/WRB she/PRP would/MD gather/VB about/IN her/PRP$ other/JJ little/JJ children/NNS ,/, and/CC make/VB THEIR/NNP eyes/NNS bright/VBD and/CC eager/JJ with/IN many/JJ a/DT strange/JJ tale/NN ,/, perhaps/RB even/RB with/IN the/DT dream/NN of/IN Wonderland/NNP of/IN long/RB ago/IN :/: and/CC how/WRB she/PRP would/MD feel/VB with/IN all/DT their/PRP$ simple/NN sorrows/NNS ,/, and/CC find/VB a/DT pleasure/NN in/IN all/DT their/PRP$ simple/NN joys/NNS ,/, remembering/VBG her/PRP$ own/JJ child-life/NN ,/, and/CC the/DT happy/JJ summer/NN days/NNS ./.\n",
            "THE/DT END/NN\n",
            "\n"
          ]
        },
        {
          "output_type": "stream",
          "name": "stderr",
          "text": [
            "/usr/local/lib/python3.10/dist-packages/ipykernel/ipkernel.py:283: DeprecationWarning: `should_run_async` will not call `transform_cell` automatically in the future. Please pass the result to `transformed_cell` argument and any exception that happen during thetransform in `preprocessing_exc_tuple` in IPython 7.17 and above.\n",
            "  and should_run_async(code)\n"
          ]
        }
      ]
    }
  ]
}